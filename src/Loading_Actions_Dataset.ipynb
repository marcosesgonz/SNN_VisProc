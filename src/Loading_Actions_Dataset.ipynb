{
 "cells": [
  {
   "cell_type": "code",
   "execution_count": 1,
   "metadata": {},
   "outputs": [
    {
     "name": "stdout",
     "output_type": "stream",
     "text": [
      "dict_keys(['action_mad', 'force_mad', 'action_cup_and_mad', 'action_n_force_cup_and_mad', 'action_stone_and_mad', 'action_n_force_stone_and_mad', 'action_sponge_and_mad', 'action_n_force_sponge_and_mad', 'action_spoon_and_mad', 'action_n_force_spoon_and_mad', 'action_knife_and_mad', 'action_n_force_knife_and_mad', 'action_cup_fer_mad', 'action_n_force_cup_fer_mad', 'action_stone_fer_mad', 'action_n_force_stone_fer_mad', 'action_sponge_fer_mad', 'action_n_force_sponge_fer_mad', 'action_spoon_fer_mad', 'action_n_force_spoon_fer_mad', 'action_knife_fer_mad', 'action_n_force_knife_fer_mad', 'action_cup_gui_mad', 'action_n_force_cup_gui_mad', 'action_stone_gui_mad', 'action_n_force_stone_gui_mad', 'action_sponge_gui_mad', 'action_n_force_sponge_gui_mad', 'action_spoon_gui_mad', 'action_n_force_spoon_gui_mad', 'action_knife_gui_mad', 'action_n_force_knife_gui_mad', 'action_cup_mic_mad', 'action_n_force_cup_mic_mad', 'action_stone_mic_mad', 'action_n_force_stone_mic_mad', 'action_sponge_mic_mad', 'action_n_force_sponge_mic_mad', 'action_spoon_mic_mad', 'action_n_force_spoon_mic_mad', 'action_knife_mic_mad', 'action_n_force_knife_mic_mad', 'action_cup_kos_mad', 'action_n_force_cup_kos_mad', 'action_stone_kos_mad', 'action_n_force_stone_kos_mad', 'action_sponge_kos_mad', 'action_n_force_sponge_kos_mad', 'action_spoon_kos_mad', 'action_n_force_spoon_kos_mad', 'action_knife_kos_mad', 'action_n_force_knife_kos_mad', 'force', 'action', 'action_n_force', 'action_cup', 'action_n_force_cup', 'action_fork', 'action_n_force_fork', 'action_knife', 'action_n_force_knife', 'action_sponge', 'action_n_force_sponge', 'action_cup_fbr', 'action_n_force_cup_fbr', 'action_fork_fbr', 'action_n_force_fork_fbr', 'action_knife_fbr', 'action_n_force_knife_fbr', 'action_sponge_fbr', 'action_n_force_sponge_fbr', 'action_cup_fbr2', 'action_n_force_cup_fbr2', 'action_fork_fbr2', 'action_n_force_fork_fbr2', 'action_knife_fbr2', 'action_n_force_knife_fbr2', 'action_sponge_fbr2', 'action_n_force_sponge_fbr2', 'action_cup_fm', 'action_n_force_cup_fm', 'action_fork_fm', 'action_n_force_fork_fm', 'action_knife_fm', 'action_n_force_knife_fm', 'action_sponge_fm', 'action_n_force_sponge_fm', 'action_cup_leo', 'action_n_force_cup_leo', 'action_fork_leo', 'action_n_force_fork_leo', 'action_knife_leo', 'action_n_force_knife_leo', 'action_sponge_leo', 'action_n_force_sponge_leo', 'action_cup_yz', 'action_n_force_cup_yz', 'action_fork_yz', 'action_n_force_fork_yz', 'action_knife_yz', 'action_n_force_knife_yz', 'action_sponge_yz', 'action_n_force_sponge_yz'])\n"
     ]
    }
   ],
   "source": [
    "import numpy as np\n",
    "import Load_ActionsDataset\n",
    "import cv2"
   ]
  },
  {
   "attachments": {},
   "cell_type": "markdown",
   "metadata": {},
   "source": [
    "# Dataset Actions"
   ]
  },
  {
   "cell_type": "code",
   "execution_count": 2,
   "metadata": {},
   "outputs": [
    {
     "name": "stdout",
     "output_type": "stream",
     "text": [
      "reading datasets:\n",
      "    using objects: ['cup', 'stone', 'sponge', 'spoon', 'knife']\n",
      "loading data: /Users/marcosesquivelgonzalez/Desktop/MasterCDatos/TFM/data/Actions_Dataset/MAD/cup_db.json\n",
      "loading data: /Users/marcosesquivelgonzalez/Desktop/MasterCDatos/TFM/data/Actions_Dataset/MAD/stone_db.json\n",
      "loading data: /Users/marcosesquivelgonzalez/Desktop/MasterCDatos/TFM/data/Actions_Dataset/MAD/sponge_db.json\n",
      "loading data: /Users/marcosesquivelgonzalez/Desktop/MasterCDatos/TFM/data/Actions_Dataset/MAD/spoon_db.json\n",
      "loading data: /Users/marcosesquivelgonzalez/Desktop/MasterCDatos/TFM/data/Actions_Dataset/MAD/knife_db.json\n",
      "Done\n",
      "reading datasets:\n",
      "    using objects: ['cup', 'fork', 'knife', 'sponge']\n",
      "loading data: /Users/marcosesquivelgonzalez/Desktop/MasterCDatos/TFM/data/Actions_Dataset/HAF/fbr_db.json\n",
      "loading data: /Users/marcosesquivelgonzalez/Desktop/MasterCDatos/TFM/data/Actions_Dataset/HAF/fbr2_db.json\n",
      "loading data: /Users/marcosesquivelgonzalez/Desktop/MasterCDatos/TFM/data/Actions_Dataset/HAF/fm_db.json\n",
      "loading data: /Users/marcosesquivelgonzalez/Desktop/MasterCDatos/TFM/data/Actions_Dataset/HAF/leo_db.json\n",
      "loading data: /Users/marcosesquivelgonzalez/Desktop/MasterCDatos/TFM/data/Actions_Dataset/HAF/yz_db.json\n"
     ]
    }
   ],
   "source": [
    "mad= Load_ActionsDataset.load_dataset_mad(spec='xfy')   #Lista con 4 elementos: video, fuerza, etiqueta, metadata\n",
    "haf = Load_ActionsDataset.load_dataset_haf(spec='xfy')  #Lista con 4 elementos: video, fuerza, etiqueta, metadata"
   ]
  },
  {
   "cell_type": "code",
   "execution_count": 3,
   "metadata": {},
   "outputs": [
    {
     "name": "stdout",
     "output_type": "stream",
     "text": [
      " El valor 0 se repite 25  veces\n",
      " El valor 1 se repite 25  veces\n",
      " El valor 2 se repite 25  veces\n",
      " El valor 3 se repite 25  veces\n",
      " El valor 4 se repite 25  veces\n",
      " El valor 5 se repite 27  veces\n",
      " El valor 6 se repite 27  veces\n",
      " El valor 7 se repite 27  veces\n",
      " El valor 8 se repite 27  veces\n",
      " El valor 9 se repite 27  veces\n",
      " El valor 10 se repite 25  veces\n",
      " El valor 11 se repite 25  veces\n",
      " El valor 12 se repite 25  veces\n",
      " El valor 13 se repite 26  veces\n",
      " El valor 14 se repite 24  veces\n",
      " El valor 15 se repite 25  veces\n",
      " El valor 16 se repite 25  veces\n",
      " El valor 17 se repite 25  veces\n",
      " El valor 18 se repite 25  veces\n",
      " El valor 19 se repite 25  veces\n",
      " El valor 20 se repite 25  veces\n",
      " El valor 21 se repite 25  veces\n",
      " El valor 22 se repite 25  veces\n",
      " El valor 23 se repite 25  veces\n",
      " El valor 24 se repite 25  veces\n"
     ]
    }
   ],
   "source": [
    "clases, reps = np.unique( np.array(mad[2]),return_counts = True)\n",
    "for valor, cant in zip(clases,reps):\n",
    "    print(' El valor', valor, 'se repite', cant, ' veces')\n",
    "#Hay 25 valores debido a las 25 clases que tiene el dataset mad"
   ]
  },
  {
   "cell_type": "code",
   "execution_count": 30,
   "metadata": {},
   "outputs": [
    {
     "data": {
      "text/plain": [
       "(117, 4096)"
      ]
     },
     "execution_count": 30,
     "metadata": {},
     "output_type": "execute_result"
    }
   ],
   "source": [
    "mad[0][0].shape"
   ]
  },
  {
   "cell_type": "code",
   "execution_count": 5,
   "metadata": {},
   "outputs": [
    {
     "name": "stdout",
     "output_type": "stream",
     "text": [
      "255\n"
     ]
    }
   ],
   "source": [
    "example_vid = mad[0][0].copy()\n",
    "example_vid = np.reshape(example_vid,(117,64,64),order='C')\n",
    "example_vid = (example_vid - example_vid.min())/(example_vid.max()-example_vid.min())*255\n",
    "example_vid = example_vid.astype(np.uint8)\n",
    "print(example_vid.max())"
   ]
  },
  {
   "cell_type": "code",
   "execution_count": 39,
   "metadata": {},
   "outputs": [
    {
     "data": {
      "text/plain": [
       "<matplotlib.image.AxesImage at 0x303958a10>"
      ]
     },
     "execution_count": 39,
     "metadata": {},
     "output_type": "execute_result"
    },
    {
     "data": {
      "image/png": "[encoded data removed]",
      "text/plain": [
       "<Figure size 640x480 with 1 Axes>"
      ]
     },
     "metadata": {},
     "output_type": "display_data"
    }
   ],
   "source": [
    "import matplotlib.pyplot as plt\n",
    "plt.imshow(mad[0][20][10].reshape(64,64),'gray')"
   ]
  },
  {
   "cell_type": "code",
   "execution_count": 31,
   "metadata": {},
   "outputs": [],
   "source": [
    "size = example_vid[0].shape\n",
    "output_filename = \"video_prueba.mp4\"\n",
    "\n",
    "# Crear un objeto VideoWriter con el nombre de archivo de salida, el códec, la tasa de fotogramas y las dimensiones del video\n",
    "fourcc = cv2.VideoWriter_fourcc(*\"mp4v\")  # Codec para formato MP4\n",
    "fps = 15  # Tasa de fotogramas por segundo\n",
    "output_video = cv2.VideoWriter(output_filename, fourcc, fps, size,isColor=False)\n",
    "\n",
    "array = np.random.randint(0, 256, size=(114, 64, 64), dtype=np.uint8)\n",
    "# Iterar sobre cada frame en la matriz y escribirlo en el video\n",
    "for frame in example_vid:\n",
    "    output_video.write(frame)\n",
    "\n",
    "# Liberar recursos y cerrar el archivo de video\n",
    "output_video.release()"
   ]
  },
  {
   "cell_type": "code",
   "execution_count": 7,
   "metadata": {},
   "outputs": [],
   "source": [
    "# Define las dimensiones del video y el nombre del archivo de salida\n",
    "width, height = 64, 64\n",
    "output_file = 'video_salida_2.mp4'\n",
    "\n",
    "# Inicializa el objeto VideoWriter de OpenCV\n",
    "fourcc = cv2.VideoWriter_fourcc(*'mp4v')\n",
    "out = cv2.VideoWriter(output_file, fourcc, 30.0, (width, height))\n",
    "\n",
    "# Itera sobre cada frame del numpy array y escribe el frame en el video\n",
    "for frame in example_vid:\n",
    "    # Redimensiona el frame al tamaño deseado\n",
    "    frame = frame.reshape((width, height))\n",
    "    \n",
    "    # Convierte el frame en un objeto de imagen (para OpenCV)\n",
    "    frame_img = cv2.cvtColor(frame, cv2.COLOR_GRAY2RGB)\n",
    "    \n",
    "    # Escribe el frame en el video\n",
    "    out.write(frame_img)\n",
    "\n",
    "# Liberar recursos\n",
    "out.release()\n"
   ]
  },
  {
   "cell_type": "code",
   "execution_count": 8,
   "metadata": {},
   "outputs": [
    {
     "data": {
      "text/plain": [
       "{'sub_id': 4,\n",
       " 'subject': 'and',\n",
       " 'object': 'cup',\n",
       " 'segment_id': 0,\n",
       " 'start_frame': 45,\n",
       " 'touch_frame': 84,\n",
       " 'end_frame': 161,\n",
       " 'start_fid': 0,\n",
       " 'touch_fid': 39,\n",
       " 'end_fid': 116,\n",
       " 'seq_len': 117,\n",
       " 'preseq_len': 40,\n",
       " 'attention_type': 1,\n",
       " 'test_flag': False}"
      ]
     },
     "execution_count": 8,
     "metadata": {},
     "output_type": "execute_result"
    }
   ],
   "source": [
    "mad[3][0]"
   ]
  },
  {
   "cell_type": "code",
   "execution_count": 9,
   "metadata": {},
   "outputs": [
    {
     "name": "stdout",
     "output_type": "stream",
     "text": [
      "(102, 4)\n"
     ]
    }
   ],
   "source": [
    "print(mad[1][4].shape)"
   ]
  },
  {
   "attachments": {},
   "cell_type": "markdown",
   "metadata": {},
   "source": [
    "# Dataset DVS_gesture"
   ]
  },
  {
   "cell_type": "code",
   "execution_count": 7,
   "metadata": {},
   "outputs": [
    {
     "name": "stdout",
     "output_type": "stream",
     "text": [
      "The directory [/Users/marcosesquivelgonzalez/Desktop/MasterCDatos/TFM/data/DVS_Gesture_dataset/frames_number_16_split_by_number] already exists.\n",
      "The directory [/Users/marcosesquivelgonzalez/Desktop/MasterCDatos/TFM/data/DVS_Gesture_dataset/frames_number_16_split_by_number] already exists.\n"
     ]
    }
   ],
   "source": [
    "import torch\n",
    "import sys\n",
    "import torch.nn.functional as F\n",
    "import numpy as np\n",
    "import wandb\n",
    "from spikingjelly.activation_based import functional, surrogate, neuron\n",
    "from spikingjelly.activation_based.model import parametric_lif_net\n",
    "from spikingjelly.datasets.dvs128_gesture import DVS128Gesture\n",
    "from spikingjelly.datasets import play_frame\n",
    "from torch.utils.tensorboard import SummaryWriter\n",
    "import time\n",
    "import os\n",
    "import datetime\n",
    "\n",
    "#Localización del dataset de DVSGesture\n",
    "data_dir = '/Users/marcosesquivelgonzalez/Desktop/MasterCDatos/TFM/data/DVS_Gesture_dataset'\n",
    "#Time-step\n",
    "T = 16\n",
    "train_set = DVS128Gesture(root=data_dir, train=True, data_type='frame', frames_number=T, split_by='number')\n",
    "test_set = DVS128Gesture(root=data_dir, train=False, data_type='frame', frames_number=T, split_by='number')"
   ]
  },
  {
   "cell_type": "code",
   "execution_count": 3,
   "metadata": {},
   "outputs": [],
   "source": [
    "from torch.utils.data import ConcatDataset\n",
    "data_set = ConcatDataset([train_set,test_set])"
   ]
  },
  {
   "cell_type": "code",
   "execution_count": 10,
   "metadata": {},
   "outputs": [
    {
     "data": {
      "text/plain": [
       "(array([[[[0., 0., 0., ..., 0., 0., 0.],\n",
       "          [0., 0., 0., ..., 0., 0., 0.],\n",
       "          [0., 0., 0., ..., 0., 0., 0.],\n",
       "          ...,\n",
       "          [0., 0., 0., ..., 0., 0., 0.],\n",
       "          [0., 0., 0., ..., 0., 0., 0.],\n",
       "          [0., 0., 0., ..., 0., 0., 0.]],\n",
       " \n",
       "         [[0., 0., 0., ..., 0., 0., 0.],\n",
       "          [0., 0., 0., ..., 0., 0., 0.],\n",
       "          [0., 0., 0., ..., 0., 0., 0.],\n",
       "          ...,\n",
       "          [0., 0., 0., ..., 0., 0., 0.],\n",
       "          [0., 0., 0., ..., 0., 0., 0.],\n",
       "          [0., 0., 0., ..., 0., 0., 0.]]],\n",
       " \n",
       " \n",
       "        [[[0., 0., 0., ..., 0., 0., 0.],\n",
       "          [0., 0., 0., ..., 0., 0., 0.],\n",
       "          [0., 0., 0., ..., 0., 0., 1.],\n",
       "          ...,\n",
       "          [0., 0., 0., ..., 0., 0., 0.],\n",
       "          [0., 0., 0., ..., 0., 0., 0.],\n",
       "          [0., 0., 0., ..., 0., 0., 0.]],\n",
       " \n",
       "         [[0., 0., 0., ..., 0., 0., 0.],\n",
       "          [0., 0., 1., ..., 0., 0., 0.],\n",
       "          [0., 0., 0., ..., 0., 0., 2.],\n",
       "          ...,\n",
       "          [0., 0., 0., ..., 0., 0., 0.],\n",
       "          [0., 0., 0., ..., 0., 0., 0.],\n",
       "          [0., 0., 0., ..., 0., 0., 0.]]],\n",
       " \n",
       " \n",
       "        [[[0., 0., 0., ..., 0., 0., 0.],\n",
       "          [0., 0., 0., ..., 0., 0., 0.],\n",
       "          [0., 0., 0., ..., 0., 0., 0.],\n",
       "          ...,\n",
       "          [0., 0., 0., ..., 0., 0., 0.],\n",
       "          [0., 0., 0., ..., 0., 0., 0.],\n",
       "          [0., 0., 0., ..., 0., 0., 0.]],\n",
       " \n",
       "         [[0., 0., 0., ..., 0., 0., 0.],\n",
       "          [0., 0., 0., ..., 0., 0., 0.],\n",
       "          [0., 0., 0., ..., 0., 0., 0.],\n",
       "          ...,\n",
       "          [0., 0., 0., ..., 0., 0., 0.],\n",
       "          [0., 0., 0., ..., 0., 0., 0.],\n",
       "          [0., 0., 0., ..., 0., 0., 0.]]],\n",
       " \n",
       " \n",
       "        ...,\n",
       " \n",
       " \n",
       "        [[[0., 0., 0., ..., 0., 0., 0.],\n",
       "          [0., 0., 0., ..., 0., 0., 0.],\n",
       "          [0., 0., 0., ..., 0., 0., 0.],\n",
       "          ...,\n",
       "          [0., 0., 0., ..., 0., 0., 0.],\n",
       "          [0., 0., 0., ..., 0., 0., 0.],\n",
       "          [0., 0., 0., ..., 0., 0., 0.]],\n",
       " \n",
       "         [[0., 0., 0., ..., 1., 0., 0.],\n",
       "          [0., 0., 0., ..., 0., 0., 0.],\n",
       "          [0., 0., 0., ..., 0., 0., 0.],\n",
       "          ...,\n",
       "          [0., 0., 0., ..., 0., 0., 0.],\n",
       "          [0., 0., 0., ..., 0., 0., 0.],\n",
       "          [0., 0., 0., ..., 0., 0., 0.]]],\n",
       " \n",
       " \n",
       "        [[[0., 0., 0., ..., 1., 0., 0.],\n",
       "          [0., 0., 0., ..., 0., 0., 0.],\n",
       "          [0., 0., 0., ..., 0., 0., 0.],\n",
       "          ...,\n",
       "          [0., 0., 0., ..., 0., 0., 0.],\n",
       "          [0., 0., 0., ..., 0., 0., 0.],\n",
       "          [0., 0., 0., ..., 0., 0., 0.]],\n",
       " \n",
       "         [[0., 0., 0., ..., 1., 0., 0.],\n",
       "          [0., 0., 0., ..., 0., 0., 0.],\n",
       "          [0., 0., 0., ..., 0., 0., 0.],\n",
       "          ...,\n",
       "          [0., 0., 0., ..., 0., 0., 0.],\n",
       "          [0., 0., 0., ..., 0., 0., 0.],\n",
       "          [0., 0., 0., ..., 0., 0., 0.]]],\n",
       " \n",
       " \n",
       "        [[[0., 1., 0., ..., 0., 0., 0.],\n",
       "          [0., 0., 0., ..., 0., 0., 1.],\n",
       "          [0., 0., 0., ..., 0., 0., 0.],\n",
       "          ...,\n",
       "          [0., 0., 0., ..., 0., 0., 0.],\n",
       "          [0., 0., 0., ..., 0., 0., 0.],\n",
       "          [0., 0., 0., ..., 0., 0., 0.]],\n",
       " \n",
       "         [[0., 1., 0., ..., 0., 0., 0.],\n",
       "          [0., 0., 0., ..., 0., 0., 2.],\n",
       "          [0., 0., 0., ..., 0., 0., 0.],\n",
       "          ...,\n",
       "          [0., 0., 0., ..., 0., 0., 0.],\n",
       "          [0., 0., 0., ..., 0., 0., 0.],\n",
       "          [0., 0., 0., ..., 0., 0., 0.]]]], dtype=float32),\n",
       " 0)"
      ]
     },
     "execution_count": 10,
     "metadata": {},
     "output_type": "execute_result"
    }
   ],
   "source": [
    "data_set[0]"
   ]
  },
  {
   "cell_type": "code",
   "execution_count": 15,
   "metadata": {},
   "outputs": [
    {
     "name": "stdout",
     "output_type": "stream",
     "text": [
      "5\n"
     ]
    }
   ],
   "source": [
    "class k:\n",
    "    def __init__(self, v = 2):\n",
    "        self.v = v\n",
    "        self.n = 4\n",
    "\n",
    "\n",
    "def funcion(k):\n",
    "    k.n += 1\n",
    "    return 9\n",
    "\n",
    "object = k()\n",
    "funcion(object)\n",
    "print(object.n)"
   ]
  },
  {
   "cell_type": "code",
   "execution_count": 11,
   "metadata": {},
   "outputs": [],
   "source": [
    "from spikingjelly.activation_based.model.sew_resnet import sew_resnet18\n",
    "from spikingjelly.activation_based import functional, surrogate, neuron, layer\n",
    "net = sew_resnet18(spiking_neuron=neuron.LIFNode,num_classes = 11, surrogate_function=surrogate.ATan(), detach_reset=True,cnf='ADD',zero_init_residual=True)\n"
   ]
  },
  {
   "cell_type": "code",
   "execution_count": 23,
   "metadata": {},
   "outputs": [
    {
     "data": {
      "text/plain": [
       "0"
      ]
     },
     "execution_count": 23,
     "metadata": {},
     "output_type": "execute_result"
    }
   ],
   "source": [
    "len(net._parameters)"
   ]
  },
  {
   "attachments": {},
   "cell_type": "markdown",
   "metadata": {},
   "source": [
    "Esto no me funciona:"
   ]
  },
  {
   "cell_type": "code",
   "execution_count": 12,
   "metadata": {},
   "outputs": [],
   "source": [
    "example_vid_2 = train_set[0][0].copy()\n",
    "\n",
    "size = example_vid_2[0].shape[-2:]\n",
    "output_filename = \"video_prueba_2.mp4\"\n",
    "\n",
    "# Crear un objeto VideoWriter con el nombre de archivo de salida, el códec, la tasa de fotogramas y las dimensiones del video\n",
    "fourcc = cv2.VideoWriter_fourcc(*\"mp4v\")  # Codec para formato MP4\n",
    "fps = 2  # Tasa de fotogramas por segundo\n",
    "output_video = cv2.VideoWriter(output_filename, fourcc, fps, size)\n",
    "\n",
    "# Iterar sobre cada frame en la matriz y escribirlo en el video\n",
    "for frame in example_vid_2:\n",
    "    frame_bgr = np.zeros((size[0],size[1],3),dtype = np.uint8)\n",
    "    frame_bgr[:,:,1] = frame[0,:,:]\n",
    "    frame_bgr[:,:,2] = frame[1,:,:]\n",
    "    output_video.write(frame_bgr)\n",
    "\n",
    "# Liberar recursos y cerrar el archivo de video\n",
    "output_video.release()"
   ]
  },
  {
   "cell_type": "code",
   "execution_count": 13,
   "metadata": {},
   "outputs": [
    {
     "name": "stdout",
     "output_type": "stream",
     "text": [
      "/Users/marcosesquivelgonzalez/Desktop/MasterCDatos/TFM/Projects/hola/hola2\n"
     ]
    }
   ],
   "source": [
    "pwd = os.getcwd()\n",
    "print(os.path.join(pwd,'hola','hola2'))"
   ]
  },
  {
   "cell_type": "code",
   "execution_count": 11,
   "metadata": {},
   "outputs": [],
   "source": [
    "from spikingjelly.datasets.dvs128_gesture import DVS128Gesture\n",
    "root = '/Users/marcosesquivelgonzalez/Desktop/MasterCDatos/TFM/data/DVS_Gesture_dataset/extract/DvsGesture/user01_fluorescent.aedat'\n",
    "k_gesture = DVS128Gesture.load_origin_data(root)"
   ]
  },
  {
   "cell_type": "code",
   "execution_count": 14,
   "metadata": {},
   "outputs": [
    {
     "data": {
      "text/plain": [
       "array([ 80046394,  80046412,  80046414, ..., 194216337, 194216353,\n",
       "       194216418])"
      ]
     },
     "execution_count": 14,
     "metadata": {},
     "output_type": "execute_result"
    }
   ],
   "source": [
    "k_gesture['t']"
   ]
  },
  {
   "attachments": {},
   "cell_type": "markdown",
   "metadata": {},
   "source": [
    "# Dataset Animals DVS"
   ]
  },
  {
   "cell_type": "code",
   "execution_count": 15,
   "metadata": {},
   "outputs": [
    {
     "name": "stdout",
     "output_type": "stream",
     "text": [
      "0 user00_indoor.aedat\n",
      "\n",
      "1 user07_indoor.aedat\n",
      "\n",
      "2 user20_sunlight.aedat\n",
      "\n",
      "3 user12_indoor.aedat\n",
      "\n",
      "4 user30_imse.aedat\n",
      "\n",
      "5 user15_indoor.aedat\n",
      "\n",
      "6 user47_dc.aedat\n",
      "\n",
      "7 user46_dc.aedat\n",
      "\n",
      "8 user29_imse.aedat\n",
      "\n",
      "9 user21_sunlight.aedat\n",
      "\n",
      "10 user14_indoor.aedat\n",
      "\n",
      "11 user13_indoor.aedat\n",
      "\n",
      "12 user06_indoor.aedat\n",
      "\n",
      "13 user50_dc.aedat\n",
      "\n",
      "14 user51_dc.aedat\n",
      "\n",
      "15 user01_indoor.aedat\n",
      "\n",
      "16 user24_sunlight.aedat\n",
      "\n",
      "17 user32_imse.aedat\n",
      "\n",
      "18 user57_dc.aedat\n",
      "\n",
      "19 user56_dc.aedat\n",
      "\n",
      "20 user23_sunlight.aedat\n",
      "\n",
      "21 user22_sunlight.aedat\n",
      "\n",
      "22 user37_dc.aedat\n",
      "\n",
      "23 user36_dc.aedat\n",
      "\n",
      "24 user26_imse.aedat\n",
      "\n",
      "25 user40_dc.aedat\n",
      "\n",
      "26 user41_dc.aedat\n",
      "\n",
      "27 user28_imse.aedat\n",
      "\n",
      "28 user53_dc.aedat\n",
      "\n",
      "29 user52_dc.aedat\n",
      "\n",
      "30 user34_imse.aedat\n",
      "\n",
      "31 user08_indoor.aedat\n",
      "\n",
      "32 user19_sunlight.aedat\n",
      "\n",
      "33 user25_imse.aedat\n",
      "\n",
      "34 user59_dc.aedat\n",
      "\n",
      "35 user58_dc.aedat\n",
      "\n",
      "36 user09_indoor.aedat\n",
      "\n",
      "37 user44_dc.aedat\n",
      "\n",
      "38 user45_dc.aedat\n",
      "\n",
      "39 user18_sunlight.aedat\n",
      "\n",
      "40 user39_dc.aedat\n",
      "\n",
      "41 user38_dc.aedat\n",
      "\n",
      "42 user31_imse.aedat\n",
      "\n",
      "43 user35_dc.aedat\n",
      "\n",
      "44 user43_dc.aedat\n",
      "\n",
      "45 user42_dc.aedat\n",
      "\n",
      "46 user11_indoor.aedat\n",
      "\n",
      "47 user16_indoor.aedat\n",
      "\n",
      "48 user49_dc.aedat\n",
      "\n",
      "49 user48_dc.aedat\n",
      "\n",
      "50 user03_indoor.aedat\n",
      "\n",
      "51 user27_imse.aedat\n",
      "\n",
      "52 user54_dc.aedat\n",
      "\n",
      "53 user55_dc.aedat\n",
      "\n",
      "54 user05_indoor.aedat\n",
      "\n",
      "55 user33_imse.aedat\n",
      "\n",
      "56 user02_indoor.aedat\n",
      "\n",
      "57 user17_indoor.aedat\n",
      "\n",
      "58 user10_indoor.aedat\n",
      "\n",
      "59\n"
     ]
    }
   ],
   "source": [
    "import spikingjelly.datasets\n",
    "\n",
    "aedat_dir = '/Users/marcosesquivelgonzalez/Desktop/MasterCDatos/TFM/data/SLAnimals_Dataset/extract/Animals'\n",
    "k = 0\n",
    "for archivo in os.listdir(aedat_dir):\n",
    "    if archivo.endswith('.aedat'):\n",
    "        print(k,archivo,end='\\n\\n')\n",
    "        k += 1\n",
    "print(k)"
   ]
  },
  {
   "cell_type": "code",
   "execution_count": 1,
   "metadata": {},
   "outputs": [
    {
     "name": "stderr",
     "output_type": "stream",
     "text": [
      "/Users/marcosesquivelgonzalez/pyenviroments/tfm/lib/python3.11/site-packages/tqdm/auto.py:21: TqdmWarning: IProgress not found. Please update jupyter and ipywidgets. See https://ipywidgets.readthedocs.io/en/stable/user_install.html\n",
      "  from .autonotebook import tqdm as notebook_tqdm\n"
     ]
    },
    {
     "name": "stdout",
     "output_type": "stream",
     "text": [
      "The directory [/Users/marcosesquivelgonzalez/Desktop/MasterCDatos/TFM/data/DVS_Animals_Dataset/frames_number_16_split_by_number] already exists.\n"
     ]
    }
   ],
   "source": [
    "from Datasets import DVSAnimals\n",
    "\n",
    "data_dir = '/Users/marcosesquivelgonzalez/Desktop/MasterCDatos/TFM/data/DVS_Animals_Dataset'\n",
    "T=16\n",
    "data = DVSAnimals(data_dir,train=True, data_type='frame', frames_number=T, split_by='number')"
   ]
  },
  {
   "cell_type": "code",
   "execution_count": 2,
   "metadata": {},
   "outputs": [
    {
     "data": {
      "text/plain": [
       "{'cat': 0,\n",
       " 'dog': 1,\n",
       " 'camel': 2,\n",
       " 'cow': 3,\n",
       " 'sheep': 4,\n",
       " 'goat': 5,\n",
       " 'wolf': 6,\n",
       " 'squirrel': 7,\n",
       " 'mouse': 8,\n",
       " 'dolphin': 9,\n",
       " 'shark': 10,\n",
       " 'lion': 11,\n",
       " 'monkey': 12,\n",
       " 'snake': 13,\n",
       " 'spider': 14,\n",
       " 'butterfly': 15,\n",
       " 'bird': 16,\n",
       " 'duck': 17,\n",
       " 'zebra': 18}"
      ]
     },
     "execution_count": 2,
     "metadata": {},
     "output_type": "execute_result"
    }
   ],
   "source": [
    "data.class_to_idx"
   ]
  },
  {
   "cell_type": "code",
   "execution_count": 40,
   "metadata": {},
   "outputs": [
    {
     "data": {
      "text/plain": [
       "{'0': 0,\n",
       " '1': 1,\n",
       " '10': 2,\n",
       " '11': 3,\n",
       " '12': 4,\n",
       " '13': 5,\n",
       " '14': 6,\n",
       " '15': 7,\n",
       " '16': 8,\n",
       " '17': 9,\n",
       " '18': 10,\n",
       " '2': 11,\n",
       " '3': 12,\n",
       " '4': 13,\n",
       " '5': 14,\n",
       " '6': 15,\n",
       " '7': 16,\n",
       " '8': 17,\n",
       " '9': 18}"
      ]
     },
     "execution_count": 40,
     "metadata": {},
     "output_type": "execute_result"
    }
   ],
   "source": [
    "data.class_to_idx"
   ]
  },
  {
   "cell_type": "code",
   "execution_count": 35,
   "metadata": {},
   "outputs": [
    {
     "data": {
      "text/plain": [
       "<function torchvision.datasets.folder.DatasetFolder.find_classes(self, directory: str) -> Tuple[List[str], Dict[str, int]]>"
      ]
     },
     "execution_count": 35,
     "metadata": {},
     "output_type": "execute_result"
    }
   ],
   "source": [
    "DVSAnimals.cla"
   ]
  },
  {
   "cell_type": "code",
   "execution_count": 30,
   "metadata": {},
   "outputs": [
    {
     "data": {
      "text/plain": [
       "19"
      ]
     },
     "execution_count": 30,
     "metadata": {},
     "output_type": "execute_result"
    }
   ],
   "source": [
    "len(data.classes)"
   ]
  },
  {
   "cell_type": "code",
   "execution_count": 9,
   "metadata": {},
   "outputs": [
    {
     "data": {
      "text/plain": [
       "(10, 2, 128, 128)"
      ]
     },
     "execution_count": 9,
     "metadata": {},
     "output_type": "execute_result"
    }
   ],
   "source": [
    "data[0][0].shape"
   ]
  },
  {
   "cell_type": "code",
   "execution_count": 7,
   "metadata": {},
   "outputs": [
    {
     "data": {
      "text/plain": [
       "(10, 2, 128, 128)"
      ]
     },
     "execution_count": 7,
     "metadata": {},
     "output_type": "execute_result"
    }
   ],
   "source": [
    "data[0][0].shape"
   ]
  },
  {
   "cell_type": "code",
   "execution_count": 3,
   "metadata": {},
   "outputs": [],
   "source": [
    "labels = [sample[1] for sample in data]"
   ]
  },
  {
   "cell_type": "code",
   "execution_count": 4,
   "metadata": {},
   "outputs": [],
   "source": [
    "import numpy as np\n",
    "import random\n",
    "from sklearn.model_selection import train_test_split\n",
    "seed = 310\n",
    "random.seed(seed)\n",
    "np.random.seed(seed)\n",
    "data_train, data_test = train_test_split(data, test_size = 0.2,stratify = np.array(labels),random_state=seed)"
   ]
  },
  {
   "cell_type": "code",
   "execution_count": 5,
   "metadata": {},
   "outputs": [],
   "source": [
    "data_train2, data_test2 = train_test_split(data, test_size = 0.2,stratify = np.array(labels),random_state=seed)"
   ]
  },
  {
   "cell_type": "code",
   "execution_count": 6,
   "metadata": {},
   "outputs": [
    {
     "data": {
      "text/plain": [
       "True"
      ]
     },
     "execution_count": 6,
     "metadata": {},
     "output_type": "execute_result"
    }
   ],
   "source": [
    "np.all(np.array([sample[1] for  sample in data_train2]) == np.array([sample[1] for sample in data_train]))"
   ]
  },
  {
   "cell_type": "code",
   "execution_count": 48,
   "metadata": {},
   "outputs": [],
   "source": [
    "labels_train = [sample[1] for sample in data_train]\n",
    "labels_test = [sample[1] for sample in data_test]"
   ]
  },
  {
   "cell_type": "code",
   "execution_count": 49,
   "metadata": {},
   "outputs": [
    {
     "name": "stdout",
     "output_type": "stream",
     "text": [
      "(array([ 0,  1,  2,  3,  4,  5,  6,  7,  8,  9, 10, 11, 12, 13, 14, 15, 16,\n",
      "       17, 18]), array([47, 47, 47, 47, 47, 48, 47, 47, 47, 47, 47, 47, 47, 47, 48, 47, 47,\n",
      "       48, 47]))\n",
      "(array([ 0,  1,  2,  3,  4,  5,  6,  7,  8,  9, 10, 11, 12, 13, 14, 15, 16,\n",
      "       17, 18]), array([12, 12, 12, 12, 12, 11, 12, 12, 12, 12, 12, 12, 12, 12, 11, 12, 12,\n",
      "       11, 12]))\n"
     ]
    }
   ],
   "source": [
    "print(np.unique(labels_train,return_counts=True))\n",
    "print(np.unique(labels_test,return_counts=True))"
   ]
  },
  {
   "cell_type": "code",
   "execution_count": 28,
   "metadata": {},
   "outputs": [
    {
     "name": "stdout",
     "output_type": "stream",
     "text": [
      "The directory [/Users/marcosesquivelgonzalez/Desktop/MasterCDatos/TFM/data/DVS_Gesture_dataset/frames_number_16_split_by_number] already exists.\n",
      "11\n"
     ]
    }
   ],
   "source": [
    "from spikingjelly.datasets.dvs128_gesture import DVS128Gesture\n",
    "data_dir = '/Users/marcosesquivelgonzalez/Desktop/MasterCDatos/TFM/data/DVS_Gesture_dataset'\n",
    "test_set = DVS128Gesture(root=data_dir, train=False, data_type='frame', frames_number=16, split_by='number')\n",
    "print(len(test_set.classes))"
   ]
  },
  {
   "cell_type": "code",
   "execution_count": 19,
   "metadata": {},
   "outputs": [
    {
     "name": "stdout",
     "output_type": "stream",
     "text": [
      "Save frames to [/Users/marcosesquivelgonzalez/Desktop/MasterCDatos/TFM/Projects/prueba_final.gif].\n"
     ]
    }
   ],
   "source": [
    "from spikingjelly.datasets import play_frame\n",
    "import os\n",
    "\n",
    "play_frame(data[20][0],save_gif_to=os.path.join(os.getcwd(),'prueba_final.gif'))"
   ]
  },
  {
   "cell_type": "code",
   "execution_count": 9,
   "metadata": {},
   "outputs": [
    {
     "data": {
      "text/plain": [
       "array([( 72,  57, 2249370501, False), (111,  70, 2249370502, False),\n",
       "       ( 89,  55, 2249370503, False), ..., ( 46, 123, 2381441170, False),\n",
       "       ( 38, 109, 2381441217, False), ( 14,  89, 2381441305, False)],\n",
       "      dtype=[('x', '<i2'), ('y', '<i2'), ('t', '<i8'), ('p', '?')])"
      ]
     },
     "execution_count": 9,
     "metadata": {},
     "output_type": "execute_result"
    }
   ],
   "source": [
    "k2[1]"
   ]
  },
  {
   "cell_type": "code",
   "execution_count": 6,
   "metadata": {},
   "outputs": [
    {
     "data": {
      "text/plain": [
       "array([2242581.126, 1851326.464, 2276135.558, ..., 4008178.061,\n",
       "       4130209.792, 3253268.877])"
      ]
     },
     "execution_count": 6,
     "metadata": {},
     "output_type": "execute_result"
    }
   ],
   "source": [
    "k['t']*1e-3"
   ]
  },
  {
   "cell_type": "code",
   "execution_count": 1,
   "metadata": {},
   "outputs": [
    {
     "name": "stderr",
     "output_type": "stream",
     "text": [
      "/Users/marcosesquivelgonzalez/pyenviroments/tfm/lib/python3.11/site-packages/tqdm/auto.py:21: TqdmWarning: IProgress not found. Please update jupyter and ipywidgets. See https://ipywidgets.readthedocs.io/en/stable/user_install.html\n",
      "  from .autonotebook import tqdm as notebook_tqdm\n"
     ]
    },
    {
     "name": "stdout",
     "output_type": "stream",
     "text": [
      "Start to split [/Users/marcosesquivelgonzalez/Desktop/MasterCDatos/TFM/Datasets/SLAnimals_Dataset/extract/Animals/user00_indoor.aedat] to samples.\n"
     ]
    },
    {
     "ename": "FileNotFoundError",
     "evalue": "[Errno 2] No such file or directory: 'fa/0/prueba_0.npz'",
     "output_type": "error",
     "traceback": [
      "\u001b[0;31m---------------------------------------------------------------------------\u001b[0m",
      "\u001b[0;31mFileNotFoundError\u001b[0m                         Traceback (most recent call last)",
      "Cell \u001b[0;32mIn[1], line 4\u001b[0m\n\u001b[1;32m      2\u001b[0m example_aedat \u001b[39m=\u001b[39m \u001b[39m'\u001b[39m\u001b[39m/Users/marcosesquivelgonzalez/Desktop/MasterCDatos/TFM/Datasets/SLAnimals_Dataset/extract/Animals/user00_indoor.aedat\u001b[39m\u001b[39m'\u001b[39m\n\u001b[1;32m      3\u001b[0m example_csv \u001b[39m=\u001b[39m \u001b[39m'\u001b[39m\u001b[39m/Users/marcosesquivelgonzalez/Desktop/MasterCDatos/TFM/Datasets/SLAnimals_Dataset/extract/Animals/user00_indoor.csv\u001b[39m\u001b[39m'\u001b[39m\n\u001b[0;32m----> 4\u001b[0m DVSAnimals\u001b[39m.\u001b[39;49msplit_aedat_files_to_np(\u001b[39m'\u001b[39;49m\u001b[39mprueba\u001b[39;49m\u001b[39m'\u001b[39;49m,example_aedat,example_csv,\u001b[39m'\u001b[39;49m\u001b[39mfa\u001b[39;49m\u001b[39m'\u001b[39;49m)\n",
      "File \u001b[0;32m~/Desktop/MasterCDatos/TFM/Projects/Animals.py:290\u001b[0m, in \u001b[0;36mDVSAnimals.split_aedat_files_to_np\u001b[0;34m(fname, aedat_file, csv_file, output_dir)\u001b[0m\n\u001b[1;32m    288\u001b[0m \u001b[39m#print('etiqueta, ind_inicial, ind_final: ',label,ind_start,ind_end)\u001b[39;00m\n\u001b[1;32m    289\u001b[0m file_name \u001b[39m=\u001b[39m os\u001b[39m.\u001b[39mpath\u001b[39m.\u001b[39mjoin(output_dir, \u001b[39mstr\u001b[39m(label), \u001b[39mf\u001b[39m\u001b[39m'\u001b[39m\u001b[39m{\u001b[39;00mfname\u001b[39m}\u001b[39;00m\u001b[39m_\u001b[39m\u001b[39m{\u001b[39;00mlabel_file_num[label]\u001b[39m}\u001b[39;00m\u001b[39m.npz\u001b[39m\u001b[39m'\u001b[39m)\u001b[39m#Hago un directorio para cada etiqueta\u001b[39;00m\n\u001b[0;32m--> 290\u001b[0m np_savez(file_name,\n\u001b[1;32m    291\u001b[0m          t\u001b[39m=\u001b[39;49mevents[\u001b[39m'\u001b[39;49m\u001b[39mt\u001b[39;49m\u001b[39m'\u001b[39;49m][ind_start:ind_end],\n\u001b[1;32m    292\u001b[0m          x\u001b[39m=\u001b[39;49mevents[\u001b[39m'\u001b[39;49m\u001b[39mx\u001b[39;49m\u001b[39m'\u001b[39;49m][ind_start:ind_end],\n\u001b[1;32m    293\u001b[0m          y\u001b[39m=\u001b[39;49mevents[\u001b[39m'\u001b[39;49m\u001b[39my\u001b[39;49m\u001b[39m'\u001b[39;49m][ind_start:ind_end],\n\u001b[1;32m    294\u001b[0m          p\u001b[39m=\u001b[39;49mevents[\u001b[39m'\u001b[39;49m\u001b[39mp\u001b[39;49m\u001b[39m'\u001b[39;49m][ind_start:ind_end]\n\u001b[1;32m    295\u001b[0m          )\n\u001b[1;32m    296\u001b[0m \u001b[39mprint\u001b[39m(\u001b[39mf\u001b[39m\u001b[39m'\u001b[39m\u001b[39m[\u001b[39m\u001b[39m{\u001b[39;00mfile_name\u001b[39m}\u001b[39;00m\u001b[39m] saved.\u001b[39m\u001b[39m'\u001b[39m)\n\u001b[1;32m    297\u001b[0m label_file_num[label] \u001b[39m+\u001b[39m\u001b[39m=\u001b[39m \u001b[39m1\u001b[39m\n",
      "File \u001b[0;32m<__array_function__ internals>:200\u001b[0m, in \u001b[0;36msavez_compressed\u001b[0;34m(*args, **kwargs)\u001b[0m\n",
      "File \u001b[0;32m~/pyenviroments/tfm/lib/python3.11/site-packages/numpy/lib/npyio.py:686\u001b[0m, in \u001b[0;36msavez_compressed\u001b[0;34m(file, *args, **kwds)\u001b[0m\n\u001b[1;32m    623\u001b[0m \u001b[39m@array_function_dispatch\u001b[39m(_savez_compressed_dispatcher)\n\u001b[1;32m    624\u001b[0m \u001b[39mdef\u001b[39;00m \u001b[39msavez_compressed\u001b[39m(file, \u001b[39m*\u001b[39margs, \u001b[39m*\u001b[39m\u001b[39m*\u001b[39mkwds):\n\u001b[1;32m    625\u001b[0m \u001b[39m    \u001b[39m\u001b[39m\"\"\"\u001b[39;00m\n\u001b[1;32m    626\u001b[0m \u001b[39m    Save several arrays into a single file in compressed ``.npz`` format.\u001b[39;00m\n\u001b[1;32m    627\u001b[0m \n\u001b[0;32m   (...)\u001b[0m\n\u001b[1;32m    684\u001b[0m \n\u001b[1;32m    685\u001b[0m \u001b[39m    \"\"\"\u001b[39;00m\n\u001b[0;32m--> 686\u001b[0m     _savez(file, args, kwds, \u001b[39mTrue\u001b[39;49;00m)\n",
      "File \u001b[0;32m~/pyenviroments/tfm/lib/python3.11/site-packages/numpy/lib/npyio.py:712\u001b[0m, in \u001b[0;36m_savez\u001b[0;34m(file, args, kwds, compress, allow_pickle, pickle_kwargs)\u001b[0m\n\u001b[1;32m    709\u001b[0m \u001b[39melse\u001b[39;00m:\n\u001b[1;32m    710\u001b[0m     compression \u001b[39m=\u001b[39m zipfile\u001b[39m.\u001b[39mZIP_STORED\n\u001b[0;32m--> 712\u001b[0m zipf \u001b[39m=\u001b[39m zipfile_factory(file, mode\u001b[39m=\u001b[39;49m\u001b[39m\"\u001b[39;49m\u001b[39mw\u001b[39;49m\u001b[39m\"\u001b[39;49m, compression\u001b[39m=\u001b[39;49mcompression)\n\u001b[1;32m    714\u001b[0m \u001b[39mfor\u001b[39;00m key, val \u001b[39min\u001b[39;00m namedict\u001b[39m.\u001b[39mitems():\n\u001b[1;32m    715\u001b[0m     fname \u001b[39m=\u001b[39m key \u001b[39m+\u001b[39m \u001b[39m'\u001b[39m\u001b[39m.npy\u001b[39m\u001b[39m'\u001b[39m\n",
      "File \u001b[0;32m~/pyenviroments/tfm/lib/python3.11/site-packages/numpy/lib/npyio.py:103\u001b[0m, in \u001b[0;36mzipfile_factory\u001b[0;34m(file, *args, **kwargs)\u001b[0m\n\u001b[1;32m    101\u001b[0m \u001b[39mimport\u001b[39;00m \u001b[39mzipfile\u001b[39;00m\n\u001b[1;32m    102\u001b[0m kwargs[\u001b[39m'\u001b[39m\u001b[39mallowZip64\u001b[39m\u001b[39m'\u001b[39m] \u001b[39m=\u001b[39m \u001b[39mTrue\u001b[39;00m\n\u001b[0;32m--> 103\u001b[0m \u001b[39mreturn\u001b[39;00m zipfile\u001b[39m.\u001b[39;49mZipFile(file, \u001b[39m*\u001b[39;49margs, \u001b[39m*\u001b[39;49m\u001b[39m*\u001b[39;49mkwargs)\n",
      "File \u001b[0;32m/opt/homebrew/Cellar/python@3.11/3.11.2_1/Frameworks/Python.framework/Versions/3.11/lib/python3.11/zipfile.py:1281\u001b[0m, in \u001b[0;36mZipFile.__init__\u001b[0;34m(self, file, mode, compression, allowZip64, compresslevel, strict_timestamps, metadata_encoding)\u001b[0m\n\u001b[1;32m   1279\u001b[0m \u001b[39mwhile\u001b[39;00m \u001b[39mTrue\u001b[39;00m:\n\u001b[1;32m   1280\u001b[0m     \u001b[39mtry\u001b[39;00m:\n\u001b[0;32m-> 1281\u001b[0m         \u001b[39mself\u001b[39m\u001b[39m.\u001b[39mfp \u001b[39m=\u001b[39m io\u001b[39m.\u001b[39;49mopen(file, filemode)\n\u001b[1;32m   1282\u001b[0m     \u001b[39mexcept\u001b[39;00m \u001b[39mOSError\u001b[39;00m:\n\u001b[1;32m   1283\u001b[0m         \u001b[39mif\u001b[39;00m filemode \u001b[39min\u001b[39;00m modeDict:\n",
      "\u001b[0;31mFileNotFoundError\u001b[0m: [Errno 2] No such file or directory: 'fa/0/prueba_0.npz'"
     ]
    }
   ],
   "source": [
    "from Animals import DVSAnimals\n",
    "example_aedat = '/Users/marcosesquivelgonzalez/Desktop/MasterCDatos/TFM/data/SLAnimals_Dataset/extract/Animals/user00_indoor.aedat'\n",
    "example_csv = '/Users/marcosesquivelgonzalez/Desktop/MasterCDatos/TFM/data/SLAnimals_Dataset/extract/Animals/user00_indoor.csv'\n",
    "DVSAnimals.split_aedat_files_to_np('prueba',example_aedat,example_csv,'fa')"
   ]
  },
  {
   "cell_type": "code",
   "execution_count": 21,
   "metadata": {},
   "outputs": [],
   "source": [
    "from spikingjelly import datasets\n",
    "k_frames = datasets.integrate_events_by_fixed_frames_number(k,split_by = 'number',frames_num = 8,H=128,W = 128)"
   ]
  },
  {
   "cell_type": "code",
   "execution_count": 22,
   "metadata": {},
   "outputs": [
    {
     "data": {
      "text/plain": [
       "array([0.], dtype=float32)"
      ]
     },
     "execution_count": 22,
     "metadata": {},
     "output_type": "execute_result"
    }
   ],
   "source": [
    "import numpy as np\n",
    "np.unique(data[10][0])"
   ]
  },
  {
   "attachments": {},
   "cell_type": "markdown",
   "metadata": {},
   "source": [
    "### Prueba repositorio de git https://github.com/ronichester/SL-animals-DVS-stbp/tree/main"
   ]
  },
  {
   "cell_type": "code",
   "execution_count": 2,
   "metadata": {},
   "outputs": [],
   "source": [
    "import numpy as np\n",
    "root_example = '/Users/marcosesquivelgonzalez/Desktop/MasterCDatos/TFM/prueba_git/SL-animals-DVS-stbp/data/sliced_recordings/user00_indoor_00.npy'\n",
    "prueba = np.load(root_example)"
   ]
  },
  {
   "cell_type": "code",
   "execution_count": 3,
   "metadata": {},
   "outputs": [
    {
     "data": {
      "text/plain": [
       "array([(93, 93, 2276110031,  True), (73, 81, 2276110135,  True),\n",
       "       (91, 70, 2276110146,  True), ..., (75, 13, 2277514687, False),\n",
       "       (76, 69, 2277514698,  True), (67, 46, 2277514723,  True)],\n",
       "      dtype=[('x', '<i2'), ('y', '<i2'), ('t', '<i8'), ('p', '?')])"
      ]
     },
     "execution_count": 3,
     "metadata": {},
     "output_type": "execute_result"
    }
   ],
   "source": [
    "prueba"
   ]
  },
  {
   "cell_type": "code",
   "execution_count": 4,
   "metadata": {},
   "outputs": [],
   "source": [
    "root_final = '/Users/marcosesquivelgonzalez/Desktop/MasterCDatos/TFM/Datasets/SLAnimals_Dataset/events_np/train/0/user00_indoor_0.npz'\n",
    "prueba_final = np.load(root_final)"
   ]
  },
  {
   "cell_type": "code",
   "execution_count": 5,
   "metadata": {},
   "outputs": [],
   "source": [
    "import pandas as pd\n",
    "import tonic\n",
    "\n",
    "example_aedat = '/Users/marcosesquivelgonzalez/Desktop/MasterCDatos/TFM/Datasets/SLAnimals_Dataset/extract/Animals/user00_indoor.aedat'\n",
    "example_csv = '/Users/marcosesquivelgonzalez/Desktop/MasterCDatos/TFM/Datasets/SLAnimals_Dataset/extract/Animals/user00_indoor.csv'\n",
    "sensor_shape, events = tonic.io.read_dvs_128(example_aedat)\n",
    "#read the tag file\n",
    "tagfile = pd.read_csv(example_csv)  #df\n",
    "\n",
    "#define event boundaries for each class\n",
    "events_start = list(tagfile[\"startTime_ev\"])\n",
    "events_end = list(tagfile[\"endTime_ev\"])\n",
    "\n",
    "#create a list of arrays, separating the recording in 19 slices\n",
    "sliced_events = tonic.slicers.slice_events_at_indices(events, \n",
    "                                                        events_start, \n",
    "                                                        events_end)"
   ]
  },
  {
   "cell_type": "code",
   "execution_count": 12,
   "metadata": {},
   "outputs": [
    {
     "data": {
      "text/plain": [
       "array([(93, 93, 2276110031,  True), (73, 81, 2276110135,  True),\n",
       "       (91, 70, 2276110146,  True), ..., (75, 13, 2277514687, False),\n",
       "       (76, 69, 2277514698,  True), (67, 46, 2277514723,  True)],\n",
       "      dtype=[('x', '<i2'), ('y', '<i2'), ('t', '<i8'), ('p', '?')])"
      ]
     },
     "execution_count": 12,
     "metadata": {},
     "output_type": "execute_result"
    }
   ],
   "source": [
    "sliced_events[0]"
   ]
  },
  {
   "cell_type": "code",
   "execution_count": 22,
   "metadata": {},
   "outputs": [
    {
     "name": "stdout",
     "output_type": "stream",
     "text": [
      "Save frames to [/Users/marcosesquivelgonzalez/Desktop/MasterCDatos/TFM/Projects/prueba2.gif].\n"
     ]
    }
   ],
   "source": [
    "from spikingjelly.datasets import play_frame\n",
    "import os\n",
    "from spikingjelly import datasets\n",
    "k_frames = datasets.integrate_events_by_fixed_frames_number(sliced_events[9],split_by = 'number',frames_num = 10,H=128,W = 128)\n",
    "\n",
    "play_frame(k_frames,save_gif_to=os.path.join(os.getcwd(),'prueba2.gif'))"
   ]
  },
  {
   "cell_type": "code",
   "execution_count": 14,
   "metadata": {},
   "outputs": [
    {
     "data": {
      "text/plain": [
       "(8, 2, 128, 128)"
      ]
     },
     "execution_count": 14,
     "metadata": {},
     "output_type": "execute_result"
    }
   ],
   "source": [
    "k_frames.shape"
   ]
  },
  {
   "attachments": {},
   "cell_type": "markdown",
   "metadata": {},
   "source": [
    "# DailyActions dataset"
   ]
  },
  {
   "cell_type": "code",
   "execution_count": 26,
   "metadata": {},
   "outputs": [
    {
     "data": {
      "text/plain": [
       "['bend',\n",
       " 'climb',\n",
       " 'fall',\n",
       " 'get up',\n",
       " 'jump',\n",
       " 'lie',\n",
       " 'lift',\n",
       " 'pick',\n",
       " 'run',\n",
       " 'sit',\n",
       " 'stand',\n",
       " 'walk']"
      ]
     },
     "execution_count": 26,
     "metadata": {},
     "output_type": "execute_result"
    }
   ],
   "source": [
    "data.classes"
   ]
  },
  {
   "cell_type": "code",
   "execution_count": 1,
   "metadata": {},
   "outputs": [],
   "source": [
    "from event_integration_to_frame import integrate_events_by_fixed_frames_number_bydecay\n",
    "import numpy as np\n",
    "np_file = '/Users/marcosesquivelgonzalez/Desktop/MasterCDatos/TFM/data/DVS_DailyAction_dataset/events_np/train/bend/cc1111.npz'\n",
    "k = np.load(np_file)\n",
    "Daily_dir = '/Users/marcosesquivelgonzalez/Desktop/MasterCDatos/TFM/data/DVS_DailyAction_dataset'\n",
    "frames = integrate_events_by_fixed_frames_number_bydecay(k,frames_num=16,H=128,W=128,)"
   ]
  },
  {
   "cell_type": "code",
   "execution_count": 6,
   "metadata": {},
   "outputs": [
    {
     "data": {
      "text/plain": [
       "(2, 128, 128)"
      ]
     },
     "execution_count": 6,
     "metadata": {},
     "output_type": "execute_result"
    }
   ],
   "source": [
    "frames[3].shape"
   ]
  },
  {
   "cell_type": "code",
   "execution_count": 36,
   "metadata": {},
   "outputs": [
    {
     "name": "stdout",
     "output_type": "stream",
     "text": [
      "Starting new version\n",
      "The directory [/Users/marcosesquivelgonzalez/Desktop/MasterCDatos/TFM/data/DVS_DailyAction_dataset/frames_number_16_split_by_number] already exists.\n"
     ]
    }
   ],
   "source": [
    "from Datasets import DVSDailyActions\n",
    "Daily_dir = '/Users/marcosesquivelgonzalez/Desktop/MasterCDatos/TFM/data/DVS_DailyAction_dataset'\n",
    "T = 16\n",
    "data = DVSDailyActions(Daily_dir,train=True, data_type='frame', frames_number=T, split_by='number')"
   ]
  },
  {
   "cell_type": "code",
   "execution_count": 37,
   "metadata": {},
   "outputs": [
    {
     "data": {
      "text/plain": [
       "{'bend': 0,\n",
       " 'climb': 1,\n",
       " 'fall': 2,\n",
       " 'get up': 3,\n",
       " 'jump': 4,\n",
       " 'lie': 5,\n",
       " 'lift': 6,\n",
       " 'pick': 7,\n",
       " 'run': 8,\n",
       " 'sit': 9,\n",
       " 'stand': 10,\n",
       " 'walk': 11}"
      ]
     },
     "execution_count": 37,
     "metadata": {},
     "output_type": "execute_result"
    }
   ],
   "source": [
    "data.class_to_idx"
   ]
  },
  {
   "cell_type": "code",
   "execution_count": 33,
   "metadata": {},
   "outputs": [
    {
     "data": {
      "text/plain": [
       "12"
      ]
     },
     "execution_count": 33,
     "metadata": {},
     "output_type": "execute_result"
    }
   ],
   "source": [
    "len(data.classes)"
   ]
  },
  {
   "cell_type": "code",
   "execution_count": 25,
   "metadata": {},
   "outputs": [
    {
     "data": {
      "text/plain": [
       "{'bend': 0,\n",
       " 'climb': 1,\n",
       " 'fall': 2,\n",
       " 'get up': 3,\n",
       " 'jump': 4,\n",
       " 'lie': 5,\n",
       " 'lift': 6,\n",
       " 'pick': 7,\n",
       " 'run': 8,\n",
       " 'sit': 9,\n",
       " 'stand': 10,\n",
       " 'walk': 11}"
      ]
     },
     "execution_count": 25,
     "metadata": {},
     "output_type": "execute_result"
    }
   ],
   "source": [
    "data.class_to_idx"
   ]
  },
  {
   "cell_type": "code",
   "execution_count": 16,
   "metadata": {},
   "outputs": [
    {
     "name": "stdout",
     "output_type": "stream",
     "text": [
      "[ 0  1  2  3  4  5  6  7  8  9 10 11]\n"
     ]
    }
   ],
   "source": [
    "import numpy as np\n",
    "labels =  np.array([sample[1] for sample in data])\n",
    "print(np.unique(labels))"
   ]
  },
  {
   "cell_type": "code",
   "execution_count": 19,
   "metadata": {},
   "outputs": [
    {
     "data": {
      "text/plain": [
       "(array([480, 481, 482, 483, 484, 485, 486, 487, 488, 489, 490, 491, 492,\n",
       "        493, 494, 495, 496, 497, 498, 499, 500, 501, 502, 503, 504, 505,\n",
       "        506, 507, 508, 509, 510, 511, 512, 513, 514, 515, 516, 517, 518,\n",
       "        519, 520, 521, 522, 523, 524, 525, 526, 527, 528, 529, 530, 531,\n",
       "        532, 533, 534, 535, 536, 537, 538, 539, 540, 541, 542, 543, 544,\n",
       "        545, 546, 547, 548, 549, 550, 551, 552, 553, 554, 555, 556, 557,\n",
       "        558, 559, 560, 561, 562, 563, 564, 565, 566, 567, 568, 569, 570,\n",
       "        571, 572, 573, 574, 575, 576, 577, 578, 579, 580, 581, 582, 583,\n",
       "        584, 585, 586, 587, 588, 589, 590, 591, 592, 593, 594, 595, 596,\n",
       "        597, 598, 599]),)"
      ]
     },
     "execution_count": 19,
     "metadata": {},
     "output_type": "execute_result"
    }
   ],
   "source": [
    "np.where(labels == 4)"
   ]
  },
  {
   "cell_type": "code",
   "execution_count": 10,
   "metadata": {},
   "outputs": [
    {
     "data": {
      "text/plain": [
       "{'arm crossing': 0,\n",
       " 'get-up': 1,\n",
       " 'jumping': 2,\n",
       " 'kicking': 3,\n",
       " 'picking up': 4,\n",
       " 'sit-down': 5,\n",
       " 'throwing': 6,\n",
       " 'turning around': 7,\n",
       " 'walking': 8,\n",
       " 'waving': 9}"
      ]
     },
     "execution_count": 10,
     "metadata": {},
     "output_type": "execute_result"
    }
   ],
   "source": [
    "data.class_to_idx"
   ]
  },
  {
   "cell_type": "code",
   "execution_count": 14,
   "metadata": {},
   "outputs": [
    {
     "name": "stdout",
     "output_type": "stream",
     "text": [
      "Save frames to [/Users/marcosesquivelgonzalez/Desktop/MasterCDatos/TFM/src/prueba_action_recog.gif].\n"
     ]
    }
   ],
   "source": [
    "import os\n",
    "from spikingjelly.datasets import play_frame\n",
    "\n",
    "play_frame(data[20][0],save_gif_to=os.path.join(os.getcwd(),'prueba_action_recog.gif'))"
   ]
  },
  {
   "attachments": {},
   "cell_type": "markdown",
   "metadata": {},
   "source": [
    "\n",
    "    :param events_t: events' t\n",
    "    :type events_t: numpy.ndarray\n",
    "    :param split_by: 'time' or 'number'\n",
    "    :type split_by: str\n",
    "    :param frames_num: the number of frames\n",
    "    :type frames_num: int\n",
    "    :return: a tuple ``(j_l, j_r)``\n",
    "    :rtype: tuple\n",
    "    Denote ``frames_num`` as :math:`M`, if ``split_by`` is ``'time'``, then\n",
    "\n",
    "    .. math::\n",
    "\n",
    "        \\\\Delta T & = [\\\\frac{t_{N-1} - t_{0}}{M}] \\\\\\\\\n",
    "        j_{l} & = \\\\mathop{\\\\arg\\\\min}\\\\limits_{k} \\\\{t_{k} | t_{k} \\\\geq t_{0} + \\\\Delta T \\\\cdot j\\\\} \\\\\\\\\n",
    "        j_{r} & = \\\\begin{cases} \\\\mathop{\\\\arg\\\\max}\\\\limits_{k} \\\\{t_{k} | t_{k} < t_{0} + \\\\Delta T \\\\cdot (j + 1)\\\\} + 1, & j <  M - 1 \\\\cr N, & j = M - 1 \\\\end{cases}\n",
    "\n",
    "    If ``split_by`` is ``'number'``, then\n",
    "\n",
    "    .. math::\n",
    "\n",
    "        j_{l} & = [\\\\frac{N}{M}] \\\\cdot j \\\\\\\\\n",
    "        j_{r} & = \\\\begin{cases} [\\\\frac{N}{M}] \\\\cdot (j + 1), & j <  M - 1 \\\\cr N, & j = M - 1 \\\\end{cases}\n"
   ]
  },
  {
   "cell_type": "code",
   "execution_count": 8,
   "metadata": {},
   "outputs": [
    {
     "name": "stdout",
     "output_type": "stream",
     "text": [
      "Mkdir [/Users/marcosesquivelgonzalez/Desktop/MasterCDatos/TFM/data/DVS_ActionRecog_dataset/frames_number_16_split_by_time].\n",
      "Mkdir [/Users/marcosesquivelgonzalez/Desktop/MasterCDatos/TFM/data/DVS_ActionRecog_dataset/frames_number_16_split_by_time/test].\n",
      "Mkdir [/Users/marcosesquivelgonzalez/Desktop/MasterCDatos/TFM/data/DVS_ActionRecog_dataset/frames_number_16_split_by_time/test/picking up].\n",
      "Mkdir [/Users/marcosesquivelgonzalez/Desktop/MasterCDatos/TFM/data/DVS_ActionRecog_dataset/frames_number_16_split_by_time/test/get-up].\n",
      "Mkdir [/Users/marcosesquivelgonzalez/Desktop/MasterCDatos/TFM/data/DVS_ActionRecog_dataset/frames_number_16_split_by_time/test/turning around].\n",
      "Mkdir [/Users/marcosesquivelgonzalez/Desktop/MasterCDatos/TFM/data/DVS_ActionRecog_dataset/frames_number_16_split_by_time/test/waving].\n",
      "Mkdir [/Users/marcosesquivelgonzalez/Desktop/MasterCDatos/TFM/data/DVS_ActionRecog_dataset/frames_number_16_split_by_time/test/throwing].\n",
      "Mkdir [/Users/marcosesquivelgonzalez/Desktop/MasterCDatos/TFM/data/DVS_ActionRecog_dataset/frames_number_16_split_by_time/test/walking].\n",
      "Mkdir [/Users/marcosesquivelgonzalez/Desktop/MasterCDatos/TFM/data/DVS_ActionRecog_dataset/frames_number_16_split_by_time/test/kicking].\n",
      "Mkdir [/Users/marcosesquivelgonzalez/Desktop/MasterCDatos/TFM/data/DVS_ActionRecog_dataset/frames_number_16_split_by_time/test/arm crossing].\n",
      "Mkdir [/Users/marcosesquivelgonzalez/Desktop/MasterCDatos/TFM/data/DVS_ActionRecog_dataset/frames_number_16_split_by_time/test/jumping].\n",
      "Mkdir [/Users/marcosesquivelgonzalez/Desktop/MasterCDatos/TFM/data/DVS_ActionRecog_dataset/frames_number_16_split_by_time/test/sit-down].\n",
      "Mkdir [/Users/marcosesquivelgonzalez/Desktop/MasterCDatos/TFM/data/DVS_ActionRecog_dataset/frames_number_16_split_by_time/train].\n",
      "Mkdir [/Users/marcosesquivelgonzalez/Desktop/MasterCDatos/TFM/data/DVS_ActionRecog_dataset/frames_number_16_split_by_time/train/picking up].\n",
      "Mkdir [/Users/marcosesquivelgonzalez/Desktop/MasterCDatos/TFM/data/DVS_ActionRecog_dataset/frames_number_16_split_by_time/train/get-up].\n",
      "Mkdir [/Users/marcosesquivelgonzalez/Desktop/MasterCDatos/TFM/data/DVS_ActionRecog_dataset/frames_number_16_split_by_time/train/turning around].\n",
      "Mkdir [/Users/marcosesquivelgonzalez/Desktop/MasterCDatos/TFM/data/DVS_ActionRecog_dataset/frames_number_16_split_by_time/train/waving].\n",
      "Mkdir [/Users/marcosesquivelgonzalez/Desktop/MasterCDatos/TFM/data/DVS_ActionRecog_dataset/frames_number_16_split_by_time/train/throwing].\n",
      "Mkdir [/Users/marcosesquivelgonzalez/Desktop/MasterCDatos/TFM/data/DVS_ActionRecog_dataset/frames_number_16_split_by_time/train/walking].\n",
      "Mkdir [/Users/marcosesquivelgonzalez/Desktop/MasterCDatos/TFM/data/DVS_ActionRecog_dataset/frames_number_16_split_by_time/train/kicking].\n",
      "Mkdir [/Users/marcosesquivelgonzalez/Desktop/MasterCDatos/TFM/data/DVS_ActionRecog_dataset/frames_number_16_split_by_time/train/arm crossing].\n",
      "Mkdir [/Users/marcosesquivelgonzalez/Desktop/MasterCDatos/TFM/data/DVS_ActionRecog_dataset/frames_number_16_split_by_time/train/jumping].\n",
      "Mkdir [/Users/marcosesquivelgonzalez/Desktop/MasterCDatos/TFM/data/DVS_ActionRecog_dataset/frames_number_16_split_by_time/train/sit-down].\n",
      "Start ThreadPoolExecutor with max workers = [16].\n",
      "Start to integrate [/Users/marcosesquivelgonzalez/Desktop/MasterCDatos/TFM/data/DVS_ActionRecog_dataset/events_np/.DS_Store] to frames and save to [/Users/marcosesquivelgonzalez/Desktop/MasterCDatos/TFM/data/DVS_ActionRecog_dataset/frames_number_16_split_by_time/.].\n",
      "Start to integrate [/Users/marcosesquivelgonzalez/Desktop/MasterCDatos/TFM/data/DVS_ActionRecog_dataset/events_np/test/picking up/tanglixuan_4.2.npz] to frames and save to [/Users/marcosesquivelgonzalez/Desktop/MasterCDatos/TFM/data/DVS_ActionRecog_dataset/frames_number_16_split_by_time/test/picking up].\n",
      "Start to integrate [/Users/marcosesquivelgonzalez/Desktop/MasterCDatos/TFM/data/DVS_ActionRecog_dataset/events_np/test/picking up/kaibo_4.2.npz] to frames and save to [/Users/marcosesquivelgonzalez/Desktop/MasterCDatos/TFM/data/DVS_ActionRecog_dataset/frames_number_16_split_by_time/test/picking up].\n",
      "Start to integrate [/Users/marcosesquivelgonzalez/Desktop/MasterCDatos/TFM/data/DVS_ActionRecog_dataset/events_np/test/picking up/chenjieneng_4.1.npz] to frames and save to [/Users/marcosesquivelgonzalez/Desktop/MasterCDatos/TFM/data/DVS_ActionRecog_dataset/frames_number_16_split_by_time/test/picking up].\n",
      "Start to integrate [/Users/marcosesquivelgonzalez/Desktop/MasterCDatos/TFM/data/DVS_ActionRecog_dataset/events_np/test/picking up/ningxiangyu_4.2.npz] to frames and save to [/Users/marcosesquivelgonzalez/Desktop/MasterCDatos/TFM/data/DVS_ActionRecog_dataset/frames_number_16_split_by_time/test/picking up].\n",
      "Start to integrate [/Users/marcosesquivelgonzalez/Desktop/MasterCDatos/TFM/data/DVS_ActionRecog_dataset/events_np/test/picking up/xiaohuang_4.1.npz] to frames and save to [/Users/marcosesquivelgonzalez/Desktop/MasterCDatos/TFM/data/DVS_ActionRecog_dataset/frames_number_16_split_by_time/test/picking up].\n",
      "Start to integrate [/Users/marcosesquivelgonzalez/Desktop/MasterCDatos/TFM/data/DVS_ActionRecog_dataset/events_np/test/picking up/houjing_4.2.npz] to frames and save to [/Users/marcosesquivelgonzalez/Desktop/MasterCDatos/TFM/data/DVS_ActionRecog_dataset/frames_number_16_split_by_time/test/picking up].\n",
      "Start to integrate [/Users/marcosesquivelgonzalez/Desktop/MasterCDatos/TFM/data/DVS_ActionRecog_dataset/events_np/test/get-up/zhangliming_2.2.npz] to frames and save to [/Users/marcosesquivelgonzalez/Desktop/MasterCDatos/TFM/data/DVS_ActionRecog_dataset/frames_number_16_split_by_time/test/get-up].\n",
      "Start to integrate [/Users/marcosesquivelgonzalez/Desktop/MasterCDatos/TFM/data/DVS_ActionRecog_dataset/events_np/test/get-up/kaibo_2.3.npz] to frames and save to [/Users/marcosesquivelgonzalez/Desktop/MasterCDatos/TFM/data/DVS_ActionRecog_dataset/frames_number_16_split_by_time/test/get-up].\n",
      "Start to integrate [/Users/marcosesquivelgonzalez/Desktop/MasterCDatos/TFM/data/DVS_ActionRecog_dataset/events_np/test/get-up/miaoshu_2.3.npz] to frames and save to [/Users/marcosesquivelgonzalez/Desktop/MasterCDatos/TFM/data/DVS_ActionRecog_dataset/frames_number_16_split_by_time/test/get-up].\n",
      "Start to integrate [/Users/marcosesquivelgonzalez/Desktop/MasterCDatos/TFM/data/DVS_ActionRecog_dataset/events_np/test/get-up/xiaohuang_2.1.npz] to frames and save to [/Users/marcosesquivelgonzalez/Desktop/MasterCDatos/TFM/data/DVS_ActionRecog_dataset/frames_number_16_split_by_time/test/get-up].\n",
      "Start to integrate [/Users/marcosesquivelgonzalez/Desktop/MasterCDatos/TFM/data/DVS_ActionRecog_dataset/events_np/test/get-up/houjing_2.1.npz] to frames and save to [/Users/marcosesquivelgonzalez/Desktop/MasterCDatos/TFM/data/DVS_ActionRecog_dataset/frames_number_16_split_by_time/test/get-up].\n",
      "Start to integrate [/Users/marcosesquivelgonzalez/Desktop/MasterCDatos/TFM/data/DVS_ActionRecog_dataset/events_np/test/get-up/xiaohuang_2.2.npz] to frames and save to [/Users/marcosesquivelgonzalez/Desktop/MasterCDatos/TFM/data/DVS_ActionRecog_dataset/frames_number_16_split_by_time/test/get-up].\n",
      "Start to integrate [/Users/marcosesquivelgonzalez/Desktop/MasterCDatos/TFM/data/DVS_ActionRecog_dataset/events_np/test/turning around/chenjieneng_8.3.npz] to frames and save to [/Users/marcosesquivelgonzalez/Desktop/MasterCDatos/TFM/data/DVS_ActionRecog_dataset/frames_number_16_split_by_time/test/turning around].\n",
      "Start to integrate [/Users/marcosesquivelgonzalez/Desktop/MasterCDatos/TFM/data/DVS_ActionRecog_dataset/events_np/test/turning around/ningxiangyu_8.1.npz] to frames and save to [/Users/marcosesquivelgonzalez/Desktop/MasterCDatos/TFM/data/DVS_ActionRecog_dataset/frames_number_16_split_by_time/test/turning around].\n",
      "Start to integrate [/Users/marcosesquivelgonzalez/Desktop/MasterCDatos/TFM/data/DVS_ActionRecog_dataset/events_np/test/turning around/ziyang_8.1.npz] to frames and save to [/Users/marcosesquivelgonzalez/Desktop/MasterCDatos/TFM/data/DVS_ActionRecog_dataset/frames_number_16_split_by_time/test/turning around].\n",
      "Start to integrate [/Users/marcosesquivelgonzalez/Desktop/MasterCDatos/TFM/data/DVS_ActionRecog_dataset/events_np/test/turning around/liuxingbo_8.2.npz] to frames and save to [/Users/marcosesquivelgonzalez/Desktop/MasterCDatos/TFM/data/DVS_ActionRecog_dataset/frames_number_16_split_by_time/test/turning around].\n",
      "Start to integrate [/Users/marcosesquivelgonzalez/Desktop/MasterCDatos/TFM/data/DVS_ActionRecog_dataset/events_np/test/turning around/liuxingbo_8.3.npz] to frames and save to [/Users/marcosesquivelgonzalez/Desktop/MasterCDatos/TFM/data/DVS_ActionRecog_dataset/frames_number_16_split_by_time/test/turning around].\n",
      "Start to integrate [/Users/marcosesquivelgonzalez/Desktop/MasterCDatos/TFM/data/DVS_ActionRecog_dataset/events_np/test/turning around/zhangliming_8.2.npz] to frames and save to [/Users/marcosesquivelgonzalez/Desktop/MasterCDatos/TFM/data/DVS_ActionRecog_dataset/frames_number_16_split_by_time/test/turning around].\n",
      "Start to integrate [/Users/marcosesquivelgonzalez/Desktop/MasterCDatos/TFM/data/DVS_ActionRecog_dataset/events_np/test/waving/kaibo_10.1.npz] to frames and save to [/Users/marcosesquivelgonzalez/Desktop/MasterCDatos/TFM/data/DVS_ActionRecog_dataset/frames_number_16_split_by_time/test/waving].\n",
      "Start to integrate [/Users/marcosesquivelgonzalez/Desktop/MasterCDatos/TFM/data/DVS_ActionRecog_dataset/events_np/test/waving/miaoshu_10.3.npz] to frames and save to [/Users/marcosesquivelgonzalez/Desktop/MasterCDatos/TFM/data/DVS_ActionRecog_dataset/frames_number_16_split_by_time/test/waving].\n",
      "Start to integrate [/Users/marcosesquivelgonzalez/Desktop/MasterCDatos/TFM/data/DVS_ActionRecog_dataset/events_np/test/waving/zhangliming_10.1.npz] to frames and save to [/Users/marcosesquivelgonzalez/Desktop/MasterCDatos/TFM/data/DVS_ActionRecog_dataset/frames_number_16_split_by_time/test/waving].\n",
      "Start to integrate [/Users/marcosesquivelgonzalez/Desktop/MasterCDatos/TFM/data/DVS_ActionRecog_dataset/events_np/test/waving/ningxiangyu_10.3.npz] to frames and save to [/Users/marcosesquivelgonzalez/Desktop/MasterCDatos/TFM/data/DVS_ActionRecog_dataset/frames_number_16_split_by_time/test/waving].\n",
      "Start to integrate [/Users/marcosesquivelgonzalez/Desktop/MasterCDatos/TFM/data/DVS_ActionRecog_dataset/events_np/test/waving/xiaohuang_10.2.npz] to frames and save to [/Users/marcosesquivelgonzalez/Desktop/MasterCDatos/TFM/data/DVS_ActionRecog_dataset/frames_number_16_split_by_time/test/waving].\n",
      "Start to integrate [/Users/marcosesquivelgonzalez/Desktop/MasterCDatos/TFM/data/DVS_ActionRecog_dataset/events_np/test/waving/xiaohuang_10.1.npz] to frames and save to [/Users/marcosesquivelgonzalez/Desktop/MasterCDatos/TFM/data/DVS_ActionRecog_dataset/frames_number_16_split_by_time/test/waving].\n",
      "Start to integrate [/Users/marcosesquivelgonzalez/Desktop/MasterCDatos/TFM/data/DVS_ActionRecog_dataset/events_np/test/throwing/zhangliming_7.2.npz] to frames and save to [/Users/marcosesquivelgonzalez/Desktop/MasterCDatos/TFM/data/DVS_ActionRecog_dataset/frames_number_16_split_by_time/test/throwing].\n",
      "Start to integrate [/Users/marcosesquivelgonzalez/Desktop/MasterCDatos/TFM/data/DVS_ActionRecog_dataset/events_np/test/throwing/liuxingbo_7.2.npz] to frames and save to [/Users/marcosesquivelgonzalez/Desktop/MasterCDatos/TFM/data/DVS_ActionRecog_dataset/frames_number_16_split_by_time/test/throwing].\n",
      "Start to integrate [/Users/marcosesquivelgonzalez/Desktop/MasterCDatos/TFM/data/DVS_ActionRecog_dataset/events_np/test/throwing/zhangliming_7.1.npz] to frames and save to [/Users/marcosesquivelgonzalez/Desktop/MasterCDatos/TFM/data/DVS_ActionRecog_dataset/frames_number_16_split_by_time/test/throwing].\n",
      "Start to integrate [/Users/marcosesquivelgonzalez/Desktop/MasterCDatos/TFM/data/DVS_ActionRecog_dataset/events_np/test/throwing/houjing_7.1.npz] to frames and save to [/Users/marcosesquivelgonzalez/Desktop/MasterCDatos/TFM/data/DVS_ActionRecog_dataset/frames_number_16_split_by_time/test/throwing].\n",
      "Start to integrate [/Users/marcosesquivelgonzalez/Desktop/MasterCDatos/TFM/data/DVS_ActionRecog_dataset/events_np/test/throwing/chenjieneng_7.2.npz] to frames and save to [/Users/marcosesquivelgonzalez/Desktop/MasterCDatos/TFM/data/DVS_ActionRecog_dataset/frames_number_16_split_by_time/test/throwing].\n",
      "Start to integrate [/Users/marcosesquivelgonzalez/Desktop/MasterCDatos/TFM/data/DVS_ActionRecog_dataset/events_np/test/throwing/tanglixuan_7.3.npz] to frames and save to [/Users/marcosesquivelgonzalez/Desktop/MasterCDatos/TFM/data/DVS_ActionRecog_dataset/frames_number_16_split_by_time/test/throwing].\n",
      "Start to integrate [/Users/marcosesquivelgonzalez/Desktop/MasterCDatos/TFM/data/DVS_ActionRecog_dataset/events_np/test/walking/kaibo_9.3.npz] to frames and save to [/Users/marcosesquivelgonzalez/Desktop/MasterCDatos/TFM/data/DVS_ActionRecog_dataset/frames_number_16_split_by_time/test/walking].\n",
      "Start to integrate [/Users/marcosesquivelgonzalez/Desktop/MasterCDatos/TFM/data/DVS_ActionRecog_dataset/events_np/test/walking/chenjieneng_9.1.npz] to frames and save to [/Users/marcosesquivelgonzalez/Desktop/MasterCDatos/TFM/data/DVS_ActionRecog_dataset/frames_number_16_split_by_time/test/walking].\n",
      "Start to integrate [/Users/marcosesquivelgonzalez/Desktop/MasterCDatos/TFM/data/DVS_ActionRecog_dataset/events_np/test/walking/ningxiangyu_9.2.npz] to frames and save to [/Users/marcosesquivelgonzalez/Desktop/MasterCDatos/TFM/data/DVS_ActionRecog_dataset/frames_number_16_split_by_time/test/walking].\n",
      "Start to integrate [/Users/marcosesquivelgonzalez/Desktop/MasterCDatos/TFM/data/DVS_ActionRecog_dataset/events_np/test/walking/xiaohuang_9.2.npz] to frames and save to [/Users/marcosesquivelgonzalez/Desktop/MasterCDatos/TFM/data/DVS_ActionRecog_dataset/frames_number_16_split_by_time/test/walking].\n",
      "Start to integrate [/Users/marcosesquivelgonzalez/Desktop/MasterCDatos/TFM/data/DVS_ActionRecog_dataset/events_np/test/walking/ziyang_9.2.npz] to frames and save to [/Users/marcosesquivelgonzalez/Desktop/MasterCDatos/TFM/data/DVS_ActionRecog_dataset/frames_number_16_split_by_time/test/walking].\n",
      "Start to integrate [/Users/marcosesquivelgonzalez/Desktop/MasterCDatos/TFM/data/DVS_ActionRecog_dataset/events_np/test/walking/ziyang_9.1.npz] to frames and save to [/Users/marcosesquivelgonzalez/Desktop/MasterCDatos/TFM/data/DVS_ActionRecog_dataset/frames_number_16_split_by_time/test/walking].\n",
      "Start to integrate [/Users/marcosesquivelgonzalez/Desktop/MasterCDatos/TFM/data/DVS_ActionRecog_dataset/events_np/test/kicking/liuxingbo_3.2.npz] to frames and save to [/Users/marcosesquivelgonzalez/Desktop/MasterCDatos/TFM/data/DVS_ActionRecog_dataset/frames_number_16_split_by_time/test/kicking].\n",
      "Start to integrate [/Users/marcosesquivelgonzalez/Desktop/MasterCDatos/TFM/data/DVS_ActionRecog_dataset/events_np/test/kicking/chenjieneng_3.2.npz] to frames and save to [/Users/marcosesquivelgonzalez/Desktop/MasterCDatos/TFM/data/DVS_ActionRecog_dataset/frames_number_16_split_by_time/test/kicking].\n",
      "Start to integrate [/Users/marcosesquivelgonzalez/Desktop/MasterCDatos/TFM/data/DVS_ActionRecog_dataset/events_np/test/kicking/houjing_3.3.npz] to frames and save to [/Users/marcosesquivelgonzalez/Desktop/MasterCDatos/TFM/data/DVS_ActionRecog_dataset/frames_number_16_split_by_time/test/kicking].\n",
      "Start to integrate [/Users/marcosesquivelgonzalez/Desktop/MasterCDatos/TFM/data/DVS_ActionRecog_dataset/events_np/test/kicking/chenjieneng_3.3.npz] to frames and save to [/Users/marcosesquivelgonzalez/Desktop/MasterCDatos/TFM/data/DVS_ActionRecog_dataset/frames_number_16_split_by_time/test/kicking].\n",
      "Start to integrate [/Users/marcosesquivelgonzalez/Desktop/MasterCDatos/TFM/data/DVS_ActionRecog_dataset/events_np/test/kicking/kaibo_3.3.npz] to frames and save to [/Users/marcosesquivelgonzalez/Desktop/MasterCDatos/TFM/data/DVS_ActionRecog_dataset/frames_number_16_split_by_time/test/kicking].\n",
      "Start to integrate [/Users/marcosesquivelgonzalez/Desktop/MasterCDatos/TFM/data/DVS_ActionRecog_dataset/events_np/test/kicking/miaoshu_3.1.npz] to frames and save to [/Users/marcosesquivelgonzalez/Desktop/MasterCDatos/TFM/data/DVS_ActionRecog_dataset/frames_number_16_split_by_time/test/kicking].\n",
      "Start to integrate [/Users/marcosesquivelgonzalez/Desktop/MasterCDatos/TFM/data/DVS_ActionRecog_dataset/events_np/test/arm crossing/liuxingbo_1.3.npz] to frames and save to [/Users/marcosesquivelgonzalez/Desktop/MasterCDatos/TFM/data/DVS_ActionRecog_dataset/frames_number_16_split_by_time/test/arm crossing].\n",
      "Start to integrate [/Users/marcosesquivelgonzalez/Desktop/MasterCDatos/TFM/data/DVS_ActionRecog_dataset/events_np/test/arm crossing/xiaohuang_1.1.npz] to frames and save to [/Users/marcosesquivelgonzalez/Desktop/MasterCDatos/TFM/data/DVS_ActionRecog_dataset/frames_number_16_split_by_time/test/arm crossing].\n",
      "Start to integrate [/Users/marcosesquivelgonzalez/Desktop/MasterCDatos/TFM/data/DVS_ActionRecog_dataset/events_np/test/arm crossing/xiaohuang_1.2.npz] to frames and save to [/Users/marcosesquivelgonzalez/Desktop/MasterCDatos/TFM/data/DVS_ActionRecog_dataset/frames_number_16_split_by_time/test/arm crossing].\n",
      "Start to integrate [/Users/marcosesquivelgonzalez/Desktop/MasterCDatos/TFM/data/DVS_ActionRecog_dataset/events_np/test/arm crossing/chenjieneng_1.2.npz] to frames and save to [/Users/marcosesquivelgonzalez/Desktop/MasterCDatos/TFM/data/DVS_ActionRecog_dataset/frames_number_16_split_by_time/test/arm crossing].\n",
      "Start to integrate [/Users/marcosesquivelgonzalez/Desktop/MasterCDatos/TFM/data/DVS_ActionRecog_dataset/events_np/test/arm crossing/miaoshu_1.1.npz] to frames and save to [/Users/marcosesquivelgonzalez/Desktop/MasterCDatos/TFM/data/DVS_ActionRecog_dataset/frames_number_16_split_by_time/test/arm crossing].\n",
      "Start to integrate [/Users/marcosesquivelgonzalez/Desktop/MasterCDatos/TFM/data/DVS_ActionRecog_dataset/events_np/test/arm crossing/tanglixuan_1.1.npz] to frames and save to [/Users/marcosesquivelgonzalez/Desktop/MasterCDatos/TFM/data/DVS_ActionRecog_dataset/frames_number_16_split_by_time/test/arm crossing].\n",
      "Start to integrate [/Users/marcosesquivelgonzalez/Desktop/MasterCDatos/TFM/data/DVS_ActionRecog_dataset/events_np/test/jumping/liuxingbo_5.1.npz] to frames and save to [/Users/marcosesquivelgonzalez/Desktop/MasterCDatos/TFM/data/DVS_ActionRecog_dataset/frames_number_16_split_by_time/test/jumping].\n",
      "Start to integrate [/Users/marcosesquivelgonzalez/Desktop/MasterCDatos/TFM/data/DVS_ActionRecog_dataset/events_np/test/jumping/ziyang_5.1.npz] to frames and save to [/Users/marcosesquivelgonzalez/Desktop/MasterCDatos/TFM/data/DVS_ActionRecog_dataset/frames_number_16_split_by_time/test/jumping].\n",
      "Start to integrate [/Users/marcosesquivelgonzalez/Desktop/MasterCDatos/TFM/data/DVS_ActionRecog_dataset/events_np/test/jumping/xiaohuang_5.2.npz] to frames and save to [/Users/marcosesquivelgonzalez/Desktop/MasterCDatos/TFM/data/DVS_ActionRecog_dataset/frames_number_16_split_by_time/test/jumping].\n",
      "Start to integrate [/Users/marcosesquivelgonzalez/Desktop/MasterCDatos/TFM/data/DVS_ActionRecog_dataset/events_np/test/jumping/chenjieneng_5.1.npz] to frames and save to [/Users/marcosesquivelgonzalez/Desktop/MasterCDatos/TFM/data/DVS_ActionRecog_dataset/frames_number_16_split_by_time/test/jumping].\n",
      "Start to integrate [/Users/marcosesquivelgonzalez/Desktop/MasterCDatos/TFM/data/DVS_ActionRecog_dataset/events_np/test/jumping/kaibo_5.2.npz] to frames and save to [/Users/marcosesquivelgonzalez/Desktop/MasterCDatos/TFM/data/DVS_ActionRecog_dataset/frames_number_16_split_by_time/test/jumping].\n",
      "Start to integrate [/Users/marcosesquivelgonzalez/Desktop/MasterCDatos/TFM/data/DVS_ActionRecog_dataset/events_np/test/sit-down/zhangliming_6.1.npz] to frames and save to [/Users/marcosesquivelgonzalez/Desktop/MasterCDatos/TFM/data/DVS_ActionRecog_dataset/frames_number_16_split_by_time/test/sit-down].\n",
      "Start to integrate [/Users/marcosesquivelgonzalez/Desktop/MasterCDatos/TFM/data/DVS_ActionRecog_dataset/events_np/test/sit-down/liuxingbo_6.1.npz] to frames and save to [/Users/marcosesquivelgonzalez/Desktop/MasterCDatos/TFM/data/DVS_ActionRecog_dataset/frames_number_16_split_by_time/test/sit-down].\n",
      "Start to integrate [/Users/marcosesquivelgonzalez/Desktop/MasterCDatos/TFM/data/DVS_ActionRecog_dataset/events_np/test/sit-down/tanglixuan_6.3.npz] to frames and save to [/Users/marcosesquivelgonzalez/Desktop/MasterCDatos/TFM/data/DVS_ActionRecog_dataset/frames_number_16_split_by_time/test/sit-down].\n",
      "Start to integrate [/Users/marcosesquivelgonzalez/Desktop/MasterCDatos/TFM/data/DVS_ActionRecog_dataset/events_np/test/sit-down/kaibo_6.3.npz] to frames and save to [/Users/marcosesquivelgonzalez/Desktop/MasterCDatos/TFM/data/DVS_ActionRecog_dataset/frames_number_16_split_by_time/test/sit-down].\n",
      "Start to integrate [/Users/marcosesquivelgonzalez/Desktop/MasterCDatos/TFM/data/DVS_ActionRecog_dataset/events_np/test/sit-down/ningxiangyu_6.1.npz] to frames and save to [/Users/marcosesquivelgonzalez/Desktop/MasterCDatos/TFM/data/DVS_ActionRecog_dataset/frames_number_16_split_by_time/test/sit-down].\n",
      "Start to integrate [/Users/marcosesquivelgonzalez/Desktop/MasterCDatos/TFM/data/DVS_ActionRecog_dataset/events_np/test/sit-down/xiaohuang_6.1.npz] to frames and save to [/Users/marcosesquivelgonzalez/Desktop/MasterCDatos/TFM/data/DVS_ActionRecog_dataset/frames_number_16_split_by_time/test/sit-down].\n",
      "Start to integrate [/Users/marcosesquivelgonzalez/Desktop/MasterCDatos/TFM/data/DVS_ActionRecog_dataset/events_np/train/picking up/zhangliming_4.2.npz] to frames and save to [/Users/marcosesquivelgonzalez/Desktop/MasterCDatos/TFM/data/DVS_ActionRecog_dataset/frames_number_16_split_by_time/train/picking up].\n",
      "Start to integrate [/Users/marcosesquivelgonzalez/Desktop/MasterCDatos/TFM/data/DVS_ActionRecog_dataset/events_np/train/picking up/liuxingbo_4.1.npz] to frames and save to [/Users/marcosesquivelgonzalez/Desktop/MasterCDatos/TFM/data/DVS_ActionRecog_dataset/frames_number_16_split_by_time/train/picking up].\n",
      "Start to integrate [/Users/marcosesquivelgonzalez/Desktop/MasterCDatos/TFM/data/DVS_ActionRecog_dataset/events_np/train/picking up/zhangliming_4.3.npz] to frames and save to [/Users/marcosesquivelgonzalez/Desktop/MasterCDatos/TFM/data/DVS_ActionRecog_dataset/frames_number_16_split_by_time/train/picking up].\n",
      "Start to integrate [/Users/marcosesquivelgonzalez/Desktop/MasterCDatos/TFM/data/DVS_ActionRecog_dataset/events_np/train/picking up/zhangliming_4.1.npz] to frames and save to [/Users/marcosesquivelgonzalez/Desktop/MasterCDatos/TFM/data/DVS_ActionRecog_dataset/frames_number_16_split_by_time/train/picking up].\n",
      "Start to integrate [/Users/marcosesquivelgonzalez/Desktop/MasterCDatos/TFM/data/DVS_ActionRecog_dataset/events_np/train/picking up/liuxingbo_4.3.npz] to frames and save to [/Users/marcosesquivelgonzalez/Desktop/MasterCDatos/TFM/data/DVS_ActionRecog_dataset/frames_number_16_split_by_time/train/picking up].\n",
      "Start to integrate [/Users/marcosesquivelgonzalez/Desktop/MasterCDatos/TFM/data/DVS_ActionRecog_dataset/events_np/train/picking up/liuxingbo_4.2.npz] to frames and save to [/Users/marcosesquivelgonzalez/Desktop/MasterCDatos/TFM/data/DVS_ActionRecog_dataset/frames_number_16_split_by_time/train/picking up].\n",
      "Start to integrate [/Users/marcosesquivelgonzalez/Desktop/MasterCDatos/TFM/data/DVS_ActionRecog_dataset/events_np/train/picking up/ziyang_4.2.npz] to frames and save to [/Users/marcosesquivelgonzalez/Desktop/MasterCDatos/TFM/data/DVS_ActionRecog_dataset/frames_number_16_split_by_time/train/picking up].\n",
      "Start to integrate [/Users/marcosesquivelgonzalez/Desktop/MasterCDatos/TFM/data/DVS_ActionRecog_dataset/events_np/train/picking up/ziyang_4.3.npz] to frames and save to [/Users/marcosesquivelgonzalez/Desktop/MasterCDatos/TFM/data/DVS_ActionRecog_dataset/frames_number_16_split_by_time/train/picking up].\n",
      "Start to integrate [/Users/marcosesquivelgonzalez/Desktop/MasterCDatos/TFM/data/DVS_ActionRecog_dataset/events_np/train/picking up/ziyang_4.1.npz] to frames and save to [/Users/marcosesquivelgonzalez/Desktop/MasterCDatos/TFM/data/DVS_ActionRecog_dataset/frames_number_16_split_by_time/train/picking up].\n",
      "Start to integrate [/Users/marcosesquivelgonzalez/Desktop/MasterCDatos/TFM/data/DVS_ActionRecog_dataset/events_np/train/picking up/tanglixuan_4.1.npz] to frames and save to [/Users/marcosesquivelgonzalez/Desktop/MasterCDatos/TFM/data/DVS_ActionRecog_dataset/frames_number_16_split_by_time/train/picking up].\n",
      "Start to integrate [/Users/marcosesquivelgonzalez/Desktop/MasterCDatos/TFM/data/DVS_ActionRecog_dataset/events_np/train/picking up/tanglixuan_4.3.npz] to frames and save to [/Users/marcosesquivelgonzalez/Desktop/MasterCDatos/TFM/data/DVS_ActionRecog_dataset/frames_number_16_split_by_time/train/picking up].\n",
      "Start to integrate [/Users/marcosesquivelgonzalez/Desktop/MasterCDatos/TFM/data/DVS_ActionRecog_dataset/events_np/train/picking up/kaibo_4.1.npz] to frames and save to [/Users/marcosesquivelgonzalez/Desktop/MasterCDatos/TFM/data/DVS_ActionRecog_dataset/frames_number_16_split_by_time/train/picking up].\n",
      "Start to integrate [/Users/marcosesquivelgonzalez/Desktop/MasterCDatos/TFM/data/DVS_ActionRecog_dataset/events_np/train/picking up/miaoshu_4.1.npz] to frames and save to [/Users/marcosesquivelgonzalez/Desktop/MasterCDatos/TFM/data/DVS_ActionRecog_dataset/frames_number_16_split_by_time/train/picking up].\n",
      "Start to integrate [/Users/marcosesquivelgonzalez/Desktop/MasterCDatos/TFM/data/DVS_ActionRecog_dataset/events_np/train/picking up/miaoshu_4.2.npz] to frames and save to [/Users/marcosesquivelgonzalez/Desktop/MasterCDatos/TFM/data/DVS_ActionRecog_dataset/frames_number_16_split_by_time/train/picking up].\n",
      "Start to integrate [/Users/marcosesquivelgonzalez/Desktop/MasterCDatos/TFM/data/DVS_ActionRecog_dataset/events_np/train/picking up/miaoshu_4.3.npz] to frames and save to [/Users/marcosesquivelgonzalez/Desktop/MasterCDatos/TFM/data/DVS_ActionRecog_dataset/frames_number_16_split_by_time/train/picking up].\n",
      "Start to integrate [/Users/marcosesquivelgonzalez/Desktop/MasterCDatos/TFM/data/DVS_ActionRecog_dataset/events_np/train/picking up/kaibo_4.3.npz] to frames and save to [/Users/marcosesquivelgonzalez/Desktop/MasterCDatos/TFM/data/DVS_ActionRecog_dataset/frames_number_16_split_by_time/train/picking up].\n",
      "Start to integrate [/Users/marcosesquivelgonzalez/Desktop/MasterCDatos/TFM/data/DVS_ActionRecog_dataset/events_np/train/picking up/houjing_4.1.npz] to frames and save to [/Users/marcosesquivelgonzalez/Desktop/MasterCDatos/TFM/data/DVS_ActionRecog_dataset/frames_number_16_split_by_time/train/picking up].\n",
      "Start to integrate [/Users/marcosesquivelgonzalez/Desktop/MasterCDatos/TFM/data/DVS_ActionRecog_dataset/events_np/train/picking up/ningxiangyu_4.3.npz] to frames and save to [/Users/marcosesquivelgonzalez/Desktop/MasterCDatos/TFM/data/DVS_ActionRecog_dataset/frames_number_16_split_by_time/train/picking up].\n",
      "Start to integrate [/Users/marcosesquivelgonzalez/Desktop/MasterCDatos/TFM/data/DVS_ActionRecog_dataset/events_np/train/picking up/chenjieneng_4.2.npz] to frames and save to [/Users/marcosesquivelgonzalez/Desktop/MasterCDatos/TFM/data/DVS_ActionRecog_dataset/frames_number_16_split_by_time/train/picking up].\n",
      "Start to integrate [/Users/marcosesquivelgonzalez/Desktop/MasterCDatos/TFM/data/DVS_ActionRecog_dataset/events_np/train/picking up/ningxiangyu_4.1.npz] to frames and save to [/Users/marcosesquivelgonzalez/Desktop/MasterCDatos/TFM/data/DVS_ActionRecog_dataset/frames_number_16_split_by_time/train/picking up].\n",
      "Start to integrate [/Users/marcosesquivelgonzalez/Desktop/MasterCDatos/TFM/data/DVS_ActionRecog_dataset/events_np/train/picking up/xiaohuang_4.2.npz] to frames and save to [/Users/marcosesquivelgonzalez/Desktop/MasterCDatos/TFM/data/DVS_ActionRecog_dataset/frames_number_16_split_by_time/train/picking up].\n",
      "Start to integrate [/Users/marcosesquivelgonzalez/Desktop/MasterCDatos/TFM/data/DVS_ActionRecog_dataset/events_np/train/picking up/houjing_4.3.npz] to frames and save to [/Users/marcosesquivelgonzalez/Desktop/MasterCDatos/TFM/data/DVS_ActionRecog_dataset/frames_number_16_split_by_time/train/picking up].\n",
      "Start to integrate [/Users/marcosesquivelgonzalez/Desktop/MasterCDatos/TFM/data/DVS_ActionRecog_dataset/events_np/train/picking up/xiaohuang_4.3.npz] to frames and save to [/Users/marcosesquivelgonzalez/Desktop/MasterCDatos/TFM/data/DVS_ActionRecog_dataset/frames_number_16_split_by_time/train/picking up].\n",
      "Start to integrate [/Users/marcosesquivelgonzalez/Desktop/MasterCDatos/TFM/data/DVS_ActionRecog_dataset/events_np/train/picking up/chenjieneng_4.3.npz] to frames and save to [/Users/marcosesquivelgonzalez/Desktop/MasterCDatos/TFM/data/DVS_ActionRecog_dataset/frames_number_16_split_by_time/train/picking up].\n",
      "Start to integrate [/Users/marcosesquivelgonzalez/Desktop/MasterCDatos/TFM/data/DVS_ActionRecog_dataset/events_np/train/get-up/ziyang_2.2.npz] to frames and save to [/Users/marcosesquivelgonzalez/Desktop/MasterCDatos/TFM/data/DVS_ActionRecog_dataset/frames_number_16_split_by_time/train/get-up].\n",
      "Start to integrate [/Users/marcosesquivelgonzalez/Desktop/MasterCDatos/TFM/data/DVS_ActionRecog_dataset/events_np/train/get-up/ziyang_2.3.npz] to frames and save to [/Users/marcosesquivelgonzalez/Desktop/MasterCDatos/TFM/data/DVS_ActionRecog_dataset/frames_number_16_split_by_time/train/get-up].\n",
      "Start to integrate [/Users/marcosesquivelgonzalez/Desktop/MasterCDatos/TFM/data/DVS_ActionRecog_dataset/events_np/train/get-up/ziyang_2.1.npz] to frames and save to [/Users/marcosesquivelgonzalez/Desktop/MasterCDatos/TFM/data/DVS_ActionRecog_dataset/frames_number_16_split_by_time/train/get-up].\n",
      "Start to integrate [/Users/marcosesquivelgonzalez/Desktop/MasterCDatos/TFM/data/DVS_ActionRecog_dataset/events_np/train/get-up/liuxingbo_2.1.npz] to frames and save to [/Users/marcosesquivelgonzalez/Desktop/MasterCDatos/TFM/data/DVS_ActionRecog_dataset/frames_number_16_split_by_time/train/get-up].\n",
      "Start to integrate [/Users/marcosesquivelgonzalez/Desktop/MasterCDatos/TFM/data/DVS_ActionRecog_dataset/events_np/train/get-up/zhangliming_2.3.npz] to frames and save to [/Users/marcosesquivelgonzalez/Desktop/MasterCDatos/TFM/data/DVS_ActionRecog_dataset/frames_number_16_split_by_time/train/get-up].\n",
      "Start to integrate [/Users/marcosesquivelgonzalez/Desktop/MasterCDatos/TFM/data/DVS_ActionRecog_dataset/events_np/train/get-up/zhangliming_2.1.npz] to frames and save to [/Users/marcosesquivelgonzalez/Desktop/MasterCDatos/TFM/data/DVS_ActionRecog_dataset/frames_number_16_split_by_time/train/get-up].\n",
      "Start to integrate [/Users/marcosesquivelgonzalez/Desktop/MasterCDatos/TFM/data/DVS_ActionRecog_dataset/events_np/train/get-up/liuxingbo_2.3.npz] to frames and save to [/Users/marcosesquivelgonzalez/Desktop/MasterCDatos/TFM/data/DVS_ActionRecog_dataset/frames_number_16_split_by_time/train/get-up].\n",
      "Start to integrate [/Users/marcosesquivelgonzalez/Desktop/MasterCDatos/TFM/data/DVS_ActionRecog_dataset/events_np/train/get-up/liuxingbo_2.2.npz] to frames and save to [/Users/marcosesquivelgonzalez/Desktop/MasterCDatos/TFM/data/DVS_ActionRecog_dataset/frames_number_16_split_by_time/train/get-up].\n",
      "Start to integrate [/Users/marcosesquivelgonzalez/Desktop/MasterCDatos/TFM/data/DVS_ActionRecog_dataset/events_np/train/get-up/miaoshu_2.1.npz] to frames and save to [/Users/marcosesquivelgonzalez/Desktop/MasterCDatos/TFM/data/DVS_ActionRecog_dataset/frames_number_16_split_by_time/train/get-up].\n",
      "Start to integrate [/Users/marcosesquivelgonzalez/Desktop/MasterCDatos/TFM/data/DVS_ActionRecog_dataset/events_np/train/get-up/kaibo_2.1.npz] to frames and save to [/Users/marcosesquivelgonzalez/Desktop/MasterCDatos/TFM/data/DVS_ActionRecog_dataset/frames_number_16_split_by_time/train/get-up].\n",
      "Start to integrate [/Users/marcosesquivelgonzalez/Desktop/MasterCDatos/TFM/data/DVS_ActionRecog_dataset/events_np/train/get-up/miaoshu_2.2.npz] to frames and save to [/Users/marcosesquivelgonzalez/Desktop/MasterCDatos/TFM/data/DVS_ActionRecog_dataset/frames_number_16_split_by_time/train/get-up].\n",
      "Start to integrate [/Users/marcosesquivelgonzalez/Desktop/MasterCDatos/TFM/data/DVS_ActionRecog_dataset/events_np/train/get-up/kaibo_2.2.npz] to frames and save to [/Users/marcosesquivelgonzalez/Desktop/MasterCDatos/TFM/data/DVS_ActionRecog_dataset/frames_number_16_split_by_time/train/get-up].\n",
      "Start to integrate [/Users/marcosesquivelgonzalez/Desktop/MasterCDatos/TFM/data/DVS_ActionRecog_dataset/events_np/train/get-up/tanglixuan_2.1.npz] to frames and save to [/Users/marcosesquivelgonzalez/Desktop/MasterCDatos/TFM/data/DVS_ActionRecog_dataset/frames_number_16_split_by_time/train/get-up].\n",
      "Start to integrate [/Users/marcosesquivelgonzalez/Desktop/MasterCDatos/TFM/data/DVS_ActionRecog_dataset/events_np/train/get-up/tanglixuan_2.3.npz] to frames and save to [/Users/marcosesquivelgonzalez/Desktop/MasterCDatos/TFM/data/DVS_ActionRecog_dataset/frames_number_16_split_by_time/train/get-up].\n",
      "Start to integrate [/Users/marcosesquivelgonzalez/Desktop/MasterCDatos/TFM/data/DVS_ActionRecog_dataset/events_np/train/get-up/tanglixuan_2.2.npz] to frames and save to [/Users/marcosesquivelgonzalez/Desktop/MasterCDatos/TFM/data/DVS_ActionRecog_dataset/frames_number_16_split_by_time/train/get-up].\n",
      "Start to integrate [/Users/marcosesquivelgonzalez/Desktop/MasterCDatos/TFM/data/DVS_ActionRecog_dataset/events_np/train/get-up/ningxiangyu_2.2.npz] to frames and save to [/Users/marcosesquivelgonzalez/Desktop/MasterCDatos/TFM/data/DVS_ActionRecog_dataset/frames_number_16_split_by_time/train/get-up].\n",
      "Start to integrate [/Users/marcosesquivelgonzalez/Desktop/MasterCDatos/TFM/data/DVS_ActionRecog_dataset/events_np/train/get-up/chenjieneng_2.1.npz] to frames and save to [/Users/marcosesquivelgonzalez/Desktop/MasterCDatos/TFM/data/DVS_ActionRecog_dataset/frames_number_16_split_by_time/train/get-up].\n",
      "Start to integrate [/Users/marcosesquivelgonzalez/Desktop/MasterCDatos/TFM/data/DVS_ActionRecog_dataset/events_np/train/get-up/ningxiangyu_2.3.npz] to frames and save to [/Users/marcosesquivelgonzalez/Desktop/MasterCDatos/TFM/data/DVS_ActionRecog_dataset/frames_number_16_split_by_time/train/get-up].\n",
      "Start to integrate [/Users/marcosesquivelgonzalez/Desktop/MasterCDatos/TFM/data/DVS_ActionRecog_dataset/events_np/train/get-up/houjing_2.3.npz] to frames and save to [/Users/marcosesquivelgonzalez/Desktop/MasterCDatos/TFM/data/DVS_ActionRecog_dataset/frames_number_16_split_by_time/train/get-up].\n",
      "Start to integrate [/Users/marcosesquivelgonzalez/Desktop/MasterCDatos/TFM/data/DVS_ActionRecog_dataset/events_np/train/get-up/ningxiangyu_2.1.npz] to frames and save to [/Users/marcosesquivelgonzalez/Desktop/MasterCDatos/TFM/data/DVS_ActionRecog_dataset/frames_number_16_split_by_time/train/get-up].\n",
      "Start to integrate [/Users/marcosesquivelgonzalez/Desktop/MasterCDatos/TFM/data/DVS_ActionRecog_dataset/events_np/train/get-up/chenjieneng_2.2.npz] to frames and save to [/Users/marcosesquivelgonzalez/Desktop/MasterCDatos/TFM/data/DVS_ActionRecog_dataset/frames_number_16_split_by_time/train/get-up].\n",
      "Start to integrate [/Users/marcosesquivelgonzalez/Desktop/MasterCDatos/TFM/data/DVS_ActionRecog_dataset/events_np/train/get-up/chenjieneng_2.3.npz] to frames and save to [/Users/marcosesquivelgonzalez/Desktop/MasterCDatos/TFM/data/DVS_ActionRecog_dataset/frames_number_16_split_by_time/train/get-up].\n",
      "Start to integrate [/Users/marcosesquivelgonzalez/Desktop/MasterCDatos/TFM/data/DVS_ActionRecog_dataset/events_np/train/get-up/houjing_2.2.npz] to frames and save to [/Users/marcosesquivelgonzalez/Desktop/MasterCDatos/TFM/data/DVS_ActionRecog_dataset/frames_number_16_split_by_time/train/get-up].\n",
      "Start to integrate [/Users/marcosesquivelgonzalez/Desktop/MasterCDatos/TFM/data/DVS_ActionRecog_dataset/events_np/train/get-up/xiaohuang_2.3.npz] to frames and save to [/Users/marcosesquivelgonzalez/Desktop/MasterCDatos/TFM/data/DVS_ActionRecog_dataset/frames_number_16_split_by_time/train/get-up].\n",
      "Start to integrate [/Users/marcosesquivelgonzalez/Desktop/MasterCDatos/TFM/data/DVS_ActionRecog_dataset/events_np/train/turning around/houjing_8.2.npz] to frames and save to [/Users/marcosesquivelgonzalez/Desktop/MasterCDatos/TFM/data/DVS_ActionRecog_dataset/frames_number_16_split_by_time/train/turning around].\n",
      "Start to integrate [/Users/marcosesquivelgonzalez/Desktop/MasterCDatos/TFM/data/DVS_ActionRecog_dataset/events_np/train/turning around/xiaohuang_8.3.npz] to frames and save to [/Users/marcosesquivelgonzalez/Desktop/MasterCDatos/TFM/data/DVS_ActionRecog_dataset/frames_number_16_split_by_time/train/turning around].\n",
      "Start to integrate [/Users/marcosesquivelgonzalez/Desktop/MasterCDatos/TFM/data/DVS_ActionRecog_dataset/events_np/train/turning around/xiaohuang_8.2.npz] to frames and save to [/Users/marcosesquivelgonzalez/Desktop/MasterCDatos/TFM/data/DVS_ActionRecog_dataset/frames_number_16_split_by_time/train/turning around].\n",
      "Start to integrate [/Users/marcosesquivelgonzalez/Desktop/MasterCDatos/TFM/data/DVS_ActionRecog_dataset/events_np/train/turning around/houjing_8.3.npz] to frames and save to [/Users/marcosesquivelgonzalez/Desktop/MasterCDatos/TFM/data/DVS_ActionRecog_dataset/frames_number_16_split_by_time/train/turning around].\n",
      "Start to integrate [/Users/marcosesquivelgonzalez/Desktop/MasterCDatos/TFM/data/DVS_ActionRecog_dataset/events_np/train/turning around/chenjieneng_8.2.npz] to frames and save to [/Users/marcosesquivelgonzalez/Desktop/MasterCDatos/TFM/data/DVS_ActionRecog_dataset/frames_number_16_split_by_time/train/turning around].\n",
      "Start to integrate [/Users/marcosesquivelgonzalez/Desktop/MasterCDatos/TFM/data/DVS_ActionRecog_dataset/events_np/train/turning around/houjing_8.1.npz] to frames and save to [/Users/marcosesquivelgonzalez/Desktop/MasterCDatos/TFM/data/DVS_ActionRecog_dataset/frames_number_16_split_by_time/train/turning around].\n",
      "Start to integrate [/Users/marcosesquivelgonzalez/Desktop/MasterCDatos/TFM/data/DVS_ActionRecog_dataset/events_np/train/turning around/ningxiangyu_8.3.npz] to frames and save to [/Users/marcosesquivelgonzalez/Desktop/MasterCDatos/TFM/data/DVS_ActionRecog_dataset/frames_number_16_split_by_time/train/turning around].\n",
      "Start to integrate [/Users/marcosesquivelgonzalez/Desktop/MasterCDatos/TFM/data/DVS_ActionRecog_dataset/events_np/train/turning around/ningxiangyu_8.2.npz] to frames and save to [/Users/marcosesquivelgonzalez/Desktop/MasterCDatos/TFM/data/DVS_ActionRecog_dataset/frames_number_16_split_by_time/train/turning around].\n",
      "Start to integrate [/Users/marcosesquivelgonzalez/Desktop/MasterCDatos/TFM/data/DVS_ActionRecog_dataset/events_np/train/turning around/xiaohuang_8.1.npz] to frames and save to [/Users/marcosesquivelgonzalez/Desktop/MasterCDatos/TFM/data/DVS_ActionRecog_dataset/frames_number_16_split_by_time/train/turning around].\n",
      "Start to integrate [/Users/marcosesquivelgonzalez/Desktop/MasterCDatos/TFM/data/DVS_ActionRecog_dataset/events_np/train/turning around/chenjieneng_8.1.npz] to frames and save to [/Users/marcosesquivelgonzalez/Desktop/MasterCDatos/TFM/data/DVS_ActionRecog_dataset/frames_number_16_split_by_time/train/turning around].\n",
      "Start to integrate [/Users/marcosesquivelgonzalez/Desktop/MasterCDatos/TFM/data/DVS_ActionRecog_dataset/events_np/train/turning around/kaibo_8.3.npz] to frames and save to [/Users/marcosesquivelgonzalez/Desktop/MasterCDatos/TFM/data/DVS_ActionRecog_dataset/frames_number_16_split_by_time/train/turning around].\n",
      "Start to integrate [/Users/marcosesquivelgonzalez/Desktop/MasterCDatos/TFM/data/DVS_ActionRecog_dataset/events_np/train/turning around/miaoshu_8.3.npz] to frames and save to [/Users/marcosesquivelgonzalez/Desktop/MasterCDatos/TFM/data/DVS_ActionRecog_dataset/frames_number_16_split_by_time/train/turning around].\n",
      "Start to integrate [/Users/marcosesquivelgonzalez/Desktop/MasterCDatos/TFM/data/DVS_ActionRecog_dataset/events_np/train/turning around/miaoshu_8.2.npz] to frames and save to [/Users/marcosesquivelgonzalez/Desktop/MasterCDatos/TFM/data/DVS_ActionRecog_dataset/frames_number_16_split_by_time/train/turning around].\n",
      "Start to integrate [/Users/marcosesquivelgonzalez/Desktop/MasterCDatos/TFM/data/DVS_ActionRecog_dataset/events_np/train/turning around/kaibo_8.2.npz] to frames and save to [/Users/marcosesquivelgonzalez/Desktop/MasterCDatos/TFM/data/DVS_ActionRecog_dataset/frames_number_16_split_by_time/train/turning around].\n",
      "Start to integrate [/Users/marcosesquivelgonzalez/Desktop/MasterCDatos/TFM/data/DVS_ActionRecog_dataset/events_np/train/turning around/miaoshu_8.1.npz] to frames and save to [/Users/marcosesquivelgonzalez/Desktop/MasterCDatos/TFM/data/DVS_ActionRecog_dataset/frames_number_16_split_by_time/train/turning around].\n",
      "Start to integrate [/Users/marcosesquivelgonzalez/Desktop/MasterCDatos/TFM/data/DVS_ActionRecog_dataset/events_np/train/turning around/kaibo_8.1.npz] to frames and save to [/Users/marcosesquivelgonzalez/Desktop/MasterCDatos/TFM/data/DVS_ActionRecog_dataset/frames_number_16_split_by_time/train/turning around].\n",
      "Start to integrate [/Users/marcosesquivelgonzalez/Desktop/MasterCDatos/TFM/data/DVS_ActionRecog_dataset/events_np/train/turning around/tanglixuan_8.2.npz] to frames and save to [/Users/marcosesquivelgonzalez/Desktop/MasterCDatos/TFM/data/DVS_ActionRecog_dataset/frames_number_16_split_by_time/train/turning around].\n",
      "Start to integrate [/Users/marcosesquivelgonzalez/Desktop/MasterCDatos/TFM/data/DVS_ActionRecog_dataset/events_np/train/turning around/tanglixuan_8.3.npz] to frames and save to [/Users/marcosesquivelgonzalez/Desktop/MasterCDatos/TFM/data/DVS_ActionRecog_dataset/frames_number_16_split_by_time/train/turning around].\n",
      "Start to integrate [/Users/marcosesquivelgonzalez/Desktop/MasterCDatos/TFM/data/DVS_ActionRecog_dataset/events_np/train/turning around/tanglixuan_8.1.npz] to frames and save to [/Users/marcosesquivelgonzalez/Desktop/MasterCDatos/TFM/data/DVS_ActionRecog_dataset/frames_number_16_split_by_time/train/turning around].\n",
      "Start to integrate [/Users/marcosesquivelgonzalez/Desktop/MasterCDatos/TFM/data/DVS_ActionRecog_dataset/events_np/train/turning around/ziyang_8.3.npz] to frames and save to [/Users/marcosesquivelgonzalez/Desktop/MasterCDatos/TFM/data/DVS_ActionRecog_dataset/frames_number_16_split_by_time/train/turning around].\n",
      "Start to integrate [/Users/marcosesquivelgonzalez/Desktop/MasterCDatos/TFM/data/DVS_ActionRecog_dataset/events_np/train/turning around/ziyang_8.2.npz] to frames and save to [/Users/marcosesquivelgonzalez/Desktop/MasterCDatos/TFM/data/DVS_ActionRecog_dataset/frames_number_16_split_by_time/train/turning around].\n",
      "Start to integrate [/Users/marcosesquivelgonzalez/Desktop/MasterCDatos/TFM/data/DVS_ActionRecog_dataset/events_np/train/turning around/zhangliming_8.1.npz] to frames and save to [/Users/marcosesquivelgonzalez/Desktop/MasterCDatos/TFM/data/DVS_ActionRecog_dataset/frames_number_16_split_by_time/train/turning around].\n",
      "Start to integrate [/Users/marcosesquivelgonzalez/Desktop/MasterCDatos/TFM/data/DVS_ActionRecog_dataset/events_np/train/turning around/liuxingbo_8.1.npz] to frames and save to [/Users/marcosesquivelgonzalez/Desktop/MasterCDatos/TFM/data/DVS_ActionRecog_dataset/frames_number_16_split_by_time/train/turning around].\n",
      "Start to integrate [/Users/marcosesquivelgonzalez/Desktop/MasterCDatos/TFM/data/DVS_ActionRecog_dataset/events_np/train/turning around/zhangliming_8.3.npz] to frames and save to [/Users/marcosesquivelgonzalez/Desktop/MasterCDatos/TFM/data/DVS_ActionRecog_dataset/frames_number_16_split_by_time/train/turning around].\n",
      "Start to integrate [/Users/marcosesquivelgonzalez/Desktop/MasterCDatos/TFM/data/DVS_ActionRecog_dataset/events_np/train/waving/kaibo_10.3.npz] to frames and save to [/Users/marcosesquivelgonzalez/Desktop/MasterCDatos/TFM/data/DVS_ActionRecog_dataset/frames_number_16_split_by_time/train/waving].\n",
      "Start to integrate [/Users/marcosesquivelgonzalez/Desktop/MasterCDatos/TFM/data/DVS_ActionRecog_dataset/events_np/train/waving/kaibo_10.2.npz] to frames and save to [/Users/marcosesquivelgonzalez/Desktop/MasterCDatos/TFM/data/DVS_ActionRecog_dataset/frames_number_16_split_by_time/train/waving].\n",
      "Start to integrate [/Users/marcosesquivelgonzalez/Desktop/MasterCDatos/TFM/data/DVS_ActionRecog_dataset/events_np/train/waving/liuxingbo_10.1.npz] to frames and save to [/Users/marcosesquivelgonzalez/Desktop/MasterCDatos/TFM/data/DVS_ActionRecog_dataset/frames_number_16_split_by_time/train/waving].\n",
      "Start to integrate [/Users/marcosesquivelgonzalez/Desktop/MasterCDatos/TFM/data/DVS_ActionRecog_dataset/events_np/train/waving/liuxingbo_10.3.npz] to frames and save to [/Users/marcosesquivelgonzalez/Desktop/MasterCDatos/TFM/data/DVS_ActionRecog_dataset/frames_number_16_split_by_time/train/waving].\n",
      "Start to integrate [/Users/marcosesquivelgonzalez/Desktop/MasterCDatos/TFM/data/DVS_ActionRecog_dataset/events_np/train/waving/liuxingbo_10.2.npz] to frames and save to [/Users/marcosesquivelgonzalez/Desktop/MasterCDatos/TFM/data/DVS_ActionRecog_dataset/frames_number_16_split_by_time/train/waving].\n",
      "Start to integrate [/Users/marcosesquivelgonzalez/Desktop/MasterCDatos/TFM/data/DVS_ActionRecog_dataset/events_np/train/waving/houjing_10.1.npz] to frames and save to [/Users/marcosesquivelgonzalez/Desktop/MasterCDatos/TFM/data/DVS_ActionRecog_dataset/frames_number_16_split_by_time/train/waving].\n",
      "Start to integrate [/Users/marcosesquivelgonzalez/Desktop/MasterCDatos/TFM/data/DVS_ActionRecog_dataset/events_np/train/waving/houjing_10.2.npz] to frames and save to [/Users/marcosesquivelgonzalez/Desktop/MasterCDatos/TFM/data/DVS_ActionRecog_dataset/frames_number_16_split_by_time/train/waving].\n",
      "Start to integrate [/Users/marcosesquivelgonzalez/Desktop/MasterCDatos/TFM/data/DVS_ActionRecog_dataset/events_np/train/waving/houjing_10.3.npz] to frames and save to [/Users/marcosesquivelgonzalez/Desktop/MasterCDatos/TFM/data/DVS_ActionRecog_dataset/frames_number_16_split_by_time/train/waving].\n",
      "Start to integrate [/Users/marcosesquivelgonzalez/Desktop/MasterCDatos/TFM/data/DVS_ActionRecog_dataset/events_np/train/waving/chenjieneng_10.2.npz] to frames and save to [/Users/marcosesquivelgonzalez/Desktop/MasterCDatos/TFM/data/DVS_ActionRecog_dataset/frames_number_16_split_by_time/train/waving].\n",
      "Start to integrate [/Users/marcosesquivelgonzalez/Desktop/MasterCDatos/TFM/data/DVS_ActionRecog_dataset/events_np/train/waving/chenjieneng_10.3.npz] to frames and save to [/Users/marcosesquivelgonzalez/Desktop/MasterCDatos/TFM/data/DVS_ActionRecog_dataset/frames_number_16_split_by_time/train/waving].\n",
      "Start to integrate [/Users/marcosesquivelgonzalez/Desktop/MasterCDatos/TFM/data/DVS_ActionRecog_dataset/events_np/train/waving/miaoshu_10.2.npz] to frames and save to [/Users/marcosesquivelgonzalez/Desktop/MasterCDatos/TFM/data/DVS_ActionRecog_dataset/frames_number_16_split_by_time/train/waving].\n",
      "Start to integrate [/Users/marcosesquivelgonzalez/Desktop/MasterCDatos/TFM/data/DVS_ActionRecog_dataset/events_np/train/waving/zhangliming_10.2.npz] to frames and save to [/Users/marcosesquivelgonzalez/Desktop/MasterCDatos/TFM/data/DVS_ActionRecog_dataset/frames_number_16_split_by_time/train/waving].\n",
      "Start to integrate [/Users/marcosesquivelgonzalez/Desktop/MasterCDatos/TFM/data/DVS_ActionRecog_dataset/events_np/train/waving/chenjieneng_10.1.npz] to frames and save to [/Users/marcosesquivelgonzalez/Desktop/MasterCDatos/TFM/data/DVS_ActionRecog_dataset/frames_number_16_split_by_time/train/waving].\n",
      "Start to integrate [/Users/marcosesquivelgonzalez/Desktop/MasterCDatos/TFM/data/DVS_ActionRecog_dataset/events_np/train/waving/miaoshu_10.1.npz] to frames and save to [/Users/marcosesquivelgonzalez/Desktop/MasterCDatos/TFM/data/DVS_ActionRecog_dataset/frames_number_16_split_by_time/train/waving].\n",
      "Start to integrate [/Users/marcosesquivelgonzalez/Desktop/MasterCDatos/TFM/data/DVS_ActionRecog_dataset/events_np/train/waving/zhangliming_10.3.npz] to frames and save to [/Users/marcosesquivelgonzalez/Desktop/MasterCDatos/TFM/data/DVS_ActionRecog_dataset/frames_number_16_split_by_time/train/waving].\n",
      "Start to integrate [/Users/marcosesquivelgonzalez/Desktop/MasterCDatos/TFM/data/DVS_ActionRecog_dataset/events_np/train/waving/xiaohuang_10.3.npz] to frames and save to [/Users/marcosesquivelgonzalez/Desktop/MasterCDatos/TFM/data/DVS_ActionRecog_dataset/frames_number_16_split_by_time/train/waving].\n",
      "Start to integrate [/Users/marcosesquivelgonzalez/Desktop/MasterCDatos/TFM/data/DVS_ActionRecog_dataset/events_np/train/waving/ningxiangyu_10.2.npz] to frames and save to [/Users/marcosesquivelgonzalez/Desktop/MasterCDatos/TFM/data/DVS_ActionRecog_dataset/frames_number_16_split_by_time/train/waving].\n",
      "Start to integrate [/Users/marcosesquivelgonzalez/Desktop/MasterCDatos/TFM/data/DVS_ActionRecog_dataset/events_np/train/waving/ningxiangyu_10.1.npz] to frames and save to [/Users/marcosesquivelgonzalez/Desktop/MasterCDatos/TFM/data/DVS_ActionRecog_dataset/frames_number_16_split_by_time/train/waving].\n",
      "Start to integrate [/Users/marcosesquivelgonzalez/Desktop/MasterCDatos/TFM/data/DVS_ActionRecog_dataset/events_np/train/waving/tanglixuan_10.2.npz] to frames and save to [/Users/marcosesquivelgonzalez/Desktop/MasterCDatos/TFM/data/DVS_ActionRecog_dataset/frames_number_16_split_by_time/train/waving].\n",
      "Start to integrate [/Users/marcosesquivelgonzalez/Desktop/MasterCDatos/TFM/data/DVS_ActionRecog_dataset/events_np/train/waving/tanglixuan_10.3.npz] to frames and save to [/Users/marcosesquivelgonzalez/Desktop/MasterCDatos/TFM/data/DVS_ActionRecog_dataset/frames_number_16_split_by_time/train/waving].\n",
      "Start to integrate [/Users/marcosesquivelgonzalez/Desktop/MasterCDatos/TFM/data/DVS_ActionRecog_dataset/events_np/train/waving/tanglixuan_10.1.npz] to frames and save to [/Users/marcosesquivelgonzalez/Desktop/MasterCDatos/TFM/data/DVS_ActionRecog_dataset/frames_number_16_split_by_time/train/waving].\n",
      "Start to integrate [/Users/marcosesquivelgonzalez/Desktop/MasterCDatos/TFM/data/DVS_ActionRecog_dataset/events_np/train/waving/ziyang_10.3.npz] to frames and save to [/Users/marcosesquivelgonzalez/Desktop/MasterCDatos/TFM/data/DVS_ActionRecog_dataset/frames_number_16_split_by_time/train/waving].\n",
      "Start to integrate [/Users/marcosesquivelgonzalez/Desktop/MasterCDatos/TFM/data/DVS_ActionRecog_dataset/events_np/train/waving/ziyang_10.2.npz] to frames and save to [/Users/marcosesquivelgonzalez/Desktop/MasterCDatos/TFM/data/DVS_ActionRecog_dataset/frames_number_16_split_by_time/train/waving].\n",
      "Start to integrate [/Users/marcosesquivelgonzalez/Desktop/MasterCDatos/TFM/data/DVS_ActionRecog_dataset/events_np/train/waving/ziyang_10.1.npz] to frames and save to [/Users/marcosesquivelgonzalez/Desktop/MasterCDatos/TFM/data/DVS_ActionRecog_dataset/frames_number_16_split_by_time/train/waving].\n",
      "Start to integrate [/Users/marcosesquivelgonzalez/Desktop/MasterCDatos/TFM/data/DVS_ActionRecog_dataset/events_np/train/throwing/zhangliming_7.3.npz] to frames and save to [/Users/marcosesquivelgonzalez/Desktop/MasterCDatos/TFM/data/DVS_ActionRecog_dataset/frames_number_16_split_by_time/train/throwing].\n",
      "Start to integrate [/Users/marcosesquivelgonzalez/Desktop/MasterCDatos/TFM/data/DVS_ActionRecog_dataset/events_np/train/throwing/liuxingbo_7.1.npz] to frames and save to [/Users/marcosesquivelgonzalez/Desktop/MasterCDatos/TFM/data/DVS_ActionRecog_dataset/frames_number_16_split_by_time/train/throwing].\n",
      "Start to integrate [/Users/marcosesquivelgonzalez/Desktop/MasterCDatos/TFM/data/DVS_ActionRecog_dataset/events_np/train/throwing/liuxingbo_7.3.npz] to frames and save to [/Users/marcosesquivelgonzalez/Desktop/MasterCDatos/TFM/data/DVS_ActionRecog_dataset/frames_number_16_split_by_time/train/throwing].\n",
      "Start to integrate [/Users/marcosesquivelgonzalez/Desktop/MasterCDatos/TFM/data/DVS_ActionRecog_dataset/events_np/train/throwing/ziyang_7.3.npz] to frames and save to [/Users/marcosesquivelgonzalez/Desktop/MasterCDatos/TFM/data/DVS_ActionRecog_dataset/frames_number_16_split_by_time/train/throwing].\n",
      "Start to integrate [/Users/marcosesquivelgonzalez/Desktop/MasterCDatos/TFM/data/DVS_ActionRecog_dataset/events_np/train/throwing/ziyang_7.2.npz] to frames and save to [/Users/marcosesquivelgonzalez/Desktop/MasterCDatos/TFM/data/DVS_ActionRecog_dataset/frames_number_16_split_by_time/train/throwing].\n",
      "Start to integrate [/Users/marcosesquivelgonzalez/Desktop/MasterCDatos/TFM/data/DVS_ActionRecog_dataset/events_np/train/throwing/ziyang_7.1.npz] to frames and save to [/Users/marcosesquivelgonzalez/Desktop/MasterCDatos/TFM/data/DVS_ActionRecog_dataset/frames_number_16_split_by_time/train/throwing].\n",
      "Start to integrate [/Users/marcosesquivelgonzalez/Desktop/MasterCDatos/TFM/data/DVS_ActionRecog_dataset/events_np/train/throwing/ningxiangyu_7.3.npz] to frames and save to [/Users/marcosesquivelgonzalez/Desktop/MasterCDatos/TFM/data/DVS_ActionRecog_dataset/frames_number_16_split_by_time/train/throwing].\n",
      "Start to integrate [/Users/marcosesquivelgonzalez/Desktop/MasterCDatos/TFM/data/DVS_ActionRecog_dataset/events_np/train/throwing/chenjieneng_7.1.npz] to frames and save to [/Users/marcosesquivelgonzalez/Desktop/MasterCDatos/TFM/data/DVS_ActionRecog_dataset/frames_number_16_split_by_time/train/throwing].\n",
      "Start to integrate [/Users/marcosesquivelgonzalez/Desktop/MasterCDatos/TFM/data/DVS_ActionRecog_dataset/events_np/train/throwing/xiaohuang_7.1.npz] to frames and save to [/Users/marcosesquivelgonzalez/Desktop/MasterCDatos/TFM/data/DVS_ActionRecog_dataset/frames_number_16_split_by_time/train/throwing].\n",
      "Start to integrate [/Users/marcosesquivelgonzalez/Desktop/MasterCDatos/TFM/data/DVS_ActionRecog_dataset/events_np/train/throwing/ningxiangyu_7.2.npz] to frames and save to [/Users/marcosesquivelgonzalez/Desktop/MasterCDatos/TFM/data/DVS_ActionRecog_dataset/frames_number_16_split_by_time/train/throwing].\n",
      "Start to integrate [/Users/marcosesquivelgonzalez/Desktop/MasterCDatos/TFM/data/DVS_ActionRecog_dataset/events_np/train/throwing/xiaohuang_7.3.npz] to frames and save to [/Users/marcosesquivelgonzalez/Desktop/MasterCDatos/TFM/data/DVS_ActionRecog_dataset/frames_number_16_split_by_time/train/throwing].\n",
      "Start to integrate [/Users/marcosesquivelgonzalez/Desktop/MasterCDatos/TFM/data/DVS_ActionRecog_dataset/events_np/train/throwing/houjing_7.2.npz] to frames and save to [/Users/marcosesquivelgonzalez/Desktop/MasterCDatos/TFM/data/DVS_ActionRecog_dataset/frames_number_16_split_by_time/train/throwing].\n",
      "Start to integrate [/Users/marcosesquivelgonzalez/Desktop/MasterCDatos/TFM/data/DVS_ActionRecog_dataset/events_np/train/throwing/chenjieneng_7.3.npz] to frames and save to [/Users/marcosesquivelgonzalez/Desktop/MasterCDatos/TFM/data/DVS_ActionRecog_dataset/frames_number_16_split_by_time/train/throwing].\n",
      "Start to integrate [/Users/marcosesquivelgonzalez/Desktop/MasterCDatos/TFM/data/DVS_ActionRecog_dataset/events_np/train/throwing/houjing_7.3.npz] to frames and save to [/Users/marcosesquivelgonzalez/Desktop/MasterCDatos/TFM/data/DVS_ActionRecog_dataset/frames_number_16_split_by_time/train/throwing].\n",
      "Start to integrate [/Users/marcosesquivelgonzalez/Desktop/MasterCDatos/TFM/data/DVS_ActionRecog_dataset/events_np/train/throwing/xiaohuang_7.2.npz] to frames and save to [/Users/marcosesquivelgonzalez/Desktop/MasterCDatos/TFM/data/DVS_ActionRecog_dataset/frames_number_16_split_by_time/train/throwing].\n",
      "Start to integrate [/Users/marcosesquivelgonzalez/Desktop/MasterCDatos/TFM/data/DVS_ActionRecog_dataset/events_np/train/throwing/ningxiangyu_7.1.npz] to frames and save to [/Users/marcosesquivelgonzalez/Desktop/MasterCDatos/TFM/data/DVS_ActionRecog_dataset/frames_number_16_split_by_time/train/throwing].\n",
      "Start to integrate [/Users/marcosesquivelgonzalez/Desktop/MasterCDatos/TFM/data/DVS_ActionRecog_dataset/events_np/train/throwing/tanglixuan_7.1.npz] to frames and save to [/Users/marcosesquivelgonzalez/Desktop/MasterCDatos/TFM/data/DVS_ActionRecog_dataset/frames_number_16_split_by_time/train/throwing].\n",
      "Start to integrate [/Users/marcosesquivelgonzalez/Desktop/MasterCDatos/TFM/data/DVS_ActionRecog_dataset/events_np/train/throwing/tanglixuan_7.2.npz] to frames and save to [/Users/marcosesquivelgonzalez/Desktop/MasterCDatos/TFM/data/DVS_ActionRecog_dataset/frames_number_16_split_by_time/train/throwing].\n",
      "Start to integrate [/Users/marcosesquivelgonzalez/Desktop/MasterCDatos/TFM/data/DVS_ActionRecog_dataset/events_np/train/throwing/kaibo_7.1.npz] to frames and save to [/Users/marcosesquivelgonzalez/Desktop/MasterCDatos/TFM/data/DVS_ActionRecog_dataset/frames_number_16_split_by_time/train/throwing].\n",
      "Start to integrate [/Users/marcosesquivelgonzalez/Desktop/MasterCDatos/TFM/data/DVS_ActionRecog_dataset/events_np/train/throwing/miaoshu_7.1.npz] to frames and save to [/Users/marcosesquivelgonzalez/Desktop/MasterCDatos/TFM/data/DVS_ActionRecog_dataset/frames_number_16_split_by_time/train/throwing].\n",
      "Start to integrate [/Users/marcosesquivelgonzalez/Desktop/MasterCDatos/TFM/data/DVS_ActionRecog_dataset/events_np/train/throwing/miaoshu_7.3.npz] to frames and save to [/Users/marcosesquivelgonzalez/Desktop/MasterCDatos/TFM/data/DVS_ActionRecog_dataset/frames_number_16_split_by_time/train/throwing].\n",
      "Start to integrate [/Users/marcosesquivelgonzalez/Desktop/MasterCDatos/TFM/data/DVS_ActionRecog_dataset/events_np/train/throwing/kaibo_7.3.npz] to frames and save to [/Users/marcosesquivelgonzalez/Desktop/MasterCDatos/TFM/data/DVS_ActionRecog_dataset/frames_number_16_split_by_time/train/throwing].\n",
      "Start to integrate [/Users/marcosesquivelgonzalez/Desktop/MasterCDatos/TFM/data/DVS_ActionRecog_dataset/events_np/train/throwing/kaibo_7.2.npz] to frames and save to [/Users/marcosesquivelgonzalez/Desktop/MasterCDatos/TFM/data/DVS_ActionRecog_dataset/frames_number_16_split_by_time/train/throwing].\n",
      "Start to integrate [/Users/marcosesquivelgonzalez/Desktop/MasterCDatos/TFM/data/DVS_ActionRecog_dataset/events_np/train/throwing/miaoshu_7.2.npz] to frames and save to [/Users/marcosesquivelgonzalez/Desktop/MasterCDatos/TFM/data/DVS_ActionRecog_dataset/frames_number_16_split_by_time/train/throwing].\n",
      "Start to integrate [/Users/marcosesquivelgonzalez/Desktop/MasterCDatos/TFM/data/DVS_ActionRecog_dataset/events_np/train/walking/kaibo_9.1.npz] to frames and save to [/Users/marcosesquivelgonzalez/Desktop/MasterCDatos/TFM/data/DVS_ActionRecog_dataset/frames_number_16_split_by_time/train/walking].\n",
      "Start to integrate [/Users/marcosesquivelgonzalez/Desktop/MasterCDatos/TFM/data/DVS_ActionRecog_dataset/events_np/train/walking/miaoshu_9.1.npz] to frames and save to [/Users/marcosesquivelgonzalez/Desktop/MasterCDatos/TFM/data/DVS_ActionRecog_dataset/frames_number_16_split_by_time/train/walking].\n",
      "Start to integrate [/Users/marcosesquivelgonzalez/Desktop/MasterCDatos/TFM/data/DVS_ActionRecog_dataset/events_np/train/walking/miaoshu_9.3.npz] to frames and save to [/Users/marcosesquivelgonzalez/Desktop/MasterCDatos/TFM/data/DVS_ActionRecog_dataset/frames_number_16_split_by_time/train/walking].\n",
      "Start to integrate [/Users/marcosesquivelgonzalez/Desktop/MasterCDatos/TFM/data/DVS_ActionRecog_dataset/events_np/train/walking/kaibo_9.2.npz] to frames and save to [/Users/marcosesquivelgonzalez/Desktop/MasterCDatos/TFM/data/DVS_ActionRecog_dataset/frames_number_16_split_by_time/train/walking].\n",
      "Start to integrate [/Users/marcosesquivelgonzalez/Desktop/MasterCDatos/TFM/data/DVS_ActionRecog_dataset/events_np/train/walking/miaoshu_9.2.npz] to frames and save to [/Users/marcosesquivelgonzalez/Desktop/MasterCDatos/TFM/data/DVS_ActionRecog_dataset/frames_number_16_split_by_time/train/walking].\n",
      "Start to integrate [/Users/marcosesquivelgonzalez/Desktop/MasterCDatos/TFM/data/DVS_ActionRecog_dataset/events_np/train/walking/tanglixuan_9.1.npz] to frames and save to [/Users/marcosesquivelgonzalez/Desktop/MasterCDatos/TFM/data/DVS_ActionRecog_dataset/frames_number_16_split_by_time/train/walking].\n",
      "Start to integrate [/Users/marcosesquivelgonzalez/Desktop/MasterCDatos/TFM/data/DVS_ActionRecog_dataset/events_np/train/walking/tanglixuan_9.2.npz] to frames and save to [/Users/marcosesquivelgonzalez/Desktop/MasterCDatos/TFM/data/DVS_ActionRecog_dataset/frames_number_16_split_by_time/train/walking].\n",
      "Start to integrate [/Users/marcosesquivelgonzalez/Desktop/MasterCDatos/TFM/data/DVS_ActionRecog_dataset/events_np/train/walking/tanglixuan_9.3.npz] to frames and save to [/Users/marcosesquivelgonzalez/Desktop/MasterCDatos/TFM/data/DVS_ActionRecog_dataset/frames_number_16_split_by_time/train/walking].\n",
      "Start to integrate [/Users/marcosesquivelgonzalez/Desktop/MasterCDatos/TFM/data/DVS_ActionRecog_dataset/events_np/train/walking/ningxiangyu_9.3.npz] to frames and save to [/Users/marcosesquivelgonzalez/Desktop/MasterCDatos/TFM/data/DVS_ActionRecog_dataset/frames_number_16_split_by_time/train/walking].\n",
      "Start to integrate [/Users/marcosesquivelgonzalez/Desktop/MasterCDatos/TFM/data/DVS_ActionRecog_dataset/events_np/train/walking/houjing_9.1.npz] to frames and save to [/Users/marcosesquivelgonzalez/Desktop/MasterCDatos/TFM/data/DVS_ActionRecog_dataset/frames_number_16_split_by_time/train/walking].\n",
      "Start to integrate [/Users/marcosesquivelgonzalez/Desktop/MasterCDatos/TFM/data/DVS_ActionRecog_dataset/events_np/train/walking/xiaohuang_9.1.npz] to frames and save to [/Users/marcosesquivelgonzalez/Desktop/MasterCDatos/TFM/data/DVS_ActionRecog_dataset/frames_number_16_split_by_time/train/walking].\n",
      "Start to integrate [/Users/marcosesquivelgonzalez/Desktop/MasterCDatos/TFM/data/DVS_ActionRecog_dataset/events_np/train/walking/houjing_9.2.npz] to frames and save to [/Users/marcosesquivelgonzalez/Desktop/MasterCDatos/TFM/data/DVS_ActionRecog_dataset/frames_number_16_split_by_time/train/walking].\n",
      "Start to integrate [/Users/marcosesquivelgonzalez/Desktop/MasterCDatos/TFM/data/DVS_ActionRecog_dataset/events_np/train/walking/xiaohuang_9.3.npz] to frames and save to [/Users/marcosesquivelgonzalez/Desktop/MasterCDatos/TFM/data/DVS_ActionRecog_dataset/frames_number_16_split_by_time/train/walking].\n",
      "Start to integrate [/Users/marcosesquivelgonzalez/Desktop/MasterCDatos/TFM/data/DVS_ActionRecog_dataset/events_np/train/walking/chenjieneng_9.3.npz] to frames and save to [/Users/marcosesquivelgonzalez/Desktop/MasterCDatos/TFM/data/DVS_ActionRecog_dataset/frames_number_16_split_by_time/train/walking].\n",
      "Start to integrate [/Users/marcosesquivelgonzalez/Desktop/MasterCDatos/TFM/data/DVS_ActionRecog_dataset/events_np/train/walking/chenjieneng_9.2.npz] to frames and save to [/Users/marcosesquivelgonzalez/Desktop/MasterCDatos/TFM/data/DVS_ActionRecog_dataset/frames_number_16_split_by_time/train/walking].\n",
      "Start to integrate [/Users/marcosesquivelgonzalez/Desktop/MasterCDatos/TFM/data/DVS_ActionRecog_dataset/events_np/train/walking/houjing_9.3.npz] to frames and save to [/Users/marcosesquivelgonzalez/Desktop/MasterCDatos/TFM/data/DVS_ActionRecog_dataset/frames_number_16_split_by_time/train/walking].\n",
      "Start to integrate [/Users/marcosesquivelgonzalez/Desktop/MasterCDatos/TFM/data/DVS_ActionRecog_dataset/events_np/train/walking/ningxiangyu_9.1.npz] to frames and save to [/Users/marcosesquivelgonzalez/Desktop/MasterCDatos/TFM/data/DVS_ActionRecog_dataset/frames_number_16_split_by_time/train/walking].\n",
      "Start to integrate [/Users/marcosesquivelgonzalez/Desktop/MasterCDatos/TFM/data/DVS_ActionRecog_dataset/events_np/train/walking/ziyang_9.3.npz] to frames and save to [/Users/marcosesquivelgonzalez/Desktop/MasterCDatos/TFM/data/DVS_ActionRecog_dataset/frames_number_16_split_by_time/train/walking].\n",
      "Start to integrate [/Users/marcosesquivelgonzalez/Desktop/MasterCDatos/TFM/data/DVS_ActionRecog_dataset/events_np/train/walking/liuxingbo_9.1.npz] to frames and save to [/Users/marcosesquivelgonzalez/Desktop/MasterCDatos/TFM/data/DVS_ActionRecog_dataset/frames_number_16_split_by_time/train/walking].\n",
      "Start to integrate [/Users/marcosesquivelgonzalez/Desktop/MasterCDatos/TFM/data/DVS_ActionRecog_dataset/events_np/train/walking/zhangliming_9.3.npz] to frames and save to [/Users/marcosesquivelgonzalez/Desktop/MasterCDatos/TFM/data/DVS_ActionRecog_dataset/frames_number_16_split_by_time/train/walking].\n",
      "Start to integrate [/Users/marcosesquivelgonzalez/Desktop/MasterCDatos/TFM/data/DVS_ActionRecog_dataset/events_np/train/walking/zhangliming_9.2.npz] to frames and save to [/Users/marcosesquivelgonzalez/Desktop/MasterCDatos/TFM/data/DVS_ActionRecog_dataset/frames_number_16_split_by_time/train/walking].\n",
      "Start to integrate [/Users/marcosesquivelgonzalez/Desktop/MasterCDatos/TFM/data/DVS_ActionRecog_dataset/events_np/train/walking/liuxingbo_9.2.npz] to frames and save to [/Users/marcosesquivelgonzalez/Desktop/MasterCDatos/TFM/data/DVS_ActionRecog_dataset/frames_number_16_split_by_time/train/walking].\n",
      "Start to integrate [/Users/marcosesquivelgonzalez/Desktop/MasterCDatos/TFM/data/DVS_ActionRecog_dataset/events_np/train/walking/zhangliming_9.1.npz] to frames and save to [/Users/marcosesquivelgonzalez/Desktop/MasterCDatos/TFM/data/DVS_ActionRecog_dataset/frames_number_16_split_by_time/train/walking].\n",
      "Start to integrate [/Users/marcosesquivelgonzalez/Desktop/MasterCDatos/TFM/data/DVS_ActionRecog_dataset/events_np/train/walking/liuxingbo_9.3.npz] to frames and save to [/Users/marcosesquivelgonzalez/Desktop/MasterCDatos/TFM/data/DVS_ActionRecog_dataset/frames_number_16_split_by_time/train/walking].\n",
      "Start to integrate [/Users/marcosesquivelgonzalez/Desktop/MasterCDatos/TFM/data/DVS_ActionRecog_dataset/events_np/train/kicking/ziyang_3.1.npz] to frames and save to [/Users/marcosesquivelgonzalez/Desktop/MasterCDatos/TFM/data/DVS_ActionRecog_dataset/frames_number_16_split_by_time/train/kicking].\n",
      "Start to integrate [/Users/marcosesquivelgonzalez/Desktop/MasterCDatos/TFM/data/DVS_ActionRecog_dataset/events_np/train/kicking/ziyang_3.2.npz] to frames and save to [/Users/marcosesquivelgonzalez/Desktop/MasterCDatos/TFM/data/DVS_ActionRecog_dataset/frames_number_16_split_by_time/train/kicking].\n",
      "Start to integrate [/Users/marcosesquivelgonzalez/Desktop/MasterCDatos/TFM/data/DVS_ActionRecog_dataset/events_np/train/kicking/ziyang_3.3.npz] to frames and save to [/Users/marcosesquivelgonzalez/Desktop/MasterCDatos/TFM/data/DVS_ActionRecog_dataset/frames_number_16_split_by_time/train/kicking].\n",
      "Start to integrate [/Users/marcosesquivelgonzalez/Desktop/MasterCDatos/TFM/data/DVS_ActionRecog_dataset/events_np/train/kicking/zhangliming_3.1.npz] to frames and save to [/Users/marcosesquivelgonzalez/Desktop/MasterCDatos/TFM/data/DVS_ActionRecog_dataset/frames_number_16_split_by_time/train/kicking].\n",
      "Start to integrate [/Users/marcosesquivelgonzalez/Desktop/MasterCDatos/TFM/data/DVS_ActionRecog_dataset/events_np/train/kicking/liuxingbo_3.3.npz] to frames and save to [/Users/marcosesquivelgonzalez/Desktop/MasterCDatos/TFM/data/DVS_ActionRecog_dataset/frames_number_16_split_by_time/train/kicking].\n",
      "Start to integrate [/Users/marcosesquivelgonzalez/Desktop/MasterCDatos/TFM/data/DVS_ActionRecog_dataset/events_np/train/kicking/zhangliming_3.2.npz] to frames and save to [/Users/marcosesquivelgonzalez/Desktop/MasterCDatos/TFM/data/DVS_ActionRecog_dataset/frames_number_16_split_by_time/train/kicking].\n",
      "Start to integrate [/Users/marcosesquivelgonzalez/Desktop/MasterCDatos/TFM/data/DVS_ActionRecog_dataset/events_np/train/kicking/liuxingbo_3.1.npz] to frames and save to [/Users/marcosesquivelgonzalez/Desktop/MasterCDatos/TFM/data/DVS_ActionRecog_dataset/frames_number_16_split_by_time/train/kicking].\n",
      "Start to integrate [/Users/marcosesquivelgonzalez/Desktop/MasterCDatos/TFM/data/DVS_ActionRecog_dataset/events_np/train/kicking/zhangliming_3.3.npz] to frames and save to [/Users/marcosesquivelgonzalez/Desktop/MasterCDatos/TFM/data/DVS_ActionRecog_dataset/frames_number_16_split_by_time/train/kicking].\n",
      "Start to integrate [/Users/marcosesquivelgonzalez/Desktop/MasterCDatos/TFM/data/DVS_ActionRecog_dataset/events_np/train/kicking/ningxiangyu_3.1.npz] to frames and save to [/Users/marcosesquivelgonzalez/Desktop/MasterCDatos/TFM/data/DVS_ActionRecog_dataset/frames_number_16_split_by_time/train/kicking].\n",
      "Start to integrate [/Users/marcosesquivelgonzalez/Desktop/MasterCDatos/TFM/data/DVS_ActionRecog_dataset/events_np/train/kicking/xiaohuang_3.2.npz] to frames and save to [/Users/marcosesquivelgonzalez/Desktop/MasterCDatos/TFM/data/DVS_ActionRecog_dataset/frames_number_16_split_by_time/train/kicking].\n",
      "Start to integrate [/Users/marcosesquivelgonzalez/Desktop/MasterCDatos/TFM/data/DVS_ActionRecog_dataset/events_np/train/kicking/houjing_3.2.npz] to frames and save to [/Users/marcosesquivelgonzalez/Desktop/MasterCDatos/TFM/data/DVS_ActionRecog_dataset/frames_number_16_split_by_time/train/kicking].\n",
      "Start to integrate [/Users/marcosesquivelgonzalez/Desktop/MasterCDatos/TFM/data/DVS_ActionRecog_dataset/events_np/train/kicking/xiaohuang_3.3.npz] to frames and save to [/Users/marcosesquivelgonzalez/Desktop/MasterCDatos/TFM/data/DVS_ActionRecog_dataset/frames_number_16_split_by_time/train/kicking].\n",
      "Start to integrate [/Users/marcosesquivelgonzalez/Desktop/MasterCDatos/TFM/data/DVS_ActionRecog_dataset/events_np/train/kicking/chenjieneng_3.1.npz] to frames and save to [/Users/marcosesquivelgonzalez/Desktop/MasterCDatos/TFM/data/DVS_ActionRecog_dataset/frames_number_16_split_by_time/train/kicking].\n",
      "Start to integrate [/Users/marcosesquivelgonzalez/Desktop/MasterCDatos/TFM/data/DVS_ActionRecog_dataset/events_np/train/kicking/ningxiangyu_3.2.npz] to frames and save to [/Users/marcosesquivelgonzalez/Desktop/MasterCDatos/TFM/data/DVS_ActionRecog_dataset/frames_number_16_split_by_time/train/kicking].\n",
      "Start to integrate [/Users/marcosesquivelgonzalez/Desktop/MasterCDatos/TFM/data/DVS_ActionRecog_dataset/events_np/train/kicking/xiaohuang_3.1.npz] to frames and save to [/Users/marcosesquivelgonzalez/Desktop/MasterCDatos/TFM/data/DVS_ActionRecog_dataset/frames_number_16_split_by_time/train/kicking].\n",
      "Start to integrate [/Users/marcosesquivelgonzalez/Desktop/MasterCDatos/TFM/data/DVS_ActionRecog_dataset/events_np/train/kicking/houjing_3.1.npz] to frames and save to [/Users/marcosesquivelgonzalez/Desktop/MasterCDatos/TFM/data/DVS_ActionRecog_dataset/frames_number_16_split_by_time/train/kicking].\n",
      "Start to integrate [/Users/marcosesquivelgonzalez/Desktop/MasterCDatos/TFM/data/DVS_ActionRecog_dataset/events_np/train/kicking/ningxiangyu_3.3.npz] to frames and save to [/Users/marcosesquivelgonzalez/Desktop/MasterCDatos/TFM/data/DVS_ActionRecog_dataset/frames_number_16_split_by_time/train/kicking].\n",
      "Start to integrate [/Users/marcosesquivelgonzalez/Desktop/MasterCDatos/TFM/data/DVS_ActionRecog_dataset/events_np/train/kicking/kaibo_3.2.npz] to frames and save to [/Users/marcosesquivelgonzalez/Desktop/MasterCDatos/TFM/data/DVS_ActionRecog_dataset/frames_number_16_split_by_time/train/kicking].\n",
      "Start to integrate [/Users/marcosesquivelgonzalez/Desktop/MasterCDatos/TFM/data/DVS_ActionRecog_dataset/events_np/train/kicking/miaoshu_3.2.npz] to frames and save to [/Users/marcosesquivelgonzalez/Desktop/MasterCDatos/TFM/data/DVS_ActionRecog_dataset/frames_number_16_split_by_time/train/kicking].\n",
      "Start to integrate [/Users/marcosesquivelgonzalez/Desktop/MasterCDatos/TFM/data/DVS_ActionRecog_dataset/events_np/train/kicking/miaoshu_3.3.npz] to frames and save to [/Users/marcosesquivelgonzalez/Desktop/MasterCDatos/TFM/data/DVS_ActionRecog_dataset/frames_number_16_split_by_time/train/kicking].\n",
      "Start to integrate [/Users/marcosesquivelgonzalez/Desktop/MasterCDatos/TFM/data/DVS_ActionRecog_dataset/events_np/train/kicking/kaibo_3.1.npz] to frames and save to [/Users/marcosesquivelgonzalez/Desktop/MasterCDatos/TFM/data/DVS_ActionRecog_dataset/frames_number_16_split_by_time/train/kicking].\n",
      "Start to integrate [/Users/marcosesquivelgonzalez/Desktop/MasterCDatos/TFM/data/DVS_ActionRecog_dataset/events_np/train/kicking/tanglixuan_3.3.npz] to frames and save to [/Users/marcosesquivelgonzalez/Desktop/MasterCDatos/TFM/data/DVS_ActionRecog_dataset/frames_number_16_split_by_time/train/kicking].\n",
      "Start to integrate [/Users/marcosesquivelgonzalez/Desktop/MasterCDatos/TFM/data/DVS_ActionRecog_dataset/events_np/train/kicking/tanglixuan_3.2.npz] to frames and save to [/Users/marcosesquivelgonzalez/Desktop/MasterCDatos/TFM/data/DVS_ActionRecog_dataset/frames_number_16_split_by_time/train/kicking].\n",
      "Start to integrate [/Users/marcosesquivelgonzalez/Desktop/MasterCDatos/TFM/data/DVS_ActionRecog_dataset/events_np/train/kicking/tanglixuan_3.1.npz] to frames and save to [/Users/marcosesquivelgonzalez/Desktop/MasterCDatos/TFM/data/DVS_ActionRecog_dataset/frames_number_16_split_by_time/train/kicking].\n",
      "Start to integrate [/Users/marcosesquivelgonzalez/Desktop/MasterCDatos/TFM/data/DVS_ActionRecog_dataset/events_np/train/arm crossing/ziyang_1.3.npz] to frames and save to [/Users/marcosesquivelgonzalez/Desktop/MasterCDatos/TFM/data/DVS_ActionRecog_dataset/frames_number_16_split_by_time/train/arm crossing].\n",
      "Start to integrate [/Users/marcosesquivelgonzalez/Desktop/MasterCDatos/TFM/data/DVS_ActionRecog_dataset/events_np/train/arm crossing/ziyang_1.2.npz] to frames and save to [/Users/marcosesquivelgonzalez/Desktop/MasterCDatos/TFM/data/DVS_ActionRecog_dataset/frames_number_16_split_by_time/train/arm crossing].\n",
      "Start to integrate [/Users/marcosesquivelgonzalez/Desktop/MasterCDatos/TFM/data/DVS_ActionRecog_dataset/events_np/train/arm crossing/ziyang_1.1.npz] to frames and save to [/Users/marcosesquivelgonzalez/Desktop/MasterCDatos/TFM/data/DVS_ActionRecog_dataset/frames_number_16_split_by_time/train/arm crossing].\n",
      "Start to integrate [/Users/marcosesquivelgonzalez/Desktop/MasterCDatos/TFM/data/DVS_ActionRecog_dataset/events_np/train/arm crossing/zhangliming_1.3.npz] to frames and save to [/Users/marcosesquivelgonzalez/Desktop/MasterCDatos/TFM/data/DVS_ActionRecog_dataset/frames_number_16_split_by_time/train/arm crossing].\n",
      "Start to integrate [/Users/marcosesquivelgonzalez/Desktop/MasterCDatos/TFM/data/DVS_ActionRecog_dataset/events_np/train/arm crossing/liuxingbo_1.1.npz] to frames and save to [/Users/marcosesquivelgonzalez/Desktop/MasterCDatos/TFM/data/DVS_ActionRecog_dataset/frames_number_16_split_by_time/train/arm crossing].\n",
      "Start to integrate [/Users/marcosesquivelgonzalez/Desktop/MasterCDatos/TFM/data/DVS_ActionRecog_dataset/events_np/train/arm crossing/zhangliming_1.2.npz] to frames and save to [/Users/marcosesquivelgonzalez/Desktop/MasterCDatos/TFM/data/DVS_ActionRecog_dataset/frames_number_16_split_by_time/train/arm crossing].\n",
      "Start to integrate [/Users/marcosesquivelgonzalez/Desktop/MasterCDatos/TFM/data/DVS_ActionRecog_dataset/events_np/train/arm crossing/liuxingbo_1.2.npz] to frames and save to [/Users/marcosesquivelgonzalez/Desktop/MasterCDatos/TFM/data/DVS_ActionRecog_dataset/frames_number_16_split_by_time/train/arm crossing].\n",
      "Start to integrate [/Users/marcosesquivelgonzalez/Desktop/MasterCDatos/TFM/data/DVS_ActionRecog_dataset/events_np/train/arm crossing/zhangliming_1.1.npz] to frames and save to [/Users/marcosesquivelgonzalez/Desktop/MasterCDatos/TFM/data/DVS_ActionRecog_dataset/frames_number_16_split_by_time/train/arm crossing].\n",
      "Start to integrate [/Users/marcosesquivelgonzalez/Desktop/MasterCDatos/TFM/data/DVS_ActionRecog_dataset/events_np/train/arm crossing/houjing_1.1.npz] to frames and save to [/Users/marcosesquivelgonzalez/Desktop/MasterCDatos/TFM/data/DVS_ActionRecog_dataset/frames_number_16_split_by_time/train/arm crossing].\n",
      "Start to integrate [/Users/marcosesquivelgonzalez/Desktop/MasterCDatos/TFM/data/DVS_ActionRecog_dataset/events_np/train/arm crossing/ningxiangyu_1.3.npz] to frames and save to [/Users/marcosesquivelgonzalez/Desktop/MasterCDatos/TFM/data/DVS_ActionRecog_dataset/frames_number_16_split_by_time/train/arm crossing].\n",
      "Start to integrate [/Users/marcosesquivelgonzalez/Desktop/MasterCDatos/TFM/data/DVS_ActionRecog_dataset/events_np/train/arm crossing/ningxiangyu_1.2.npz] to frames and save to [/Users/marcosesquivelgonzalez/Desktop/MasterCDatos/TFM/data/DVS_ActionRecog_dataset/frames_number_16_split_by_time/train/arm crossing].\n",
      "Start to integrate [/Users/marcosesquivelgonzalez/Desktop/MasterCDatos/TFM/data/DVS_ActionRecog_dataset/events_np/train/arm crossing/chenjieneng_1.1.npz] to frames and save to [/Users/marcosesquivelgonzalez/Desktop/MasterCDatos/TFM/data/DVS_ActionRecog_dataset/frames_number_16_split_by_time/train/arm crossing].\n",
      "Start to integrate [/Users/marcosesquivelgonzalez/Desktop/MasterCDatos/TFM/data/DVS_ActionRecog_dataset/events_np/train/arm crossing/chenjieneng_1.3.npz] to frames and save to [/Users/marcosesquivelgonzalez/Desktop/MasterCDatos/TFM/data/DVS_ActionRecog_dataset/frames_number_16_split_by_time/train/arm crossing].\n",
      "Start to integrate [/Users/marcosesquivelgonzalez/Desktop/MasterCDatos/TFM/data/DVS_ActionRecog_dataset/events_np/train/arm crossing/xiaohuang_1.3.npz] to frames and save to [/Users/marcosesquivelgonzalez/Desktop/MasterCDatos/TFM/data/DVS_ActionRecog_dataset/frames_number_16_split_by_time/train/arm crossing].\n",
      "Start to integrate [/Users/marcosesquivelgonzalez/Desktop/MasterCDatos/TFM/data/DVS_ActionRecog_dataset/events_np/train/arm crossing/houjing_1.2.npz] to frames and save to [/Users/marcosesquivelgonzalez/Desktop/MasterCDatos/TFM/data/DVS_ActionRecog_dataset/frames_number_16_split_by_time/train/arm crossing].\n",
      "Start to integrate [/Users/marcosesquivelgonzalez/Desktop/MasterCDatos/TFM/data/DVS_ActionRecog_dataset/events_np/train/arm crossing/ningxiangyu_1.1.npz] to frames and save to [/Users/marcosesquivelgonzalez/Desktop/MasterCDatos/TFM/data/DVS_ActionRecog_dataset/frames_number_16_split_by_time/train/arm crossing].\n",
      "Start to integrate [/Users/marcosesquivelgonzalez/Desktop/MasterCDatos/TFM/data/DVS_ActionRecog_dataset/events_np/train/arm crossing/houjing_1.3.npz] to frames and save to [/Users/marcosesquivelgonzalez/Desktop/MasterCDatos/TFM/data/DVS_ActionRecog_dataset/frames_number_16_split_by_time/train/arm crossing].\n",
      "Start to integrate [/Users/marcosesquivelgonzalez/Desktop/MasterCDatos/TFM/data/DVS_ActionRecog_dataset/events_np/train/arm crossing/kaibo_1.1.npz] to frames and save to [/Users/marcosesquivelgonzalez/Desktop/MasterCDatos/TFM/data/DVS_ActionRecog_dataset/frames_number_16_split_by_time/train/arm crossing].\n",
      "Start to integrate [/Users/marcosesquivelgonzalez/Desktop/MasterCDatos/TFM/data/DVS_ActionRecog_dataset/events_np/train/arm crossing/kaibo_1.3.npz] to frames and save to [/Users/marcosesquivelgonzalez/Desktop/MasterCDatos/TFM/data/DVS_ActionRecog_dataset/frames_number_16_split_by_time/train/arm crossing].\n",
      "Start to integrate [/Users/marcosesquivelgonzalez/Desktop/MasterCDatos/TFM/data/DVS_ActionRecog_dataset/events_np/train/arm crossing/miaoshu_1.3.npz] to frames and save to [/Users/marcosesquivelgonzalez/Desktop/MasterCDatos/TFM/data/DVS_ActionRecog_dataset/frames_number_16_split_by_time/train/arm crossing].\n",
      "Start to integrate [/Users/marcosesquivelgonzalez/Desktop/MasterCDatos/TFM/data/DVS_ActionRecog_dataset/events_np/train/arm crossing/miaoshu_1.2.npz] to frames and save to [/Users/marcosesquivelgonzalez/Desktop/MasterCDatos/TFM/data/DVS_ActionRecog_dataset/frames_number_16_split_by_time/train/arm crossing].\n",
      "Start to integrate [/Users/marcosesquivelgonzalez/Desktop/MasterCDatos/TFM/data/DVS_ActionRecog_dataset/events_np/train/arm crossing/kaibo_1.2.npz] to frames and save to [/Users/marcosesquivelgonzalez/Desktop/MasterCDatos/TFM/data/DVS_ActionRecog_dataset/frames_number_16_split_by_time/train/arm crossing].\n",
      "Start to integrate [/Users/marcosesquivelgonzalez/Desktop/MasterCDatos/TFM/data/DVS_ActionRecog_dataset/events_np/train/arm crossing/tanglixuan_1.2.npz] to frames and save to [/Users/marcosesquivelgonzalez/Desktop/MasterCDatos/TFM/data/DVS_ActionRecog_dataset/frames_number_16_split_by_time/train/arm crossing].\n",
      "Start to integrate [/Users/marcosesquivelgonzalez/Desktop/MasterCDatos/TFM/data/DVS_ActionRecog_dataset/events_np/train/arm crossing/tanglixuan_1.3.npz] to frames and save to [/Users/marcosesquivelgonzalez/Desktop/MasterCDatos/TFM/data/DVS_ActionRecog_dataset/frames_number_16_split_by_time/train/arm crossing].\n",
      "Start to integrate [/Users/marcosesquivelgonzalez/Desktop/MasterCDatos/TFM/data/DVS_ActionRecog_dataset/events_np/train/jumping/zhangliming_5.1.npz] to frames and save to [/Users/marcosesquivelgonzalez/Desktop/MasterCDatos/TFM/data/DVS_ActionRecog_dataset/frames_number_16_split_by_time/train/jumping].\n",
      "Start to integrate [/Users/marcosesquivelgonzalez/Desktop/MasterCDatos/TFM/data/DVS_ActionRecog_dataset/events_np/train/jumping/liuxingbo_5.3.npz] to frames and save to [/Users/marcosesquivelgonzalez/Desktop/MasterCDatos/TFM/data/DVS_ActionRecog_dataset/frames_number_16_split_by_time/train/jumping].\n",
      "Start to integrate [/Users/marcosesquivelgonzalez/Desktop/MasterCDatos/TFM/data/DVS_ActionRecog_dataset/events_np/train/jumping/liuxingbo_5.2.npz] to frames and save to [/Users/marcosesquivelgonzalez/Desktop/MasterCDatos/TFM/data/DVS_ActionRecog_dataset/frames_number_16_split_by_time/train/jumping].\n",
      "Start to integrate [/Users/marcosesquivelgonzalez/Desktop/MasterCDatos/TFM/data/DVS_ActionRecog_dataset/events_np/train/jumping/zhangliming_5.2.npz] to frames and save to [/Users/marcosesquivelgonzalez/Desktop/MasterCDatos/TFM/data/DVS_ActionRecog_dataset/frames_number_16_split_by_time/train/jumping].\n",
      "Start to integrate [/Users/marcosesquivelgonzalez/Desktop/MasterCDatos/TFM/data/DVS_ActionRecog_dataset/events_np/train/jumping/zhangliming_5.3.npz] to frames and save to [/Users/marcosesquivelgonzalez/Desktop/MasterCDatos/TFM/data/DVS_ActionRecog_dataset/frames_number_16_split_by_time/train/jumping].\n",
      "Start to integrate [/Users/marcosesquivelgonzalez/Desktop/MasterCDatos/TFM/data/DVS_ActionRecog_dataset/events_np/train/jumping/ziyang_5.2.npz] to frames and save to [/Users/marcosesquivelgonzalez/Desktop/MasterCDatos/TFM/data/DVS_ActionRecog_dataset/frames_number_16_split_by_time/train/jumping].\n",
      "Start to integrate [/Users/marcosesquivelgonzalez/Desktop/MasterCDatos/TFM/data/DVS_ActionRecog_dataset/events_np/train/jumping/ziyang_5.3.npz] to frames and save to [/Users/marcosesquivelgonzalez/Desktop/MasterCDatos/TFM/data/DVS_ActionRecog_dataset/frames_number_16_split_by_time/train/jumping].\n",
      "Start to integrate [/Users/marcosesquivelgonzalez/Desktop/MasterCDatos/TFM/data/DVS_ActionRecog_dataset/events_np/train/jumping/houjing_5.3.npz] to frames and save to [/Users/marcosesquivelgonzalez/Desktop/MasterCDatos/TFM/data/DVS_ActionRecog_dataset/frames_number_16_split_by_time/train/jumping].\n",
      "Start to integrate [/Users/marcosesquivelgonzalez/Desktop/MasterCDatos/TFM/data/DVS_ActionRecog_dataset/events_np/train/jumping/chenjieneng_5.2.npz] to frames and save to [/Users/marcosesquivelgonzalez/Desktop/MasterCDatos/TFM/data/DVS_ActionRecog_dataset/frames_number_16_split_by_time/train/jumping].\n",
      "Start to integrate [/Users/marcosesquivelgonzalez/Desktop/MasterCDatos/TFM/data/DVS_ActionRecog_dataset/events_np/train/jumping/chenjieneng_5.3.npz] to frames and save to [/Users/marcosesquivelgonzalez/Desktop/MasterCDatos/TFM/data/DVS_ActionRecog_dataset/frames_number_16_split_by_time/train/jumping].\n",
      "Start to integrate [/Users/marcosesquivelgonzalez/Desktop/MasterCDatos/TFM/data/DVS_ActionRecog_dataset/events_np/train/jumping/houjing_5.2.npz] to frames and save to [/Users/marcosesquivelgonzalez/Desktop/MasterCDatos/TFM/data/DVS_ActionRecog_dataset/frames_number_16_split_by_time/train/jumping].\n",
      "Start to integrate [/Users/marcosesquivelgonzalez/Desktop/MasterCDatos/TFM/data/DVS_ActionRecog_dataset/events_np/train/jumping/xiaohuang_5.3.npz] to frames and save to [/Users/marcosesquivelgonzalez/Desktop/MasterCDatos/TFM/data/DVS_ActionRecog_dataset/frames_number_16_split_by_time/train/jumping].\n",
      "Start to integrate [/Users/marcosesquivelgonzalez/Desktop/MasterCDatos/TFM/data/DVS_ActionRecog_dataset/events_np/train/jumping/xiaohuang_5.1.npz] to frames and save to [/Users/marcosesquivelgonzalez/Desktop/MasterCDatos/TFM/data/DVS_ActionRecog_dataset/frames_number_16_split_by_time/train/jumping].\n",
      "Start to integrate [/Users/marcosesquivelgonzalez/Desktop/MasterCDatos/TFM/data/DVS_ActionRecog_dataset/events_np/train/jumping/houjing_5.1.npz] to frames and save to [/Users/marcosesquivelgonzalez/Desktop/MasterCDatos/TFM/data/DVS_ActionRecog_dataset/frames_number_16_split_by_time/train/jumping].\n",
      "Start to integrate [/Users/marcosesquivelgonzalez/Desktop/MasterCDatos/TFM/data/DVS_ActionRecog_dataset/events_np/train/jumping/tanglixuan_5.3.npz] to frames and save to [/Users/marcosesquivelgonzalez/Desktop/MasterCDatos/TFM/data/DVS_ActionRecog_dataset/frames_number_16_split_by_time/train/jumping].\n",
      "Start to integrate [/Users/marcosesquivelgonzalez/Desktop/MasterCDatos/TFM/data/DVS_ActionRecog_dataset/events_np/train/jumping/tanglixuan_5.2.npz] to frames and save to [/Users/marcosesquivelgonzalez/Desktop/MasterCDatos/TFM/data/DVS_ActionRecog_dataset/frames_number_16_split_by_time/train/jumping].\n",
      "Start to integrate [/Users/marcosesquivelgonzalez/Desktop/MasterCDatos/TFM/data/DVS_ActionRecog_dataset/events_np/train/jumping/kaibo_5.3.npz] to frames and save to [/Users/marcosesquivelgonzalez/Desktop/MasterCDatos/TFM/data/DVS_ActionRecog_dataset/frames_number_16_split_by_time/train/jumping].\n",
      "Start to integrate [/Users/marcosesquivelgonzalez/Desktop/MasterCDatos/TFM/data/DVS_ActionRecog_dataset/events_np/train/jumping/miaoshu_5.1.npz] to frames and save to [/Users/marcosesquivelgonzalez/Desktop/MasterCDatos/TFM/data/DVS_ActionRecog_dataset/frames_number_16_split_by_time/train/jumping].\n",
      "Start to integrate [/Users/marcosesquivelgonzalez/Desktop/MasterCDatos/TFM/data/DVS_ActionRecog_dataset/events_np/train/jumping/kaibo_5.1.npz] to frames and save to [/Users/marcosesquivelgonzalez/Desktop/MasterCDatos/TFM/data/DVS_ActionRecog_dataset/frames_number_16_split_by_time/train/jumping].\n",
      "Start to integrate [/Users/marcosesquivelgonzalez/Desktop/MasterCDatos/TFM/data/DVS_ActionRecog_dataset/events_np/train/sit-down/liuxingbo_6.2.npz] to frames and save to [/Users/marcosesquivelgonzalez/Desktop/MasterCDatos/TFM/data/DVS_ActionRecog_dataset/frames_number_16_split_by_time/train/sit-down].\n",
      "Start to integrate [/Users/marcosesquivelgonzalez/Desktop/MasterCDatos/TFM/data/DVS_ActionRecog_dataset/events_np/train/sit-down/liuxingbo_6.3.npz] to frames and save to [/Users/marcosesquivelgonzalez/Desktop/MasterCDatos/TFM/data/DVS_ActionRecog_dataset/frames_number_16_split_by_time/train/sit-down].\n",
      "Start to integrate [/Users/marcosesquivelgonzalez/Desktop/MasterCDatos/TFM/data/DVS_ActionRecog_dataset/events_np/train/sit-down/zhangliming_6.3.npz] to frames and save to [/Users/marcosesquivelgonzalez/Desktop/MasterCDatos/TFM/data/DVS_ActionRecog_dataset/frames_number_16_split_by_time/train/sit-down].\n",
      "Start to integrate [/Users/marcosesquivelgonzalez/Desktop/MasterCDatos/TFM/data/DVS_ActionRecog_dataset/events_np/train/sit-down/zhangliming_6.2.npz] to frames and save to [/Users/marcosesquivelgonzalez/Desktop/MasterCDatos/TFM/data/DVS_ActionRecog_dataset/frames_number_16_split_by_time/train/sit-down].\n",
      "Start to integrate [/Users/marcosesquivelgonzalez/Desktop/MasterCDatos/TFM/data/DVS_ActionRecog_dataset/events_np/train/sit-down/ziyang_6.1.npz] to frames and save to [/Users/marcosesquivelgonzalez/Desktop/MasterCDatos/TFM/data/DVS_ActionRecog_dataset/frames_number_16_split_by_time/train/sit-down].\n",
      "Start to integrate [/Users/marcosesquivelgonzalez/Desktop/MasterCDatos/TFM/data/DVS_ActionRecog_dataset/events_np/train/sit-down/ziyang_6.3.npz] to frames and save to [/Users/marcosesquivelgonzalez/Desktop/MasterCDatos/TFM/data/DVS_ActionRecog_dataset/frames_number_16_split_by_time/train/sit-down].\n",
      "Start to integrate [/Users/marcosesquivelgonzalez/Desktop/MasterCDatos/TFM/data/DVS_ActionRecog_dataset/events_np/train/sit-down/chnejieneng_6.1.npz] to frames and save to [/Users/marcosesquivelgonzalez/Desktop/MasterCDatos/TFM/data/DVS_ActionRecog_dataset/frames_number_16_split_by_time/train/sit-down].\n",
      "Start to integrate [/Users/marcosesquivelgonzalez/Desktop/MasterCDatos/TFM/data/DVS_ActionRecog_dataset/events_np/train/sit-down/ziyang_6.2.npz] to frames and save to [/Users/marcosesquivelgonzalez/Desktop/MasterCDatos/TFM/data/DVS_ActionRecog_dataset/frames_number_16_split_by_time/train/sit-down].\n",
      "Start to integrate [/Users/marcosesquivelgonzalez/Desktop/MasterCDatos/TFM/data/DVS_ActionRecog_dataset/events_np/train/sit-down/tanglixuan_6.2.npz] to frames and save to [/Users/marcosesquivelgonzalez/Desktop/MasterCDatos/TFM/data/DVS_ActionRecog_dataset/frames_number_16_split_by_time/train/sit-down].\n",
      "Start to integrate [/Users/marcosesquivelgonzalez/Desktop/MasterCDatos/TFM/data/DVS_ActionRecog_dataset/events_np/train/sit-down/tanglixuan_6.1.npz] to frames and save to [/Users/marcosesquivelgonzalez/Desktop/MasterCDatos/TFM/data/DVS_ActionRecog_dataset/frames_number_16_split_by_time/train/sit-down].\n",
      "Start to integrate [/Users/marcosesquivelgonzalez/Desktop/MasterCDatos/TFM/data/DVS_ActionRecog_dataset/events_np/train/sit-down/miaoshu_6.3.npz] to frames and save to [/Users/marcosesquivelgonzalez/Desktop/MasterCDatos/TFM/data/DVS_ActionRecog_dataset/frames_number_16_split_by_time/train/sit-down].\n",
      "Start to integrate [/Users/marcosesquivelgonzalez/Desktop/MasterCDatos/TFM/data/DVS_ActionRecog_dataset/events_np/train/sit-down/miaoshu_6.2.npz] to frames and save to [/Users/marcosesquivelgonzalez/Desktop/MasterCDatos/TFM/data/DVS_ActionRecog_dataset/frames_number_16_split_by_time/train/sit-down].\n",
      "Start to integrate [/Users/marcosesquivelgonzalez/Desktop/MasterCDatos/TFM/data/DVS_ActionRecog_dataset/events_np/train/sit-down/kaibo_6.2.npz] to frames and save to [/Users/marcosesquivelgonzalez/Desktop/MasterCDatos/TFM/data/DVS_ActionRecog_dataset/frames_number_16_split_by_time/train/sit-down].\n",
      "Start to integrate [/Users/marcosesquivelgonzalez/Desktop/MasterCDatos/TFM/data/DVS_ActionRecog_dataset/events_np/train/sit-down/miaoshu_6.1.npz] to frames and save to [/Users/marcosesquivelgonzalez/Desktop/MasterCDatos/TFM/data/DVS_ActionRecog_dataset/frames_number_16_split_by_time/train/sit-down].\n",
      "Start to integrate [/Users/marcosesquivelgonzalez/Desktop/MasterCDatos/TFM/data/DVS_ActionRecog_dataset/events_np/train/sit-down/kaibo_6.1.npz] to frames and save to [/Users/marcosesquivelgonzalez/Desktop/MasterCDatos/TFM/data/DVS_ActionRecog_dataset/frames_number_16_split_by_time/train/sit-down].\n",
      "Start to integrate [/Users/marcosesquivelgonzalez/Desktop/MasterCDatos/TFM/data/DVS_ActionRecog_dataset/events_np/train/sit-down/chenjieneng_6.3.npz] to frames and save to [/Users/marcosesquivelgonzalez/Desktop/MasterCDatos/TFM/data/DVS_ActionRecog_dataset/frames_number_16_split_by_time/train/sit-down].\n",
      "Start to integrate [/Users/marcosesquivelgonzalez/Desktop/MasterCDatos/TFM/data/DVS_ActionRecog_dataset/events_np/train/sit-down/xiaohuang_6.3.npz] to frames and save to [/Users/marcosesquivelgonzalez/Desktop/MasterCDatos/TFM/data/DVS_ActionRecog_dataset/frames_number_16_split_by_time/train/sit-down].\n",
      "Start to integrate [/Users/marcosesquivelgonzalez/Desktop/MasterCDatos/TFM/data/DVS_ActionRecog_dataset/events_np/train/sit-down/houjing_6.2.npz] to frames and save to [/Users/marcosesquivelgonzalez/Desktop/MasterCDatos/TFM/data/DVS_ActionRecog_dataset/frames_number_16_split_by_time/train/sit-down].\n",
      "Start to integrate [/Users/marcosesquivelgonzalez/Desktop/MasterCDatos/TFM/data/DVS_ActionRecog_dataset/events_np/train/sit-down/houjing_6.3.npz] to frames and save to [/Users/marcosesquivelgonzalez/Desktop/MasterCDatos/TFM/data/DVS_ActionRecog_dataset/frames_number_16_split_by_time/train/sit-down].\n",
      "Start to integrate [/Users/marcosesquivelgonzalez/Desktop/MasterCDatos/TFM/data/DVS_ActionRecog_dataset/events_np/train/sit-down/xiaohuang_6.2.npz] to frames and save to [/Users/marcosesquivelgonzalez/Desktop/MasterCDatos/TFM/data/DVS_ActionRecog_dataset/frames_number_16_split_by_time/train/sit-down].\n",
      "Start to integrate [/Users/marcosesquivelgonzalez/Desktop/MasterCDatos/TFM/data/DVS_ActionRecog_dataset/events_np/train/sit-down/chenjieneng_6.2.npz] to frames and save to [/Users/marcosesquivelgonzalez/Desktop/MasterCDatos/TFM/data/DVS_ActionRecog_dataset/frames_number_16_split_by_time/train/sit-down].\n",
      "Start to integrate [/Users/marcosesquivelgonzalez/Desktop/MasterCDatos/TFM/data/DVS_ActionRecog_dataset/events_np/train/sit-down/houjing_6.1.npz] to frames and save to [/Users/marcosesquivelgonzalez/Desktop/MasterCDatos/TFM/data/DVS_ActionRecog_dataset/frames_number_16_split_by_time/train/sit-down].\n",
      "Start to integrate [/Users/marcosesquivelgonzalez/Desktop/MasterCDatos/TFM/data/DVS_ActionRecog_dataset/events_np/train/sit-down/ningxiangyu_6.3.npz] to frames and save to [/Users/marcosesquivelgonzalez/Desktop/MasterCDatos/TFM/data/DVS_ActionRecog_dataset/frames_number_16_split_by_time/train/sit-down].\n",
      "Start to integrate [/Users/marcosesquivelgonzalez/Desktop/MasterCDatos/TFM/data/DVS_ActionRecog_dataset/events_np/train/sit-down/ningxiangyu_6.2.npz] to frames and save to [/Users/marcosesquivelgonzalez/Desktop/MasterCDatos/TFM/data/DVS_ActionRecog_dataset/frames_number_16_split_by_time/train/sit-down].\n",
      "Frames [/Users/marcosesquivelgonzalez/Desktop/MasterCDatos/TFM/data/DVS_ActionRecog_dataset/frames_number_16_split_by_time/test/get-up/miaoshu_2.3.npz] saved.\n",
      "Frames [/Users/marcosesquivelgonzalez/Desktop/MasterCDatos/TFM/data/DVS_ActionRecog_dataset/frames_number_16_split_by_time/test/get-up/xiaohuang_2.2.npz] saved.\n",
      "Frames [/Users/marcosesquivelgonzalez/Desktop/MasterCDatos/TFM/data/DVS_ActionRecog_dataset/frames_number_16_split_by_time/test/get-up/zhangliming_2.2.npz] saved.\n",
      "Frames [/Users/marcosesquivelgonzalez/Desktop/MasterCDatos/TFM/data/DVS_ActionRecog_dataset/frames_number_16_split_by_time/test/get-up/xiaohuang_2.1.npz] saved.\n",
      "Frames [/Users/marcosesquivelgonzalez/Desktop/MasterCDatos/TFM/data/DVS_ActionRecog_dataset/frames_number_16_split_by_time/test/picking up/xiaohuang_4.1.npz] saved.\n",
      "Frames [/Users/marcosesquivelgonzalez/Desktop/MasterCDatos/TFM/data/DVS_ActionRecog_dataset/frames_number_16_split_by_time/test/get-up/houjing_2.1.npz] saved.\n",
      "Frames [/Users/marcosesquivelgonzalez/Desktop/MasterCDatos/TFM/data/DVS_ActionRecog_dataset/frames_number_16_split_by_time/test/get-up/kaibo_2.3.npz] saved.\n",
      "Frames [/Users/marcosesquivelgonzalez/Desktop/MasterCDatos/TFM/data/DVS_ActionRecog_dataset/frames_number_16_split_by_time/test/turning around/liuxingbo_8.2.npz] saved.\n",
      "Frames [/Users/marcosesquivelgonzalez/Desktop/MasterCDatos/TFM/data/DVS_ActionRecog_dataset/frames_number_16_split_by_time/test/turning around/ningxiangyu_8.1.npz] saved.\n",
      "Frames [/Users/marcosesquivelgonzalez/Desktop/MasterCDatos/TFM/data/DVS_ActionRecog_dataset/frames_number_16_split_by_time/test/turning around/ziyang_8.1.npz] saved.\n",
      "Frames [/Users/marcosesquivelgonzalez/Desktop/MasterCDatos/TFM/data/DVS_ActionRecog_dataset/frames_number_16_split_by_time/test/turning around/chenjieneng_8.3.npz] saved.\n",
      "Frames [/Users/marcosesquivelgonzalez/Desktop/MasterCDatos/TFM/data/DVS_ActionRecog_dataset/frames_number_16_split_by_time/test/picking up/ningxiangyu_4.2.npz] saved.\n",
      "Frames [/Users/marcosesquivelgonzalez/Desktop/MasterCDatos/TFM/data/DVS_ActionRecog_dataset/frames_number_16_split_by_time/test/picking up/houjing_4.2.npz] saved.\n",
      "Frames [/Users/marcosesquivelgonzalez/Desktop/MasterCDatos/TFM/data/DVS_ActionRecog_dataset/frames_number_16_split_by_time/test/picking up/chenjieneng_4.1.npz] saved.\n",
      "Frames [/Users/marcosesquivelgonzalez/Desktop/MasterCDatos/TFM/data/DVS_ActionRecog_dataset/frames_number_16_split_by_time/test/picking up/tanglixuan_4.2.npz] saved.\n",
      "Frames [/Users/marcosesquivelgonzalez/Desktop/MasterCDatos/TFM/data/DVS_ActionRecog_dataset/frames_number_16_split_by_time/test/turning around/zhangliming_8.2.npz] saved.\n",
      "Frames [/Users/marcosesquivelgonzalez/Desktop/MasterCDatos/TFM/data/DVS_ActionRecog_dataset/frames_number_16_split_by_time/test/waving/miaoshu_10.3.npz] saved.\n",
      "Frames [/Users/marcosesquivelgonzalez/Desktop/MasterCDatos/TFM/data/DVS_ActionRecog_dataset/frames_number_16_split_by_time/test/picking up/kaibo_4.2.npz] saved.\n",
      "Frames [/Users/marcosesquivelgonzalez/Desktop/MasterCDatos/TFM/data/DVS_ActionRecog_dataset/frames_number_16_split_by_time/test/waving/zhangliming_10.1.npz] saved.\n",
      "Frames [/Users/marcosesquivelgonzalez/Desktop/MasterCDatos/TFM/data/DVS_ActionRecog_dataset/frames_number_16_split_by_time/test/turning around/liuxingbo_8.3.npz] saved.\n",
      "Frames [/Users/marcosesquivelgonzalez/Desktop/MasterCDatos/TFM/data/DVS_ActionRecog_dataset/frames_number_16_split_by_time/test/waving/kaibo_10.1.npz] saved.\n",
      "Frames [/Users/marcosesquivelgonzalez/Desktop/MasterCDatos/TFM/data/DVS_ActionRecog_dataset/frames_number_16_split_by_time/test/waving/ningxiangyu_10.3.npz] saved.\n",
      "Frames [/Users/marcosesquivelgonzalez/Desktop/MasterCDatos/TFM/data/DVS_ActionRecog_dataset/frames_number_16_split_by_time/test/throwing/zhangliming_7.2.npz] saved.\n",
      "Frames [/Users/marcosesquivelgonzalez/Desktop/MasterCDatos/TFM/data/DVS_ActionRecog_dataset/frames_number_16_split_by_time/test/waving/xiaohuang_10.1.npz] saved.\n",
      "Frames [/Users/marcosesquivelgonzalez/Desktop/MasterCDatos/TFM/data/DVS_ActionRecog_dataset/frames_number_16_split_by_time/test/waving/xiaohuang_10.2.npz] saved.\n",
      "Frames [/Users/marcosesquivelgonzalez/Desktop/MasterCDatos/TFM/data/DVS_ActionRecog_dataset/frames_number_16_split_by_time/test/throwing/zhangliming_7.1.npz] saved.\n",
      "Frames [/Users/marcosesquivelgonzalez/Desktop/MasterCDatos/TFM/data/DVS_ActionRecog_dataset/frames_number_16_split_by_time/test/throwing/liuxingbo_7.2.npz] saved.\n",
      "Frames [/Users/marcosesquivelgonzalez/Desktop/MasterCDatos/TFM/data/DVS_ActionRecog_dataset/frames_number_16_split_by_time/test/throwing/houjing_7.1.npz] saved.\n",
      "Frames [/Users/marcosesquivelgonzalez/Desktop/MasterCDatos/TFM/data/DVS_ActionRecog_dataset/frames_number_16_split_by_time/test/throwing/chenjieneng_7.2.npz] saved.\n",
      "Frames [/Users/marcosesquivelgonzalez/Desktop/MasterCDatos/TFM/data/DVS_ActionRecog_dataset/frames_number_16_split_by_time/test/throwing/tanglixuan_7.3.npz] saved.\n",
      "Frames [/Users/marcosesquivelgonzalez/Desktop/MasterCDatos/TFM/data/DVS_ActionRecog_dataset/frames_number_16_split_by_time/test/walking/kaibo_9.3.npz] saved.\n",
      "Frames [/Users/marcosesquivelgonzalez/Desktop/MasterCDatos/TFM/data/DVS_ActionRecog_dataset/frames_number_16_split_by_time/test/kicking/miaoshu_3.1.npz] saved.\n",
      "Frames [/Users/marcosesquivelgonzalez/Desktop/MasterCDatos/TFM/data/DVS_ActionRecog_dataset/frames_number_16_split_by_time/test/walking/ningxiangyu_9.2.npz] saved.\n",
      "Frames [/Users/marcosesquivelgonzalez/Desktop/MasterCDatos/TFM/data/DVS_ActionRecog_dataset/frames_number_16_split_by_time/test/walking/chenjieneng_9.1.npz] saved.\n",
      "Frames [/Users/marcosesquivelgonzalez/Desktop/MasterCDatos/TFM/data/DVS_ActionRecog_dataset/frames_number_16_split_by_time/test/walking/xiaohuang_9.2.npz] saved.\n",
      "Frames [/Users/marcosesquivelgonzalez/Desktop/MasterCDatos/TFM/data/DVS_ActionRecog_dataset/frames_number_16_split_by_time/test/kicking/liuxingbo_3.2.npz] saved.\n",
      "Frames [/Users/marcosesquivelgonzalez/Desktop/MasterCDatos/TFM/data/DVS_ActionRecog_dataset/frames_number_16_split_by_time/test/arm crossing/liuxingbo_1.3.npz] saved.\n",
      "Frames [/Users/marcosesquivelgonzalez/Desktop/MasterCDatos/TFM/data/DVS_ActionRecog_dataset/frames_number_16_split_by_time/test/kicking/chenjieneng_3.2.npz] saved.\n",
      "Frames [/Users/marcosesquivelgonzalez/Desktop/MasterCDatos/TFM/data/DVS_ActionRecog_dataset/frames_number_16_split_by_time/test/walking/ziyang_9.1.npz] saved.\n",
      "Frames [/Users/marcosesquivelgonzalez/Desktop/MasterCDatos/TFM/data/DVS_ActionRecog_dataset/frames_number_16_split_by_time/test/kicking/houjing_3.3.npz] saved.\n",
      "Frames [/Users/marcosesquivelgonzalez/Desktop/MasterCDatos/TFM/data/DVS_ActionRecog_dataset/frames_number_16_split_by_time/test/kicking/kaibo_3.3.npz] saved.\n",
      "Frames [/Users/marcosesquivelgonzalez/Desktop/MasterCDatos/TFM/data/DVS_ActionRecog_dataset/frames_number_16_split_by_time/test/walking/ziyang_9.2.npz] saved.\n",
      "Frames [/Users/marcosesquivelgonzalez/Desktop/MasterCDatos/TFM/data/DVS_ActionRecog_dataset/frames_number_16_split_by_time/test/arm crossing/xiaohuang_1.2.npz] saved.\n",
      "Frames [/Users/marcosesquivelgonzalez/Desktop/MasterCDatos/TFM/data/DVS_ActionRecog_dataset/frames_number_16_split_by_time/test/kicking/chenjieneng_3.3.npz] saved.\n",
      "Frames [/Users/marcosesquivelgonzalez/Desktop/MasterCDatos/TFM/data/DVS_ActionRecog_dataset/frames_number_16_split_by_time/test/arm crossing/xiaohuang_1.1.npz] saved.\n",
      "Frames [/Users/marcosesquivelgonzalez/Desktop/MasterCDatos/TFM/data/DVS_ActionRecog_dataset/frames_number_16_split_by_time/test/arm crossing/miaoshu_1.1.npz] saved.\n",
      "Frames [/Users/marcosesquivelgonzalez/Desktop/MasterCDatos/TFM/data/DVS_ActionRecog_dataset/frames_number_16_split_by_time/test/arm crossing/chenjieneng_1.2.npz] saved.\n",
      "Frames [/Users/marcosesquivelgonzalez/Desktop/MasterCDatos/TFM/data/DVS_ActionRecog_dataset/frames_number_16_split_by_time/test/arm crossing/tanglixuan_1.1.npz] saved.\n",
      "Frames [/Users/marcosesquivelgonzalez/Desktop/MasterCDatos/TFM/data/DVS_ActionRecog_dataset/frames_number_16_split_by_time/test/jumping/liuxingbo_5.1.npz] saved.\n",
      "Frames [/Users/marcosesquivelgonzalez/Desktop/MasterCDatos/TFM/data/DVS_ActionRecog_dataset/frames_number_16_split_by_time/test/jumping/ziyang_5.1.npz] saved.\n",
      "Frames [/Users/marcosesquivelgonzalez/Desktop/MasterCDatos/TFM/data/DVS_ActionRecog_dataset/frames_number_16_split_by_time/test/jumping/xiaohuang_5.2.npz] saved.\n",
      "Frames [/Users/marcosesquivelgonzalez/Desktop/MasterCDatos/TFM/data/DVS_ActionRecog_dataset/frames_number_16_split_by_time/test/sit-down/zhangliming_6.1.npz] saved.\n",
      "Frames [/Users/marcosesquivelgonzalez/Desktop/MasterCDatos/TFM/data/DVS_ActionRecog_dataset/frames_number_16_split_by_time/test/sit-down/ningxiangyu_6.1.npz] saved.\n",
      "Frames [/Users/marcosesquivelgonzalez/Desktop/MasterCDatos/TFM/data/DVS_ActionRecog_dataset/frames_number_16_split_by_time/test/sit-down/xiaohuang_6.1.npz] saved.\n",
      "Frames [/Users/marcosesquivelgonzalez/Desktop/MasterCDatos/TFM/data/DVS_ActionRecog_dataset/frames_number_16_split_by_time/train/picking up/zhangliming_4.3.npz] saved.\n",
      "Frames [/Users/marcosesquivelgonzalez/Desktop/MasterCDatos/TFM/data/DVS_ActionRecog_dataset/frames_number_16_split_by_time/train/picking up/zhangliming_4.1.npz] saved.\n",
      "Frames [/Users/marcosesquivelgonzalez/Desktop/MasterCDatos/TFM/data/DVS_ActionRecog_dataset/frames_number_16_split_by_time/test/jumping/chenjieneng_5.1.npz] saved.\n",
      "Frames [/Users/marcosesquivelgonzalez/Desktop/MasterCDatos/TFM/data/DVS_ActionRecog_dataset/frames_number_16_split_by_time/train/picking up/liuxingbo_4.1.npz] saved.\n",
      "Frames [/Users/marcosesquivelgonzalez/Desktop/MasterCDatos/TFM/data/DVS_ActionRecog_dataset/frames_number_16_split_by_time/test/sit-down/liuxingbo_6.1.npz] saved.\n",
      "Frames [/Users/marcosesquivelgonzalez/Desktop/MasterCDatos/TFM/data/DVS_ActionRecog_dataset/frames_number_16_split_by_time/test/sit-down/tanglixuan_6.3.npz] saved.\n",
      "Frames [/Users/marcosesquivelgonzalez/Desktop/MasterCDatos/TFM/data/DVS_ActionRecog_dataset/frames_number_16_split_by_time/test/sit-down/kaibo_6.3.npz] saved.\n",
      "Frames [/Users/marcosesquivelgonzalez/Desktop/MasterCDatos/TFM/data/DVS_ActionRecog_dataset/frames_number_16_split_by_time/train/picking up/liuxingbo_4.3.npz] saved.\n",
      "Frames [/Users/marcosesquivelgonzalez/Desktop/MasterCDatos/TFM/data/DVS_ActionRecog_dataset/frames_number_16_split_by_time/test/jumping/kaibo_5.2.npz] saved.\n",
      "Frames [/Users/marcosesquivelgonzalez/Desktop/MasterCDatos/TFM/data/DVS_ActionRecog_dataset/frames_number_16_split_by_time/train/picking up/liuxingbo_4.2.npz] saved.\n",
      "Frames [/Users/marcosesquivelgonzalez/Desktop/MasterCDatos/TFM/data/DVS_ActionRecog_dataset/frames_number_16_split_by_time/train/picking up/ziyang_4.3.npz] saved.\n",
      "Frames [/Users/marcosesquivelgonzalez/Desktop/MasterCDatos/TFM/data/DVS_ActionRecog_dataset/frames_number_16_split_by_time/train/picking up/ziyang_4.2.npz] saved.\n",
      "Frames [/Users/marcosesquivelgonzalez/Desktop/MasterCDatos/TFM/data/DVS_ActionRecog_dataset/frames_number_16_split_by_time/train/picking up/ziyang_4.1.npz] saved.\n",
      "Frames [/Users/marcosesquivelgonzalez/Desktop/MasterCDatos/TFM/data/DVS_ActionRecog_dataset/frames_number_16_split_by_time/train/picking up/tanglixuan_4.1.npz] saved.\n",
      "Frames [/Users/marcosesquivelgonzalez/Desktop/MasterCDatos/TFM/data/DVS_ActionRecog_dataset/frames_number_16_split_by_time/train/picking up/miaoshu_4.3.npz] saved.\n",
      "Frames [/Users/marcosesquivelgonzalez/Desktop/MasterCDatos/TFM/data/DVS_ActionRecog_dataset/frames_number_16_split_by_time/train/picking up/miaoshu_4.1.npz] saved.\n",
      "Frames [/Users/marcosesquivelgonzalez/Desktop/MasterCDatos/TFM/data/DVS_ActionRecog_dataset/frames_number_16_split_by_time/train/picking up/miaoshu_4.2.npz] saved.\n",
      "Frames [/Users/marcosesquivelgonzalez/Desktop/MasterCDatos/TFM/data/DVS_ActionRecog_dataset/frames_number_16_split_by_time/train/picking up/tanglixuan_4.3.npz] saved.\n",
      "Frames [/Users/marcosesquivelgonzalez/Desktop/MasterCDatos/TFM/data/DVS_ActionRecog_dataset/frames_number_16_split_by_time/train/picking up/kaibo_4.1.npz] saved.\n",
      "Frames [/Users/marcosesquivelgonzalez/Desktop/MasterCDatos/TFM/data/DVS_ActionRecog_dataset/frames_number_16_split_by_time/train/picking up/ningxiangyu_4.3.npz] saved.\n",
      "Frames [/Users/marcosesquivelgonzalez/Desktop/MasterCDatos/TFM/data/DVS_ActionRecog_dataset/frames_number_16_split_by_time/train/picking up/houjing_4.1.npz] saved.\n",
      "Frames [/Users/marcosesquivelgonzalez/Desktop/MasterCDatos/TFM/data/DVS_ActionRecog_dataset/frames_number_16_split_by_time/train/picking up/xiaohuang_4.2.npz] saved.\n",
      "Frames [/Users/marcosesquivelgonzalez/Desktop/MasterCDatos/TFM/data/DVS_ActionRecog_dataset/frames_number_16_split_by_time/train/picking up/ningxiangyu_4.1.npz] saved.\n",
      "Frames [/Users/marcosesquivelgonzalez/Desktop/MasterCDatos/TFM/data/DVS_ActionRecog_dataset/frames_number_16_split_by_time/train/picking up/xiaohuang_4.3.npz] saved.\n",
      "Frames [/Users/marcosesquivelgonzalez/Desktop/MasterCDatos/TFM/data/DVS_ActionRecog_dataset/frames_number_16_split_by_time/train/get-up/ziyang_2.2.npz] saved.\n",
      "Frames [/Users/marcosesquivelgonzalez/Desktop/MasterCDatos/TFM/data/DVS_ActionRecog_dataset/frames_number_16_split_by_time/train/picking up/chenjieneng_4.3.npz] saved.\n",
      "Frames [/Users/marcosesquivelgonzalez/Desktop/MasterCDatos/TFM/data/DVS_ActionRecog_dataset/frames_number_16_split_by_time/train/picking up/chenjieneng_4.2.npz] saved.\n",
      "Frames [/Users/marcosesquivelgonzalez/Desktop/MasterCDatos/TFM/data/DVS_ActionRecog_dataset/frames_number_16_split_by_time/train/picking up/kaibo_4.3.npz] saved.\n",
      "Frames [/Users/marcosesquivelgonzalez/Desktop/MasterCDatos/TFM/data/DVS_ActionRecog_dataset/frames_number_16_split_by_time/train/picking up/houjing_4.3.npz] saved.\n",
      "Frames [/Users/marcosesquivelgonzalez/Desktop/MasterCDatos/TFM/data/DVS_ActionRecog_dataset/frames_number_16_split_by_time/train/get-up/zhangliming_2.3.npz] saved.\n",
      "Frames [/Users/marcosesquivelgonzalez/Desktop/MasterCDatos/TFM/data/DVS_ActionRecog_dataset/frames_number_16_split_by_time/train/get-up/zhangliming_2.1.npz] saved.\n",
      "Frames [/Users/marcosesquivelgonzalez/Desktop/MasterCDatos/TFM/data/DVS_ActionRecog_dataset/frames_number_16_split_by_time/train/get-up/ziyang_2.3.npz] saved.\n",
      "Frames [/Users/marcosesquivelgonzalez/Desktop/MasterCDatos/TFM/data/DVS_ActionRecog_dataset/frames_number_16_split_by_time/train/get-up/liuxingbo_2.1.npz] saved.\n",
      "Frames [/Users/marcosesquivelgonzalez/Desktop/MasterCDatos/TFM/data/DVS_ActionRecog_dataset/frames_number_16_split_by_time/train/get-up/ziyang_2.1.npz] saved.\n",
      "Frames [/Users/marcosesquivelgonzalez/Desktop/MasterCDatos/TFM/data/DVS_ActionRecog_dataset/frames_number_16_split_by_time/train/get-up/miaoshu_2.1.npz] saved.\n",
      "Frames [/Users/marcosesquivelgonzalez/Desktop/MasterCDatos/TFM/data/DVS_ActionRecog_dataset/frames_number_16_split_by_time/train/get-up/liuxingbo_2.2.npz] saved.\n",
      "Frames [/Users/marcosesquivelgonzalez/Desktop/MasterCDatos/TFM/data/DVS_ActionRecog_dataset/frames_number_16_split_by_time/train/get-up/liuxingbo_2.3.npz] saved.\n",
      "Frames [/Users/marcosesquivelgonzalez/Desktop/MasterCDatos/TFM/data/DVS_ActionRecog_dataset/frames_number_16_split_by_time/train/get-up/kaibo_2.1.npz] saved.\n",
      "Frames [/Users/marcosesquivelgonzalez/Desktop/MasterCDatos/TFM/data/DVS_ActionRecog_dataset/frames_number_16_split_by_time/train/get-up/miaoshu_2.2.npz] saved.\n",
      "Frames [/Users/marcosesquivelgonzalez/Desktop/MasterCDatos/TFM/data/DVS_ActionRecog_dataset/frames_number_16_split_by_time/train/get-up/tanglixuan_2.1.npz] saved.\n",
      "Frames [/Users/marcosesquivelgonzalez/Desktop/MasterCDatos/TFM/data/DVS_ActionRecog_dataset/frames_number_16_split_by_time/train/get-up/kaibo_2.2.npz] saved.\n",
      "Frames [/Users/marcosesquivelgonzalez/Desktop/MasterCDatos/TFM/data/DVS_ActionRecog_dataset/frames_number_16_split_by_time/train/get-up/ningxiangyu_2.2.npz] saved.\n",
      "Frames [/Users/marcosesquivelgonzalez/Desktop/MasterCDatos/TFM/data/DVS_ActionRecog_dataset/frames_number_16_split_by_time/train/get-up/tanglixuan_2.2.npz] saved.\n",
      "Frames [/Users/marcosesquivelgonzalez/Desktop/MasterCDatos/TFM/data/DVS_ActionRecog_dataset/frames_number_16_split_by_time/train/get-up/ningxiangyu_2.1.npz] saved.\n",
      "Frames [/Users/marcosesquivelgonzalez/Desktop/MasterCDatos/TFM/data/DVS_ActionRecog_dataset/frames_number_16_split_by_time/train/get-up/chenjieneng_2.1.npz] saved.\n",
      "Frames [/Users/marcosesquivelgonzalez/Desktop/MasterCDatos/TFM/data/DVS_ActionRecog_dataset/frames_number_16_split_by_time/train/get-up/chenjieneng_2.3.npz] saved.\n",
      "Frames [/Users/marcosesquivelgonzalez/Desktop/MasterCDatos/TFM/data/DVS_ActionRecog_dataset/frames_number_16_split_by_time/train/get-up/tanglixuan_2.3.npz] saved.\n",
      "Frames [/Users/marcosesquivelgonzalez/Desktop/MasterCDatos/TFM/data/DVS_ActionRecog_dataset/frames_number_16_split_by_time/train/get-up/ningxiangyu_2.3.npz] saved.\n",
      "Frames [/Users/marcosesquivelgonzalez/Desktop/MasterCDatos/TFM/data/DVS_ActionRecog_dataset/frames_number_16_split_by_time/train/get-up/houjing_2.3.npz] saved.\n",
      "Frames [/Users/marcosesquivelgonzalez/Desktop/MasterCDatos/TFM/data/DVS_ActionRecog_dataset/frames_number_16_split_by_time/train/get-up/houjing_2.2.npz] saved.\n",
      "Frames [/Users/marcosesquivelgonzalez/Desktop/MasterCDatos/TFM/data/DVS_ActionRecog_dataset/frames_number_16_split_by_time/train/get-up/xiaohuang_2.3.npz] saved.\n",
      "Frames [/Users/marcosesquivelgonzalez/Desktop/MasterCDatos/TFM/data/DVS_ActionRecog_dataset/frames_number_16_split_by_time/train/get-up/chenjieneng_2.2.npz] saved.\n",
      "Frames [/Users/marcosesquivelgonzalez/Desktop/MasterCDatos/TFM/data/DVS_ActionRecog_dataset/frames_number_16_split_by_time/train/turning around/xiaohuang_8.3.npz] saved.\n",
      "Frames [/Users/marcosesquivelgonzalez/Desktop/MasterCDatos/TFM/data/DVS_ActionRecog_dataset/frames_number_16_split_by_time/train/turning around/houjing_8.2.npz] saved.\n",
      "Frames [/Users/marcosesquivelgonzalez/Desktop/MasterCDatos/TFM/data/DVS_ActionRecog_dataset/frames_number_16_split_by_time/train/turning around/xiaohuang_8.2.npz] saved.\n",
      "Frames [/Users/marcosesquivelgonzalez/Desktop/MasterCDatos/TFM/data/DVS_ActionRecog_dataset/frames_number_16_split_by_time/train/turning around/chenjieneng_8.2.npz] saved.\n",
      "Frames [/Users/marcosesquivelgonzalez/Desktop/MasterCDatos/TFM/data/DVS_ActionRecog_dataset/frames_number_16_split_by_time/train/turning around/houjing_8.3.npz] saved.\n",
      "Frames [/Users/marcosesquivelgonzalez/Desktop/MasterCDatos/TFM/data/DVS_ActionRecog_dataset/frames_number_16_split_by_time/train/turning around/houjing_8.1.npz] saved.\n",
      "Frames [/Users/marcosesquivelgonzalez/Desktop/MasterCDatos/TFM/data/DVS_ActionRecog_dataset/frames_number_16_split_by_time/train/turning around/ningxiangyu_8.3.npz] saved.\n",
      "Frames [/Users/marcosesquivelgonzalez/Desktop/MasterCDatos/TFM/data/DVS_ActionRecog_dataset/frames_number_16_split_by_time/train/turning around/ningxiangyu_8.2.npz] saved.\n",
      "Frames [/Users/marcosesquivelgonzalez/Desktop/MasterCDatos/TFM/data/DVS_ActionRecog_dataset/frames_number_16_split_by_time/train/turning around/miaoshu_8.3.npz] saved.\n",
      "Frames [/Users/marcosesquivelgonzalez/Desktop/MasterCDatos/TFM/data/DVS_ActionRecog_dataset/frames_number_16_split_by_time/train/turning around/miaoshu_8.2.npz] saved.\n",
      "Frames [/Users/marcosesquivelgonzalez/Desktop/MasterCDatos/TFM/data/DVS_ActionRecog_dataset/frames_number_16_split_by_time/train/turning around/xiaohuang_8.1.npz] saved.\n",
      "Frames [/Users/marcosesquivelgonzalez/Desktop/MasterCDatos/TFM/data/DVS_ActionRecog_dataset/frames_number_16_split_by_time/train/turning around/miaoshu_8.1.npz] saved.\n",
      "Frames [/Users/marcosesquivelgonzalez/Desktop/MasterCDatos/TFM/data/DVS_ActionRecog_dataset/frames_number_16_split_by_time/train/turning around/kaibo_8.3.npz] saved.\n",
      "Frames [/Users/marcosesquivelgonzalez/Desktop/MasterCDatos/TFM/data/DVS_ActionRecog_dataset/frames_number_16_split_by_time/train/turning around/kaibo_8.2.npz] saved.\n",
      "Frames [/Users/marcosesquivelgonzalez/Desktop/MasterCDatos/TFM/data/DVS_ActionRecog_dataset/frames_number_16_split_by_time/train/turning around/tanglixuan_8.2.npz] saved.\n",
      "Frames [/Users/marcosesquivelgonzalez/Desktop/MasterCDatos/TFM/data/DVS_ActionRecog_dataset/frames_number_16_split_by_time/train/turning around/chenjieneng_8.1.npz] saved.\n",
      "Frames [/Users/marcosesquivelgonzalez/Desktop/MasterCDatos/TFM/data/DVS_ActionRecog_dataset/frames_number_16_split_by_time/train/turning around/tanglixuan_8.1.npz] saved.\n",
      "Frames [/Users/marcosesquivelgonzalez/Desktop/MasterCDatos/TFM/data/DVS_ActionRecog_dataset/frames_number_16_split_by_time/train/turning around/kaibo_8.1.npz] saved.\n",
      "Frames [/Users/marcosesquivelgonzalez/Desktop/MasterCDatos/TFM/data/DVS_ActionRecog_dataset/frames_number_16_split_by_time/train/turning around/ziyang_8.2.npz] saved.\n",
      "Frames [/Users/marcosesquivelgonzalez/Desktop/MasterCDatos/TFM/data/DVS_ActionRecog_dataset/frames_number_16_split_by_time/train/turning around/zhangliming_8.1.npz] saved.\n",
      "Frames [/Users/marcosesquivelgonzalez/Desktop/MasterCDatos/TFM/data/DVS_ActionRecog_dataset/frames_number_16_split_by_time/train/turning around/tanglixuan_8.3.npz] saved.\n",
      "Frames [/Users/marcosesquivelgonzalez/Desktop/MasterCDatos/TFM/data/DVS_ActionRecog_dataset/frames_number_16_split_by_time/train/turning around/ziyang_8.3.npz] saved.\n",
      "Frames [/Users/marcosesquivelgonzalez/Desktop/MasterCDatos/TFM/data/DVS_ActionRecog_dataset/frames_number_16_split_by_time/train/waving/liuxingbo_10.1.npz] saved.\n",
      "Frames [/Users/marcosesquivelgonzalez/Desktop/MasterCDatos/TFM/data/DVS_ActionRecog_dataset/frames_number_16_split_by_time/train/turning around/liuxingbo_8.1.npz] saved.\n",
      "Frames [/Users/marcosesquivelgonzalez/Desktop/MasterCDatos/TFM/data/DVS_ActionRecog_dataset/frames_number_16_split_by_time/train/waving/liuxingbo_10.3.npz] saved.\n",
      "Frames [/Users/marcosesquivelgonzalez/Desktop/MasterCDatos/TFM/data/DVS_ActionRecog_dataset/frames_number_16_split_by_time/train/waving/kaibo_10.3.npz] saved.\n",
      "Frames [/Users/marcosesquivelgonzalez/Desktop/MasterCDatos/TFM/data/DVS_ActionRecog_dataset/frames_number_16_split_by_time/train/waving/liuxingbo_10.2.npz] saved.\n",
      "Frames [/Users/marcosesquivelgonzalez/Desktop/MasterCDatos/TFM/data/DVS_ActionRecog_dataset/frames_number_16_split_by_time/train/turning around/zhangliming_8.3.npz] saved.\n",
      "Frames [/Users/marcosesquivelgonzalez/Desktop/MasterCDatos/TFM/data/DVS_ActionRecog_dataset/frames_number_16_split_by_time/train/waving/houjing_10.1.npz] saved.\n",
      "Frames [/Users/marcosesquivelgonzalez/Desktop/MasterCDatos/TFM/data/DVS_ActionRecog_dataset/frames_number_16_split_by_time/train/waving/kaibo_10.2.npz] saved.\n",
      "Frames [/Users/marcosesquivelgonzalez/Desktop/MasterCDatos/TFM/data/DVS_ActionRecog_dataset/frames_number_16_split_by_time/train/waving/miaoshu_10.2.npz] saved.\n",
      "Frames [/Users/marcosesquivelgonzalez/Desktop/MasterCDatos/TFM/data/DVS_ActionRecog_dataset/frames_number_16_split_by_time/train/waving/houjing_10.3.npz] saved.\n",
      "Frames [/Users/marcosesquivelgonzalez/Desktop/MasterCDatos/TFM/data/DVS_ActionRecog_dataset/frames_number_16_split_by_time/train/waving/houjing_10.2.npz] saved.\n",
      "Frames [/Users/marcosesquivelgonzalez/Desktop/MasterCDatos/TFM/data/DVS_ActionRecog_dataset/frames_number_16_split_by_time/train/waving/zhangliming_10.2.npz] saved.\n",
      "Frames [/Users/marcosesquivelgonzalez/Desktop/MasterCDatos/TFM/data/DVS_ActionRecog_dataset/frames_number_16_split_by_time/train/waving/miaoshu_10.1.npz] saved.\n",
      "Frames [/Users/marcosesquivelgonzalez/Desktop/MasterCDatos/TFM/data/DVS_ActionRecog_dataset/frames_number_16_split_by_time/train/waving/chenjieneng_10.2.npz] saved.\n",
      "Frames [/Users/marcosesquivelgonzalez/Desktop/MasterCDatos/TFM/data/DVS_ActionRecog_dataset/frames_number_16_split_by_time/train/waving/chenjieneng_10.3.npz] saved.\n",
      "Frames [/Users/marcosesquivelgonzalez/Desktop/MasterCDatos/TFM/data/DVS_ActionRecog_dataset/frames_number_16_split_by_time/train/waving/zhangliming_10.3.npz] saved.\n",
      "Frames [/Users/marcosesquivelgonzalez/Desktop/MasterCDatos/TFM/data/DVS_ActionRecog_dataset/frames_number_16_split_by_time/train/waving/xiaohuang_10.3.npz] saved.\n",
      "Frames [/Users/marcosesquivelgonzalez/Desktop/MasterCDatos/TFM/data/DVS_ActionRecog_dataset/frames_number_16_split_by_time/train/waving/tanglixuan_10.2.npz] saved.\n",
      "Frames [/Users/marcosesquivelgonzalez/Desktop/MasterCDatos/TFM/data/DVS_ActionRecog_dataset/frames_number_16_split_by_time/train/waving/ningxiangyu_10.1.npz] saved.\n",
      "Frames [/Users/marcosesquivelgonzalez/Desktop/MasterCDatos/TFM/data/DVS_ActionRecog_dataset/frames_number_16_split_by_time/train/waving/ningxiangyu_10.2.npz] saved.\n",
      "Frames [/Users/marcosesquivelgonzalez/Desktop/MasterCDatos/TFM/data/DVS_ActionRecog_dataset/frames_number_16_split_by_time/train/waving/ziyang_10.1.npz] saved.\n",
      "Frames [/Users/marcosesquivelgonzalez/Desktop/MasterCDatos/TFM/data/DVS_ActionRecog_dataset/frames_number_16_split_by_time/train/waving/ziyang_10.3.npz] saved.\n",
      "Frames [/Users/marcosesquivelgonzalez/Desktop/MasterCDatos/TFM/data/DVS_ActionRecog_dataset/frames_number_16_split_by_time/train/throwing/liuxingbo_7.1.npz] saved.\n",
      "Frames [/Users/marcosesquivelgonzalez/Desktop/MasterCDatos/TFM/data/DVS_ActionRecog_dataset/frames_number_16_split_by_time/train/throwing/zhangliming_7.3.npz] saved.\n",
      "Frames [/Users/marcosesquivelgonzalez/Desktop/MasterCDatos/TFM/data/DVS_ActionRecog_dataset/frames_number_16_split_by_time/train/waving/ziyang_10.2.npz] saved.\n",
      "Frames [/Users/marcosesquivelgonzalez/Desktop/MasterCDatos/TFM/data/DVS_ActionRecog_dataset/frames_number_16_split_by_time/train/waving/tanglixuan_10.1.npz] saved.\n",
      "Frames [/Users/marcosesquivelgonzalez/Desktop/MasterCDatos/TFM/data/DVS_ActionRecog_dataset/frames_number_16_split_by_time/train/waving/tanglixuan_10.3.npz] saved.\n",
      "Frames [/Users/marcosesquivelgonzalez/Desktop/MasterCDatos/TFM/data/DVS_ActionRecog_dataset/frames_number_16_split_by_time/train/throwing/ziyang_7.2.npz] saved.\n",
      "Frames [/Users/marcosesquivelgonzalez/Desktop/MasterCDatos/TFM/data/DVS_ActionRecog_dataset/frames_number_16_split_by_time/train/throwing/ziyang_7.1.npz] saved.\n",
      "Frames [/Users/marcosesquivelgonzalez/Desktop/MasterCDatos/TFM/data/DVS_ActionRecog_dataset/frames_number_16_split_by_time/train/throwing/ziyang_7.3.npz] saved.\n",
      "Frames [/Users/marcosesquivelgonzalez/Desktop/MasterCDatos/TFM/data/DVS_ActionRecog_dataset/frames_number_16_split_by_time/train/throwing/liuxingbo_7.3.npz] saved.\n",
      "Frames [/Users/marcosesquivelgonzalez/Desktop/MasterCDatos/TFM/data/DVS_ActionRecog_dataset/frames_number_16_split_by_time/train/throwing/ningxiangyu_7.3.npz] saved.\n",
      "Frames [/Users/marcosesquivelgonzalez/Desktop/MasterCDatos/TFM/data/DVS_ActionRecog_dataset/frames_number_16_split_by_time/train/throwing/xiaohuang_7.1.npz] saved.\n",
      "Frames [/Users/marcosesquivelgonzalez/Desktop/MasterCDatos/TFM/data/DVS_ActionRecog_dataset/frames_number_16_split_by_time/train/throwing/xiaohuang_7.3.npz] saved.\n",
      "Frames [/Users/marcosesquivelgonzalez/Desktop/MasterCDatos/TFM/data/DVS_ActionRecog_dataset/frames_number_16_split_by_time/train/throwing/ningxiangyu_7.2.npz] saved.\n",
      "Frames [/Users/marcosesquivelgonzalez/Desktop/MasterCDatos/TFM/data/DVS_ActionRecog_dataset/frames_number_16_split_by_time/train/throwing/chenjieneng_7.1.npz] saved.\n",
      "Frames [/Users/marcosesquivelgonzalez/Desktop/MasterCDatos/TFM/data/DVS_ActionRecog_dataset/frames_number_16_split_by_time/train/throwing/houjing_7.2.npz] saved.\n",
      "Frames [/Users/marcosesquivelgonzalez/Desktop/MasterCDatos/TFM/data/DVS_ActionRecog_dataset/frames_number_16_split_by_time/train/throwing/chenjieneng_7.3.npz] saved.\n",
      "Frames [/Users/marcosesquivelgonzalez/Desktop/MasterCDatos/TFM/data/DVS_ActionRecog_dataset/frames_number_16_split_by_time/train/throwing/ningxiangyu_7.1.npz] saved.\n",
      "Frames [/Users/marcosesquivelgonzalez/Desktop/MasterCDatos/TFM/data/DVS_ActionRecog_dataset/frames_number_16_split_by_time/train/throwing/xiaohuang_7.2.npz] saved.\n",
      "Frames [/Users/marcosesquivelgonzalez/Desktop/MasterCDatos/TFM/data/DVS_ActionRecog_dataset/frames_number_16_split_by_time/train/throwing/miaoshu_7.1.npz] saved.\n",
      "Frames [/Users/marcosesquivelgonzalez/Desktop/MasterCDatos/TFM/data/DVS_ActionRecog_dataset/frames_number_16_split_by_time/train/throwing/miaoshu_7.3.npz] saved.\n",
      "Frames [/Users/marcosesquivelgonzalez/Desktop/MasterCDatos/TFM/data/DVS_ActionRecog_dataset/frames_number_16_split_by_time/train/throwing/miaoshu_7.2.npz] saved.\n",
      "Frames [/Users/marcosesquivelgonzalez/Desktop/MasterCDatos/TFM/data/DVS_ActionRecog_dataset/frames_number_16_split_by_time/train/throwing/houjing_7.3.npz] saved.\n",
      "Frames [/Users/marcosesquivelgonzalez/Desktop/MasterCDatos/TFM/data/DVS_ActionRecog_dataset/frames_number_16_split_by_time/train/throwing/kaibo_7.1.npz] saved.\n",
      "Frames [/Users/marcosesquivelgonzalez/Desktop/MasterCDatos/TFM/data/DVS_ActionRecog_dataset/frames_number_16_split_by_time/train/throwing/tanglixuan_7.1.npz] saved.\n",
      "Frames [/Users/marcosesquivelgonzalez/Desktop/MasterCDatos/TFM/data/DVS_ActionRecog_dataset/frames_number_16_split_by_time/train/walking/miaoshu_9.1.npz] saved.\n",
      "Frames [/Users/marcosesquivelgonzalez/Desktop/MasterCDatos/TFM/data/DVS_ActionRecog_dataset/frames_number_16_split_by_time/train/throwing/kaibo_7.2.npz] saved.\n",
      "Frames [/Users/marcosesquivelgonzalez/Desktop/MasterCDatos/TFM/data/DVS_ActionRecog_dataset/frames_number_16_split_by_time/train/throwing/tanglixuan_7.2.npz] saved.\n",
      "Frames [/Users/marcosesquivelgonzalez/Desktop/MasterCDatos/TFM/data/DVS_ActionRecog_dataset/frames_number_16_split_by_time/train/walking/miaoshu_9.3.npz] saved.\n",
      "Frames [/Users/marcosesquivelgonzalez/Desktop/MasterCDatos/TFM/data/DVS_ActionRecog_dataset/frames_number_16_split_by_time/train/throwing/kaibo_7.3.npz] saved.\n",
      "Frames [/Users/marcosesquivelgonzalez/Desktop/MasterCDatos/TFM/data/DVS_ActionRecog_dataset/frames_number_16_split_by_time/train/walking/kaibo_9.1.npz] saved.\n",
      "Frames [/Users/marcosesquivelgonzalez/Desktop/MasterCDatos/TFM/data/DVS_ActionRecog_dataset/frames_number_16_split_by_time/train/walking/miaoshu_9.2.npz] saved.\n",
      "Frames [/Users/marcosesquivelgonzalez/Desktop/MasterCDatos/TFM/data/DVS_ActionRecog_dataset/frames_number_16_split_by_time/train/walking/kaibo_9.2.npz] saved.\n",
      "Frames [/Users/marcosesquivelgonzalez/Desktop/MasterCDatos/TFM/data/DVS_ActionRecog_dataset/frames_number_16_split_by_time/train/walking/tanglixuan_9.1.npz] saved.\n",
      "Frames [/Users/marcosesquivelgonzalez/Desktop/MasterCDatos/TFM/data/DVS_ActionRecog_dataset/frames_number_16_split_by_time/train/walking/houjing_9.1.npz] saved.\n",
      "Frames [/Users/marcosesquivelgonzalez/Desktop/MasterCDatos/TFM/data/DVS_ActionRecog_dataset/frames_number_16_split_by_time/train/walking/ningxiangyu_9.3.npz] saved.\n",
      "Frames [/Users/marcosesquivelgonzalez/Desktop/MasterCDatos/TFM/data/DVS_ActionRecog_dataset/frames_number_16_split_by_time/train/walking/tanglixuan_9.3.npz] saved.\n",
      "Frames [/Users/marcosesquivelgonzalez/Desktop/MasterCDatos/TFM/data/DVS_ActionRecog_dataset/frames_number_16_split_by_time/train/walking/xiaohuang_9.1.npz] saved.\n",
      "Frames [/Users/marcosesquivelgonzalez/Desktop/MasterCDatos/TFM/data/DVS_ActionRecog_dataset/frames_number_16_split_by_time/train/walking/tanglixuan_9.2.npz] saved.\n",
      "Frames [/Users/marcosesquivelgonzalez/Desktop/MasterCDatos/TFM/data/DVS_ActionRecog_dataset/frames_number_16_split_by_time/train/walking/ningxiangyu_9.1.npz] saved.\n",
      "Frames [/Users/marcosesquivelgonzalez/Desktop/MasterCDatos/TFM/data/DVS_ActionRecog_dataset/frames_number_16_split_by_time/train/walking/ziyang_9.3.npz] saved.\n",
      "Frames [/Users/marcosesquivelgonzalez/Desktop/MasterCDatos/TFM/data/DVS_ActionRecog_dataset/frames_number_16_split_by_time/train/walking/zhangliming_9.3.npz] saved.\n",
      "Frames [/Users/marcosesquivelgonzalez/Desktop/MasterCDatos/TFM/data/DVS_ActionRecog_dataset/frames_number_16_split_by_time/train/walking/liuxingbo_9.1.npz] saved.\n",
      "Frames [/Users/marcosesquivelgonzalez/Desktop/MasterCDatos/TFM/data/DVS_ActionRecog_dataset/frames_number_16_split_by_time/train/walking/xiaohuang_9.3.npz] saved.\n",
      "Frames [/Users/marcosesquivelgonzalez/Desktop/MasterCDatos/TFM/data/DVS_ActionRecog_dataset/frames_number_16_split_by_time/train/walking/chenjieneng_9.2.npz] saved.\n",
      "Frames [/Users/marcosesquivelgonzalez/Desktop/MasterCDatos/TFM/data/DVS_ActionRecog_dataset/frames_number_16_split_by_time/train/walking/houjing_9.2.npz] saved.\n",
      "Frames [/Users/marcosesquivelgonzalez/Desktop/MasterCDatos/TFM/data/DVS_ActionRecog_dataset/frames_number_16_split_by_time/train/walking/chenjieneng_9.3.npz] saved.\n",
      "Frames [/Users/marcosesquivelgonzalez/Desktop/MasterCDatos/TFM/data/DVS_ActionRecog_dataset/frames_number_16_split_by_time/train/walking/houjing_9.3.npz] saved.\n",
      "Frames [/Users/marcosesquivelgonzalez/Desktop/MasterCDatos/TFM/data/DVS_ActionRecog_dataset/frames_number_16_split_by_time/train/walking/zhangliming_9.2.npz] saved.\n",
      "Frames [/Users/marcosesquivelgonzalez/Desktop/MasterCDatos/TFM/data/DVS_ActionRecog_dataset/frames_number_16_split_by_time/train/kicking/ziyang_3.2.npz] saved.\n",
      "Frames [/Users/marcosesquivelgonzalez/Desktop/MasterCDatos/TFM/data/DVS_ActionRecog_dataset/frames_number_16_split_by_time/train/kicking/ziyang_3.1.npz] saved.\n",
      "Frames [/Users/marcosesquivelgonzalez/Desktop/MasterCDatos/TFM/data/DVS_ActionRecog_dataset/frames_number_16_split_by_time/train/walking/zhangliming_9.1.npz] saved.\n",
      "Frames [/Users/marcosesquivelgonzalez/Desktop/MasterCDatos/TFM/data/DVS_ActionRecog_dataset/frames_number_16_split_by_time/train/walking/liuxingbo_9.2.npz] saved.\n",
      "Frames [/Users/marcosesquivelgonzalez/Desktop/MasterCDatos/TFM/data/DVS_ActionRecog_dataset/frames_number_16_split_by_time/train/kicking/ziyang_3.3.npz] saved.\n",
      "Frames [/Users/marcosesquivelgonzalez/Desktop/MasterCDatos/TFM/data/DVS_ActionRecog_dataset/frames_number_16_split_by_time/train/kicking/zhangliming_3.1.npz] saved.\n",
      "Frames [/Users/marcosesquivelgonzalez/Desktop/MasterCDatos/TFM/data/DVS_ActionRecog_dataset/frames_number_16_split_by_time/train/walking/liuxingbo_9.3.npz] saved.\n",
      "Frames [/Users/marcosesquivelgonzalez/Desktop/MasterCDatos/TFM/data/DVS_ActionRecog_dataset/frames_number_16_split_by_time/train/kicking/zhangliming_3.2.npz] saved.\n",
      "Frames [/Users/marcosesquivelgonzalez/Desktop/MasterCDatos/TFM/data/DVS_ActionRecog_dataset/frames_number_16_split_by_time/train/kicking/liuxingbo_3.3.npz] saved.\n",
      "Frames [/Users/marcosesquivelgonzalez/Desktop/MasterCDatos/TFM/data/DVS_ActionRecog_dataset/frames_number_16_split_by_time/train/kicking/zhangliming_3.3.npz] saved.\n",
      "Frames [/Users/marcosesquivelgonzalez/Desktop/MasterCDatos/TFM/data/DVS_ActionRecog_dataset/frames_number_16_split_by_time/train/kicking/liuxingbo_3.1.npz] saved.\n",
      "Frames [/Users/marcosesquivelgonzalez/Desktop/MasterCDatos/TFM/data/DVS_ActionRecog_dataset/frames_number_16_split_by_time/train/kicking/xiaohuang_3.2.npz] saved.\n",
      "Frames [/Users/marcosesquivelgonzalez/Desktop/MasterCDatos/TFM/data/DVS_ActionRecog_dataset/frames_number_16_split_by_time/train/kicking/xiaohuang_3.3.npz] saved.\n",
      "Frames [/Users/marcosesquivelgonzalez/Desktop/MasterCDatos/TFM/data/DVS_ActionRecog_dataset/frames_number_16_split_by_time/train/kicking/ningxiangyu_3.1.npz] saved.\n",
      "Frames [/Users/marcosesquivelgonzalez/Desktop/MasterCDatos/TFM/data/DVS_ActionRecog_dataset/frames_number_16_split_by_time/train/kicking/houjing_3.2.npz] saved.\n",
      "Frames [/Users/marcosesquivelgonzalez/Desktop/MasterCDatos/TFM/data/DVS_ActionRecog_dataset/frames_number_16_split_by_time/train/kicking/xiaohuang_3.1.npz] saved.\n",
      "Frames [/Users/marcosesquivelgonzalez/Desktop/MasterCDatos/TFM/data/DVS_ActionRecog_dataset/frames_number_16_split_by_time/train/kicking/miaoshu_3.2.npz] saved.\n",
      "Frames [/Users/marcosesquivelgonzalez/Desktop/MasterCDatos/TFM/data/DVS_ActionRecog_dataset/frames_number_16_split_by_time/train/kicking/houjing_3.1.npz] saved.\n",
      "Frames [/Users/marcosesquivelgonzalez/Desktop/MasterCDatos/TFM/data/DVS_ActionRecog_dataset/frames_number_16_split_by_time/train/kicking/ningxiangyu_3.2.npz] saved.\n",
      "Frames [/Users/marcosesquivelgonzalez/Desktop/MasterCDatos/TFM/data/DVS_ActionRecog_dataset/frames_number_16_split_by_time/train/kicking/chenjieneng_3.1.npz] saved.\n",
      "Frames [/Users/marcosesquivelgonzalez/Desktop/MasterCDatos/TFM/data/DVS_ActionRecog_dataset/frames_number_16_split_by_time/train/kicking/miaoshu_3.3.npz] saved.\n",
      "Frames [/Users/marcosesquivelgonzalez/Desktop/MasterCDatos/TFM/data/DVS_ActionRecog_dataset/frames_number_16_split_by_time/train/kicking/ningxiangyu_3.3.npz] saved.\n",
      "Frames [/Users/marcosesquivelgonzalez/Desktop/MasterCDatos/TFM/data/DVS_ActionRecog_dataset/frames_number_16_split_by_time/train/kicking/kaibo_3.2.npz] saved.\n",
      "Frames [/Users/marcosesquivelgonzalez/Desktop/MasterCDatos/TFM/data/DVS_ActionRecog_dataset/frames_number_16_split_by_time/train/kicking/kaibo_3.1.npz] saved.\n",
      "Frames [/Users/marcosesquivelgonzalez/Desktop/MasterCDatos/TFM/data/DVS_ActionRecog_dataset/frames_number_16_split_by_time/train/arm crossing/zhangliming_1.3.npz] saved.\n",
      "Frames [/Users/marcosesquivelgonzalez/Desktop/MasterCDatos/TFM/data/DVS_ActionRecog_dataset/frames_number_16_split_by_time/train/arm crossing/ziyang_1.3.npz] saved.\n",
      "Frames [/Users/marcosesquivelgonzalez/Desktop/MasterCDatos/TFM/data/DVS_ActionRecog_dataset/frames_number_16_split_by_time/train/kicking/tanglixuan_3.1.npz] saved.\n",
      "Frames [/Users/marcosesquivelgonzalez/Desktop/MasterCDatos/TFM/data/DVS_ActionRecog_dataset/frames_number_16_split_by_time/train/kicking/tanglixuan_3.2.npz] saved.\n",
      "Frames [/Users/marcosesquivelgonzalez/Desktop/MasterCDatos/TFM/data/DVS_ActionRecog_dataset/frames_number_16_split_by_time/train/arm crossing/ziyang_1.1.npz] saved.\n",
      "Frames [/Users/marcosesquivelgonzalez/Desktop/MasterCDatos/TFM/data/DVS_ActionRecog_dataset/frames_number_16_split_by_time/train/arm crossing/ziyang_1.2.npz] saved.\n",
      "Frames [/Users/marcosesquivelgonzalez/Desktop/MasterCDatos/TFM/data/DVS_ActionRecog_dataset/frames_number_16_split_by_time/train/arm crossing/zhangliming_1.2.npz] saved.\n",
      "Frames [/Users/marcosesquivelgonzalez/Desktop/MasterCDatos/TFM/data/DVS_ActionRecog_dataset/frames_number_16_split_by_time/train/kicking/tanglixuan_3.3.npz] saved.\n",
      "Frames [/Users/marcosesquivelgonzalez/Desktop/MasterCDatos/TFM/data/DVS_ActionRecog_dataset/frames_number_16_split_by_time/train/arm crossing/zhangliming_1.1.npz] saved.\n",
      "Frames [/Users/marcosesquivelgonzalez/Desktop/MasterCDatos/TFM/data/DVS_ActionRecog_dataset/frames_number_16_split_by_time/train/arm crossing/liuxingbo_1.1.npz] saved.\n",
      "Frames [/Users/marcosesquivelgonzalez/Desktop/MasterCDatos/TFM/data/DVS_ActionRecog_dataset/frames_number_16_split_by_time/train/arm crossing/liuxingbo_1.2.npz] saved.\n",
      "Frames [/Users/marcosesquivelgonzalez/Desktop/MasterCDatos/TFM/data/DVS_ActionRecog_dataset/frames_number_16_split_by_time/train/arm crossing/xiaohuang_1.3.npz] saved.\n",
      "Frames [/Users/marcosesquivelgonzalez/Desktop/MasterCDatos/TFM/data/DVS_ActionRecog_dataset/frames_number_16_split_by_time/train/arm crossing/ningxiangyu_1.3.npz] saved.\n",
      "Frames [/Users/marcosesquivelgonzalez/Desktop/MasterCDatos/TFM/data/DVS_ActionRecog_dataset/frames_number_16_split_by_time/train/arm crossing/houjing_1.1.npz] saved.\n",
      "Frames [/Users/marcosesquivelgonzalez/Desktop/MasterCDatos/TFM/data/DVS_ActionRecog_dataset/frames_number_16_split_by_time/train/arm crossing/chenjieneng_1.3.npz] saved.\n",
      "Frames [/Users/marcosesquivelgonzalez/Desktop/MasterCDatos/TFM/data/DVS_ActionRecog_dataset/frames_number_16_split_by_time/train/arm crossing/chenjieneng_1.1.npz] saved.\n",
      "Frames [/Users/marcosesquivelgonzalez/Desktop/MasterCDatos/TFM/data/DVS_ActionRecog_dataset/frames_number_16_split_by_time/train/arm crossing/houjing_1.2.npz] saved.\n",
      "Frames [/Users/marcosesquivelgonzalez/Desktop/MasterCDatos/TFM/data/DVS_ActionRecog_dataset/frames_number_16_split_by_time/train/arm crossing/ningxiangyu_1.2.npz] saved.\n",
      "Frames [/Users/marcosesquivelgonzalez/Desktop/MasterCDatos/TFM/data/DVS_ActionRecog_dataset/frames_number_16_split_by_time/train/arm crossing/ningxiangyu_1.1.npz] saved.\n",
      "Frames [/Users/marcosesquivelgonzalez/Desktop/MasterCDatos/TFM/data/DVS_ActionRecog_dataset/frames_number_16_split_by_time/train/arm crossing/miaoshu_1.2.npz] saved.\n",
      "Frames [/Users/marcosesquivelgonzalez/Desktop/MasterCDatos/TFM/data/DVS_ActionRecog_dataset/frames_number_16_split_by_time/train/arm crossing/kaibo_1.1.npz] saved.\n",
      "Frames [/Users/marcosesquivelgonzalez/Desktop/MasterCDatos/TFM/data/DVS_ActionRecog_dataset/frames_number_16_split_by_time/train/arm crossing/houjing_1.3.npz] saved.\n",
      "Frames [/Users/marcosesquivelgonzalez/Desktop/MasterCDatos/TFM/data/DVS_ActionRecog_dataset/frames_number_16_split_by_time/train/arm crossing/kaibo_1.3.npz] saved.\n",
      "Frames [/Users/marcosesquivelgonzalez/Desktop/MasterCDatos/TFM/data/DVS_ActionRecog_dataset/frames_number_16_split_by_time/train/arm crossing/kaibo_1.2.npz] saved.\n",
      "Frames [/Users/marcosesquivelgonzalez/Desktop/MasterCDatos/TFM/data/DVS_ActionRecog_dataset/frames_number_16_split_by_time/train/arm crossing/tanglixuan_1.2.npz] saved.\n",
      "Frames [/Users/marcosesquivelgonzalez/Desktop/MasterCDatos/TFM/data/DVS_ActionRecog_dataset/frames_number_16_split_by_time/train/jumping/chenjieneng_5.2.npz] saved.\n",
      "Frames [/Users/marcosesquivelgonzalez/Desktop/MasterCDatos/TFM/data/DVS_ActionRecog_dataset/frames_number_16_split_by_time/train/arm crossing/tanglixuan_1.3.npz] saved.\n",
      "Frames [/Users/marcosesquivelgonzalez/Desktop/MasterCDatos/TFM/data/DVS_ActionRecog_dataset/frames_number_16_split_by_time/train/jumping/zhangliming_5.1.npz] saved.\n",
      "Frames [/Users/marcosesquivelgonzalez/Desktop/MasterCDatos/TFM/data/DVS_ActionRecog_dataset/frames_number_16_split_by_time/train/jumping/zhangliming_5.2.npz] saved.\n",
      "Frames [/Users/marcosesquivelgonzalez/Desktop/MasterCDatos/TFM/data/DVS_ActionRecog_dataset/frames_number_16_split_by_time/train/jumping/zhangliming_5.3.npz] saved.\n",
      "Frames [/Users/marcosesquivelgonzalez/Desktop/MasterCDatos/TFM/data/DVS_ActionRecog_dataset/frames_number_16_split_by_time/train/jumping/ziyang_5.2.npz] saved.\n",
      "Frames [/Users/marcosesquivelgonzalez/Desktop/MasterCDatos/TFM/data/DVS_ActionRecog_dataset/frames_number_16_split_by_time/train/jumping/liuxingbo_5.2.npz] saved.\n",
      "Frames [/Users/marcosesquivelgonzalez/Desktop/MasterCDatos/TFM/data/DVS_ActionRecog_dataset/frames_number_16_split_by_time/train/jumping/ziyang_5.3.npz] saved.\n",
      "Frames [/Users/marcosesquivelgonzalez/Desktop/MasterCDatos/TFM/data/DVS_ActionRecog_dataset/frames_number_16_split_by_time/train/jumping/houjing_5.3.npz] saved.\n",
      "Frames [/Users/marcosesquivelgonzalez/Desktop/MasterCDatos/TFM/data/DVS_ActionRecog_dataset/frames_number_16_split_by_time/train/jumping/xiaohuang_5.3.npz] saved.\n",
      "Frames [/Users/marcosesquivelgonzalez/Desktop/MasterCDatos/TFM/data/DVS_ActionRecog_dataset/frames_number_16_split_by_time/train/jumping/xiaohuang_5.1.npz] saved.\n",
      "Frames [/Users/marcosesquivelgonzalez/Desktop/MasterCDatos/TFM/data/DVS_ActionRecog_dataset/frames_number_16_split_by_time/train/jumping/houjing_5.2.npz] saved.\n",
      "Frames [/Users/marcosesquivelgonzalez/Desktop/MasterCDatos/TFM/data/DVS_ActionRecog_dataset/frames_number_16_split_by_time/train/sit-down/zhangliming_6.3.npz] saved.\n",
      "Frames [/Users/marcosesquivelgonzalez/Desktop/MasterCDatos/TFM/data/DVS_ActionRecog_dataset/frames_number_16_split_by_time/train/sit-down/liuxingbo_6.2.npz] saved.\n",
      "Frames [/Users/marcosesquivelgonzalez/Desktop/MasterCDatos/TFM/data/DVS_ActionRecog_dataset/frames_number_16_split_by_time/train/sit-down/liuxingbo_6.3.npz] saved.\n",
      "Frames [/Users/marcosesquivelgonzalez/Desktop/MasterCDatos/TFM/data/DVS_ActionRecog_dataset/frames_number_16_split_by_time/train/jumping/chenjieneng_5.3.npz] saved.\n",
      "Frames [/Users/marcosesquivelgonzalez/Desktop/MasterCDatos/TFM/data/DVS_ActionRecog_dataset/frames_number_16_split_by_time/train/jumping/tanglixuan_5.3.npz] saved.\n",
      "Frames [/Users/marcosesquivelgonzalez/Desktop/MasterCDatos/TFM/data/DVS_ActionRecog_dataset/frames_number_16_split_by_time/train/sit-down/ziyang_6.1.npz] saved.\n",
      "Frames [/Users/marcosesquivelgonzalez/Desktop/MasterCDatos/TFM/data/DVS_ActionRecog_dataset/frames_number_16_split_by_time/train/jumping/houjing_5.1.npz] saved.\n",
      "Frames [/Users/marcosesquivelgonzalez/Desktop/MasterCDatos/TFM/data/DVS_ActionRecog_dataset/frames_number_16_split_by_time/train/sit-down/zhangliming_6.2.npz] saved.\n",
      "Frames [/Users/marcosesquivelgonzalez/Desktop/MasterCDatos/TFM/data/DVS_ActionRecog_dataset/frames_number_16_split_by_time/train/sit-down/ziyang_6.3.npz] saved.\n",
      "Frames [/Users/marcosesquivelgonzalez/Desktop/MasterCDatos/TFM/data/DVS_ActionRecog_dataset/frames_number_16_split_by_time/train/jumping/kaibo_5.3.npz] saved.\n",
      "Frames [/Users/marcosesquivelgonzalez/Desktop/MasterCDatos/TFM/data/DVS_ActionRecog_dataset/frames_number_16_split_by_time/train/jumping/tanglixuan_5.2.npz] saved.\n",
      "Frames [/Users/marcosesquivelgonzalez/Desktop/MasterCDatos/TFM/data/DVS_ActionRecog_dataset/frames_number_16_split_by_time/train/jumping/kaibo_5.1.npz] saved.\n",
      "Frames [/Users/marcosesquivelgonzalez/Desktop/MasterCDatos/TFM/data/DVS_ActionRecog_dataset/frames_number_16_split_by_time/train/sit-down/chnejieneng_6.1.npz] saved.\n",
      "Frames [/Users/marcosesquivelgonzalez/Desktop/MasterCDatos/TFM/data/DVS_ActionRecog_dataset/frames_number_16_split_by_time/train/sit-down/ziyang_6.2.npz] saved.\n",
      "Frames [/Users/marcosesquivelgonzalez/Desktop/MasterCDatos/TFM/data/DVS_ActionRecog_dataset/frames_number_16_split_by_time/train/sit-down/tanglixuan_6.2.npz] saved.\n",
      "Frames [/Users/marcosesquivelgonzalez/Desktop/MasterCDatos/TFM/data/DVS_ActionRecog_dataset/frames_number_16_split_by_time/train/sit-down/miaoshu_6.3.npz] saved.\n",
      "Frames [/Users/marcosesquivelgonzalez/Desktop/MasterCDatos/TFM/data/DVS_ActionRecog_dataset/frames_number_16_split_by_time/train/sit-down/tanglixuan_6.1.npz] saved.\n",
      "Frames [/Users/marcosesquivelgonzalez/Desktop/MasterCDatos/TFM/data/DVS_ActionRecog_dataset/frames_number_16_split_by_time/train/sit-down/miaoshu_6.2.npz] saved.\n",
      "Frames [/Users/marcosesquivelgonzalez/Desktop/MasterCDatos/TFM/data/DVS_ActionRecog_dataset/frames_number_16_split_by_time/train/sit-down/miaoshu_6.1.npz] saved.\n",
      "Frames [/Users/marcosesquivelgonzalez/Desktop/MasterCDatos/TFM/data/DVS_ActionRecog_dataset/frames_number_16_split_by_time/train/sit-down/kaibo_6.2.npz] saved.\n",
      "Frames [/Users/marcosesquivelgonzalez/Desktop/MasterCDatos/TFM/data/DVS_ActionRecog_dataset/frames_number_16_split_by_time/train/sit-down/xiaohuang_6.2.npz] saved.\n",
      "Frames [/Users/marcosesquivelgonzalez/Desktop/MasterCDatos/TFM/data/DVS_ActionRecog_dataset/frames_number_16_split_by_time/train/sit-down/chenjieneng_6.2.npz] saved.\n",
      "Frames [/Users/marcosesquivelgonzalez/Desktop/MasterCDatos/TFM/data/DVS_ActionRecog_dataset/frames_number_16_split_by_time/train/sit-down/chenjieneng_6.3.npz] saved.\n",
      "Frames [/Users/marcosesquivelgonzalez/Desktop/MasterCDatos/TFM/data/DVS_ActionRecog_dataset/frames_number_16_split_by_time/train/sit-down/xiaohuang_6.3.npz] saved.\n",
      "Frames [/Users/marcosesquivelgonzalez/Desktop/MasterCDatos/TFM/data/DVS_ActionRecog_dataset/frames_number_16_split_by_time/train/sit-down/houjing_6.3.npz] saved.\n",
      "Frames [/Users/marcosesquivelgonzalez/Desktop/MasterCDatos/TFM/data/DVS_ActionRecog_dataset/frames_number_16_split_by_time/train/sit-down/kaibo_6.1.npz] saved.\n",
      "Frames [/Users/marcosesquivelgonzalez/Desktop/MasterCDatos/TFM/data/DVS_ActionRecog_dataset/frames_number_16_split_by_time/train/sit-down/houjing_6.2.npz] saved.\n",
      "Frames [/Users/marcosesquivelgonzalez/Desktop/MasterCDatos/TFM/data/DVS_ActionRecog_dataset/frames_number_16_split_by_time/train/sit-down/houjing_6.1.npz] saved.\n",
      "Frames [/Users/marcosesquivelgonzalez/Desktop/MasterCDatos/TFM/data/DVS_ActionRecog_dataset/frames_number_16_split_by_time/train/sit-down/ningxiangyu_6.3.npz] saved.\n",
      "Frames [/Users/marcosesquivelgonzalez/Desktop/MasterCDatos/TFM/data/DVS_ActionRecog_dataset/frames_number_16_split_by_time/train/sit-down/ningxiangyu_6.2.npz] saved.\n",
      "Used time = [21.64s].\n",
      "The directory [/Users/marcosesquivelgonzalez/Desktop/MasterCDatos/TFM/data/DVS_ActionRecog_dataset/frames_number_16_split_by_time] already exists.\n"
     ]
    }
   ],
   "source": [
    "from Datasets import DVSActionRecog\n",
    "from spikingjelly.datasets import play_frame \n",
    "AR_dir = '/Users/marcosesquivelgonzalez/Desktop/MasterCDatos/TFM/data/DVS_ActionRecog_dataset'\n",
    "T = 16\n",
    "data = DVSActionRecog(AR_dir,train=True, data_type='frame', frames_number=T, split_by='time')\n",
    "data_test = DVSActionRecog(AR_dir,train=False, data_type='frame', frames_number=T, split_by='time')\n",
    "play_frame(train_set[0][0],save_gif_to=os.path.join(os.getcwd(),'prueba.gif'))"
   ]
  },
  {
   "cell_type": "code",
   "execution_count": 7,
   "metadata": {},
   "outputs": [
    {
     "data": {
      "text/plain": [
       "(16, 2, 260, 346)"
      ]
     },
     "execution_count": 7,
     "metadata": {},
     "output_type": "execute_result"
    }
   ],
   "source": [
    "data[0][0].shape"
   ]
  },
  {
   "cell_type": "code",
   "execution_count": 17,
   "metadata": {},
   "outputs": [
    {
     "data": {
      "text/plain": [
       "array([0], dtype=uint32)"
      ]
     },
     "execution_count": 17,
     "metadata": {},
     "output_type": "execute_result"
    }
   ],
   "source": [
    "import numpy as np\n",
    "k = np.load('/Users/marcosesquivelgonzalez/Desktop/MasterCDatos/TFM/data/DVS_ActionRecog_dataset/events_np/train/arm crossing/chenjieneng_1.1.npz')\n",
    "np.unique(k['p'])"
   ]
  },
  {
   "cell_type": "code",
   "execution_count": 8,
   "metadata": {},
   "outputs": [
    {
     "name": "stderr",
     "output_type": "stream",
     "text": [
      "/Users/marcosesquivelgonzalez/pyenviroments/tfm/lib/python3.11/site-packages/tqdm/auto.py:21: TqdmWarning: IProgress not found. Please update jupyter and ipywidgets. See https://ipywidgets.readthedocs.io/en/stable/user_install.html\n",
      "  from .autonotebook import tqdm as notebook_tqdm\n"
     ]
    },
    {
     "data": {
      "text/plain": [
       "array([0., 1.])"
      ]
     },
     "execution_count": 8,
     "metadata": {},
     "output_type": "execute_result"
    }
   ],
   "source": [
    "from Datasets import DVSActionRecog\n",
    "import numpy as np\n",
    "AR_example_aedat = '/Users/marcosesquivelgonzalez/Desktop/MasterCDatos/TFM/data/DVS_ActionRecog_dataset/extract/ActionRecognition/arm crossing/chenjieneng_1.1.aedat'\n",
    "t = DVSActionRecog.load_origin_data(AR_example_aedat)\n",
    "np.unique(t['p'])"
   ]
  },
  {
   "cell_type": "code",
   "execution_count": 10,
   "metadata": {},
   "outputs": [
    {
     "data": {
      "text/plain": [
       "(260, 346)"
      ]
     },
     "execution_count": 10,
     "metadata": {},
     "output_type": "execute_result"
    }
   ],
   "source": [
    "DVSActionRecog.get_H_W()"
   ]
  },
  {
   "cell_type": "code",
   "execution_count": 28,
   "metadata": {},
   "outputs": [],
   "source": [
    "import tonic \n",
    "t2 = DVSDailyActions.load_origin_data(AR_example_aedat)"
   ]
  },
  {
   "cell_type": "code",
   "execution_count": 34,
   "metadata": {},
   "outputs": [
    {
     "data": {
      "text/plain": [
       "0"
      ]
     },
     "execution_count": 34,
     "metadata": {},
     "output_type": "execute_result"
    }
   ],
   "source": [
    "t2['y'].max()"
   ]
  },
  {
   "cell_type": "code",
   "execution_count": 1,
   "metadata": {},
   "outputs": [
    {
     "name": "stdout",
     "output_type": "stream",
     "text": [
      "[6.02236781 6.43462823]\n"
     ]
    }
   ],
   "source": [
    "from models import myDVSGestureNet\n",
    "from spikingjelly.activation_based import surrogate, neuron\n",
    "\n",
    "k = myDVSGestureNet(channels=128, output_size = 10, input_sizexy =(260,346),spiking_neuron=neuron.LIFNode, surrogate_function=surrogate.ATan(), detach_reset=True)"
   ]
  },
  {
   "cell_type": "code",
   "execution_count": 38,
   "metadata": {},
   "outputs": [
    {
     "name": "stdout",
     "output_type": "stream",
     "text": [
      "cat\n"
     ]
    }
   ],
   "source": [
    "label_def = '/Users/marcosesquivelgonzalez/Desktop/MasterCDatos/TFM/data/DVS_Animals_Dataset/extract/SL-Animals-DVS_gestures_definitions.csv'\n",
    "import numpy as np\n",
    "labels_load = np.loadtxt(label_def,dtype=str,delimiter=',',skiprows=1)\n",
    "labels_dict = dict()\n",
    "for label in labels_load:\n",
    "    labels_dict[int(label[0]) - 1] = label[1]\n",
    "\n",
    "print(labels_dict[0])\n"
   ]
  },
  {
   "cell_type": "code",
   "execution_count": 4,
   "metadata": {},
   "outputs": [
    {
     "name": "stdout",
     "output_type": "stream",
     "text": [
      "['picking up', 'get-up', 'turning around', 'waving', 'throwing', 'walking', 'kicking', 'arm crossing', 'jumping', 'sit-down']\n",
      "arm crossing\n",
      "['kaibo_1.3.aedat', 'houjing_1.2.aedat', 'houjing_1.3.aedat', 'liuxingbo_1.3.aedat', 'chenjieneng_1.3.aedat', 'zhangliming_1.3.aedat', 'tanglixuan_1.3.aedat', 'ningxiangyu_1.2.aedat', 'tanglixuan_1.2.aedat', 'miaoshu_1.1.aedat', 'zhangliming_1.1.aedat', 'liuxingbo_1.1.aedat', 'xiaohuang_1.2.aedat', 'chenjieneng_1.1.aedat', 'miaoshu_1.3.aedat', 'chenjieneng_1.2.aedat', 'ziyang_1.3.aedat', 'ziyang_1.2.aedat', 'liuxingbo_1.2.aedat', 'ningxiangyu_1.3.aedat', 'zhangliming_1.2.aedat', 'kaibo_1.2.aedat', 'ziyang_1.1.aedat', 'kaibo_1.1.aedat']\n",
      "['houjing_1.1.aedat', 'miaoshu_1.2.aedat', 'xiaohuang_1.1.aedat', 'tanglixuan_1.1.aedat', 'ningxiangyu_1.1.aedat', 'xiaohuang_1.3.aedat']\n"
     ]
    }
   ],
   "source": [
    "from Datasets import DVSActionRecog\n",
    "import numpy as np\n",
    "import os\n",
    "import random \n",
    "random.seed(42)\n",
    "extract_root = '/Users/marcosesquivelgonzalez/Desktop/MasterCDatos/TFM/data/DVS_ActionRecog_dataset/extract'\n",
    "aedats_directories = os.path.join(extract_root,'ActionRecognition')\n",
    "labels = [it.name for it in os.scandir(aedats_directories) if it.is_dir()] \n",
    "print(labels)\n",
    "[dir for dir in os.listdir(aedats_directories)]\n",
    "for label in labels[-3:-2]:\n",
    "    print(label)\n",
    "    aedat_dir = os.path.join(aedats_directories,label)\n",
    "    aedats_list = [file for file in os.listdir(aedat_dir) if file.endswith('.aedat')]\n",
    "    random.shuffle(aedats_list)\n",
    "    print(aedats_list[0:24])\n",
    "    print(aedats_list[24:])"
   ]
  },
  {
   "cell_type": "code",
   "execution_count": 5,
   "metadata": {},
   "outputs": [
    {
     "data": {
      "text/plain": [
       "'hola/grupo'"
      ]
     },
     "execution_count": 5,
     "metadata": {},
     "output_type": "execute_result"
    }
   ],
   "source": [
    "os.path.join('hola','grupo')"
   ]
  },
  {
   "cell_type": "code",
   "execution_count": null,
   "metadata": {},
   "outputs": [],
   "source": [
    "import os\n",
    "aedat_dir = '/Users/marcosesquivelgonzalez/Desktop/MasterCDatos/TFM/data/DailyAction-DVS/extract/DailyAction'\n",
    "for it in os.scandir(aedat_dir):\n",
    "    if it.is_dir():\n",
    "        it.name\n",
    "\n",
    "subfolders = [it.name for it in os.scandir(aedat_dir) if it.is_dir()]"
   ]
  },
  {
   "cell_type": "code",
   "execution_count": 20,
   "metadata": {},
   "outputs": [
    {
     "name": "stdout",
     "output_type": "stream",
     "text": [
      "3\n"
     ]
    }
   ],
   "source": [
    "k = input()\n",
    "l = 3 if len(k)==0 else 8\n",
    "print(l)"
   ]
  }
 ],
 "metadata": {
  "kernelspec": {
   "display_name": "tfm",
   "language": "python",
   "name": "python3"
  },
  "language_info": {
   "codemirror_mode": {
    "name": "ipython",
    "version": 3
   },
   "file_extension": ".py",
   "mimetype": "text/x-python",
   "name": "python",
   "nbconvert_exporter": "python",
   "pygments_lexer": "ipython3",
   "version": "3.11.2"
  },
  "orig_nbformat": 4
 },
 "nbformat": 4,
 "nbformat_minor": 2
}
