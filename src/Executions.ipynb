{
 "cells": [
  {
   "attachments": {},
   "cell_type": "markdown",
   "metadata": {},
   "source": [
    "# Experimento 1\n",
    "Usando la red de spiking_jelly, es decir, DVSGesture_net probar su rendimiento en distintos datasets.\n"
   ]
  },
  {
   "cell_type": "code",
   "execution_count": 1,
   "metadata": {},
   "outputs": [
    {
     "name": "stdout",
     "output_type": "stream",
     "text": [
      "True\n"
     ]
    }
   ],
   "source": [
    "import torch\n",
    "cuda_available = torch.cuda.is_available()\n",
    "print(cuda_available)"
   ]
  },
  {
   "cell_type": "code",
   "execution_count": 1,
   "metadata": {},
   "outputs": [
    {
     "data": {
      "text/plain": [
       "'v8ng5wwx'"
      ]
     },
     "execution_count": 1,
     "metadata": {},
     "output_type": "execute_result"
    }
   ],
   "source": [
    "import wandb\n",
    "\n",
    "api = wandb.Api()\n",
    "\n",
    "\"\"\"\n",
    "username = wandb.run.entity\n",
    "project = wandb.run.project\n",
    "run_id = wandb.run.id\n",
    "\"\"\"\n",
    "run = api.run(f'tfm_datcom/Experimento1/v8ng5wwx')\n",
    "run.id"
   ]
  },
  {
   "cell_type": "code",
   "execution_count": 10,
   "metadata": {},
   "outputs": [
    {
     "name": "stdout",
     "output_type": "stream",
     "text": [
      "Changes done\n"
     ]
    }
   ],
   "source": [
    "if run.config['architecture']=='DVS_SNN':\n",
    "    run.config['architecture'] = 'DVSG_net'\n",
    "    print('Changes done')\n",
    "    run.update()\n"
   ]
  },
  {
   "cell_type": "code",
   "execution_count": 14,
   "metadata": {},
   "outputs": [
    {
     "name": "stdout",
     "output_type": "stream",
     "text": [
      "47 12\n"
     ]
    }
   ],
   "source": [
    "import os\n",
    "from sklearn.model_selection import train_test_split\n",
    "end_files = '.aedat'\n",
    "aedat_dir = '/Users/marcosesquivelgonzalez/Desktop/MasterCDatos/TFM/data/DVS_Animals_Dataset/extract/Animals/'\n",
    "aedats_list = [file for file in os.listdir(aedat_dir) if file.endswith(end_files)]\n",
    "sublabels_list = [file.split('_')[1] for file in aedats_list] \n",
    "train, test = train_test_split(aedats_list,stratify=sublabels_list,test_size=0.2)\n",
    "print(len(train),len(test))"
   ]
  },
  {
   "cell_type": "code",
   "execution_count": 40,
   "metadata": {},
   "outputs": [
    {
     "data": {
      "text/plain": [
       "['cat',\n",
       " 'dog',\n",
       " 'camel',\n",
       " 'cow',\n",
       " 'sheep',\n",
       " 'goat',\n",
       " 'wolf',\n",
       " 'squirrel',\n",
       " 'mouse',\n",
       " 'dolphin',\n",
       " 'shark',\n",
       " 'lion',\n",
       " 'monkey',\n",
       " 'snake',\n",
       " 'spider',\n",
       " 'butterfly',\n",
       " 'bird',\n",
       " 'duck',\n",
       " 'zebra']"
      ]
     },
     "execution_count": 40,
     "metadata": {},
     "output_type": "execute_result"
    }
   ],
   "source": [
    "import numpy as np\n",
    "root = '/Users/marcosesquivelgonzalez/Desktop/MasterCDatos/TFM/data/DVS_Animals_Dataset'\n",
    "labeldef_root = os.path.join(root,'extract','SL-Animals-DVS_gestures_definitions.csv')\n",
    "labels_load = np.loadtxt(labeldef_root,dtype=str,delimiter=',',skiprows=1)\n",
    "labels_defs = dict()\n",
    "for label in labels_load:\n",
    "    labels_defs[label[1]] = int(label[0]) - 1\n",
    "list(labels_defs.keys())"
   ]
  },
  {
   "cell_type": "code",
   "execution_count": 1,
   "metadata": {},
   "outputs": [
    {
     "name": "stderr",
     "output_type": "stream",
     "text": [
      "/Users/marcosesquivelgonzalez/pyenviroments/tfm/lib/python3.11/site-packages/tqdm/auto.py:21: TqdmWarning: IProgress not found. Please update jupyter and ipywidgets. See https://ipywidgets.readthedocs.io/en/stable/user_install.html\n",
      "  from .autonotebook import tqdm as notebook_tqdm\n"
     ]
    },
    {
     "name": "stdout",
     "output_type": "stream",
     "text": [
      "The directory [/Users/marcosesquivelgonzalez/Desktop/MasterCDatos/TFM/data/DVS_DailyAction_dataset/frames_number_16_split_by_number] already exists.\n",
      "The directory [/Users/marcosesquivelgonzalez/Desktop/MasterCDatos/TFM/data/DVS_DailyAction_dataset/frames_number_16_split_by_number] already exists.\n"
     ]
    }
   ],
   "source": [
    "from Laboratory import loading_data\n",
    "root_animals = '/Users/marcosesquivelgonzalez/Desktop/MasterCDatos/TFM/data/DVS_Animals_Dataset'\n",
    "root_dailyactions = '/Users/marcosesquivelgonzalez/Desktop/MasterCDatos/TFM/data/DVS_DailyAction_dataset'\n",
    "\n",
    "data,_,_ = loading_data(root_dailyactions,tr_tst_split=False)"
   ]
  },
  {
   "cell_type": "code",
   "execution_count": 6,
   "metadata": {},
   "outputs": [],
   "source": [
    "import numpy as np\n",
    "k = np.load('/Users/marcosesquivelgonzalez/Desktop/MasterCDatos/TFM/data/DVS_Animals_Dataset/events_np/train/butterfly/user01_indoor_0.npz')"
   ]
  },
  {
   "cell_type": "code",
   "execution_count": 111,
   "metadata": {},
   "outputs": [
    {
     "data": {
      "text/plain": [
       "array([[ 0,  0,  1],\n",
       "       [ 0,  1,  2],\n",
       "       [ 1,  1,  2],\n",
       "       [ 1,  3,  4],\n",
       "       [ 1,  8, 23],\n",
       "       [ 1,  9,  2]])"
      ]
     },
     "execution_count": 111,
     "metadata": {},
     "output_type": "execute_result"
    }
   ],
   "source": [
    "np.array(pyx)[posic]"
   ]
  },
  {
   "cell_type": "code",
   "execution_count": 117,
   "metadata": {},
   "outputs": [
    {
     "name": "stdout",
     "output_type": "stream",
     "text": [
      "0 0 1 1\n",
      "0 1 2 0\n",
      "1 1 2 3\n",
      "1 3 4 4\n",
      "1 8 23 7\n",
      "1 9 2 8\n"
     ]
    }
   ],
   "source": []
  },
  {
   "cell_type": "code",
   "execution_count": 112,
   "metadata": {},
   "outputs": [
    {
     "name": "stdout",
     "output_type": "stream",
     "text": [
      "0 0 1\n",
      "0 1 2\n",
      "1 1 2\n",
      "1 3 4\n",
      "1 8 23\n",
      "1 9 2\n"
     ]
    }
   ],
   "source": [
    "for p,y,x in uniq_values:\n",
    "    print(p,y,x)"
   ]
  },
  {
   "cell_type": "code",
   "execution_count": 20,
   "metadata": {},
   "outputs": [
    {
     "name": "stdout",
     "output_type": "stream",
     "text": [
      "Tamaño:  9\n",
      "Unique values:  [[ 1  0  0]\n",
      " [ 2  1  0]\n",
      " [ 2  1  1]\n",
      " [ 2  9  1]\n",
      " [ 4  3  1]\n",
      " [12  8  1]]\n",
      "index_of values:  [1 0 3 8 4 7]\n",
      "X from unique values: [0 0 1 1 1 1]\n",
      "(6, 3)\n"
     ]
    }
   ],
   "source": [
    "import numpy as np\n",
    "x = np.array([2,1,4,2,4,12,2,12,2])\n",
    "y = np.array([1,0,3,1,3,8,9,8,9])\n",
    "p = np.array([0,0,1,1,1,1,1,1,1])\n",
    "print('Tamaño: ',len(x))\n",
    "t = np.array([1,3,8,12,24,36,40,45,50])\n",
    "#pyx = [(p_,y_,x_) for x_,y_,p_ in zip(x,y,p)]\n",
    "#print('Array de valores xy: ',xy)\n",
    "#print(np.unique(xy,axis=0))\n",
    "#uniq_values, posic_inverted = np.unique(pyx[::-1],axis=0,return_index=True)\n",
    "uniq_values, posic_inverted = np.unique(list(zip(x,y,p))[::-1],axis=0,return_index=True)\n",
    "posic = len(x) - posic_inverted - 1\n",
    "print('Unique values: ',uniq_values)\n",
    "print('index_of values: ', posic)\n",
    "print('X from unique values:',x_uniq)\n",
    "print(uniq_values.shape)"
   ]
  },
  {
   "cell_type": "code",
   "execution_count": 23,
   "metadata": {},
   "outputs": [
    {
     "name": "stdout",
     "output_type": "stream",
     "text": [
      "50\n"
     ]
    }
   ],
   "source": [
    "x_uniq,y_uniq,z_uniq = uniq_values[:,0],uniq_values[:,1],uniq_values[:,2]\n",
    "matriz = np.zeros((14,14,14),dtype=np.int64)\n",
    "matriz[x_uniq,y_uniq,z_uniq] = t[posic]\n",
    "print(matriz[2,9,1])"
   ]
  },
  {
   "cell_type": "code",
   "execution_count": 119,
   "metadata": {},
   "outputs": [
    {
     "name": "stdout",
     "output_type": "stream",
     "text": [
      "[0.13533528 0.12600565 0.15611805 0.13533528 0.16767725 0.60653066]\n",
      "[0.13533528 0.12600565 0.15611805 0.13533528 0.16767725 0.60653066]\n"
     ]
    }
   ],
   "source": [
    "l = np.array([2,1,4,2,5,23])\n",
    "l_0 = 30\n",
    "tau = 14\n",
    "print(np.exp((l-l_0)/tau))\n",
    "outputs = []\n",
    "for l_i in l:\n",
    "    outputs.append( np.e**((l_i-l_0)/tau) )\n",
    "print(np.array(outputs))\n"
   ]
  },
  {
   "cell_type": "code",
   "execution_count": 12,
   "metadata": {},
   "outputs": [
    {
     "data": {
      "text/plain": [
       "4.421317999999999"
      ]
     },
     "execution_count": 12,
     "metadata": {},
     "output_type": "execute_result"
    }
   ],
   "source": [
    "(k['t'][-1] - k['t'][0])*1e-6"
   ]
  },
  {
   "cell_type": "code",
   "execution_count": 123,
   "metadata": {},
   "outputs": [
    {
     "name": "stdout",
     "output_type": "stream",
     "text": [
      "The directory [/Users/marcosesquivelgonzalez/Desktop/MasterCDatos/TFM/data/DVS_DailyAction_dataset/frames_number_16_split_by_number] already exists.\n"
     ]
    }
   ],
   "source": [
    "train_set = DVSDailyActions(root = root_dailyactions,train = True, data_type = 'frame', frames_number = 16, split_by = 'number') "
   ]
  },
  {
   "cell_type": "code",
   "execution_count": null,
   "metadata": {},
   "outputs": [],
   "source": [
    "from Datasets import DVSDailyActions\n",
    "root_dailyactions = '/Users/marcosesquivelgonzalez/Desktop/MasterCDatos/TFM/data/DVS_DailyAction_dataset'\n",
    "data = DVSDailyActions(root = root_dailyactions,train = True, data_type = 'frame', frames_number = 16,split_by='exp_decay',factor_tau = 1"
   ]
  },
  {
   "cell_type": "code",
   "execution_count": 29,
   "metadata": {},
   "outputs": [
    {
     "data": {
      "text/plain": [
       "(16, 2, 128, 128)"
      ]
     },
     "execution_count": 29,
     "metadata": {},
     "output_type": "execute_result"
    }
   ],
   "source": [
    "data[0][0].shape"
   ]
  },
  {
   "cell_type": "code",
   "execution_count": 23,
   "metadata": {},
   "outputs": [],
   "source": [
    "import numpy as np\n",
    "npz_file_prev = '/Users/marcosesquivelgonzalez/Desktop/MasterCDatos/TFM/frames_number_16_split_by_exp_decay/test/bend/gh1111.npz'\n",
    "npz_file_now = '/Users/marcosesquivelgonzalez/Desktop/MasterCDatos/TFM/data/DVS_DailyAction_dataset/frames_number_16_split_by_exp_decay/test/bend/gh1111.npz'\n",
    "k_prev = np.load(npz_file_prev)\n",
    "k_now = np.load(npz_file_now)"
   ]
  },
  {
   "cell_type": "code",
   "execution_count": 24,
   "metadata": {},
   "outputs": [
    {
     "data": {
      "text/plain": [
       "True"
      ]
     },
     "execution_count": 24,
     "metadata": {},
     "output_type": "execute_result"
    }
   ],
   "source": [
    "np.all(k_prev['frames'] == k_now['frames'])"
   ]
  },
  {
   "cell_type": "code",
   "execution_count": 128,
   "metadata": {},
   "outputs": [
    {
     "name": "stdout",
     "output_type": "stream",
     "text": [
      "True\n"
     ]
    }
   ],
   "source": [
    "split_by = 'exp_decay'\n",
    "print(split_by in ('exp_decay','number','time'))"
   ]
  },
  {
   "cell_type": "code",
   "execution_count": 30,
   "metadata": {},
   "outputs": [
    {
     "name": "stdout",
     "output_type": "stream",
     "text": [
      "Save frames to [/Users/marcosesquivelgonzalez/Desktop/MasterCDatos/TFM/src/gifs_DailyActions_label0_timedecay/data_0.gif].\n",
      "Save frames to [/Users/marcosesquivelgonzalez/Desktop/MasterCDatos/TFM/src/gifs_DailyActions_label0_timedecay/data_1.gif].\n",
      "Save frames to [/Users/marcosesquivelgonzalez/Desktop/MasterCDatos/TFM/src/gifs_DailyActions_label0_timedecay/data_2.gif].\n",
      "Save frames to [/Users/marcosesquivelgonzalez/Desktop/MasterCDatos/TFM/src/gifs_DailyActions_label0_timedecay/data_3.gif].\n",
      "Save frames to [/Users/marcosesquivelgonzalez/Desktop/MasterCDatos/TFM/src/gifs_DailyActions_label0_timedecay/data_4.gif].\n",
      "Save frames to [/Users/marcosesquivelgonzalez/Desktop/MasterCDatos/TFM/src/gifs_DailyActions_label0_timedecay/data_5.gif].\n",
      "Save frames to [/Users/marcosesquivelgonzalez/Desktop/MasterCDatos/TFM/src/gifs_DailyActions_label0_timedecay/data_6.gif].\n",
      "Save frames to [/Users/marcosesquivelgonzalez/Desktop/MasterCDatos/TFM/src/gifs_DailyActions_label0_timedecay/data_7.gif].\n",
      "Save frames to [/Users/marcosesquivelgonzalez/Desktop/MasterCDatos/TFM/src/gifs_DailyActions_label0_timedecay/data_8.gif].\n",
      "Save frames to [/Users/marcosesquivelgonzalez/Desktop/MasterCDatos/TFM/src/gifs_DailyActions_label0_timedecay/data_9.gif].\n",
      "Save frames to [/Users/marcosesquivelgonzalez/Desktop/MasterCDatos/TFM/src/gifs_DailyActions_label0_timedecay/data_10.gif].\n",
      "Save frames to [/Users/marcosesquivelgonzalez/Desktop/MasterCDatos/TFM/src/gifs_DailyActions_label0_timedecay/data_11.gif].\n",
      "Save frames to [/Users/marcosesquivelgonzalez/Desktop/MasterCDatos/TFM/src/gifs_DailyActions_label0_timedecay/data_12.gif].\n",
      "Save frames to [/Users/marcosesquivelgonzalez/Desktop/MasterCDatos/TFM/src/gifs_DailyActions_label0_timedecay/data_13.gif].\n",
      "Save frames to [/Users/marcosesquivelgonzalez/Desktop/MasterCDatos/TFM/src/gifs_DailyActions_label0_timedecay/data_14.gif].\n",
      "Save frames to [/Users/marcosesquivelgonzalez/Desktop/MasterCDatos/TFM/src/gifs_DailyActions_label0_timedecay/data_15.gif].\n",
      "Save frames to [/Users/marcosesquivelgonzalez/Desktop/MasterCDatos/TFM/src/gifs_DailyActions_label0_timedecay/data_16.gif].\n",
      "Save frames to [/Users/marcosesquivelgonzalez/Desktop/MasterCDatos/TFM/src/gifs_DailyActions_label0_timedecay/data_17.gif].\n",
      "Save frames to [/Users/marcosesquivelgonzalez/Desktop/MasterCDatos/TFM/src/gifs_DailyActions_label0_timedecay/data_18.gif].\n",
      "Save frames to [/Users/marcosesquivelgonzalez/Desktop/MasterCDatos/TFM/src/gifs_DailyActions_label0_timedecay/data_19.gif].\n",
      "Save frames to [/Users/marcosesquivelgonzalez/Desktop/MasterCDatos/TFM/src/gifs_DailyActions_label0_timedecay/data_20.gif].\n",
      "Save frames to [/Users/marcosesquivelgonzalez/Desktop/MasterCDatos/TFM/src/gifs_DailyActions_label0_timedecay/data_21.gif].\n",
      "Save frames to [/Users/marcosesquivelgonzalez/Desktop/MasterCDatos/TFM/src/gifs_DailyActions_label0_timedecay/data_22.gif].\n",
      "Save frames to [/Users/marcosesquivelgonzalez/Desktop/MasterCDatos/TFM/src/gifs_DailyActions_label0_timedecay/data_23.gif].\n",
      "Save frames to [/Users/marcosesquivelgonzalez/Desktop/MasterCDatos/TFM/src/gifs_DailyActions_label0_timedecay/data_24.gif].\n",
      "Save frames to [/Users/marcosesquivelgonzalez/Desktop/MasterCDatos/TFM/src/gifs_DailyActions_label0_timedecay/data_25.gif].\n",
      "Save frames to [/Users/marcosesquivelgonzalez/Desktop/MasterCDatos/TFM/src/gifs_DailyActions_label0_timedecay/data_26.gif].\n",
      "Save frames to [/Users/marcosesquivelgonzalez/Desktop/MasterCDatos/TFM/src/gifs_DailyActions_label0_timedecay/data_27.gif].\n",
      "Save frames to [/Users/marcosesquivelgonzalez/Desktop/MasterCDatos/TFM/src/gifs_DailyActions_label0_timedecay/data_28.gif].\n",
      "Save frames to [/Users/marcosesquivelgonzalez/Desktop/MasterCDatos/TFM/src/gifs_DailyActions_label0_timedecay/data_29.gif].\n",
      "Save frames to [/Users/marcosesquivelgonzalez/Desktop/MasterCDatos/TFM/src/gifs_DailyActions_label0_timedecay/data_30.gif].\n",
      "Save frames to [/Users/marcosesquivelgonzalez/Desktop/MasterCDatos/TFM/src/gifs_DailyActions_label0_timedecay/data_31.gif].\n",
      "Save frames to [/Users/marcosesquivelgonzalez/Desktop/MasterCDatos/TFM/src/gifs_DailyActions_label0_timedecay/data_32.gif].\n",
      "Save frames to [/Users/marcosesquivelgonzalez/Desktop/MasterCDatos/TFM/src/gifs_DailyActions_label0_timedecay/data_33.gif].\n",
      "Save frames to [/Users/marcosesquivelgonzalez/Desktop/MasterCDatos/TFM/src/gifs_DailyActions_label0_timedecay/data_34.gif].\n",
      "Save frames to [/Users/marcosesquivelgonzalez/Desktop/MasterCDatos/TFM/src/gifs_DailyActions_label0_timedecay/data_35.gif].\n",
      "Save frames to [/Users/marcosesquivelgonzalez/Desktop/MasterCDatos/TFM/src/gifs_DailyActions_label0_timedecay/data_36.gif].\n",
      "Save frames to [/Users/marcosesquivelgonzalez/Desktop/MasterCDatos/TFM/src/gifs_DailyActions_label0_timedecay/data_37.gif].\n",
      "Save frames to [/Users/marcosesquivelgonzalez/Desktop/MasterCDatos/TFM/src/gifs_DailyActions_label0_timedecay/data_38.gif].\n",
      "Save frames to [/Users/marcosesquivelgonzalez/Desktop/MasterCDatos/TFM/src/gifs_DailyActions_label0_timedecay/data_39.gif].\n",
      "Save frames to [/Users/marcosesquivelgonzalez/Desktop/MasterCDatos/TFM/src/gifs_DailyActions_label0_timedecay/data_40.gif].\n",
      "Save frames to [/Users/marcosesquivelgonzalez/Desktop/MasterCDatos/TFM/src/gifs_DailyActions_label0_timedecay/data_41.gif].\n",
      "Save frames to [/Users/marcosesquivelgonzalez/Desktop/MasterCDatos/TFM/src/gifs_DailyActions_label0_timedecay/data_42.gif].\n",
      "Save frames to [/Users/marcosesquivelgonzalez/Desktop/MasterCDatos/TFM/src/gifs_DailyActions_label0_timedecay/data_43.gif].\n",
      "Save frames to [/Users/marcosesquivelgonzalez/Desktop/MasterCDatos/TFM/src/gifs_DailyActions_label0_timedecay/data_44.gif].\n",
      "Save frames to [/Users/marcosesquivelgonzalez/Desktop/MasterCDatos/TFM/src/gifs_DailyActions_label0_timedecay/data_45.gif].\n",
      "Save frames to [/Users/marcosesquivelgonzalez/Desktop/MasterCDatos/TFM/src/gifs_DailyActions_label0_timedecay/data_46.gif].\n",
      "Save frames to [/Users/marcosesquivelgonzalez/Desktop/MasterCDatos/TFM/src/gifs_DailyActions_label0_timedecay/data_47.gif].\n",
      "Save frames to [/Users/marcosesquivelgonzalez/Desktop/MasterCDatos/TFM/src/gifs_DailyActions_label0_timedecay/data_48.gif].\n",
      "Save frames to [/Users/marcosesquivelgonzalez/Desktop/MasterCDatos/TFM/src/gifs_DailyActions_label0_timedecay/data_49.gif].\n",
      "Save frames to [/Users/marcosesquivelgonzalez/Desktop/MasterCDatos/TFM/src/gifs_DailyActions_label0_timedecay/data_50.gif].\n",
      "Save frames to [/Users/marcosesquivelgonzalez/Desktop/MasterCDatos/TFM/src/gifs_DailyActions_label0_timedecay/data_51.gif].\n",
      "Save frames to [/Users/marcosesquivelgonzalez/Desktop/MasterCDatos/TFM/src/gifs_DailyActions_label0_timedecay/data_52.gif].\n",
      "Save frames to [/Users/marcosesquivelgonzalez/Desktop/MasterCDatos/TFM/src/gifs_DailyActions_label0_timedecay/data_53.gif].\n",
      "Save frames to [/Users/marcosesquivelgonzalez/Desktop/MasterCDatos/TFM/src/gifs_DailyActions_label0_timedecay/data_54.gif].\n",
      "Save frames to [/Users/marcosesquivelgonzalez/Desktop/MasterCDatos/TFM/src/gifs_DailyActions_label0_timedecay/data_55.gif].\n",
      "Save frames to [/Users/marcosesquivelgonzalez/Desktop/MasterCDatos/TFM/src/gifs_DailyActions_label0_timedecay/data_56.gif].\n",
      "Save frames to [/Users/marcosesquivelgonzalez/Desktop/MasterCDatos/TFM/src/gifs_DailyActions_label0_timedecay/data_57.gif].\n",
      "Save frames to [/Users/marcosesquivelgonzalez/Desktop/MasterCDatos/TFM/src/gifs_DailyActions_label0_timedecay/data_58.gif].\n",
      "Save frames to [/Users/marcosesquivelgonzalez/Desktop/MasterCDatos/TFM/src/gifs_DailyActions_label0_timedecay/data_59.gif].\n",
      "Save frames to [/Users/marcosesquivelgonzalez/Desktop/MasterCDatos/TFM/src/gifs_DailyActions_label0_timedecay/data_60.gif].\n",
      "Save frames to [/Users/marcosesquivelgonzalez/Desktop/MasterCDatos/TFM/src/gifs_DailyActions_label0_timedecay/data_61.gif].\n",
      "Save frames to [/Users/marcosesquivelgonzalez/Desktop/MasterCDatos/TFM/src/gifs_DailyActions_label0_timedecay/data_62.gif].\n",
      "Save frames to [/Users/marcosesquivelgonzalez/Desktop/MasterCDatos/TFM/src/gifs_DailyActions_label0_timedecay/data_63.gif].\n",
      "Save frames to [/Users/marcosesquivelgonzalez/Desktop/MasterCDatos/TFM/src/gifs_DailyActions_label0_timedecay/data_64.gif].\n",
      "Save frames to [/Users/marcosesquivelgonzalez/Desktop/MasterCDatos/TFM/src/gifs_DailyActions_label0_timedecay/data_65.gif].\n",
      "Save frames to [/Users/marcosesquivelgonzalez/Desktop/MasterCDatos/TFM/src/gifs_DailyActions_label0_timedecay/data_66.gif].\n",
      "Save frames to [/Users/marcosesquivelgonzalez/Desktop/MasterCDatos/TFM/src/gifs_DailyActions_label0_timedecay/data_67.gif].\n",
      "Save frames to [/Users/marcosesquivelgonzalez/Desktop/MasterCDatos/TFM/src/gifs_DailyActions_label0_timedecay/data_68.gif].\n",
      "Save frames to [/Users/marcosesquivelgonzalez/Desktop/MasterCDatos/TFM/src/gifs_DailyActions_label0_timedecay/data_69.gif].\n",
      "Save frames to [/Users/marcosesquivelgonzalez/Desktop/MasterCDatos/TFM/src/gifs_DailyActions_label0_timedecay/data_70.gif].\n",
      "Save frames to [/Users/marcosesquivelgonzalez/Desktop/MasterCDatos/TFM/src/gifs_DailyActions_label0_timedecay/data_71.gif].\n",
      "Save frames to [/Users/marcosesquivelgonzalez/Desktop/MasterCDatos/TFM/src/gifs_DailyActions_label0_timedecay/data_72.gif].\n",
      "Save frames to [/Users/marcosesquivelgonzalez/Desktop/MasterCDatos/TFM/src/gifs_DailyActions_label0_timedecay/data_73.gif].\n",
      "Save frames to [/Users/marcosesquivelgonzalez/Desktop/MasterCDatos/TFM/src/gifs_DailyActions_label0_timedecay/data_74.gif].\n",
      "Save frames to [/Users/marcosesquivelgonzalez/Desktop/MasterCDatos/TFM/src/gifs_DailyActions_label0_timedecay/data_75.gif].\n",
      "Save frames to [/Users/marcosesquivelgonzalez/Desktop/MasterCDatos/TFM/src/gifs_DailyActions_label0_timedecay/data_76.gif].\n",
      "Save frames to [/Users/marcosesquivelgonzalez/Desktop/MasterCDatos/TFM/src/gifs_DailyActions_label0_timedecay/data_77.gif].\n",
      "Save frames to [/Users/marcosesquivelgonzalez/Desktop/MasterCDatos/TFM/src/gifs_DailyActions_label0_timedecay/data_78.gif].\n",
      "Save frames to [/Users/marcosesquivelgonzalez/Desktop/MasterCDatos/TFM/src/gifs_DailyActions_label0_timedecay/data_79.gif].\n",
      "Save frames to [/Users/marcosesquivelgonzalez/Desktop/MasterCDatos/TFM/src/gifs_DailyActions_label0_timedecay/data_80.gif].\n",
      "Save frames to [/Users/marcosesquivelgonzalez/Desktop/MasterCDatos/TFM/src/gifs_DailyActions_label0_timedecay/data_81.gif].\n",
      "Save frames to [/Users/marcosesquivelgonzalez/Desktop/MasterCDatos/TFM/src/gifs_DailyActions_label0_timedecay/data_82.gif].\n",
      "Save frames to [/Users/marcosesquivelgonzalez/Desktop/MasterCDatos/TFM/src/gifs_DailyActions_label0_timedecay/data_83.gif].\n",
      "Save frames to [/Users/marcosesquivelgonzalez/Desktop/MasterCDatos/TFM/src/gifs_DailyActions_label0_timedecay/data_84.gif].\n",
      "Save frames to [/Users/marcosesquivelgonzalez/Desktop/MasterCDatos/TFM/src/gifs_DailyActions_label0_timedecay/data_85.gif].\n",
      "Save frames to [/Users/marcosesquivelgonzalez/Desktop/MasterCDatos/TFM/src/gifs_DailyActions_label0_timedecay/data_86.gif].\n",
      "Save frames to [/Users/marcosesquivelgonzalez/Desktop/MasterCDatos/TFM/src/gifs_DailyActions_label0_timedecay/data_87.gif].\n",
      "Save frames to [/Users/marcosesquivelgonzalez/Desktop/MasterCDatos/TFM/src/gifs_DailyActions_label0_timedecay/data_88.gif].\n",
      "Save frames to [/Users/marcosesquivelgonzalez/Desktop/MasterCDatos/TFM/src/gifs_DailyActions_label0_timedecay/data_89.gif].\n",
      "Save frames to [/Users/marcosesquivelgonzalez/Desktop/MasterCDatos/TFM/src/gifs_DailyActions_label0_timedecay/data_90.gif].\n",
      "Save frames to [/Users/marcosesquivelgonzalez/Desktop/MasterCDatos/TFM/src/gifs_DailyActions_label0_timedecay/data_91.gif].\n",
      "Save frames to [/Users/marcosesquivelgonzalez/Desktop/MasterCDatos/TFM/src/gifs_DailyActions_label0_timedecay/data_92.gif].\n",
      "Save frames to [/Users/marcosesquivelgonzalez/Desktop/MasterCDatos/TFM/src/gifs_DailyActions_label0_timedecay/data_93.gif].\n",
      "Save frames to [/Users/marcosesquivelgonzalez/Desktop/MasterCDatos/TFM/src/gifs_DailyActions_label0_timedecay/data_94.gif].\n",
      "Save frames to [/Users/marcosesquivelgonzalez/Desktop/MasterCDatos/TFM/src/gifs_DailyActions_label0_timedecay/data_95.gif].\n"
     ]
    }
   ],
   "source": [
    "from spikingjelly.datasets import play_frame\n",
    "import os\n",
    "root_gifs = os.path.join(os.getcwd(),'gifs_DailyActions_label0_timedecay')\n",
    "os.mkdir(root_gifs)\n",
    "\n",
    "k = 0\n",
    "for file in data:\n",
    "    if file[1] == 0:\n",
    "        play_frame(file[0],save_gif_to=os.path.join(root_gifs,f'data_{k}.gif'))\n",
    "        k += 1"
   ]
  },
  {
   "attachments": {},
   "cell_type": "markdown",
   "metadata": {},
   "source": [
    "## DVSAnimals dataset"
   ]
  },
  {
   "cell_type": "code",
   "execution_count": 2,
   "metadata": {},
   "outputs": [
    {
     "name": "stderr",
     "output_type": "stream",
     "text": [
      "ERROR:wandb.jupyter:Failed to detect the name of this notebook, you can set it manually with the WANDB_NOTEBOOK_NAME environment variable to enable code saving.\n"
     ]
    },
    {
     "name": "stdout",
     "output_type": "stream",
     "text": [
      "The directory [/Users/marcosesquivelgonzalez/Desktop/MasterCDatos/TFM/Datasets/DVS_Gesture_dataset/frames_number_16_split_by_number] already exists.\n",
      "The directory [/Users/marcosesquivelgonzalez/Desktop/MasterCDatos/TFM/Datasets/DVS_Gesture_dataset/frames_number_16_split_by_number] already exists.\n"
     ]
    },
    {
     "name": "stderr",
     "output_type": "stream",
     "text": [
      "\u001b[34m\u001b[1mwandb\u001b[0m: Currently logged in as: \u001b[33mmarcosesgonz\u001b[0m (\u001b[33mtfm_datcom\u001b[0m). Use \u001b[1m`wandb login --relogin`\u001b[0m to force relogin\n"
     ]
    },
    {
     "name": "stdout",
     "output_type": "stream",
     "text": [
      "Abortar escribiendo exit\n"
     ]
    },
    {
     "data": {
      "text/html": [
       "Tracking run with wandb version 0.15.4"
      ],
      "text/plain": [
       "<IPython.core.display.HTML object>"
      ]
     },
     "metadata": {},
     "output_type": "display_data"
    },
    {
     "data": {
      "text/html": [
       "Run data is saved locally in <code>/Users/marcosesquivelgonzalez/Desktop/MasterCDatos/TFM/Projects/wandb/run-20230630_204922-e9183bc6</code>"
      ],
      "text/plain": [
       "<IPython.core.display.HTML object>"
      ]
     },
     "metadata": {},
     "output_type": "display_data"
    },
    {
     "data": {
      "text/html": [
       "Syncing run <strong><a href='https://wandb.ai/tfm_datcom/Experimento1/runs/e9183bc6' target=\"_blank\">Comprobación</a></strong> to <a href='https://wandb.ai/tfm_datcom/Experimento1' target=\"_blank\">Weights & Biases</a> (<a href='https://wandb.me/run' target=\"_blank\">docs</a>)<br/>"
      ],
      "text/plain": [
       "<IPython.core.display.HTML object>"
      ]
     },
     "metadata": {},
     "output_type": "display_data"
    },
    {
     "data": {
      "text/html": [
       " View project at <a href='https://wandb.ai/tfm_datcom/Experimento1' target=\"_blank\">https://wandb.ai/tfm_datcom/Experimento1</a>"
      ],
      "text/plain": [
       "<IPython.core.display.HTML object>"
      ]
     },
     "metadata": {},
     "output_type": "display_data"
    },
    {
     "data": {
      "text/html": [
       " View run at <a href='https://wandb.ai/tfm_datcom/Experimento1/runs/e9183bc6' target=\"_blank\">https://wandb.ai/tfm_datcom/Experimento1/runs/e9183bc6</a>"
      ],
      "text/plain": [
       "<IPython.core.display.HTML object>"
      ]
     },
     "metadata": {},
     "output_type": "display_data"
    },
    {
     "name": "stdout",
     "output_type": "stream",
     "text": [
      "Instancias de train:  1176\n",
      "Instancias de test:  288\n",
      "Mkdir /Users/marcosesquivelgonzalez/Desktop/MasterCDatos/TFM/Projects/result_logs/DVS_Gesture_dataset/T16_b8_lr0.1.\n",
      "/Users/marcosesquivelgonzalez/Desktop/MasterCDatos/TFM/Projects/result_logs/DVS_Gesture_dataset/T16_b8_lr0.1\n",
      "epoch = 0, train_loss = 0.0909, train_acc = 0.0825, test_loss = 0.0909, test_acc = 0.0833, max_test_acc = 0.0833\n",
      "train speed = 3.8811 images/s, test speed = 7.8287 images/s\n",
      "escape time = 2023-06-30 23:45:02\n",
      "\n"
     ]
    }
   ],
   "source": [
    "data_dvsgesture = '/Users/marcosesquivelgonzalez/Desktop/MasterCDatos/TFM/data/DVS_Gesture_dataset'\n",
    "Laboratory.execute_experiment(inp_data=data_dvsgesture)"
   ]
  },
  {
   "cell_type": "code",
   "execution_count": 2,
   "metadata": {},
   "outputs": [
    {
     "name": "stdout",
     "output_type": "stream",
     "text": [
      "Starting new version\n",
      "The directory [/Users/marcosesquivelgonzalez/Desktop/MasterCDatos/TFM/Datasets/SLAnimals_Dataset/frames_number_16_split_by_number] already exists.\n",
      "Posible labels: [ 0  1  2  3  4  5  6  7  8  9 10 11 12 13 14 15 16 17 18]\n"
     ]
    },
    {
     "name": "stderr",
     "output_type": "stream",
     "text": [
      "ERROR:wandb.jupyter:Failed to detect the name of this notebook, you can set it manually with the WANDB_NOTEBOOK_NAME environment variable to enable code saving.\n",
      "\u001b[34m\u001b[1mwandb\u001b[0m: Currently logged in as: \u001b[33mmarcosesgonz\u001b[0m (\u001b[33mtfm_datcom\u001b[0m). Use \u001b[1m`wandb login --relogin`\u001b[0m to force relogin\n"
     ]
    },
    {
     "name": "stdout",
     "output_type": "stream",
     "text": [
      "Abortar escribiendo exit\n"
     ]
    },
    {
     "data": {
      "text/html": [
       "Tracking run with wandb version 0.15.4"
      ],
      "text/plain": [
       "<IPython.core.display.HTML object>"
      ]
     },
     "metadata": {},
     "output_type": "display_data"
    },
    {
     "data": {
      "text/html": [
       "Run data is saved locally in <code>/Users/marcosesquivelgonzalez/Desktop/MasterCDatos/TFM/Projects/wandb/run-20230630_202216-rnhy50ke</code>"
      ],
      "text/plain": [
       "<IPython.core.display.HTML object>"
      ]
     },
     "metadata": {},
     "output_type": "display_data"
    },
    {
     "data": {
      "text/html": [
       "Syncing run <strong><a href='https://wandb.ai/tfm_datcom/Experimento1/runs/rnhy50ke' target=\"_blank\">DVSAnimals_dataset</a></strong> to <a href='https://wandb.ai/tfm_datcom/Experimento1' target=\"_blank\">Weights & Biases</a> (<a href='https://wandb.me/run' target=\"_blank\">docs</a>)<br/>"
      ],
      "text/plain": [
       "<IPython.core.display.HTML object>"
      ]
     },
     "metadata": {},
     "output_type": "display_data"
    },
    {
     "data": {
      "text/html": [
       " View project at <a href='https://wandb.ai/tfm_datcom/Experimento1' target=\"_blank\">https://wandb.ai/tfm_datcom/Experimento1</a>"
      ],
      "text/plain": [
       "<IPython.core.display.HTML object>"
      ]
     },
     "metadata": {},
     "output_type": "display_data"
    },
    {
     "data": {
      "text/html": [
       " View run at <a href='https://wandb.ai/tfm_datcom/Experimento1/runs/rnhy50ke' target=\"_blank\">https://wandb.ai/tfm_datcom/Experimento1/runs/rnhy50ke</a>"
      ],
      "text/plain": [
       "<IPython.core.display.HTML object>"
      ]
     },
     "metadata": {},
     "output_type": "display_data"
    },
    {
     "name": "stdout",
     "output_type": "stream",
     "text": [
      "Instancias de train:  896\n",
      "Instancias de test:  225\n",
      "/Users/marcosesquivelgonzalez/Desktop/MasterCDatos/TFM/Projects/result_logs/SLAnimals_Dataset/T16_b8_lr0.1\n",
      "epoch = 0, train_loss = 0.0526, train_acc = 0.0525, test_loss = 0.0526, test_acc = 0.0533, max_test_acc = 0.0533\n",
      "train speed = 3.4798 images/s, test speed = 5.8741 images/s\n",
      "escape time = 2023-06-30 22:55:10\n",
      "\n",
      "/Users/marcosesquivelgonzalez/Desktop/MasterCDatos/TFM/Projects/result_logs/SLAnimals_Dataset/T16_b8_lr0.1\n",
      "epoch = 1, train_loss = 0.0526, train_acc = 0.0525, test_loss = 0.0526, test_acc = 0.0533, max_test_acc = 0.0533\n",
      "train speed = 3.5608 images/s, test speed = 6.0359 images/s\n",
      "escape time = 2023-06-30 22:51:44\n",
      "\n",
      "/Users/marcosesquivelgonzalez/Desktop/MasterCDatos/TFM/Projects/result_logs/SLAnimals_Dataset/T16_b8_lr0.1\n",
      "epoch = 2, train_loss = 0.0526, train_acc = 0.0525, test_loss = 0.0526, test_acc = 0.0533, max_test_acc = 0.0533\n",
      "train speed = 3.5916 images/s, test speed = 6.0760 images/s\n",
      "escape time = 2023-06-30 22:50:33\n",
      "\n",
      "/Users/marcosesquivelgonzalez/Desktop/MasterCDatos/TFM/Projects/result_logs/SLAnimals_Dataset/T16_b8_lr0.1\n",
      "epoch = 3, train_loss = 0.0526, train_acc = 0.0525, test_loss = 0.0526, test_acc = 0.0533, max_test_acc = 0.0533\n",
      "train speed = 3.7602 images/s, test speed = 6.1305 images/s\n",
      "escape time = 2023-06-30 22:45:10\n",
      "\n",
      "/Users/marcosesquivelgonzalez/Desktop/MasterCDatos/TFM/Projects/result_logs/SLAnimals_Dataset/T16_b8_lr0.1\n",
      "epoch = 4, train_loss = 0.0526, train_acc = 0.0525, test_loss = 0.0526, test_acc = 0.0533, max_test_acc = 0.0533\n",
      "train speed = 3.8056 images/s, test speed = 6.0419 images/s\n",
      "escape time = 2023-06-30 22:44:08\n",
      "\n"
     ]
    },
    {
     "data": {
      "text/html": [
       "Waiting for W&B process to finish... <strong style=\"color:red\">(failed 1).</strong> Press Control-C to abort syncing."
      ],
      "text/plain": [
       "<IPython.core.display.HTML object>"
      ]
     },
     "metadata": {},
     "output_type": "display_data"
    },
    {
     "data": {
      "text/html": [
       "<style>\n",
       "    table.wandb td:nth-child(1) { padding: 0 10px; text-align: left ; width: auto;} td:nth-child(2) {text-align: left ; width: 100%}\n",
       "    .wandb-row { display: flex; flex-direction: row; flex-wrap: wrap; justify-content: flex-start; width: 100% }\n",
       "    .wandb-col { display: flex; flex-direction: column; flex-basis: 100%; flex: 1; padding: 10px; }\n",
       "    </style>\n",
       "<div class=\"wandb-row\"><div class=\"wandb-col\"><h3>Run history:</h3><br/><table class=\"wandb\"><tr><td>test_acc</td><td>▁▁▁▁▁</td></tr><tr><td>test_loss</td><td>▁▁▁▁▁</td></tr><tr><td>train_acc</td><td>▁▁▁▁▁</td></tr><tr><td>train_loss</td><td>▁▁▁▁▁</td></tr></table><br/></div><div class=\"wandb-col\"><h3>Run summary:</h3><br/><table class=\"wandb\"><tr><td>test_acc</td><td>0.05333</td></tr><tr><td>test_loss</td><td>0.05263</td></tr><tr><td>train_acc</td><td>0.05246</td></tr><tr><td>train_loss</td><td>0.05263</td></tr></table><br/></div></div>"
      ],
      "text/plain": [
       "<IPython.core.display.HTML object>"
      ]
     },
     "metadata": {},
     "output_type": "display_data"
    },
    {
     "data": {
      "text/html": [
       " View run <strong style=\"color:#cdcd00\">DVSAnimals_dataset</strong> at: <a href='https://wandb.ai/tfm_datcom/Experimento1/runs/rnhy50ke' target=\"_blank\">https://wandb.ai/tfm_datcom/Experimento1/runs/rnhy50ke</a><br/>Synced 5 W&B file(s), 0 media file(s), 0 artifact file(s) and 0 other file(s)"
      ],
      "text/plain": [
       "<IPython.core.display.HTML object>"
      ]
     },
     "metadata": {},
     "output_type": "display_data"
    },
    {
     "data": {
      "text/html": [
       "Find logs at: <code>./wandb/run-20230630_202216-rnhy50ke/logs</code>"
      ],
      "text/plain": [
       "<IPython.core.display.HTML object>"
      ]
     },
     "metadata": {},
     "output_type": "display_data"
    },
    {
     "ename": "KeyboardInterrupt",
     "evalue": "",
     "output_type": "error",
     "traceback": [
      "\u001b[0;31m---------------------------------------------------------------------------\u001b[0m",
      "\u001b[0;31mKeyboardInterrupt\u001b[0m                         Traceback (most recent call last)",
      "Cell \u001b[0;32mIn[2], line 2\u001b[0m\n\u001b[1;32m      1\u001b[0m data_animals \u001b[39m=\u001b[39m \u001b[39m'\u001b[39m\u001b[39m/Users/marcosesquivelgonzalez/Desktop/MasterCDatos/TFM/Datasets/SLAnimals_Dataset\u001b[39m\u001b[39m'\u001b[39m\n\u001b[0;32m----> 2\u001b[0m Experiments_DVSNet\u001b[39m.\u001b[39;49mexecute_experiment(inp_data\u001b[39m=\u001b[39;49mdata_animals)\n",
      "File \u001b[0;32m~/Desktop/MasterCDatos/TFM/Projects/Experiments_DVSNet.py:163\u001b[0m, in \u001b[0;36mexecute_experiment\u001b[0;34m(T, splitby, batch_size, epochs, device, lr, inp_data, net_name)\u001b[0m\n\u001b[1;32m    161\u001b[0m train_acc \u001b[39m=\u001b[39m \u001b[39m0\u001b[39m\n\u001b[1;32m    162\u001b[0m train_samples \u001b[39m=\u001b[39m \u001b[39m0\u001b[39m\n\u001b[0;32m--> 163\u001b[0m \u001b[39mfor\u001b[39;00m frame, label \u001b[39min\u001b[39;00m train_data_loader: \u001b[39m#DUDA ¿Todas las instancias que hay en el batch corresponden a la misma etiqueta?\u001b[39;00m\n\u001b[1;32m    164\u001b[0m     optimizer\u001b[39m.\u001b[39mzero_grad()\n\u001b[1;32m    165\u001b[0m     frame \u001b[39m=\u001b[39m frame\u001b[39m.\u001b[39mto(device)\n",
      "File \u001b[0;32m~/pyenviroments/tfm/lib/python3.11/site-packages/torch/utils/data/dataloader.py:441\u001b[0m, in \u001b[0;36mDataLoader.__iter__\u001b[0;34m(self)\u001b[0m\n\u001b[1;32m    439\u001b[0m     \u001b[39mreturn\u001b[39;00m \u001b[39mself\u001b[39m\u001b[39m.\u001b[39m_iterator\n\u001b[1;32m    440\u001b[0m \u001b[39melse\u001b[39;00m:\n\u001b[0;32m--> 441\u001b[0m     \u001b[39mreturn\u001b[39;00m \u001b[39mself\u001b[39;49m\u001b[39m.\u001b[39;49m_get_iterator()\n",
      "File \u001b[0;32m~/pyenviroments/tfm/lib/python3.11/site-packages/torch/utils/data/dataloader.py:388\u001b[0m, in \u001b[0;36mDataLoader._get_iterator\u001b[0;34m(self)\u001b[0m\n\u001b[1;32m    386\u001b[0m \u001b[39melse\u001b[39;00m:\n\u001b[1;32m    387\u001b[0m     \u001b[39mself\u001b[39m\u001b[39m.\u001b[39mcheck_worker_number_rationality()\n\u001b[0;32m--> 388\u001b[0m     \u001b[39mreturn\u001b[39;00m _MultiProcessingDataLoaderIter(\u001b[39mself\u001b[39;49m)\n",
      "File \u001b[0;32m~/pyenviroments/tfm/lib/python3.11/site-packages/torch/utils/data/dataloader.py:1042\u001b[0m, in \u001b[0;36m_MultiProcessingDataLoaderIter.__init__\u001b[0;34m(self, loader)\u001b[0m\n\u001b[1;32m   1035\u001b[0m w\u001b[39m.\u001b[39mdaemon \u001b[39m=\u001b[39m \u001b[39mTrue\u001b[39;00m\n\u001b[1;32m   1036\u001b[0m \u001b[39m# NB: Process.start() actually take some time as it needs to\u001b[39;00m\n\u001b[1;32m   1037\u001b[0m \u001b[39m#     start a process and pass the arguments over via a pipe.\u001b[39;00m\n\u001b[1;32m   1038\u001b[0m \u001b[39m#     Therefore, we only add a worker to self._workers list after\u001b[39;00m\n\u001b[1;32m   1039\u001b[0m \u001b[39m#     it started, so that we do not call .join() if program dies\u001b[39;00m\n\u001b[1;32m   1040\u001b[0m \u001b[39m#     before it starts, and __del__ tries to join but will get:\u001b[39;00m\n\u001b[1;32m   1041\u001b[0m \u001b[39m#     AssertionError: can only join a started process.\u001b[39;00m\n\u001b[0;32m-> 1042\u001b[0m w\u001b[39m.\u001b[39;49mstart()\n\u001b[1;32m   1043\u001b[0m \u001b[39mself\u001b[39m\u001b[39m.\u001b[39m_index_queues\u001b[39m.\u001b[39mappend(index_queue)\n\u001b[1;32m   1044\u001b[0m \u001b[39mself\u001b[39m\u001b[39m.\u001b[39m_workers\u001b[39m.\u001b[39mappend(w)\n",
      "File \u001b[0;32m/opt/homebrew/Cellar/python@3.11/3.11.2_1/Frameworks/Python.framework/Versions/3.11/lib/python3.11/multiprocessing/process.py:121\u001b[0m, in \u001b[0;36mBaseProcess.start\u001b[0;34m(self)\u001b[0m\n\u001b[1;32m    118\u001b[0m \u001b[39massert\u001b[39;00m \u001b[39mnot\u001b[39;00m _current_process\u001b[39m.\u001b[39m_config\u001b[39m.\u001b[39mget(\u001b[39m'\u001b[39m\u001b[39mdaemon\u001b[39m\u001b[39m'\u001b[39m), \\\n\u001b[1;32m    119\u001b[0m        \u001b[39m'\u001b[39m\u001b[39mdaemonic processes are not allowed to have children\u001b[39m\u001b[39m'\u001b[39m\n\u001b[1;32m    120\u001b[0m _cleanup()\n\u001b[0;32m--> 121\u001b[0m \u001b[39mself\u001b[39m\u001b[39m.\u001b[39m_popen \u001b[39m=\u001b[39m \u001b[39mself\u001b[39;49m\u001b[39m.\u001b[39;49m_Popen(\u001b[39mself\u001b[39;49m)\n\u001b[1;32m    122\u001b[0m \u001b[39mself\u001b[39m\u001b[39m.\u001b[39m_sentinel \u001b[39m=\u001b[39m \u001b[39mself\u001b[39m\u001b[39m.\u001b[39m_popen\u001b[39m.\u001b[39msentinel\n\u001b[1;32m    123\u001b[0m \u001b[39m# Avoid a refcycle if the target function holds an indirect\u001b[39;00m\n\u001b[1;32m    124\u001b[0m \u001b[39m# reference to the process object (see bpo-30775)\u001b[39;00m\n",
      "File \u001b[0;32m/opt/homebrew/Cellar/python@3.11/3.11.2_1/Frameworks/Python.framework/Versions/3.11/lib/python3.11/multiprocessing/context.py:224\u001b[0m, in \u001b[0;36mProcess._Popen\u001b[0;34m(process_obj)\u001b[0m\n\u001b[1;32m    222\u001b[0m \u001b[39m@staticmethod\u001b[39m\n\u001b[1;32m    223\u001b[0m \u001b[39mdef\u001b[39;00m \u001b[39m_Popen\u001b[39m(process_obj):\n\u001b[0;32m--> 224\u001b[0m     \u001b[39mreturn\u001b[39;00m _default_context\u001b[39m.\u001b[39;49mget_context()\u001b[39m.\u001b[39;49mProcess\u001b[39m.\u001b[39;49m_Popen(process_obj)\n",
      "File \u001b[0;32m/opt/homebrew/Cellar/python@3.11/3.11.2_1/Frameworks/Python.framework/Versions/3.11/lib/python3.11/multiprocessing/context.py:288\u001b[0m, in \u001b[0;36mSpawnProcess._Popen\u001b[0;34m(process_obj)\u001b[0m\n\u001b[1;32m    285\u001b[0m \u001b[39m@staticmethod\u001b[39m\n\u001b[1;32m    286\u001b[0m \u001b[39mdef\u001b[39;00m \u001b[39m_Popen\u001b[39m(process_obj):\n\u001b[1;32m    287\u001b[0m     \u001b[39mfrom\u001b[39;00m \u001b[39m.\u001b[39;00m\u001b[39mpopen_spawn_posix\u001b[39;00m \u001b[39mimport\u001b[39;00m Popen\n\u001b[0;32m--> 288\u001b[0m     \u001b[39mreturn\u001b[39;00m Popen(process_obj)\n",
      "File \u001b[0;32m/opt/homebrew/Cellar/python@3.11/3.11.2_1/Frameworks/Python.framework/Versions/3.11/lib/python3.11/multiprocessing/popen_spawn_posix.py:32\u001b[0m, in \u001b[0;36mPopen.__init__\u001b[0;34m(self, process_obj)\u001b[0m\n\u001b[1;32m     30\u001b[0m \u001b[39mdef\u001b[39;00m \u001b[39m__init__\u001b[39m(\u001b[39mself\u001b[39m, process_obj):\n\u001b[1;32m     31\u001b[0m     \u001b[39mself\u001b[39m\u001b[39m.\u001b[39m_fds \u001b[39m=\u001b[39m []\n\u001b[0;32m---> 32\u001b[0m     \u001b[39msuper\u001b[39;49m()\u001b[39m.\u001b[39;49m\u001b[39m__init__\u001b[39;49m(process_obj)\n",
      "File \u001b[0;32m/opt/homebrew/Cellar/python@3.11/3.11.2_1/Frameworks/Python.framework/Versions/3.11/lib/python3.11/multiprocessing/popen_fork.py:19\u001b[0m, in \u001b[0;36mPopen.__init__\u001b[0;34m(self, process_obj)\u001b[0m\n\u001b[1;32m     17\u001b[0m \u001b[39mself\u001b[39m\u001b[39m.\u001b[39mreturncode \u001b[39m=\u001b[39m \u001b[39mNone\u001b[39;00m\n\u001b[1;32m     18\u001b[0m \u001b[39mself\u001b[39m\u001b[39m.\u001b[39mfinalizer \u001b[39m=\u001b[39m \u001b[39mNone\u001b[39;00m\n\u001b[0;32m---> 19\u001b[0m \u001b[39mself\u001b[39;49m\u001b[39m.\u001b[39;49m_launch(process_obj)\n",
      "File \u001b[0;32m/opt/homebrew/Cellar/python@3.11/3.11.2_1/Frameworks/Python.framework/Versions/3.11/lib/python3.11/multiprocessing/popen_spawn_posix.py:62\u001b[0m, in \u001b[0;36mPopen._launch\u001b[0;34m(self, process_obj)\u001b[0m\n\u001b[1;32m     60\u001b[0m     \u001b[39mself\u001b[39m\u001b[39m.\u001b[39msentinel \u001b[39m=\u001b[39m parent_r\n\u001b[1;32m     61\u001b[0m     \u001b[39mwith\u001b[39;00m \u001b[39mopen\u001b[39m(parent_w, \u001b[39m'\u001b[39m\u001b[39mwb\u001b[39m\u001b[39m'\u001b[39m, closefd\u001b[39m=\u001b[39m\u001b[39mFalse\u001b[39;00m) \u001b[39mas\u001b[39;00m f:\n\u001b[0;32m---> 62\u001b[0m         f\u001b[39m.\u001b[39mwrite(fp\u001b[39m.\u001b[39mgetbuffer())\n\u001b[1;32m     63\u001b[0m \u001b[39mfinally\u001b[39;00m:\n\u001b[1;32m     64\u001b[0m     fds_to_close \u001b[39m=\u001b[39m []\n",
      "\u001b[0;31mKeyboardInterrupt\u001b[0m: "
     ]
    }
   ],
   "source": [
    "data_animals = '/Users/marcosesquivelgonzalez/Desktop/MasterCDatos/TFM/data/SLAnimals_Dataset'\n",
    "Laboratory.execute_experiment(inp_data=data_animals)"
   ]
  },
  {
   "cell_type": "code",
   "execution_count": 1,
   "metadata": {},
   "outputs": [
    {
     "name": "stdout",
     "output_type": "stream",
     "text": [
      "torch.Size([10, 8, 22])\n"
     ]
    }
   ],
   "source": [
    "from spikingjelly.activation_based.model import parametric_lif_net\n",
    "from spikingjelly.activation_based import functional, surrogate, neuron\n",
    "import torch\n",
    "\n",
    "DVS_net = parametric_lif_net.DVSGestureNet(channels=128, spiking_neuron=neuron.LIFNode, surrogate_function=surrogate.ATan(), detach_reset=True)\n",
    "functional.set_step_mode(DVS_net, 'm')\n",
    "\n",
    "x = torch.rand(size=[10, 8, 2, 128, 128])\n",
    "print(DVS_net(x).shape)"
   ]
  },
  {
   "attachments": {},
   "cell_type": "markdown",
   "metadata": {},
   "source": [
    "## Cargando pesos de red entrenada y abortada en la época 40:"
   ]
  },
  {
   "cell_type": "code",
   "execution_count": null,
   "metadata": {},
   "outputs": [
    {
     "data": {
      "text/plain": [
       "dict_keys(['net', 'optimizer', 'lr_scheduler', 'epoch', 'max_test_acc'])"
      ]
     },
     "metadata": {},
     "output_type": "display_data"
    }
   ],
   "source": [
    "import torch\n",
    "w_root = '/Users/marcosesquivelgonzalez/Desktop/MasterCDatos/TFM/src/result_logs/DVS_ActionRecog_dataset/T16_b1_lr0.1/checkpoint_latest.pth'\n",
    "run_wandb_path = 'tfm_datcom/Experimento1/v8ng5wwx'\n",
    "k = torch.load(w_root)\n",
    "k.keys()"
   ]
  },
  {
   "cell_type": "code",
   "execution_count": null,
   "metadata": {},
   "outputs": [
    {
     "data": {
      "text/plain": [
       "{'T_max': 50,\n",
       " 'eta_min': 0,\n",
       " 'base_lrs': [0.1],\n",
       " 'last_epoch': 46,\n",
       " 'verbose': False,\n",
       " '_step_count': 47,\n",
       " '_get_lr_called_within_step': False,\n",
       " '_last_lr': [0.0015708419435684518]}"
      ]
     },
     "metadata": {},
     "output_type": "display_data"
    }
   ],
   "source": [
    "k['lr_scheduler']"
   ]
  }
 ],
 "metadata": {
  "kernelspec": {
   "display_name": "tfm",
   "language": "python",
   "name": "python3"
  },
  "language_info": {
   "codemirror_mode": {
    "name": "ipython",
    "version": 3
   },
   "file_extension": ".py",
   "mimetype": "text/x-python",
   "name": "python",
   "nbconvert_exporter": "python",
   "pygments_lexer": "ipython3",
   "version": "3.11.2"
  },
  "orig_nbformat": 4
 },
 "nbformat": 4,
 "nbformat_minor": 2
}
