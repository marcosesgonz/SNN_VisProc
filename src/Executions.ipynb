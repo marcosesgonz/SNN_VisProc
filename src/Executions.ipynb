{
 "cells": [
  {
   "cell_type": "code",
   "execution_count": 1,
   "metadata": {},
   "outputs": [
    {
     "name": "stderr",
     "output_type": "stream",
     "text": [
      "/Users/marcosesquivelgonzalez/pyenviroments/tfm/lib/python3.11/site-packages/tqdm/auto.py:21: TqdmWarning: IProgress not found. Please update jupyter and ipywidgets. See https://ipywidgets.readthedocs.io/en/stable/user_install.html\n",
      "  from .autonotebook import tqdm as notebook_tqdm\n"
     ]
    },
    {
     "name": "stdout",
     "output_type": "stream",
     "text": [
      "The directory [/Users/marcosesquivelgonzalez/Desktop/MasterCDatos/TFM/data/DVS_ActionRecog_dataset/frames_num26_splitby_exp_decay_tau0_8_scale50] already exists.\n",
      "The directory [/Users/marcosesquivelgonzalez/Desktop/MasterCDatos/TFM/data/DVS_ActionRecog_dataset/frames_num26_splitby_exp_decay_tau0_8_scale50] already exists.\n",
      "The directory [/Users/marcosesquivelgonzalez/Desktop/MasterCDatos/TFM/data/DVS_ActionRecog_dataset/frames_number_16_split_by_time] already exists.\n",
      "The directory [/Users/marcosesquivelgonzalez/Desktop/MasterCDatos/TFM/data/DVS_ActionRecog_dataset/frames_number_16_split_by_time] already exists.\n",
      "The directory [/Users/marcosesquivelgonzalez/Desktop/MasterCDatos/TFM/data/DVS_ActionRecog_dataset/frames_number_16_split_by_number] already exists.\n",
      "The directory [/Users/marcosesquivelgonzalez/Desktop/MasterCDatos/TFM/data/DVS_ActionRecog_dataset/frames_number_16_split_by_number] already exists.\n"
     ]
    }
   ],
   "source": [
    "from utils import loading_data\n",
    "AR_file = '/Users/marcosesquivelgonzalez/Desktop/MasterCDatos/TFM/data/DVS_ActionRecog_dataset'\n",
    "train, test ,_,_  = loading_data(input_data=AR_file,time_step = 26,splitmeth = 'exp_decay')\n",
    "train2, test2 ,_,_  = loading_data(input_data=AR_file,time_step = 16,splitmeth = 'time')\n",
    "train3, test3 ,_,_  = loading_data(input_data=AR_file,time_step = 16,splitmeth = 'number')"
   ]
  },
  {
   "cell_type": "code",
   "execution_count": 2,
   "metadata": {},
   "outputs": [
    {
     "name": "stdout",
     "output_type": "stream",
     "text": [
      "232 232 232\n",
      "59 59 59\n"
     ]
    }
   ],
   "source": [
    "print(len(train),len(train2),len(train3))\n",
    "print(len(test),len(test2),len(test3))"
   ]
  },
  {
   "cell_type": "code",
   "execution_count": 3,
   "metadata": {},
   "outputs": [
    {
     "name": "stdout",
     "output_type": "stream",
     "text": [
      "233 230 235 231\n"
     ]
    }
   ],
   "source": [
    "print(len(train),len(train2),len(train3),len(train4))#Lo ideal es que salga 235"
   ]
  },
  {
   "cell_type": "code",
   "execution_count": 4,
   "metadata": {},
   "outputs": [
    {
     "data": {
      "text/plain": [
       "(array([[[[16., 29., 44., ..., 23.,  0.,  0.],\n",
       "          [ 0.,  0., 34., ...,  0.,  0.,  0.],\n",
       "          [42., 35., 47., ...,  0.,  0.,  0.],\n",
       "          ...,\n",
       "          [39.,  0., 43., ...,  0., 49.,  0.],\n",
       "          [ 0., 23., 44., ...,  0.,  0.,  0.],\n",
       "          [45.,  0.,  0., ...,  0., 49., 25.]],\n",
       " \n",
       "         [[16., 49., 43., ..., 24.,  0.,  0.],\n",
       "          [ 0.,  0., 34., ...,  0.,  0.,  0.],\n",
       "          [38., 32., 48., ...,  0.,  0.,  0.],\n",
       "          ...,\n",
       "          [38.,  0., 42., ...,  0., 46.,  0.],\n",
       "          [ 0., 22., 43., ...,  0.,  0.,  0.],\n",
       "          [38.,  0.,  0., ...,  0., 48., 25.]]],\n",
       " \n",
       " \n",
       "        [[[ 4., 43., 31., ...,  6.,  0.,  0.],\n",
       "          [18., 17., 45., ..., 24.,  0.,  0.],\n",
       "          [46., 36., 49., ...,  0.,  0.,  0.],\n",
       "          ...,\n",
       "          [11.,  0., 39., ...,  0., 23.,  0.],\n",
       "          [ 0., 30., 12., ...,  0., 33.,  0.],\n",
       "          [37.,  0.,  0., ...,  0., 14.,  7.]],\n",
       " \n",
       "         [[ 4., 49., 30., ...,  7.,  0.,  0.],\n",
       "          [18., 16., 44., ...,  0.,  0.,  0.],\n",
       "          [47., 34., 48., ...,  0.,  0.,  0.],\n",
       "          ...,\n",
       "          [11.,  0., 37., ...,  0., 22.,  0.],\n",
       "          [ 0., 32., 12., ...,  0., 41.,  0.],\n",
       "          [36.,  0.,  0., ...,  0., 13.,  7.]]],\n",
       " \n",
       " \n",
       "        [[[20., 47., 23., ..., 39.,  0., 42.],\n",
       "          [36., 43., 45., ...,  7.,  0.,  0.],\n",
       "          [40., 49., 48., ...,  0.,  0.,  0.],\n",
       "          ...,\n",
       "          [40.,  0., 11., ...,  0.,  6., 40.],\n",
       "          [ 0., 23.,  3., ...,  0., 30.,  0.],\n",
       "          [10.,  0.,  0., ...,  0.,  4.,  2.]],\n",
       " \n",
       "         [[19., 40., 23., ..., 47.,  0.,  0.],\n",
       "          [33., 41., 44., ...,  0.,  0.,  0.],\n",
       "          [39., 39., 46., ...,  0.,  0.,  0.],\n",
       "          ...,\n",
       "          [39.,  0., 10., ...,  0.,  6.,  0.],\n",
       "          [ 0., 21.,  3., ...,  0., 26.,  0.],\n",
       "          [10.,  0.,  0., ...,  0.,  4.,  2.]]],\n",
       " \n",
       " \n",
       "        ...,\n",
       " \n",
       " \n",
       "        [[[34., 41., 49., ..., 25.,  0.,  0.],\n",
       "          [41.,  3., 15., ...,  0.,  0.,  0.],\n",
       "          [40., 42., 49., ...,  0.,  0.,  0.],\n",
       "          ...,\n",
       "          [ 0.,  0., 23., ...,  5.,  1.,  0.],\n",
       "          [ 3., 14., 49., ...,  0., 25., 25.],\n",
       "          [ 0.,  0.,  0., ...,  0.,  0.,  0.]],\n",
       " \n",
       "         [[33., 48., 48., ..., 24.,  0.,  0.],\n",
       "          [48.,  3., 15., ...,  0.,  0.,  0.],\n",
       "          [40., 49., 48., ...,  0.,  0.,  0.],\n",
       "          ...,\n",
       "          [ 0.,  0., 23., ...,  5.,  1.,  0.],\n",
       "          [ 3., 14.,  0., ...,  0., 25., 24.],\n",
       "          [ 0.,  0.,  0., ...,  0.,  0.,  0.]]],\n",
       " \n",
       " \n",
       "        [[[18., 47., 26., ..., 47.,  0.,  0.],\n",
       "          [44., 18., 38., ...,  0.,  0.,  0.],\n",
       "          [41., 41., 48., ...,  0.,  0.,  0.],\n",
       "          ...,\n",
       "          [27.,  0.,  6., ...,  1.,  0.,  0.],\n",
       "          [23., 17., 22., ...,  0., 17., 47.],\n",
       "          [ 0.,  0.,  0., ...,  0., 21.,  0.]],\n",
       " \n",
       "         [[18., 40., 26., ..., 43.,  0.,  0.],\n",
       "          [43., 17., 35., ...,  0.,  0.,  0.],\n",
       "          [40., 48., 48., ...,  0.,  0.,  0.],\n",
       "          ...,\n",
       "          [26.,  0.,  6., ...,  1.,  0.,  0.],\n",
       "          [22., 49., 22., ...,  0., 17., 49.],\n",
       "          [ 0.,  0.,  0., ...,  0., 20.,  0.]]],\n",
       " \n",
       " \n",
       "        [[[35., 37., 37., ..., 28.,  0.,  0.],\n",
       "          [18., 31., 18., ...,  0., 28.,  0.],\n",
       "          [11., 42., 49., ...,  0.,  0.,  0.],\n",
       "          ...,\n",
       "          [ 7.,  0., 29., ...,  0.,  0.,  0.],\n",
       "          [ 6., 14.,  6., ...,  0.,  5., 27.],\n",
       "          [ 0.,  0., 29., ...,  0.,  6.,  0.]],\n",
       " \n",
       "         [[34., 36., 36., ..., 27.,  0.,  0.],\n",
       "          [17., 30., 17., ...,  0., 28.,  0.],\n",
       "          [11., 49., 48., ...,  0.,  0.,  0.],\n",
       "          ...,\n",
       "          [ 7.,  0., 28., ...,  0.,  0.,  0.],\n",
       "          [ 6., 14.,  6., ...,  0.,  4., 21.],\n",
       "          [ 0.,  0., 28., ...,  0.,  5.,  0.]]]], dtype=float32),\n",
       " 0)"
      ]
     },
     "execution_count": 4,
     "metadata": {},
     "output_type": "execute_result"
    }
   ],
   "source": [
    "train[0]"
   ]
  },
  {
   "cell_type": "code",
   "execution_count": 5,
   "metadata": {},
   "outputs": [
    {
     "ename": "FileExistsError",
     "evalue": "[Errno 17] File exists: '/Users/marcosesquivelgonzalez/Desktop/MasterCDatos/TFM/src/gifs_ActRec_label0_timedecay_tau0_8_scale50'",
     "output_type": "error",
     "traceback": [
      "\u001b[0;31m---------------------------------------------------------------------------\u001b[0m",
      "\u001b[0;31mFileExistsError\u001b[0m                           Traceback (most recent call last)",
      "Cell \u001b[0;32mIn[5], line 4\u001b[0m\n\u001b[1;32m      2\u001b[0m \u001b[39mimport\u001b[39;00m \u001b[39mos\u001b[39;00m\n\u001b[1;32m      3\u001b[0m root_gifs \u001b[39m=\u001b[39m os\u001b[39m.\u001b[39mpath\u001b[39m.\u001b[39mjoin(os\u001b[39m.\u001b[39mgetcwd(),\u001b[39m'\u001b[39m\u001b[39mgifs_ActRec_label0_timedecay_tau0_8_scale50\u001b[39m\u001b[39m'\u001b[39m)\n\u001b[0;32m----> 4\u001b[0m os\u001b[39m.\u001b[39;49mmkdir(root_gifs)\n\u001b[1;32m      6\u001b[0m k \u001b[39m=\u001b[39m \u001b[39m0\u001b[39m\n\u001b[1;32m      7\u001b[0m \u001b[39mfor\u001b[39;00m file \u001b[39min\u001b[39;00m train:\n",
      "\u001b[0;31mFileExistsError\u001b[0m: [Errno 17] File exists: '/Users/marcosesquivelgonzalez/Desktop/MasterCDatos/TFM/src/gifs_ActRec_label0_timedecay_tau0_8_scale50'"
     ]
    }
   ],
   "source": [
    "from spikingjelly.datasets import play_frame\n",
    "import os\n",
    "root_gifs = os.path.join(os.getcwd(),'gifs_ActRec_label0_timedecay_tau0_8_scale50')\n",
    "os.mkdir(root_gifs)\n",
    "\n",
    "k = 0\n",
    "for file in train:\n",
    "    if file[1] == 0:\n",
    "        play_frame(file[0],save_gif_to=os.path.join(root_gifs,f'data_{k}.gif'))\n",
    "        k += 1\n",
    "    if k==29:\n",
    "        break"
   ]
  },
  {
   "cell_type": "code",
   "execution_count": null,
   "metadata": {},
   "outputs": [
    {
     "name": "stdout",
     "output_type": "stream",
     "text": [
      "202326.65384615384\n"
     ]
    },
    {
     "name": "stderr",
     "output_type": "stream",
     "text": [
      "/var/folders/ws/h7295dnd2171nw3lr_bkwk380000gn/T/ipykernel_27508/3240113372.py:1: RuntimeWarning: overflow encountered in scalar subtract\n",
      "  print((events_f2['t'][-1] - events_f2['t'][0])/26)\n"
     ]
    },
    {
     "data": {
      "text/plain": [
       "1055671"
      ]
     },
     "execution_count": 2,
     "metadata": {},
     "output_type": "execute_result"
    }
   ],
   "source": [
    "print((events_f2['t'][-1] - events_f2['t'][0])/26)\n",
    "events_f2['t'].size"
   ]
  },
  {
   "cell_type": "code",
   "execution_count": 5,
   "metadata": {},
   "outputs": [
    {
     "name": "stdout",
     "output_type": "stream",
     "text": [
      "32796\n",
      "536063\n"
     ]
    }
   ],
   "source": [
    "import numpy as np\n",
    "prev_samp = events_f2['t'][:-1]\n",
    "next_samp = events_f2['t'][1:]\n",
    "up_down = np.where(prev_samp>=next_samp,1,0)\n",
    "print(np.sum(up_down == 1 ))\n",
    "print(np.sum(up_down == 0))\n"
   ]
  },
  {
   "cell_type": "code",
   "execution_count": 15,
   "metadata": {},
   "outputs": [
    {
     "data": {
      "text/plain": [
       "4289706803"
      ]
     },
     "execution_count": 15,
     "metadata": {},
     "output_type": "execute_result"
    }
   ],
   "source": [
    "4293097006 - 3390203"
   ]
  },
  {
   "cell_type": "code",
   "execution_count": 5,
   "metadata": {},
   "outputs": [
    {
     "data": {
      "text/plain": [
       "(15472394, 15491516)"
      ]
     },
     "execution_count": 5,
     "metadata": {},
     "output_type": "execute_result"
    }
   ],
   "source": [
    "events_f1['t'].min(),events_f1['t'].max()"
   ]
  },
  {
   "cell_type": "code",
   "execution_count": 6,
   "metadata": {},
   "outputs": [
    {
     "name": "stderr",
     "output_type": "stream",
     "text": [
      "/var/folders/ws/h7295dnd2171nw3lr_bkwk380000gn/T/ipykernel_29349/1170862811.py:1: RuntimeWarning: overflow encountered in scalar subtract\n",
      "  events_f2['t'][-1].astype('uint32')-events_f2['t'][0].astype('uint32')\n"
     ]
    },
    {
     "data": {
      "text/plain": [
       "5260493"
      ]
     },
     "execution_count": 6,
     "metadata": {},
     "output_type": "execute_result"
    }
   ],
   "source": [
    "events_f2['t'][-1].astype('uint32')-events_f2['t'][0].astype('uint32')"
   ]
  },
  {
   "cell_type": "code",
   "execution_count": 11,
   "metadata": {},
   "outputs": [
    {
     "data": {
      "text/plain": [
       "5948746"
      ]
     },
     "execution_count": 11,
     "metadata": {},
     "output_type": "execute_result"
    }
   ],
   "source": [
    "fail2[-1]-fail2[0]"
   ]
  },
  {
   "cell_type": "code",
   "execution_count": 7,
   "metadata": {},
   "outputs": [
    {
     "name": "stdout",
     "output_type": "stream",
     "text": [
      "50133294 56082040\n"
     ]
    }
   ],
   "source": [
    "fail2 = events_f2['t']\n",
    "print(fail2[0],fail2[-1])"
   ]
  },
  {
   "cell_type": "code",
   "execution_count": 5,
   "metadata": {},
   "outputs": [
    {
     "name": "stdout",
     "output_type": "stream",
     "text": [
      "[130 194  36 ...   5  51  21]\n",
      "t_0: 184832359, t_fin: 190679232\n",
      " t_i:  184832359, t_fi: 185057238  False\n",
      " t_i:  185057238, t_fi: 185282117  False\n",
      " t_i:  185282117, t_fi: 185506996  False\n",
      " t_i:  185506996, t_fi: 185731875  False\n",
      " t_i:  185731875, t_fi: 185956754  False\n",
      " t_i:  185956754, t_fi: 186181633  False\n",
      " t_i:  186181633, t_fi: 186406512  False\n",
      " t_i:  186406512, t_fi: 186631391  False\n",
      " t_i:  186631391, t_fi: 186856270  False\n",
      " t_i:  186856270, t_fi: 187081149  False\n",
      " t_i:  187081149, t_fi: 187306028  False\n",
      " t_i:  187306028, t_fi: 187530907  False\n",
      " t_i:  187530907, t_fi: 187755786  False\n",
      " t_i:  187755786, t_fi: 187980665  False\n",
      " t_i:  187980665, t_fi: 188205544  False\n",
      " t_i:  188205544, t_fi: 188430423  False\n",
      " t_i:  188430423, t_fi: 188655302  False\n",
      " t_i:  188655302, t_fi: 188880181  False\n",
      " t_i:  188880181, t_fi: 189105060  False\n",
      " t_i:  189105060, t_fi: 189329939  True\n",
      " t_i:  189329939, t_fi: 189554818  True\n",
      " t_i:  189554818, t_fi: 189779697  True\n",
      " t_i:  189779697, t_fi: 190004576  False\n",
      " t_i:  190004576, t_fi: 190229455  False\n",
      " t_i:  190229455, t_fi: 190454334  False\n",
      " t_i:  190454334, t_fi: 190679213  False\n",
      "False\n"
     ]
    },
    {
     "name": "stderr",
     "output_type": "stream",
     "text": [
      "/Users/marcosesquivelgonzalez/Desktop/MasterCDatos/TFM/src/event_integration_to_frame.py:58: UserWarning: Detected a time step with no events within.\n",
      "  warnings.warn('Detected a time step with no events within.',UserWarning)\n",
      "/Users/marcosesquivelgonzalez/Desktop/MasterCDatos/TFM/src/event_integration_to_frame.py:58: UserWarning: Detected a time step with no events within.\n",
      "  warnings.warn('Detected a time step with no events within.',UserWarning)\n",
      "/Users/marcosesquivelgonzalez/Desktop/MasterCDatos/TFM/src/event_integration_to_frame.py:58: UserWarning: Detected a time step with no events within.\n",
      "  warnings.warn('Detected a time step with no events within.',UserWarning)\n",
      "/var/folders/ws/h7295dnd2171nw3lr_bkwk380000gn/T/ipykernel_39401/3753421159.py:17: DeprecationWarning: elementwise comparison failed; this will raise an error in the future.\n",
      "  print(np.all(k1==k2))\n"
     ]
    }
   ],
   "source": [
    "import os\n",
    "import numpy as np\n",
    "from event_integration_to_frame import myintegrate_events_by_fixed_frames_number\n",
    "from spikingjelly.datasets import integrate_events_by_fixed_frames_number, play_frame, integrate_events_segment_to_frame\n",
    "fine = '/Users/marcosesquivelgonzalez/Desktop/MasterCDatos/TFM/data/DVS_ActionRecog_dataset/events_np/train/kicking/chenjieneng_3.1.npz'\n",
    "fail_1 = '/Users/marcosesquivelgonzalez/Desktop/MasterCDatos/TFM/data/DVS_ActionRecog_dataset/events_np/train/picking up/zhangliming_4.2.npz'\n",
    "fail_2 = '/Users/marcosesquivelgonzalez/Desktop/MasterCDatos/TFM/data/DVS_ActionRecog_dataset/events_np/train/arm crossing/miaoshu_1.3.npz'\n",
    "events_fine = np.load(fine)\n",
    "events_f1 = np.load(fail_1)\n",
    "events_f2 = np.load(fail_2)\n",
    "#events_f3 = np.load(fail_3)\n",
    "print(events_f2['x'])\n",
    "#k_fine = integrate_events_by_fixed_frames_number(events = events_fine,split_by = 'time', frames_num = 26, H = 260, W = 346)\n",
    "k1_number = myintegrate_events_by_fixed_frames_number(events = events_f1,split_by = 'number', frames_num = 10, H = 260, W = 346)\n",
    "#k1 = integrate_events_by_fixed_frames_number(events = events_f1,split_by = 'time', frames_num = 16, H = 260, W = 346)\n",
    "k2 = myintegrate_events_by_fixed_frames_number(events = events_f1,split_by = 'time', frames_num = 26, H = 260, W = 346)\n",
    "print(np.all(k1==k2))\n",
    "#k = myintegrate_events_by_fixed_frames_number(events = events_f2,split_by='exp_decay', frames_num = 26, H = 260, W = 346, factor_tau = 0.8, scale_factor = 50)\n",
    "#print(k.shape)\n",
    "#integrate_events_by_fixed_frames_number_bydecay(events = events_DA, frames_num = 26, H = 128, W = 128, factor_tau = 0.8, scale_factor = 50)"
   ]
  },
  {
   "cell_type": "code",
   "execution_count": 6,
   "metadata": {},
   "outputs": [
    {
     "name": "stdout",
     "output_type": "stream",
     "text": [
      "Save frames to [/Users/marcosesquivelgonzalez/Desktop/MasterCDatos/TFM/src/pruebaaaa2_time.gif].\n"
     ]
    }
   ],
   "source": [
    "from spikingjelly.datasets import integrate_events_by_fixed_frames_number, play_frame, integrate_events_segment_to_frame\n",
    "play_frame(x = k2,save_gif_to = os.path.join(os.getcwd(),'pruebaaaa2_time.gif'))"
   ]
  },
  {
   "cell_type": "code",
   "execution_count": 21,
   "metadata": {},
   "outputs": [
    {
     "name": "stdout",
     "output_type": "stream",
     "text": [
      "True\n"
     ]
    }
   ],
   "source": [
    "from spikingjelly.datasets import integrate_events_by_fixed_frames_number, play_frame, integrate_events_segment_to_frame\n",
    "p = integrate_events_segment_to_frame(events_f2['x'],events_f2['y'],events_f2['p'], H = 260, W = 346, j_l = 54, j_r = 54)\n",
    "print(np.all(p==0))"
   ]
  },
  {
   "cell_type": "code",
   "execution_count": 22,
   "metadata": {},
   "outputs": [
    {
     "data": {
      "text/plain": [
       "0"
      ]
     },
     "execution_count": 22,
     "metadata": {},
     "output_type": "execute_result"
    }
   ],
   "source": [
    "p = np.array([3,4,5])\n",
    "len(p[np.array([False,False,False])])"
   ]
  },
  {
   "cell_type": "code",
   "execution_count": null,
   "metadata": {},
   "outputs": [
    {
     "data": {
      "text/plain": [
       "array([[[[16, 29, 44, ..., 23,  0,  0],\n",
       "         [ 0,  0, 34, ...,  0,  0,  0],\n",
       "         [42, 35, 47, ...,  0,  0,  0],\n",
       "         ...,\n",
       "         [39,  0, 43, ...,  0, 49,  0],\n",
       "         [ 0, 23, 44, ...,  0,  0,  0],\n",
       "         [45,  0,  0, ...,  0, 49, 25]],\n",
       "\n",
       "        [[16, 49, 43, ..., 24,  0,  0],\n",
       "         [ 0,  0, 34, ...,  0,  0,  0],\n",
       "         [38, 32, 48, ...,  0,  0,  0],\n",
       "         ...,\n",
       "         [38,  0, 42, ...,  0, 46,  0],\n",
       "         [ 0, 22, 43, ...,  0,  0,  0],\n",
       "         [38,  0,  0, ...,  0, 48, 25]]],\n",
       "\n",
       "\n",
       "       [[[ 4, 43, 31, ...,  6,  0,  0],\n",
       "         [18, 17, 45, ..., 24,  0,  0],\n",
       "         [46, 36, 49, ...,  0,  0,  0],\n",
       "         ...,\n",
       "         [11,  0, 39, ...,  0, 23,  0],\n",
       "         [ 0, 30, 12, ...,  0, 33,  0],\n",
       "         [37,  0,  0, ...,  0, 14,  7]],\n",
       "\n",
       "        [[ 4, 49, 30, ...,  7,  0,  0],\n",
       "         [18, 16, 44, ...,  0,  0,  0],\n",
       "         [47, 34, 48, ...,  0,  0,  0],\n",
       "         ...,\n",
       "         [11,  0, 37, ...,  0, 22,  0],\n",
       "         [ 0, 32, 12, ...,  0, 41,  0],\n",
       "         [36,  0,  0, ...,  0, 13,  7]]],\n",
       "\n",
       "\n",
       "       [[[20, 47, 23, ..., 39,  0, 42],\n",
       "         [36, 43, 45, ...,  7,  0,  0],\n",
       "         [40, 49, 48, ...,  0,  0,  0],\n",
       "         ...,\n",
       "         [40,  0, 11, ...,  0,  6, 40],\n",
       "         [ 0, 23,  3, ...,  0, 30,  0],\n",
       "         [10,  0,  0, ...,  0,  4,  2]],\n",
       "\n",
       "        [[19, 40, 23, ..., 47,  0,  0],\n",
       "         [33, 41, 44, ...,  0,  0,  0],\n",
       "         [39, 39, 46, ...,  0,  0,  0],\n",
       "         ...,\n",
       "         [39,  0, 10, ...,  0,  6,  0],\n",
       "         [ 0, 21,  3, ...,  0, 26,  0],\n",
       "         [10,  0,  0, ...,  0,  4,  2]]],\n",
       "\n",
       "\n",
       "       ...,\n",
       "\n",
       "\n",
       "       [[[34, 41, 49, ..., 25,  0,  0],\n",
       "         [41,  3, 15, ...,  0,  0,  0],\n",
       "         [40, 42, 49, ...,  0,  0,  0],\n",
       "         ...,\n",
       "         [ 0,  0, 23, ...,  5,  1,  0],\n",
       "         [ 3, 14, 49, ...,  0, 25, 25],\n",
       "         [ 0,  0,  0, ...,  0,  0,  0]],\n",
       "\n",
       "        [[33, 48, 48, ..., 24,  0,  0],\n",
       "         [48,  3, 15, ...,  0,  0,  0],\n",
       "         [40, 49, 48, ...,  0,  0,  0],\n",
       "         ...,\n",
       "         [ 0,  0, 23, ...,  5,  1,  0],\n",
       "         [ 3, 14,  0, ...,  0, 25, 24],\n",
       "         [ 0,  0,  0, ...,  0,  0,  0]]],\n",
       "\n",
       "\n",
       "       [[[18, 47, 26, ..., 47,  0,  0],\n",
       "         [44, 18, 38, ...,  0,  0,  0],\n",
       "         [41, 41, 48, ...,  0,  0,  0],\n",
       "         ...,\n",
       "         [27,  0,  6, ...,  1,  0,  0],\n",
       "         [23, 17, 22, ...,  0, 17, 47],\n",
       "         [ 0,  0,  0, ...,  0, 21,  0]],\n",
       "\n",
       "        [[18, 40, 26, ..., 43,  0,  0],\n",
       "         [43, 17, 35, ...,  0,  0,  0],\n",
       "         [40, 48, 48, ...,  0,  0,  0],\n",
       "         ...,\n",
       "         [26,  0,  6, ...,  1,  0,  0],\n",
       "         [22, 49, 22, ...,  0, 17, 49],\n",
       "         [ 0,  0,  0, ...,  0, 20,  0]]],\n",
       "\n",
       "\n",
       "       [[[35, 37, 37, ..., 28,  0,  0],\n",
       "         [18, 31, 18, ...,  0, 28,  0],\n",
       "         [11, 42, 49, ...,  0,  0,  0],\n",
       "         ...,\n",
       "         [ 7,  0, 29, ...,  0,  0,  0],\n",
       "         [ 6, 14,  6, ...,  0,  5, 27],\n",
       "         [ 0,  0, 29, ...,  0,  6,  0]],\n",
       "\n",
       "        [[34, 36, 36, ..., 27,  0,  0],\n",
       "         [17, 30, 17, ...,  0, 28,  0],\n",
       "         [11, 49, 48, ...,  0,  0,  0],\n",
       "         ...,\n",
       "         [ 7,  0, 28, ...,  0,  0,  0],\n",
       "         [ 6, 14,  6, ...,  0,  4, 21],\n",
       "         [ 0,  0, 28, ...,  0,  5,  0]]]])"
      ]
     },
     "execution_count": 1,
     "metadata": {},
     "output_type": "execute_result"
    }
   ],
   "source": [
    "import numpy as np\n",
    "from event_integration_to_frame import integrate_events_by_fixed_frames_number_bydecay\n",
    "DailyAct_np_file = '/Users/marcosesquivelgonzalez/Desktop/MasterCDatos/TFM/data/DVS_DailyAction_dataset/events_np/train/climb/cc2112.npz'\n",
    "ActRec_npfile = '/Users/marcosesquivelgonzalez/Desktop/MasterCDatos/TFM/data/DVS_ActionRecog_dataset/events_np/train/arm crossing/chenjieneng_1.1.npz'\n",
    "events_AR = np.load(ActRec_npfile)\n",
    "events_DA = np.load(DailyAct_np_file)\n",
    "integrate_events_by_fixed_frames_number_bydecay(events = events_AR, frames_num = 26, H = 260, W = 346, factor_tau = 0.8, scale_factor = 50)\n",
    "#integrate_events_by_fixed_frames_number_bydecay(events = events_DA, frames_num = 26, H = 128, W = 128, factor_tau = 0.8, scale_factor = 50)"
   ]
  },
  {
   "cell_type": "code",
   "execution_count": null,
   "metadata": {},
   "outputs": [],
   "source": [
    "t = np.array([4])\n",
    "t = t.astype('uint32')\n",
    "t = (t*1e-4).astype('uint32')"
   ]
  },
  {
   "cell_type": "code",
   "execution_count": null,
   "metadata": {},
   "outputs": [
    {
     "data": {
      "text/plain": [
       "array([593159078, 593167417, 593167774, ..., 597054624, 597054710,\n",
       "       597054729], dtype=uint32)"
      ]
     },
     "execution_count": 17,
     "metadata": {},
     "output_type": "execute_result"
    }
   ],
   "source": [
    "events_DA['t']#.astype('uint32')"
   ]
  },
  {
   "cell_type": "code",
   "execution_count": null,
   "metadata": {},
   "outputs": [
    {
     "data": {
      "text/plain": [
       "4.0"
      ]
     },
     "execution_count": 12,
     "metadata": {},
     "output_type": "execute_result"
    }
   ],
   "source": [
    "import numpy as np\n",
    "np.mean(results['hola'])"
   ]
  },
  {
   "cell_type": "code",
   "execution_count": null,
   "metadata": {},
   "outputs": [
    {
     "name": "stderr",
     "output_type": "stream",
     "text": [
      "/Users/marcosesquivelgonzalez/pyenviroments/tfm/lib/python3.11/site-packages/tqdm/auto.py:21: TqdmWarning: IProgress not found. Please update jupyter and ipywidgets. See https://ipywidgets.readthedocs.io/en/stable/user_install.html\n",
      "  from .autonotebook import tqdm as notebook_tqdm\n"
     ]
    },
    {
     "name": "stdout",
     "output_type": "stream",
     "text": [
      "The directory [/Users/marcosesquivelgonzalez/Desktop/MasterCDatos/TFM/data/DVS_Gesture_dataset/frames_number_16_split_by_number] already exists.\n",
      "The directory [/Users/marcosesquivelgonzalez/Desktop/MasterCDatos/TFM/data/DVS_Gesture_dataset/frames_number_16_split_by_number] already exists.\n"
     ]
    }
   ],
   "source": [
    "from Laboratory import loading_data\n",
    "data_dir = '/Users/marcosesquivelgonzalez/Desktop/MasterCDatos/TFM/data/DVS_Gesture_dataset'\n",
    "data_set, n_classes, sizexy = loading_data(input_data=data_dir,tr_tst_split=False)"
   ]
  },
  {
   "cell_type": "code",
   "execution_count": null,
   "metadata": {},
   "outputs": [],
   "source": [
    "import numpy as np"
   ]
  },
  {
   "cell_type": "code",
   "execution_count": null,
   "metadata": {},
   "outputs": [],
   "source": [
    "X  = [None]*len(data_set)\n",
    "y = [None]*len(data_set)\n",
    "for i,(sample,label) in enumerate(data_set):\n",
    "    X[i] = sample\n",
    "    y[i] = label\n",
    "X = np.array(X)\n",
    "y = np.array(y)"
   ]
  },
  {
   "cell_type": "code",
   "execution_count": null,
   "metadata": {},
   "outputs": [],
   "source": [
    "X  = np.array([])\n",
    "y = np.array([])\n",
    "for sample,label in data_set:\n",
    "    try:\n",
    "        X = np.concatenate((X,sample))\n",
    "        y = np.concatenate((y,sample))\n",
    "    except:\n",
    "        X = sample\n",
    "        y = label"
   ]
  },
  {
   "cell_type": "code",
   "execution_count": null,
   "metadata": {},
   "outputs": [
    {
     "name": "stdout",
     "output_type": "stream",
     "text": [
      "(16, 2, 128, 128)\n"
     ]
    }
   ],
   "source": [
    "X_1  = []\n",
    "y_1 = []\n",
    "for (sample,label) in (data_set):\n",
    "    X_1.append(sample)\n",
    "    y_1.append(label)\n",
    "print(X_1[0].shape)"
   ]
  },
  {
   "cell_type": "code",
   "execution_count": null,
   "metadata": {},
   "outputs": [],
   "source": [
    "import torch"
   ]
  },
  {
   "cell_type": "code",
   "execution_count": null,
   "metadata": {},
   "outputs": [
    {
     "name": "stdout",
     "output_type": "stream",
     "text": [
      "tensor(96) tensor(25)\n",
      "tensor(97) tensor(24)\n",
      "tensor(97) tensor(24)\n",
      "tensor(97) tensor(24)\n",
      "tensor(97) tensor(24)\n"
     ]
    }
   ],
   "source": [
    "from sklearn.model_selection import StratifiedKFold\n",
    "skf5 = StratifiedKFold(n_splits=5,shuffle=True,random_state=30)\n",
    "labels = [sample[1] for sample in data_set]\n",
    "for train_idx,test_idx in skf5.split(data_set, y = labels):\n",
    "    train_subsampler = torch.utils.data.SubsetRandomSampler(train_idx)\n",
    "    test_subsampler = torch.utils.data.SubsetRandomSampler(test_idx)\n",
    "    trainloader = torch.utils.data.DataLoader(\n",
    "                      data_set, \n",
    "                      batch_size=10, sampler=train_subsampler)\n",
    "    testloader = torch.utils.data.DataLoader(\n",
    "                      data_set,\n",
    "                      batch_size=10, sampler=test_subsampler)\n",
    "    y_0_train = 0 \n",
    "    for frame,label in trainloader:\n",
    "        y_0_train += torch.sum(label ==0)\n",
    "    y_0_test = 0 \n",
    "    for frame,label in testloader:\n",
    "        y_0_test += torch.sum(label ==0)  \n",
    "    print(y_0_train,y_0_test)\n"
   ]
  },
  {
   "cell_type": "code",
   "execution_count": null,
   "metadata": {},
   "outputs": [
    {
     "name": "stdout",
     "output_type": "stream",
     "text": [
      "cpu\n"
     ]
    }
   ],
   "source": [
    "import torch\n",
    "gpu = False\n",
    "device = (\"cuda\" if torch.cuda.is_available() else 'mps' if gpu else 'cpu')\n",
    "print(device)"
   ]
  },
  {
   "cell_type": "code",
   "execution_count": null,
   "metadata": {},
   "outputs": [
    {
     "name": "stdout",
     "output_type": "stream",
     "text": [
      "(array(['cc', 'gh', 'hk', 'hr', 'jc', 'jf', 'kx', 'ls', 'ps', 'sh', 'sy',\n",
      "       'xc', 'xd', 'yn'], dtype='<U2'), array([ 6, 12, 12,  6,  6,  7,  6,  6, 12,  6,  6, 11, 18,  6]))\n"
     ]
    }
   ],
   "source": [
    "import os \n",
    "import numpy as np\n",
    "root_bend_data = '/Users/marcosesquivelgonzalez/Desktop/MasterCDatos/TFM/data/DVS_DailyAction_dataset/extract/DailyAction/bend'\n",
    "subjects = np.unique([file[:2] for file in os.listdir(root_bend_data) if file.endswith('.aedat')],return_counts=True)\n",
    "print(subjects)"
   ]
  },
  {
   "cell_type": "code",
   "execution_count": null,
   "metadata": {},
   "outputs": [
    {
     "name": "stdout",
     "output_type": "stream",
     "text": [
      "['0', '1', '10', '2', '3', '4', '5', '6', '7', '8', '9']\n",
      "[(<numpy.lib.npyio.NpzFile object at 0x291b53dd0>, 0), (<numpy.lib.npyio.NpzFile object at 0x291e5b590>, 0), (<numpy.lib.npyio.NpzFile object at 0x291e5b610>, 0), (<numpy.lib.npyio.NpzFile object at 0x291e5b750>, 0), (<numpy.lib.npyio.NpzFile object at 0x291e5ba10>, 0), (<numpy.lib.npyio.NpzFile object at 0x291e59810>, 0), (<numpy.lib.npyio.NpzFile object at 0x291e59d90>, 0), (<numpy.lib.npyio.NpzFile object at 0x291e5bc50>, 0), (<numpy.lib.npyio.NpzFile object at 0x291e5a290>, 0), (<numpy.lib.npyio.NpzFile object at 0x291e5ac10>, 0), (<numpy.lib.npyio.NpzFile object at 0x107ab82d0>, 0), (<numpy.lib.npyio.NpzFile object at 0x291b42890>, 0), (<numpy.lib.npyio.NpzFile object at 0x291b42c50>, 0), (<numpy.lib.npyio.NpzFile object at 0x291b41b90>, 0), (<numpy.lib.npyio.NpzFile object at 0x291b42d10>, 0), (<numpy.lib.npyio.NpzFile object at 0x291b5cf90>, 0), (<numpy.lib.npyio.NpzFile object at 0x291b5e590>, 0), (<numpy.lib.npyio.NpzFile object at 0x291e67210>, 0), (<numpy.lib.npyio.NpzFile object at 0x291e640d0>, 0), (<numpy.lib.npyio.NpzFile object at 0x291e67cd0>, 0), (<numpy.lib.npyio.NpzFile object at 0x291e67d10>, 0), (<numpy.lib.npyio.NpzFile object at 0x291e5c250>, 0), (<numpy.lib.npyio.NpzFile object at 0x291e5c8d0>, 0), (<numpy.lib.npyio.NpzFile object at 0x291e5ec90>, 0), (<numpy.lib.npyio.NpzFile object at 0x291e5f110>, 0), (<numpy.lib.npyio.NpzFile object at 0x291e5f4d0>, 0), (<numpy.lib.npyio.NpzFile object at 0x291e5fa90>, 0), (<numpy.lib.npyio.NpzFile object at 0x291e5fc90>, 0), (<numpy.lib.npyio.NpzFile object at 0x291e5dd10>, 0), (<numpy.lib.npyio.NpzFile object at 0x291e5cc50>, 0), (<numpy.lib.npyio.NpzFile object at 0x291e5ccd0>, 0), (<numpy.lib.npyio.NpzFile object at 0x291e5d610>, 0), (<numpy.lib.npyio.NpzFile object at 0x291e5dcd0>, 0), (<numpy.lib.npyio.NpzFile object at 0x291e5d890>, 0), (<numpy.lib.npyio.NpzFile object at 0x291e5e4d0>, 0), (<numpy.lib.npyio.NpzFile object at 0x291e5e350>, 0), (<numpy.lib.npyio.NpzFile object at 0x291af9790>, 0), (<numpy.lib.npyio.NpzFile object at 0x291e63d10>, 0), (<numpy.lib.npyio.NpzFile object at 0x291e609d0>, 0), (<numpy.lib.npyio.NpzFile object at 0x291e60f90>, 0), (<numpy.lib.npyio.NpzFile object at 0x291e61790>, 0), (<numpy.lib.npyio.NpzFile object at 0x291e61d50>, 0), (<numpy.lib.npyio.NpzFile object at 0x291e620d0>, 0), (<numpy.lib.npyio.NpzFile object at 0x291e61b50>, 0), (<numpy.lib.npyio.NpzFile object at 0x291e62c10>, 0), (<numpy.lib.npyio.NpzFile object at 0x291e62ed0>, 0), (<numpy.lib.npyio.NpzFile object at 0x291e631d0>, 0), (<numpy.lib.npyio.NpzFile object at 0x291e61d90>, 0), (<numpy.lib.npyio.NpzFile object at 0x291e63950>, 0), (<numpy.lib.npyio.NpzFile object at 0x291e60c50>, 0), (<numpy.lib.npyio.NpzFile object at 0x291e60e90>, 0), (<numpy.lib.npyio.NpzFile object at 0x291e6c450>, 0), (<numpy.lib.npyio.NpzFile object at 0x291e6c810>, 0), (<numpy.lib.npyio.NpzFile object at 0x291e6cbd0>, 0), (<numpy.lib.npyio.NpzFile object at 0x291e6cfd0>, 0), (<numpy.lib.npyio.NpzFile object at 0x291e6d490>, 0), (<numpy.lib.npyio.NpzFile object at 0x291e6d850>, 0), (<numpy.lib.npyio.NpzFile object at 0x291e6dc10>, 0), (<numpy.lib.npyio.NpzFile object at 0x291e6dfd0>, 0), (<numpy.lib.npyio.NpzFile object at 0x291e6e390>, 0), (<numpy.lib.npyio.NpzFile object at 0x291e6e750>, 0), (<numpy.lib.npyio.NpzFile object at 0x291e6eb10>, 0), (<numpy.lib.npyio.NpzFile object at 0x291e6eed0>, 0), (<numpy.lib.npyio.NpzFile object at 0x291e6f710>, 0), (<numpy.lib.npyio.NpzFile object at 0x291e6f1d0>, 0), (<numpy.lib.npyio.NpzFile object at 0x291e6fb90>, 0), (<numpy.lib.npyio.NpzFile object at 0x291e6f9d0>, 0), (<numpy.lib.npyio.NpzFile object at 0x291e73610>, 0), (<numpy.lib.npyio.NpzFile object at 0x291e70310>, 0), (<numpy.lib.npyio.NpzFile object at 0x291e70050>, 0), (<numpy.lib.npyio.NpzFile object at 0x291e70b90>, 0), (<numpy.lib.npyio.NpzFile object at 0x291e71190>, 0), (<numpy.lib.npyio.NpzFile object at 0x291e71350>, 0), (<numpy.lib.npyio.NpzFile object at 0x291e70b50>, 0), (<numpy.lib.npyio.NpzFile object at 0x291e71e10>, 0), (<numpy.lib.npyio.NpzFile object at 0x291e72390>, 0), (<numpy.lib.npyio.NpzFile object at 0x291e72550>, 0), (<numpy.lib.npyio.NpzFile object at 0x291e72c10>, 0), (<numpy.lib.npyio.NpzFile object at 0x291e72cd0>, 0), (<numpy.lib.npyio.NpzFile object at 0x291e73490>, 0), (<numpy.lib.npyio.NpzFile object at 0x291e738d0>, 0), (<numpy.lib.npyio.NpzFile object at 0x291e73c50>, 0), (<numpy.lib.npyio.NpzFile object at 0x291e73fd0>, 0), (<numpy.lib.npyio.NpzFile object at 0x291e75310>, 0), (<numpy.lib.npyio.NpzFile object at 0x291e74210>, 0), (<numpy.lib.npyio.NpzFile object at 0x291e74750>, 0), (<numpy.lib.npyio.NpzFile object at 0x291e74190>, 0), (<numpy.lib.npyio.NpzFile object at 0x291e74e50>, 0), (<numpy.lib.npyio.NpzFile object at 0x291e753d0>, 0), (<numpy.lib.npyio.NpzFile object at 0x291e757d0>, 0), (<numpy.lib.npyio.NpzFile object at 0x291e75bd0>, 0), (<numpy.lib.npyio.NpzFile object at 0x291e76110>, 0), (<numpy.lib.npyio.NpzFile object at 0x291e764d0>, 0), (<numpy.lib.npyio.NpzFile object at 0x291e76890>, 0), (<numpy.lib.npyio.NpzFile object at 0x291e76c50>, 0), (<numpy.lib.npyio.NpzFile object at 0x291e77010>, 0), (<numpy.lib.npyio.NpzFile object at 0x291e773d0>, 0), (<numpy.lib.npyio.NpzFile object at 0x291e77790>, 1), (<numpy.lib.npyio.NpzFile object at 0x291e77b50>, 1), (<numpy.lib.npyio.NpzFile object at 0x291e77f10>, 1), (<numpy.lib.npyio.NpzFile object at 0x291ebc310>, 1), (<numpy.lib.npyio.NpzFile object at 0x291ebc6d0>, 1), (<numpy.lib.npyio.NpzFile object at 0x291ebca90>, 1), (<numpy.lib.npyio.NpzFile object at 0x291ebce50>, 1), (<numpy.lib.npyio.NpzFile object at 0x291ebd210>, 1), (<numpy.lib.npyio.NpzFile object at 0x291ebd5d0>, 1), (<numpy.lib.npyio.NpzFile object at 0x291ebd990>, 1), (<numpy.lib.npyio.NpzFile object at 0x291ebdd50>, 1), (<numpy.lib.npyio.NpzFile object at 0x291ebe110>, 1), (<numpy.lib.npyio.NpzFile object at 0x291ebe4d0>, 1), (<numpy.lib.npyio.NpzFile object at 0x291ebe890>, 1), (<numpy.lib.npyio.NpzFile object at 0x291ebec50>, 1), (<numpy.lib.npyio.NpzFile object at 0x291ebf010>, 1), (<numpy.lib.npyio.NpzFile object at 0x291ebf3d0>, 1), (<numpy.lib.npyio.NpzFile object at 0x291ebf790>, 1), (<numpy.lib.npyio.NpzFile object at 0x291ebfb50>, 1), (<numpy.lib.npyio.NpzFile object at 0x291ebff10>, 1), (<numpy.lib.npyio.NpzFile object at 0x291ecc310>, 1), (<numpy.lib.npyio.NpzFile object at 0x291ecc6d0>, 1), (<numpy.lib.npyio.NpzFile object at 0x291ecca90>, 1), (<numpy.lib.npyio.NpzFile object at 0x291ecce50>, 1), (<numpy.lib.npyio.NpzFile object at 0x291ecd210>, 1), (<numpy.lib.npyio.NpzFile object at 0x291ecd5d0>, 1), (<numpy.lib.npyio.NpzFile object at 0x291ecd990>, 1), (<numpy.lib.npyio.NpzFile object at 0x291ecdd50>, 1), (<numpy.lib.npyio.NpzFile object at 0x291ece110>, 1), (<numpy.lib.npyio.NpzFile object at 0x291ece4d0>, 1), (<numpy.lib.npyio.NpzFile object at 0x291ece890>, 1), (<numpy.lib.npyio.NpzFile object at 0x291ecec50>, 1), (<numpy.lib.npyio.NpzFile object at 0x291ecf010>, 1), (<numpy.lib.npyio.NpzFile object at 0x291ecf3d0>, 1), (<numpy.lib.npyio.NpzFile object at 0x291b0bc50>, 1), (<numpy.lib.npyio.NpzFile object at 0x291dc8390>, 1), (<numpy.lib.npyio.NpzFile object at 0x291dcd6d0>, 1), (<numpy.lib.npyio.NpzFile object at 0x291de1b10>, 1), (<numpy.lib.npyio.NpzFile object at 0x291b5d950>, 1), (<numpy.lib.npyio.NpzFile object at 0x291af6810>, 1), (<numpy.lib.npyio.NpzFile object at 0x291daaed0>, 1), (<numpy.lib.npyio.NpzFile object at 0x291dab890>, 1), (<numpy.lib.npyio.NpzFile object at 0x291daa690>, 1), (<numpy.lib.npyio.NpzFile object at 0x291ecf5d0>, 1), (<numpy.lib.npyio.NpzFile object at 0x291ecf910>, 1), (<numpy.lib.npyio.NpzFile object at 0x291ecfc50>, 1), (<numpy.lib.npyio.NpzFile object at 0x291ecff90>, 1), (<numpy.lib.npyio.NpzFile object at 0x291eec310>, 1), (<numpy.lib.npyio.NpzFile object at 0x291eec650>, 1), (<numpy.lib.npyio.NpzFile object at 0x291eec990>, 1), (<numpy.lib.npyio.NpzFile object at 0x291eeccd0>, 1), (<numpy.lib.npyio.NpzFile object at 0x291eed010>, 1), (<numpy.lib.npyio.NpzFile object at 0x291eed350>, 1), (<numpy.lib.npyio.NpzFile object at 0x291eed690>, 1), (<numpy.lib.npyio.NpzFile object at 0x291eed9d0>, 1), (<numpy.lib.npyio.NpzFile object at 0x291eedd10>, 1), (<numpy.lib.npyio.NpzFile object at 0x291eee050>, 1), (<numpy.lib.npyio.NpzFile object at 0x291eee390>, 1), (<numpy.lib.npyio.NpzFile object at 0x291eee6d0>, 1), (<numpy.lib.npyio.NpzFile object at 0x291eeea10>, 1), (<numpy.lib.npyio.NpzFile object at 0x291eeed50>, 1), (<numpy.lib.npyio.NpzFile object at 0x291eef090>, 1), (<numpy.lib.npyio.NpzFile object at 0x291eef3d0>, 1), (<numpy.lib.npyio.NpzFile object at 0x291eef710>, 1), (<numpy.lib.npyio.NpzFile object at 0x291eefa50>, 1), (<numpy.lib.npyio.NpzFile object at 0x291eefd90>, 1), (<numpy.lib.npyio.NpzFile object at 0x291ef8110>, 1), (<numpy.lib.npyio.NpzFile object at 0x291ef8450>, 1), (<numpy.lib.npyio.NpzFile object at 0x291ef8790>, 1), (<numpy.lib.npyio.NpzFile object at 0x291ef8ad0>, 1), (<numpy.lib.npyio.NpzFile object at 0x291ef8e10>, 1), (<numpy.lib.npyio.NpzFile object at 0x291ef9150>, 1), (<numpy.lib.npyio.NpzFile object at 0x291ef9490>, 1), (<numpy.lib.npyio.NpzFile object at 0x291ef97d0>, 1), (<numpy.lib.npyio.NpzFile object at 0x291ef9b90>, 1), (<numpy.lib.npyio.NpzFile object at 0x291ef9f50>, 1), (<numpy.lib.npyio.NpzFile object at 0x291efa310>, 1), (<numpy.lib.npyio.NpzFile object at 0x291efa6d0>, 1), (<numpy.lib.npyio.NpzFile object at 0x291efaa90>, 1), (<numpy.lib.npyio.NpzFile object at 0x291efae50>, 1), (<numpy.lib.npyio.NpzFile object at 0x291efb210>, 1), (<numpy.lib.npyio.NpzFile object at 0x291efb5d0>, 1), (<numpy.lib.npyio.NpzFile object at 0x291efb990>, 1), (<numpy.lib.npyio.NpzFile object at 0x291efbd50>, 1), (<numpy.lib.npyio.NpzFile object at 0x291f0c150>, 1), (<numpy.lib.npyio.NpzFile object at 0x291f0c510>, 1), (<numpy.lib.npyio.NpzFile object at 0x291f0c8d0>, 1), (<numpy.lib.npyio.NpzFile object at 0x291f0cc90>, 1), (<numpy.lib.npyio.NpzFile object at 0x291f0d050>, 1), (<numpy.lib.npyio.NpzFile object at 0x291f0d410>, 1), (<numpy.lib.npyio.NpzFile object at 0x291f0d7d0>, 1), (<numpy.lib.npyio.NpzFile object at 0x291f0db90>, 1), (<numpy.lib.npyio.NpzFile object at 0x291f0df50>, 1), (<numpy.lib.npyio.NpzFile object at 0x291f0e310>, 1), (<numpy.lib.npyio.NpzFile object at 0x291f0e6d0>, 1), (<numpy.lib.npyio.NpzFile object at 0x291f0ea90>, 1), (<numpy.lib.npyio.NpzFile object at 0x291f0ee50>, 1), (<numpy.lib.npyio.NpzFile object at 0x291f0f210>, 1), (<numpy.lib.npyio.NpzFile object at 0x291f0f5d0>, 2), (<numpy.lib.npyio.NpzFile object at 0x291f0f990>, 2), (<numpy.lib.npyio.NpzFile object at 0x291f0fd50>, 2), (<numpy.lib.npyio.NpzFile object at 0x291f1c150>, 2), (<numpy.lib.npyio.NpzFile object at 0x291f1c510>, 2), (<numpy.lib.npyio.NpzFile object at 0x291f1c8d0>, 2), (<numpy.lib.npyio.NpzFile object at 0x291f1cc90>, 2), (<numpy.lib.npyio.NpzFile object at 0x291f1d050>, 2), (<numpy.lib.npyio.NpzFile object at 0x291f1d410>, 2), (<numpy.lib.npyio.NpzFile object at 0x291f1d7d0>, 2), (<numpy.lib.npyio.NpzFile object at 0x291f1db90>, 2), (<numpy.lib.npyio.NpzFile object at 0x291f1df50>, 2), (<numpy.lib.npyio.NpzFile object at 0x291f1e310>, 2), (<numpy.lib.npyio.NpzFile object at 0x291f1e6d0>, 2), (<numpy.lib.npyio.NpzFile object at 0x291f1ea90>, 2), (<numpy.lib.npyio.NpzFile object at 0x291f1ee50>, 2), (<numpy.lib.npyio.NpzFile object at 0x291f1f210>, 2), (<numpy.lib.npyio.NpzFile object at 0x291f1f5d0>, 2), (<numpy.lib.npyio.NpzFile object at 0x291f1f990>, 2), (<numpy.lib.npyio.NpzFile object at 0x291f1fd50>, 2), (<numpy.lib.npyio.NpzFile object at 0x291f2c150>, 2), (<numpy.lib.npyio.NpzFile object at 0x291f2c510>, 2), (<numpy.lib.npyio.NpzFile object at 0x291f2c8d0>, 2), (<numpy.lib.npyio.NpzFile object at 0x291f2cc90>, 2), (<numpy.lib.npyio.NpzFile object at 0x291f2d050>, 2), (<numpy.lib.npyio.NpzFile object at 0x291f2d410>, 2), (<numpy.lib.npyio.NpzFile object at 0x291f2d7d0>, 2), (<numpy.lib.npyio.NpzFile object at 0x291f2db90>, 2), (<numpy.lib.npyio.NpzFile object at 0x291f2df50>, 2), (<numpy.lib.npyio.NpzFile object at 0x291f2e310>, 2), (<numpy.lib.npyio.NpzFile object at 0x291f2e6d0>, 2), (<numpy.lib.npyio.NpzFile object at 0x291f2ea90>, 2), (<numpy.lib.npyio.NpzFile object at 0x291f2ee50>, 2), (<numpy.lib.npyio.NpzFile object at 0x291f2f210>, 2), (<numpy.lib.npyio.NpzFile object at 0x291f2f5d0>, 2), (<numpy.lib.npyio.NpzFile object at 0x291f2f990>, 2), (<numpy.lib.npyio.NpzFile object at 0x291f2fd50>, 2), (<numpy.lib.npyio.NpzFile object at 0x291f3c150>, 2), (<numpy.lib.npyio.NpzFile object at 0x291f3c510>, 2), (<numpy.lib.npyio.NpzFile object at 0x291f3c8d0>, 2), (<numpy.lib.npyio.NpzFile object at 0x291f3cc90>, 2), (<numpy.lib.npyio.NpzFile object at 0x291f3d050>, 2), (<numpy.lib.npyio.NpzFile object at 0x291f3d410>, 2), (<numpy.lib.npyio.NpzFile object at 0x291f3d7d0>, 2), (<numpy.lib.npyio.NpzFile object at 0x291f3db90>, 2), (<numpy.lib.npyio.NpzFile object at 0x291f3df50>, 2), (<numpy.lib.npyio.NpzFile object at 0x291f3e310>, 2), (<numpy.lib.npyio.NpzFile object at 0x291f3e6d0>, 2), (<numpy.lib.npyio.NpzFile object at 0x291f3ea90>, 2), (<numpy.lib.npyio.NpzFile object at 0x291f3ee50>, 2), (<numpy.lib.npyio.NpzFile object at 0x291f3f210>, 2), (<numpy.lib.npyio.NpzFile object at 0x291f3f5d0>, 2), (<numpy.lib.npyio.NpzFile object at 0x291f3f990>, 2), (<numpy.lib.npyio.NpzFile object at 0x291f3fd50>, 2), (<numpy.lib.npyio.NpzFile object at 0x291f4c150>, 2), (<numpy.lib.npyio.NpzFile object at 0x291f4c510>, 2), (<numpy.lib.npyio.NpzFile object at 0x291f4c8d0>, 2), (<numpy.lib.npyio.NpzFile object at 0x291f4cc90>, 2), (<numpy.lib.npyio.NpzFile object at 0x291f4d050>, 2), (<numpy.lib.npyio.NpzFile object at 0x291f4d410>, 2), (<numpy.lib.npyio.NpzFile object at 0x291f4d7d0>, 2), (<numpy.lib.npyio.NpzFile object at 0x291f4db90>, 2), (<numpy.lib.npyio.NpzFile object at 0x291f4df50>, 2), (<numpy.lib.npyio.NpzFile object at 0x291f4e310>, 2), (<numpy.lib.npyio.NpzFile object at 0x291f4e6d0>, 2), (<numpy.lib.npyio.NpzFile object at 0x291f4ea90>, 2), (<numpy.lib.npyio.NpzFile object at 0x291f4ee50>, 2), (<numpy.lib.npyio.NpzFile object at 0x291f4f210>, 2), (<numpy.lib.npyio.NpzFile object at 0x291f4f5d0>, 2), (<numpy.lib.npyio.NpzFile object at 0x291f4f990>, 2), (<numpy.lib.npyio.NpzFile object at 0x291f4fd50>, 2), (<numpy.lib.npyio.NpzFile object at 0x291f5c150>, 2), (<numpy.lib.npyio.NpzFile object at 0x291f5c510>, 2), (<numpy.lib.npyio.NpzFile object at 0x291f5c8d0>, 2), (<numpy.lib.npyio.NpzFile object at 0x291f5cc90>, 2), (<numpy.lib.npyio.NpzFile object at 0x291f5d050>, 2), (<numpy.lib.npyio.NpzFile object at 0x291f5d410>, 2), (<numpy.lib.npyio.NpzFile object at 0x291f5d7d0>, 2), (<numpy.lib.npyio.NpzFile object at 0x291f5db90>, 2), (<numpy.lib.npyio.NpzFile object at 0x291f5df50>, 2), (<numpy.lib.npyio.NpzFile object at 0x291f5e310>, 2), (<numpy.lib.npyio.NpzFile object at 0x291f5e6d0>, 2), (<numpy.lib.npyio.NpzFile object at 0x291f5ea90>, 2), (<numpy.lib.npyio.NpzFile object at 0x291f5ee50>, 2), (<numpy.lib.npyio.NpzFile object at 0x291f5f210>, 2), (<numpy.lib.npyio.NpzFile object at 0x291f5f5d0>, 2), (<numpy.lib.npyio.NpzFile object at 0x291f5f990>, 2), (<numpy.lib.npyio.NpzFile object at 0x291f5fd50>, 2), (<numpy.lib.npyio.NpzFile object at 0x291f70150>, 2), (<numpy.lib.npyio.NpzFile object at 0x291f70510>, 2), (<numpy.lib.npyio.NpzFile object at 0x291f708d0>, 2), (<numpy.lib.npyio.NpzFile object at 0x291f70c90>, 2), (<numpy.lib.npyio.NpzFile object at 0x291f71050>, 2), (<numpy.lib.npyio.NpzFile object at 0x291f71410>, 2), (<numpy.lib.npyio.NpzFile object at 0x291f717d0>, 2), (<numpy.lib.npyio.NpzFile object at 0x291f71b90>, 2), (<numpy.lib.npyio.NpzFile object at 0x291f71f50>, 2), (<numpy.lib.npyio.NpzFile object at 0x291f72310>, 2), (<numpy.lib.npyio.NpzFile object at 0x291f726d0>, 3), (<numpy.lib.npyio.NpzFile object at 0x291f72a90>, 3), (<numpy.lib.npyio.NpzFile object at 0x291f72e50>, 3), (<numpy.lib.npyio.NpzFile object at 0x291f73210>, 3), (<numpy.lib.npyio.NpzFile object at 0x291f735d0>, 3), (<numpy.lib.npyio.NpzFile object at 0x291f73990>, 3), (<numpy.lib.npyio.NpzFile object at 0x291f73d50>, 3), (<numpy.lib.npyio.NpzFile object at 0x291f7c150>, 3), (<numpy.lib.npyio.NpzFile object at 0x291f7c510>, 3), (<numpy.lib.npyio.NpzFile object at 0x291f7c8d0>, 3), (<numpy.lib.npyio.NpzFile object at 0x291f7cc90>, 3), (<numpy.lib.npyio.NpzFile object at 0x291f7d050>, 3), (<numpy.lib.npyio.NpzFile object at 0x291f7d410>, 3), (<numpy.lib.npyio.NpzFile object at 0x291f7d7d0>, 3), (<numpy.lib.npyio.NpzFile object at 0x291f7db90>, 3), (<numpy.lib.npyio.NpzFile object at 0x291f7df50>, 3), (<numpy.lib.npyio.NpzFile object at 0x291f7e310>, 3), (<numpy.lib.npyio.NpzFile object at 0x291f7e6d0>, 3), (<numpy.lib.npyio.NpzFile object at 0x291f7ea90>, 3), (<numpy.lib.npyio.NpzFile object at 0x291f7ee50>, 3), (<numpy.lib.npyio.NpzFile object at 0x291f7f210>, 3), (<numpy.lib.npyio.NpzFile object at 0x291f7f5d0>, 3), (<numpy.lib.npyio.NpzFile object at 0x291f7f990>, 3), (<numpy.lib.npyio.NpzFile object at 0x291f7fd50>, 3), (<numpy.lib.npyio.NpzFile object at 0x291f90150>, 3), (<numpy.lib.npyio.NpzFile object at 0x291f90510>, 3), (<numpy.lib.npyio.NpzFile object at 0x291f908d0>, 3), (<numpy.lib.npyio.NpzFile object at 0x291f90c90>, 3), (<numpy.lib.npyio.NpzFile object at 0x291f91050>, 3), (<numpy.lib.npyio.NpzFile object at 0x291f91410>, 3), (<numpy.lib.npyio.NpzFile object at 0x291f917d0>, 3), (<numpy.lib.npyio.NpzFile object at 0x291f91b90>, 3), (<numpy.lib.npyio.NpzFile object at 0x291f91f50>, 3), (<numpy.lib.npyio.NpzFile object at 0x291f92310>, 3), (<numpy.lib.npyio.NpzFile object at 0x291f926d0>, 3), (<numpy.lib.npyio.NpzFile object at 0x291f92a90>, 3), (<numpy.lib.npyio.NpzFile object at 0x291f92e50>, 3), (<numpy.lib.npyio.NpzFile object at 0x291f93210>, 3), (<numpy.lib.npyio.NpzFile object at 0x291f935d0>, 3), (<numpy.lib.npyio.NpzFile object at 0x291f93990>, 3), (<numpy.lib.npyio.NpzFile object at 0x291f93d50>, 3), (<numpy.lib.npyio.NpzFile object at 0x291fa0150>, 3), (<numpy.lib.npyio.NpzFile object at 0x291fa0510>, 3), (<numpy.lib.npyio.NpzFile object at 0x291fa08d0>, 3), (<numpy.lib.npyio.NpzFile object at 0x291fa0c90>, 3), (<numpy.lib.npyio.NpzFile object at 0x291fa1050>, 3), (<numpy.lib.npyio.NpzFile object at 0x291fa1410>, 3), (<numpy.lib.npyio.NpzFile object at 0x291fa17d0>, 3), (<numpy.lib.npyio.NpzFile object at 0x291fa1b90>, 3), (<numpy.lib.npyio.NpzFile object at 0x291fa1f50>, 3), (<numpy.lib.npyio.NpzFile object at 0x291fa2310>, 3), (<numpy.lib.npyio.NpzFile object at 0x291fa26d0>, 3), (<numpy.lib.npyio.NpzFile object at 0x291fa2a90>, 3), (<numpy.lib.npyio.NpzFile object at 0x291fa2e50>, 3), (<numpy.lib.npyio.NpzFile object at 0x291fa3210>, 3), (<numpy.lib.npyio.NpzFile object at 0x291fa35d0>, 3), (<numpy.lib.npyio.NpzFile object at 0x291fa3990>, 3), (<numpy.lib.npyio.NpzFile object at 0x291fa3d50>, 3), (<numpy.lib.npyio.NpzFile object at 0x291fb4150>, 3), (<numpy.lib.npyio.NpzFile object at 0x291fb4510>, 3), (<numpy.lib.npyio.NpzFile object at 0x291fb48d0>, 3), (<numpy.lib.npyio.NpzFile object at 0x291fb4c90>, 3), (<numpy.lib.npyio.NpzFile object at 0x291fb5050>, 3), (<numpy.lib.npyio.NpzFile object at 0x291fb5410>, 3), (<numpy.lib.npyio.NpzFile object at 0x291fb57d0>, 3), (<numpy.lib.npyio.NpzFile object at 0x291fb5b90>, 3), (<numpy.lib.npyio.NpzFile object at 0x291fb5f50>, 3), (<numpy.lib.npyio.NpzFile object at 0x291fb6310>, 3), (<numpy.lib.npyio.NpzFile object at 0x291fb66d0>, 3), (<numpy.lib.npyio.NpzFile object at 0x291fb6a90>, 3), (<numpy.lib.npyio.NpzFile object at 0x291fb6e50>, 3), (<numpy.lib.npyio.NpzFile object at 0x291fb7210>, 3), (<numpy.lib.npyio.NpzFile object at 0x291fb75d0>, 3), (<numpy.lib.npyio.NpzFile object at 0x291fb7990>, 3), (<numpy.lib.npyio.NpzFile object at 0x291fb7d50>, 3), (<numpy.lib.npyio.NpzFile object at 0x291fc0150>, 3), (<numpy.lib.npyio.NpzFile object at 0x291fc0510>, 3), (<numpy.lib.npyio.NpzFile object at 0x291fc08d0>, 3), (<numpy.lib.npyio.NpzFile object at 0x291fc0c90>, 3), (<numpy.lib.npyio.NpzFile object at 0x291fc1050>, 3), (<numpy.lib.npyio.NpzFile object at 0x291fc1410>, 3), (<numpy.lib.npyio.NpzFile object at 0x291fc17d0>, 3), (<numpy.lib.npyio.NpzFile object at 0x291fc1b90>, 3), (<numpy.lib.npyio.NpzFile object at 0x291fc1f50>, 3), (<numpy.lib.npyio.NpzFile object at 0x291fc2310>, 3), (<numpy.lib.npyio.NpzFile object at 0x291fc26d0>, 3), (<numpy.lib.npyio.NpzFile object at 0x291fc2a90>, 3), (<numpy.lib.npyio.NpzFile object at 0x291fc2e50>, 3), (<numpy.lib.npyio.NpzFile object at 0x291fc3210>, 3), (<numpy.lib.npyio.NpzFile object at 0x291fc35d0>, 3), (<numpy.lib.npyio.NpzFile object at 0x291fc3990>, 3), (<numpy.lib.npyio.NpzFile object at 0x291fc3d50>, 3), (<numpy.lib.npyio.NpzFile object at 0x291fd4150>, 3), (<numpy.lib.npyio.NpzFile object at 0x291fd4510>, 3), (<numpy.lib.npyio.NpzFile object at 0x291fd48d0>, 3), (<numpy.lib.npyio.NpzFile object at 0x291fd4c90>, 3), (<numpy.lib.npyio.NpzFile object at 0x291fd5050>, 3), (<numpy.lib.npyio.NpzFile object at 0x291fd5410>, 3), (<numpy.lib.npyio.NpzFile object at 0x291fd57d0>, 4), (<numpy.lib.npyio.NpzFile object at 0x291fd5b90>, 4), (<numpy.lib.npyio.NpzFile object at 0x291fd5f50>, 4), (<numpy.lib.npyio.NpzFile object at 0x291fd6310>, 4), (<numpy.lib.npyio.NpzFile object at 0x291fd66d0>, 4), (<numpy.lib.npyio.NpzFile object at 0x291fd6a90>, 4), (<numpy.lib.npyio.NpzFile object at 0x291fd6e50>, 4), (<numpy.lib.npyio.NpzFile object at 0x291fd7210>, 4), (<numpy.lib.npyio.NpzFile object at 0x291fd75d0>, 4), (<numpy.lib.npyio.NpzFile object at 0x291fd7990>, 4), (<numpy.lib.npyio.NpzFile object at 0x291fd7d50>, 4), (<numpy.lib.npyio.NpzFile object at 0x291fe4150>, 4), (<numpy.lib.npyio.NpzFile object at 0x291fe4510>, 4), (<numpy.lib.npyio.NpzFile object at 0x291fe48d0>, 4), (<numpy.lib.npyio.NpzFile object at 0x291fe4c90>, 4), (<numpy.lib.npyio.NpzFile object at 0x291fe5050>, 4), (<numpy.lib.npyio.NpzFile object at 0x291fe5410>, 4), (<numpy.lib.npyio.NpzFile object at 0x291fe57d0>, 4), (<numpy.lib.npyio.NpzFile object at 0x291fe5b90>, 4), (<numpy.lib.npyio.NpzFile object at 0x291fe5f50>, 4), (<numpy.lib.npyio.NpzFile object at 0x291fe6310>, 4), (<numpy.lib.npyio.NpzFile object at 0x291fe66d0>, 4), (<numpy.lib.npyio.NpzFile object at 0x291fe6a90>, 4), (<numpy.lib.npyio.NpzFile object at 0x291fe6e50>, 4), (<numpy.lib.npyio.NpzFile object at 0x291fe7210>, 4), (<numpy.lib.npyio.NpzFile object at 0x291fe75d0>, 4), (<numpy.lib.npyio.NpzFile object at 0x291fe7990>, 4), (<numpy.lib.npyio.NpzFile object at 0x291fe7d50>, 4), (<numpy.lib.npyio.NpzFile object at 0x291ff4150>, 4), (<numpy.lib.npyio.NpzFile object at 0x291ff4510>, 4), (<numpy.lib.npyio.NpzFile object at 0x291ff48d0>, 4), (<numpy.lib.npyio.NpzFile object at 0x291ff4c90>, 4), (<numpy.lib.npyio.NpzFile object at 0x291ff5050>, 4), (<numpy.lib.npyio.NpzFile object at 0x291ff5410>, 4), (<numpy.lib.npyio.NpzFile object at 0x291ff57d0>, 4), (<numpy.lib.npyio.NpzFile object at 0x291ff5b90>, 4), (<numpy.lib.npyio.NpzFile object at 0x291ff5f50>, 4), (<numpy.lib.npyio.NpzFile object at 0x291ff6310>, 4), (<numpy.lib.npyio.NpzFile object at 0x291ff66d0>, 4), (<numpy.lib.npyio.NpzFile object at 0x291ff6a90>, 4), (<numpy.lib.npyio.NpzFile object at 0x291ff6e50>, 4), (<numpy.lib.npyio.NpzFile object at 0x291ff7210>, 4), (<numpy.lib.npyio.NpzFile object at 0x291ff75d0>, 4), (<numpy.lib.npyio.NpzFile object at 0x291ff7990>, 4), (<numpy.lib.npyio.NpzFile object at 0x291ff7d50>, 4), (<numpy.lib.npyio.NpzFile object at 0x292008150>, 4), (<numpy.lib.npyio.NpzFile object at 0x292008510>, 4), (<numpy.lib.npyio.NpzFile object at 0x2920088d0>, 4), (<numpy.lib.npyio.NpzFile object at 0x292008c90>, 4), (<numpy.lib.npyio.NpzFile object at 0x292009050>, 4), (<numpy.lib.npyio.NpzFile object at 0x292009410>, 4), (<numpy.lib.npyio.NpzFile object at 0x2920097d0>, 4), (<numpy.lib.npyio.NpzFile object at 0x292009b90>, 4), (<numpy.lib.npyio.NpzFile object at 0x292009f50>, 4), (<numpy.lib.npyio.NpzFile object at 0x29200a310>, 4), (<numpy.lib.npyio.NpzFile object at 0x29200a6d0>, 4), (<numpy.lib.npyio.NpzFile object at 0x29200aa90>, 4), (<numpy.lib.npyio.NpzFile object at 0x29200ae50>, 4), (<numpy.lib.npyio.NpzFile object at 0x29200b210>, 4), (<numpy.lib.npyio.NpzFile object at 0x29200b5d0>, 4), (<numpy.lib.npyio.NpzFile object at 0x29200b990>, 4), (<numpy.lib.npyio.NpzFile object at 0x29200bd50>, 4), (<numpy.lib.npyio.NpzFile object at 0x292018150>, 4), (<numpy.lib.npyio.NpzFile object at 0x292018510>, 4), (<numpy.lib.npyio.NpzFile object at 0x2920188d0>, 4), (<numpy.lib.npyio.NpzFile object at 0x292018c90>, 4), (<numpy.lib.npyio.NpzFile object at 0x292019050>, 4), (<numpy.lib.npyio.NpzFile object at 0x292019410>, 4), (<numpy.lib.npyio.NpzFile object at 0x2920197d0>, 4), (<numpy.lib.npyio.NpzFile object at 0x292019b90>, 4), (<numpy.lib.npyio.NpzFile object at 0x292019f50>, 4), (<numpy.lib.npyio.NpzFile object at 0x29201a310>, 4), (<numpy.lib.npyio.NpzFile object at 0x29201a6d0>, 4), (<numpy.lib.npyio.NpzFile object at 0x29201aa90>, 4), (<numpy.lib.npyio.NpzFile object at 0x29201ae50>, 4), (<numpy.lib.npyio.NpzFile object at 0x29201b210>, 4), (<numpy.lib.npyio.NpzFile object at 0x29201b5d0>, 4), (<numpy.lib.npyio.NpzFile object at 0x29201b990>, 4), (<numpy.lib.npyio.NpzFile object at 0x29201bd50>, 4), (<numpy.lib.npyio.NpzFile object at 0x292028150>, 4), (<numpy.lib.npyio.NpzFile object at 0x292028510>, 4), (<numpy.lib.npyio.NpzFile object at 0x2920288d0>, 4), (<numpy.lib.npyio.NpzFile object at 0x292028c90>, 4), (<numpy.lib.npyio.NpzFile object at 0x292029050>, 4), (<numpy.lib.npyio.NpzFile object at 0x292029410>, 4), (<numpy.lib.npyio.NpzFile object at 0x2920297d0>, 4), (<numpy.lib.npyio.NpzFile object at 0x292029b90>, 4), (<numpy.lib.npyio.NpzFile object at 0x292029f50>, 4), (<numpy.lib.npyio.NpzFile object at 0x29202a310>, 4), (<numpy.lib.npyio.NpzFile object at 0x29202a6d0>, 4), (<numpy.lib.npyio.NpzFile object at 0x29202aa90>, 4), (<numpy.lib.npyio.NpzFile object at 0x29202ae50>, 4), (<numpy.lib.npyio.NpzFile object at 0x29202b210>, 4), (<numpy.lib.npyio.NpzFile object at 0x29202b5d0>, 4), (<numpy.lib.npyio.NpzFile object at 0x29202b990>, 4), (<numpy.lib.npyio.NpzFile object at 0x29202bd50>, 4), (<numpy.lib.npyio.NpzFile object at 0x29203c150>, 4), (<numpy.lib.npyio.NpzFile object at 0x29203c510>, 4), (<numpy.lib.npyio.NpzFile object at 0x29203c8d0>, 5), (<numpy.lib.npyio.NpzFile object at 0x29203cc90>, 5), (<numpy.lib.npyio.NpzFile object at 0x29203d050>, 5), (<numpy.lib.npyio.NpzFile object at 0x29203d410>, 5), (<numpy.lib.npyio.NpzFile object at 0x29203d7d0>, 5), (<numpy.lib.npyio.NpzFile object at 0x29203db90>, 5), (<numpy.lib.npyio.NpzFile object at 0x29203df50>, 5), (<numpy.lib.npyio.NpzFile object at 0x29203e310>, 5), (<numpy.lib.npyio.NpzFile object at 0x29203e6d0>, 5), (<numpy.lib.npyio.NpzFile object at 0x29203ea90>, 5), (<numpy.lib.npyio.NpzFile object at 0x29203ee50>, 5), (<numpy.lib.npyio.NpzFile object at 0x29203f210>, 5), (<numpy.lib.npyio.NpzFile object at 0x29203f5d0>, 5), (<numpy.lib.npyio.NpzFile object at 0x29203f990>, 5), (<numpy.lib.npyio.NpzFile object at 0x29203fd50>, 5), (<numpy.lib.npyio.NpzFile object at 0x292044150>, 5), (<numpy.lib.npyio.NpzFile object at 0x292044510>, 5), (<numpy.lib.npyio.NpzFile object at 0x2920448d0>, 5), (<numpy.lib.npyio.NpzFile object at 0x292044c90>, 5), (<numpy.lib.npyio.NpzFile object at 0x292045050>, 5), (<numpy.lib.npyio.NpzFile object at 0x292045410>, 5), (<numpy.lib.npyio.NpzFile object at 0x2920457d0>, 5), (<numpy.lib.npyio.NpzFile object at 0x292045b90>, 5), (<numpy.lib.npyio.NpzFile object at 0x292045f50>, 5), (<numpy.lib.npyio.NpzFile object at 0x292046310>, 5), (<numpy.lib.npyio.NpzFile object at 0x2920466d0>, 5), (<numpy.lib.npyio.NpzFile object at 0x292046a90>, 5), (<numpy.lib.npyio.NpzFile object at 0x292046e50>, 5), (<numpy.lib.npyio.NpzFile object at 0x292047210>, 5), (<numpy.lib.npyio.NpzFile object at 0x2920475d0>, 5), (<numpy.lib.npyio.NpzFile object at 0x292047990>, 5), (<numpy.lib.npyio.NpzFile object at 0x292047d50>, 5), (<numpy.lib.npyio.NpzFile object at 0x29205c150>, 5), (<numpy.lib.npyio.NpzFile object at 0x29205c510>, 5), (<numpy.lib.npyio.NpzFile object at 0x29205c8d0>, 5), (<numpy.lib.npyio.NpzFile object at 0x29205cc90>, 5), (<numpy.lib.npyio.NpzFile object at 0x29205d050>, 5), (<numpy.lib.npyio.NpzFile object at 0x29205d410>, 5), (<numpy.lib.npyio.NpzFile object at 0x29205d7d0>, 5), (<numpy.lib.npyio.NpzFile object at 0x29205db90>, 5), (<numpy.lib.npyio.NpzFile object at 0x29205df50>, 5), (<numpy.lib.npyio.NpzFile object at 0x29205e310>, 5), (<numpy.lib.npyio.NpzFile object at 0x29205e6d0>, 5), (<numpy.lib.npyio.NpzFile object at 0x29205ea90>, 5), (<numpy.lib.npyio.NpzFile object at 0x29205ee50>, 5), (<numpy.lib.npyio.NpzFile object at 0x29205f210>, 5), (<numpy.lib.npyio.NpzFile object at 0x29205f5d0>, 5), (<numpy.lib.npyio.NpzFile object at 0x29205f990>, 5), (<numpy.lib.npyio.NpzFile object at 0x29205fd50>, 5), (<numpy.lib.npyio.NpzFile object at 0x29206c150>, 5), (<numpy.lib.npyio.NpzFile object at 0x29206c510>, 5), (<numpy.lib.npyio.NpzFile object at 0x29206c8d0>, 5), (<numpy.lib.npyio.NpzFile object at 0x29206cc90>, 5), (<numpy.lib.npyio.NpzFile object at 0x29206d050>, 5), (<numpy.lib.npyio.NpzFile object at 0x29206d410>, 5), (<numpy.lib.npyio.NpzFile object at 0x29206d7d0>, 5), (<numpy.lib.npyio.NpzFile object at 0x29206db90>, 5), (<numpy.lib.npyio.NpzFile object at 0x29206df50>, 5), (<numpy.lib.npyio.NpzFile object at 0x29206e310>, 5), (<numpy.lib.npyio.NpzFile object at 0x29206e6d0>, 5), (<numpy.lib.npyio.NpzFile object at 0x29206ea90>, 5), (<numpy.lib.npyio.NpzFile object at 0x29206ee50>, 5), (<numpy.lib.npyio.NpzFile object at 0x29206f210>, 5), (<numpy.lib.npyio.NpzFile object at 0x29206f5d0>, 5), (<numpy.lib.npyio.NpzFile object at 0x29206f990>, 5), (<numpy.lib.npyio.NpzFile object at 0x29206fd50>, 5), (<numpy.lib.npyio.NpzFile object at 0x29207c150>, 5), (<numpy.lib.npyio.NpzFile object at 0x29207c510>, 5), (<numpy.lib.npyio.NpzFile object at 0x29207c8d0>, 5), (<numpy.lib.npyio.NpzFile object at 0x29207cc90>, 5), (<numpy.lib.npyio.NpzFile object at 0x29207d050>, 5), (<numpy.lib.npyio.NpzFile object at 0x29207d410>, 5), (<numpy.lib.npyio.NpzFile object at 0x29207d7d0>, 5), (<numpy.lib.npyio.NpzFile object at 0x29207db90>, 5), (<numpy.lib.npyio.NpzFile object at 0x29207df50>, 5), (<numpy.lib.npyio.NpzFile object at 0x29207e310>, 5), (<numpy.lib.npyio.NpzFile object at 0x29207e6d0>, 5), (<numpy.lib.npyio.NpzFile object at 0x29207ea90>, 5), (<numpy.lib.npyio.NpzFile object at 0x29207ee50>, 5), (<numpy.lib.npyio.NpzFile object at 0x29207f210>, 5), (<numpy.lib.npyio.NpzFile object at 0x29207f5d0>, 5), (<numpy.lib.npyio.NpzFile object at 0x29207f990>, 5), (<numpy.lib.npyio.NpzFile object at 0x29207fd50>, 5), (<numpy.lib.npyio.NpzFile object at 0x292090150>, 5), (<numpy.lib.npyio.NpzFile object at 0x292090510>, 5), (<numpy.lib.npyio.NpzFile object at 0x2920908d0>, 5), (<numpy.lib.npyio.NpzFile object at 0x292090c90>, 5), (<numpy.lib.npyio.NpzFile object at 0x292091050>, 5), (<numpy.lib.npyio.NpzFile object at 0x292091410>, 5), (<numpy.lib.npyio.NpzFile object at 0x2920917d0>, 5), (<numpy.lib.npyio.NpzFile object at 0x292091b90>, 5), (<numpy.lib.npyio.NpzFile object at 0x292091f50>, 5), (<numpy.lib.npyio.NpzFile object at 0x292092310>, 5), (<numpy.lib.npyio.NpzFile object at 0x2920926d0>, 5), (<numpy.lib.npyio.NpzFile object at 0x292092a90>, 5), (<numpy.lib.npyio.NpzFile object at 0x292092e50>, 5), (<numpy.lib.npyio.NpzFile object at 0x292093210>, 5), (<numpy.lib.npyio.NpzFile object at 0x2920935d0>, 5), (<numpy.lib.npyio.NpzFile object at 0x292093990>, 6), (<numpy.lib.npyio.NpzFile object at 0x292093d50>, 6), (<numpy.lib.npyio.NpzFile object at 0x2920a0150>, 6), (<numpy.lib.npyio.NpzFile object at 0x2920a0510>, 6), (<numpy.lib.npyio.NpzFile object at 0x2920a08d0>, 6), (<numpy.lib.npyio.NpzFile object at 0x2920a0c90>, 6), (<numpy.lib.npyio.NpzFile object at 0x2920a1050>, 6), (<numpy.lib.npyio.NpzFile object at 0x2920a1410>, 6), (<numpy.lib.npyio.NpzFile object at 0x2920a17d0>, 6), (<numpy.lib.npyio.NpzFile object at 0x2920a1b90>, 6), (<numpy.lib.npyio.NpzFile object at 0x2920a1f50>, 6), (<numpy.lib.npyio.NpzFile object at 0x2920a2310>, 6), (<numpy.lib.npyio.NpzFile object at 0x2920a26d0>, 6), (<numpy.lib.npyio.NpzFile object at 0x2920a2a90>, 6), (<numpy.lib.npyio.NpzFile object at 0x2920a2e50>, 6), (<numpy.lib.npyio.NpzFile object at 0x2920a3210>, 6), (<numpy.lib.npyio.NpzFile object at 0x2920a35d0>, 6), (<numpy.lib.npyio.NpzFile object at 0x2920a3990>, 6), (<numpy.lib.npyio.NpzFile object at 0x2920a3d50>, 6), (<numpy.lib.npyio.NpzFile object at 0x2920b4150>, 6), (<numpy.lib.npyio.NpzFile object at 0x2920b4510>, 6), (<numpy.lib.npyio.NpzFile object at 0x2920b48d0>, 6), (<numpy.lib.npyio.NpzFile object at 0x2920b4c90>, 6), (<numpy.lib.npyio.NpzFile object at 0x2920b5050>, 6), (<numpy.lib.npyio.NpzFile object at 0x2920b5410>, 6), (<numpy.lib.npyio.NpzFile object at 0x2920b57d0>, 6), (<numpy.lib.npyio.NpzFile object at 0x2920b5b90>, 6), (<numpy.lib.npyio.NpzFile object at 0x2920b5f50>, 6), (<numpy.lib.npyio.NpzFile object at 0x2920b6310>, 6), (<numpy.lib.npyio.NpzFile object at 0x2920b66d0>, 6), (<numpy.lib.npyio.NpzFile object at 0x2920b6a90>, 6), (<numpy.lib.npyio.NpzFile object at 0x2920b6e50>, 6), (<numpy.lib.npyio.NpzFile object at 0x2920b7210>, 6), (<numpy.lib.npyio.NpzFile object at 0x2920b75d0>, 6), (<numpy.lib.npyio.NpzFile object at 0x2920b7990>, 6), (<numpy.lib.npyio.NpzFile object at 0x2920b7d50>, 6), (<numpy.lib.npyio.NpzFile object at 0x2920c4150>, 6), (<numpy.lib.npyio.NpzFile object at 0x2920c4510>, 6), (<numpy.lib.npyio.NpzFile object at 0x2920c48d0>, 6), (<numpy.lib.npyio.NpzFile object at 0x2920c4c90>, 6), (<numpy.lib.npyio.NpzFile object at 0x2920c5050>, 6), (<numpy.lib.npyio.NpzFile object at 0x2920c5410>, 6), (<numpy.lib.npyio.NpzFile object at 0x2920c57d0>, 6), (<numpy.lib.npyio.NpzFile object at 0x2920c5b90>, 6), (<numpy.lib.npyio.NpzFile object at 0x2920c5f50>, 6), (<numpy.lib.npyio.NpzFile object at 0x2920c6310>, 6), (<numpy.lib.npyio.NpzFile object at 0x2920c66d0>, 6), (<numpy.lib.npyio.NpzFile object at 0x2920c6a90>, 6), (<numpy.lib.npyio.NpzFile object at 0x2920c6e50>, 6), (<numpy.lib.npyio.NpzFile object at 0x2920c7210>, 6), (<numpy.lib.npyio.NpzFile object at 0x2920c75d0>, 6), (<numpy.lib.npyio.NpzFile object at 0x2920c7990>, 6), (<numpy.lib.npyio.NpzFile object at 0x2920c7d50>, 6), (<numpy.lib.npyio.NpzFile object at 0x2920d0150>, 6), (<numpy.lib.npyio.NpzFile object at 0x2920d0510>, 6), (<numpy.lib.npyio.NpzFile object at 0x2920d08d0>, 6), (<numpy.lib.npyio.NpzFile object at 0x2920d0c90>, 6), (<numpy.lib.npyio.NpzFile object at 0x2920d1050>, 6), (<numpy.lib.npyio.NpzFile object at 0x2920d1410>, 6), (<numpy.lib.npyio.NpzFile object at 0x2920d17d0>, 6), (<numpy.lib.npyio.NpzFile object at 0x2920d1b90>, 6), (<numpy.lib.npyio.NpzFile object at 0x2920d1f50>, 6), (<numpy.lib.npyio.NpzFile object at 0x2920d2310>, 6), (<numpy.lib.npyio.NpzFile object at 0x2920d26d0>, 6), (<numpy.lib.npyio.NpzFile object at 0x2920d2a90>, 6), (<numpy.lib.npyio.NpzFile object at 0x2920d2e50>, 6), (<numpy.lib.npyio.NpzFile object at 0x2920d3210>, 6), (<numpy.lib.npyio.NpzFile object at 0x2920d35d0>, 6), (<numpy.lib.npyio.NpzFile object at 0x2920d3990>, 6), (<numpy.lib.npyio.NpzFile object at 0x2920d3d50>, 6), (<numpy.lib.npyio.NpzFile object at 0x2920e8150>, 6), (<numpy.lib.npyio.NpzFile object at 0x2920e8510>, 6), (<numpy.lib.npyio.NpzFile object at 0x2920e88d0>, 6), (<numpy.lib.npyio.NpzFile object at 0x2920e8c90>, 6), (<numpy.lib.npyio.NpzFile object at 0x2920e9050>, 6), (<numpy.lib.npyio.NpzFile object at 0x2920e9410>, 6), (<numpy.lib.npyio.NpzFile object at 0x2920e97d0>, 6), (<numpy.lib.npyio.NpzFile object at 0x2920e9b90>, 6), (<numpy.lib.npyio.NpzFile object at 0x2920e9f50>, 6), (<numpy.lib.npyio.NpzFile object at 0x2920ea310>, 6), (<numpy.lib.npyio.NpzFile object at 0x2920ea6d0>, 6), (<numpy.lib.npyio.NpzFile object at 0x2920eaa90>, 6), (<numpy.lib.npyio.NpzFile object at 0x2920eae50>, 6), (<numpy.lib.npyio.NpzFile object at 0x2920eb210>, 6), (<numpy.lib.npyio.NpzFile object at 0x2920eb5d0>, 6), (<numpy.lib.npyio.NpzFile object at 0x2920eb990>, 6), (<numpy.lib.npyio.NpzFile object at 0x2920ebd50>, 6), (<numpy.lib.npyio.NpzFile object at 0x2920f4150>, 6), (<numpy.lib.npyio.NpzFile object at 0x2920f4510>, 6), (<numpy.lib.npyio.NpzFile object at 0x2920f48d0>, 6), (<numpy.lib.npyio.NpzFile object at 0x2920f4c90>, 6), (<numpy.lib.npyio.NpzFile object at 0x2920f5050>, 6), (<numpy.lib.npyio.NpzFile object at 0x2920f5410>, 6), (<numpy.lib.npyio.NpzFile object at 0x2920f57d0>, 6), (<numpy.lib.npyio.NpzFile object at 0x2920f5b90>, 6), (<numpy.lib.npyio.NpzFile object at 0x2920f5f50>, 6), (<numpy.lib.npyio.NpzFile object at 0x2920f6310>, 6), (<numpy.lib.npyio.NpzFile object at 0x2920f66d0>, 6), (<numpy.lib.npyio.NpzFile object at 0x2920f6a90>, 7), (<numpy.lib.npyio.NpzFile object at 0x2920f6e50>, 7), (<numpy.lib.npyio.NpzFile object at 0x2920f7210>, 7), (<numpy.lib.npyio.NpzFile object at 0x2920f75d0>, 7), (<numpy.lib.npyio.NpzFile object at 0x2920f7990>, 7), (<numpy.lib.npyio.NpzFile object at 0x2920f7d50>, 7), (<numpy.lib.npyio.NpzFile object at 0x292108150>, 7), (<numpy.lib.npyio.NpzFile object at 0x292108510>, 7), (<numpy.lib.npyio.NpzFile object at 0x2921088d0>, 7), (<numpy.lib.npyio.NpzFile object at 0x292108c90>, 7), (<numpy.lib.npyio.NpzFile object at 0x292109050>, 7), (<numpy.lib.npyio.NpzFile object at 0x292109410>, 7), (<numpy.lib.npyio.NpzFile object at 0x2921097d0>, 7), (<numpy.lib.npyio.NpzFile object at 0x292109b90>, 7), (<numpy.lib.npyio.NpzFile object at 0x292109f50>, 7), (<numpy.lib.npyio.NpzFile object at 0x29210a310>, 7), (<numpy.lib.npyio.NpzFile object at 0x29210a6d0>, 7), (<numpy.lib.npyio.NpzFile object at 0x29210aa90>, 7), (<numpy.lib.npyio.NpzFile object at 0x29210ae50>, 7), (<numpy.lib.npyio.NpzFile object at 0x29210b210>, 7), (<numpy.lib.npyio.NpzFile object at 0x29210b5d0>, 7), (<numpy.lib.npyio.NpzFile object at 0x29210b990>, 7), (<numpy.lib.npyio.NpzFile object at 0x29210bd50>, 7), (<numpy.lib.npyio.NpzFile object at 0x292118150>, 7), (<numpy.lib.npyio.NpzFile object at 0x292118510>, 7), (<numpy.lib.npyio.NpzFile object at 0x2921188d0>, 7), (<numpy.lib.npyio.NpzFile object at 0x292118c90>, 7), (<numpy.lib.npyio.NpzFile object at 0x292119050>, 7), (<numpy.lib.npyio.NpzFile object at 0x292119410>, 7), (<numpy.lib.npyio.NpzFile object at 0x2921197d0>, 7), (<numpy.lib.npyio.NpzFile object at 0x292119b90>, 7), (<numpy.lib.npyio.NpzFile object at 0x292119f50>, 7), (<numpy.lib.npyio.NpzFile object at 0x29211a310>, 7), (<numpy.lib.npyio.NpzFile object at 0x29211a6d0>, 7), (<numpy.lib.npyio.NpzFile object at 0x29211aa90>, 7), (<numpy.lib.npyio.NpzFile object at 0x29211ae50>, 7), (<numpy.lib.npyio.NpzFile object at 0x29211b210>, 7), (<numpy.lib.npyio.NpzFile object at 0x29211b5d0>, 7), (<numpy.lib.npyio.NpzFile object at 0x29211b990>, 7), (<numpy.lib.npyio.NpzFile object at 0x29211bd50>, 7), (<numpy.lib.npyio.NpzFile object at 0x292128150>, 7), (<numpy.lib.npyio.NpzFile object at 0x292128510>, 7), (<numpy.lib.npyio.NpzFile object at 0x2921288d0>, 7), (<numpy.lib.npyio.NpzFile object at 0x292128c90>, 7), (<numpy.lib.npyio.NpzFile object at 0x292129050>, 7), (<numpy.lib.npyio.NpzFile object at 0x292129410>, 7), (<numpy.lib.npyio.NpzFile object at 0x2921297d0>, 7), (<numpy.lib.npyio.NpzFile object at 0x292129b90>, 7), (<numpy.lib.npyio.NpzFile object at 0x292129f50>, 7), (<numpy.lib.npyio.NpzFile object at 0x29212a310>, 7), (<numpy.lib.npyio.NpzFile object at 0x29212a6d0>, 7), (<numpy.lib.npyio.NpzFile object at 0x29212aa90>, 7), (<numpy.lib.npyio.NpzFile object at 0x29212ae50>, 7), (<numpy.lib.npyio.NpzFile object at 0x29212b210>, 7), (<numpy.lib.npyio.NpzFile object at 0x29212b5d0>, 7), (<numpy.lib.npyio.NpzFile object at 0x29212b990>, 7), (<numpy.lib.npyio.NpzFile object at 0x29212bd50>, 7), (<numpy.lib.npyio.NpzFile object at 0x292140150>, 7), (<numpy.lib.npyio.NpzFile object at 0x292140510>, 7), (<numpy.lib.npyio.NpzFile object at 0x2921408d0>, 7), (<numpy.lib.npyio.NpzFile object at 0x292140c90>, 7), (<numpy.lib.npyio.NpzFile object at 0x292141050>, 7), (<numpy.lib.npyio.NpzFile object at 0x2921413d0>, 7), (<numpy.lib.npyio.NpzFile object at 0x292141990>, 7), (<numpy.lib.npyio.NpzFile object at 0x292141c90>, 7), (<numpy.lib.npyio.NpzFile object at 0x292141fd0>, 7), (<numpy.lib.npyio.NpzFile object at 0x292142310>, 7), (<numpy.lib.npyio.NpzFile object at 0x292142690>, 7), (<numpy.lib.npyio.NpzFile object at 0x292142a50>, 7), (<numpy.lib.npyio.NpzFile object at 0x292142e10>, 7), (<numpy.lib.npyio.NpzFile object at 0x2921431d0>, 7), (<numpy.lib.npyio.NpzFile object at 0x292143590>, 7), (<numpy.lib.npyio.NpzFile object at 0x292143950>, 7), (<numpy.lib.npyio.NpzFile object at 0x292143d10>, 7), (<numpy.lib.npyio.NpzFile object at 0x29214c110>, 7), (<numpy.lib.npyio.NpzFile object at 0x29214c4d0>, 7), (<numpy.lib.npyio.NpzFile object at 0x29214c890>, 7), (<numpy.lib.npyio.NpzFile object at 0x29214cc50>, 7), (<numpy.lib.npyio.NpzFile object at 0x29214d010>, 7), (<numpy.lib.npyio.NpzFile object at 0x29214d3d0>, 7), (<numpy.lib.npyio.NpzFile object at 0x29214d790>, 7), (<numpy.lib.npyio.NpzFile object at 0x29214db50>, 7), (<numpy.lib.npyio.NpzFile object at 0x29214df10>, 7), (<numpy.lib.npyio.NpzFile object at 0x29214e2d0>, 7), (<numpy.lib.npyio.NpzFile object at 0x29214e690>, 7), (<numpy.lib.npyio.NpzFile object at 0x29214ea50>, 7), (<numpy.lib.npyio.NpzFile object at 0x29214ee10>, 7), (<numpy.lib.npyio.NpzFile object at 0x29214f1d0>, 7), (<numpy.lib.npyio.NpzFile object at 0x29214f590>, 7), (<numpy.lib.npyio.NpzFile object at 0x29214f950>, 7), (<numpy.lib.npyio.NpzFile object at 0x29214fd10>, 7), (<numpy.lib.npyio.NpzFile object at 0x29215c110>, 7), (<numpy.lib.npyio.NpzFile object at 0x29215c4d0>, 7), (<numpy.lib.npyio.NpzFile object at 0x29215c890>, 7), (<numpy.lib.npyio.NpzFile object at 0x29215cc50>, 7), (<numpy.lib.npyio.NpzFile object at 0x29215d010>, 7), (<numpy.lib.npyio.NpzFile object at 0x29215d3d0>, 7), (<numpy.lib.npyio.NpzFile object at 0x29215d790>, 7), (<numpy.lib.npyio.NpzFile object at 0x29215db50>, 7), (<numpy.lib.npyio.NpzFile object at 0x29215df10>, 8), (<numpy.lib.npyio.NpzFile object at 0x29215e2d0>, 8), (<numpy.lib.npyio.NpzFile object at 0x29215e690>, 8), (<numpy.lib.npyio.NpzFile object at 0x29215ea50>, 8), (<numpy.lib.npyio.NpzFile object at 0x29215ee10>, 8), (<numpy.lib.npyio.NpzFile object at 0x29215f1d0>, 8), (<numpy.lib.npyio.NpzFile object at 0x29215f590>, 8), (<numpy.lib.npyio.NpzFile object at 0x29215f950>, 8), (<numpy.lib.npyio.NpzFile object at 0x29215fd10>, 8), (<numpy.lib.npyio.NpzFile object at 0x292170110>, 8), (<numpy.lib.npyio.NpzFile object at 0x2921704d0>, 8), (<numpy.lib.npyio.NpzFile object at 0x292170890>, 8), (<numpy.lib.npyio.NpzFile object at 0x292170c50>, 8), (<numpy.lib.npyio.NpzFile object at 0x292171010>, 8), (<numpy.lib.npyio.NpzFile object at 0x2921713d0>, 8), (<numpy.lib.npyio.NpzFile object at 0x292171790>, 8), (<numpy.lib.npyio.NpzFile object at 0x292171b50>, 8), (<numpy.lib.npyio.NpzFile object at 0x292171f10>, 8), (<numpy.lib.npyio.NpzFile object at 0x2921722d0>, 8), (<numpy.lib.npyio.NpzFile object at 0x292172690>, 8), (<numpy.lib.npyio.NpzFile object at 0x292172a50>, 8), (<numpy.lib.npyio.NpzFile object at 0x292172e10>, 8), (<numpy.lib.npyio.NpzFile object at 0x2921731d0>, 8), (<numpy.lib.npyio.NpzFile object at 0x292173590>, 8), (<numpy.lib.npyio.NpzFile object at 0x292173950>, 8), (<numpy.lib.npyio.NpzFile object at 0x292173d10>, 8), (<numpy.lib.npyio.NpzFile object at 0x29217c110>, 8), (<numpy.lib.npyio.NpzFile object at 0x29217c4d0>, 8), (<numpy.lib.npyio.NpzFile object at 0x29217c890>, 8), (<numpy.lib.npyio.NpzFile object at 0x29217cc50>, 8), (<numpy.lib.npyio.NpzFile object at 0x29217d010>, 8), (<numpy.lib.npyio.NpzFile object at 0x29217d3d0>, 8), (<numpy.lib.npyio.NpzFile object at 0x29217d790>, 8), (<numpy.lib.npyio.NpzFile object at 0x29217db50>, 8), (<numpy.lib.npyio.NpzFile object at 0x29217df10>, 8), (<numpy.lib.npyio.NpzFile object at 0x29217e2d0>, 8), (<numpy.lib.npyio.NpzFile object at 0x29217e690>, 8), (<numpy.lib.npyio.NpzFile object at 0x29217ea50>, 8), (<numpy.lib.npyio.NpzFile object at 0x29217ee10>, 8), (<numpy.lib.npyio.NpzFile object at 0x29217f1d0>, 8), (<numpy.lib.npyio.NpzFile object at 0x29217f590>, 8), (<numpy.lib.npyio.NpzFile object at 0x29217f950>, 8), (<numpy.lib.npyio.NpzFile object at 0x29217fd10>, 8), (<numpy.lib.npyio.NpzFile object at 0x292190110>, 8), (<numpy.lib.npyio.NpzFile object at 0x2921904d0>, 8), (<numpy.lib.npyio.NpzFile object at 0x292190890>, 8), (<numpy.lib.npyio.NpzFile object at 0x292190c50>, 8), (<numpy.lib.npyio.NpzFile object at 0x292191010>, 8), (<numpy.lib.npyio.NpzFile object at 0x2921913d0>, 8), (<numpy.lib.npyio.NpzFile object at 0x292191790>, 8), (<numpy.lib.npyio.NpzFile object at 0x292191b50>, 8), (<numpy.lib.npyio.NpzFile object at 0x292191f10>, 8), (<numpy.lib.npyio.NpzFile object at 0x2921922d0>, 8), (<numpy.lib.npyio.NpzFile object at 0x292192690>, 8), (<numpy.lib.npyio.NpzFile object at 0x292192a50>, 8), (<numpy.lib.npyio.NpzFile object at 0x292192e10>, 8), (<numpy.lib.npyio.NpzFile object at 0x2921931d0>, 8), (<numpy.lib.npyio.NpzFile object at 0x292193590>, 8), (<numpy.lib.npyio.NpzFile object at 0x292193950>, 8), (<numpy.lib.npyio.NpzFile object at 0x292193d10>, 8), (<numpy.lib.npyio.NpzFile object at 0x2921a4110>, 8), (<numpy.lib.npyio.NpzFile object at 0x2921a44d0>, 8), (<numpy.lib.npyio.NpzFile object at 0x2921a4890>, 8), (<numpy.lib.npyio.NpzFile object at 0x2921a4c50>, 8), (<numpy.lib.npyio.NpzFile object at 0x2921a5010>, 8), (<numpy.lib.npyio.NpzFile object at 0x2921a53d0>, 8), (<numpy.lib.npyio.NpzFile object at 0x2921a5790>, 8), (<numpy.lib.npyio.NpzFile object at 0x2921a5b50>, 8), (<numpy.lib.npyio.NpzFile object at 0x2921a5f10>, 8), (<numpy.lib.npyio.NpzFile object at 0x2921a62d0>, 8), (<numpy.lib.npyio.NpzFile object at 0x2921a6690>, 8), (<numpy.lib.npyio.NpzFile object at 0x2921a6a50>, 8), (<numpy.lib.npyio.NpzFile object at 0x2921a6e10>, 8), (<numpy.lib.npyio.NpzFile object at 0x2921a71d0>, 8), (<numpy.lib.npyio.NpzFile object at 0x2921a7590>, 8), (<numpy.lib.npyio.NpzFile object at 0x2921a7950>, 8), (<numpy.lib.npyio.NpzFile object at 0x2921a7d10>, 8), (<numpy.lib.npyio.NpzFile object at 0x2921b8110>, 8), (<numpy.lib.npyio.NpzFile object at 0x2921b84d0>, 8), (<numpy.lib.npyio.NpzFile object at 0x2921b8890>, 8), (<numpy.lib.npyio.NpzFile object at 0x2921b8c50>, 8), (<numpy.lib.npyio.NpzFile object at 0x2921b9010>, 8), (<numpy.lib.npyio.NpzFile object at 0x2921b93d0>, 8), (<numpy.lib.npyio.NpzFile object at 0x2921b9790>, 8), (<numpy.lib.npyio.NpzFile object at 0x2921b9b50>, 8), (<numpy.lib.npyio.NpzFile object at 0x2921b9f10>, 8), (<numpy.lib.npyio.NpzFile object at 0x2921ba2d0>, 8), (<numpy.lib.npyio.NpzFile object at 0x2921ba690>, 8), (<numpy.lib.npyio.NpzFile object at 0x2921baa50>, 8), (<numpy.lib.npyio.NpzFile object at 0x2921bae10>, 8), (<numpy.lib.npyio.NpzFile object at 0x2921bb1d0>, 8), (<numpy.lib.npyio.NpzFile object at 0x2921bb590>, 8), (<numpy.lib.npyio.NpzFile object at 0x2921bb950>, 8), (<numpy.lib.npyio.NpzFile object at 0x2921bbd10>, 8), (<numpy.lib.npyio.NpzFile object at 0x2921c4110>, 8), (<numpy.lib.npyio.NpzFile object at 0x2921c44d0>, 8), (<numpy.lib.npyio.NpzFile object at 0x2921c4890>, 8), (<numpy.lib.npyio.NpzFile object at 0x2921c4c50>, 8), (<numpy.lib.npyio.NpzFile object at 0x2921c5010>, 8), (<numpy.lib.npyio.NpzFile object at 0x2921c53d0>, 8), (<numpy.lib.npyio.NpzFile object at 0x2921c5790>, 8), (<numpy.lib.npyio.NpzFile object at 0x2921c5b50>, 8), (<numpy.lib.npyio.NpzFile object at 0x2921c5f10>, 8), (<numpy.lib.npyio.NpzFile object at 0x2921c62d0>, 8), (<numpy.lib.npyio.NpzFile object at 0x2921c6690>, 8), (<numpy.lib.npyio.NpzFile object at 0x2921c6a50>, 8), (<numpy.lib.npyio.NpzFile object at 0x2921c6e10>, 8), (<numpy.lib.npyio.NpzFile object at 0x2921c71d0>, 8), (<numpy.lib.npyio.NpzFile object at 0x2921c7590>, 8), (<numpy.lib.npyio.NpzFile object at 0x2921c7950>, 8), (<numpy.lib.npyio.NpzFile object at 0x2921c7d10>, 8), (<numpy.lib.npyio.NpzFile object at 0x2921d8110>, 8), (<numpy.lib.npyio.NpzFile object at 0x2921d84d0>, 8), (<numpy.lib.npyio.NpzFile object at 0x2921d8890>, 8), (<numpy.lib.npyio.NpzFile object at 0x2921d8c50>, 8), (<numpy.lib.npyio.NpzFile object at 0x2921d9010>, 8), (<numpy.lib.npyio.NpzFile object at 0x2921d93d0>, 8), (<numpy.lib.npyio.NpzFile object at 0x2921d9790>, 8), (<numpy.lib.npyio.NpzFile object at 0x2921d9b50>, 8), (<numpy.lib.npyio.NpzFile object at 0x2921d9f10>, 8), (<numpy.lib.npyio.NpzFile object at 0x2921da2d0>, 8), (<numpy.lib.npyio.NpzFile object at 0x2921da690>, 8), (<numpy.lib.npyio.NpzFile object at 0x2921daa50>, 8), (<numpy.lib.npyio.NpzFile object at 0x2921dae10>, 8), (<numpy.lib.npyio.NpzFile object at 0x2921db1d0>, 8), (<numpy.lib.npyio.NpzFile object at 0x2921db590>, 8), (<numpy.lib.npyio.NpzFile object at 0x2921db950>, 8), (<numpy.lib.npyio.NpzFile object at 0x2921dbd10>, 8), (<numpy.lib.npyio.NpzFile object at 0x2921e8110>, 8), (<numpy.lib.npyio.NpzFile object at 0x2921e84d0>, 8), (<numpy.lib.npyio.NpzFile object at 0x2921e8890>, 8), (<numpy.lib.npyio.NpzFile object at 0x2921e8c50>, 8), (<numpy.lib.npyio.NpzFile object at 0x2921e9010>, 8), (<numpy.lib.npyio.NpzFile object at 0x2921e93d0>, 8), (<numpy.lib.npyio.NpzFile object at 0x2921e9790>, 8), (<numpy.lib.npyio.NpzFile object at 0x2921e9b50>, 8), (<numpy.lib.npyio.NpzFile object at 0x2921e9f10>, 8), (<numpy.lib.npyio.NpzFile object at 0x2921ea2d0>, 8), (<numpy.lib.npyio.NpzFile object at 0x2921ea690>, 8), (<numpy.lib.npyio.NpzFile object at 0x2921eaa50>, 8), (<numpy.lib.npyio.NpzFile object at 0x2921eae10>, 8), (<numpy.lib.npyio.NpzFile object at 0x2921eb1d0>, 8), (<numpy.lib.npyio.NpzFile object at 0x2921eb590>, 8), (<numpy.lib.npyio.NpzFile object at 0x2921eb950>, 8), (<numpy.lib.npyio.NpzFile object at 0x2921ebd10>, 8), (<numpy.lib.npyio.NpzFile object at 0x2921fc110>, 8), (<numpy.lib.npyio.NpzFile object at 0x2921fc4d0>, 8), (<numpy.lib.npyio.NpzFile object at 0x2921fc890>, 8), (<numpy.lib.npyio.NpzFile object at 0x2921fcc50>, 8), (<numpy.lib.npyio.NpzFile object at 0x2921fd010>, 8), (<numpy.lib.npyio.NpzFile object at 0x2921fd3d0>, 8), (<numpy.lib.npyio.NpzFile object at 0x2921fd790>, 8), (<numpy.lib.npyio.NpzFile object at 0x2921fdb50>, 8), (<numpy.lib.npyio.NpzFile object at 0x2921fdf10>, 8), (<numpy.lib.npyio.NpzFile object at 0x2921fe2d0>, 8), (<numpy.lib.npyio.NpzFile object at 0x2921fe690>, 8), (<numpy.lib.npyio.NpzFile object at 0x2921fea50>, 8), (<numpy.lib.npyio.NpzFile object at 0x2921fee10>, 8), (<numpy.lib.npyio.NpzFile object at 0x2921ff1d0>, 8), (<numpy.lib.npyio.NpzFile object at 0x2921ff590>, 8), (<numpy.lib.npyio.NpzFile object at 0x2921ff950>, 8), (<numpy.lib.npyio.NpzFile object at 0x2921ffd10>, 8), (<numpy.lib.npyio.NpzFile object at 0x29220c110>, 8), (<numpy.lib.npyio.NpzFile object at 0x29220c4d0>, 8), (<numpy.lib.npyio.NpzFile object at 0x29220c890>, 8), (<numpy.lib.npyio.NpzFile object at 0x29220cc50>, 8), (<numpy.lib.npyio.NpzFile object at 0x29220d010>, 8), (<numpy.lib.npyio.NpzFile object at 0x29220d3d0>, 8), (<numpy.lib.npyio.NpzFile object at 0x29220d790>, 8), (<numpy.lib.npyio.NpzFile object at 0x29220db50>, 8), (<numpy.lib.npyio.NpzFile object at 0x29220df10>, 8), (<numpy.lib.npyio.NpzFile object at 0x29220e2d0>, 8), (<numpy.lib.npyio.NpzFile object at 0x29220e690>, 8), (<numpy.lib.npyio.NpzFile object at 0x29220ea50>, 8), (<numpy.lib.npyio.NpzFile object at 0x29220ee10>, 8), (<numpy.lib.npyio.NpzFile object at 0x29220f1d0>, 8), (<numpy.lib.npyio.NpzFile object at 0x29220f590>, 8), (<numpy.lib.npyio.NpzFile object at 0x29220f950>, 8), (<numpy.lib.npyio.NpzFile object at 0x29220fd10>, 8), (<numpy.lib.npyio.NpzFile object at 0x29221c110>, 8), (<numpy.lib.npyio.NpzFile object at 0x29221c4d0>, 8), (<numpy.lib.npyio.NpzFile object at 0x29221c890>, 8), (<numpy.lib.npyio.NpzFile object at 0x29221cc50>, 8), (<numpy.lib.npyio.NpzFile object at 0x29221d010>, 8), (<numpy.lib.npyio.NpzFile object at 0x29221d3d0>, 8), (<numpy.lib.npyio.NpzFile object at 0x29221d790>, 8), (<numpy.lib.npyio.NpzFile object at 0x29221db50>, 8), (<numpy.lib.npyio.NpzFile object at 0x29221df10>, 8), (<numpy.lib.npyio.NpzFile object at 0x29221e2d0>, 8), (<numpy.lib.npyio.NpzFile object at 0x29221e690>, 8), (<numpy.lib.npyio.NpzFile object at 0x29221ea50>, 8), (<numpy.lib.npyio.NpzFile object at 0x29221ee10>, 8), (<numpy.lib.npyio.NpzFile object at 0x29221f1d0>, 8), (<numpy.lib.npyio.NpzFile object at 0x29221f590>, 8), (<numpy.lib.npyio.NpzFile object at 0x29221f950>, 8), (<numpy.lib.npyio.NpzFile object at 0x29221fd10>, 8), (<numpy.lib.npyio.NpzFile object at 0x29222c110>, 9), (<numpy.lib.npyio.NpzFile object at 0x29222c4d0>, 9), (<numpy.lib.npyio.NpzFile object at 0x29222c890>, 9), (<numpy.lib.npyio.NpzFile object at 0x29222cc50>, 9), (<numpy.lib.npyio.NpzFile object at 0x29222d010>, 9), (<numpy.lib.npyio.NpzFile object at 0x29222d3d0>, 9), (<numpy.lib.npyio.NpzFile object at 0x29222d790>, 9), (<numpy.lib.npyio.NpzFile object at 0x29222db50>, 9), (<numpy.lib.npyio.NpzFile object at 0x29222df10>, 9), (<numpy.lib.npyio.NpzFile object at 0x29222e2d0>, 9), (<numpy.lib.npyio.NpzFile object at 0x29222e690>, 9), (<numpy.lib.npyio.NpzFile object at 0x29222ea50>, 9), (<numpy.lib.npyio.NpzFile object at 0x29222ee10>, 9), (<numpy.lib.npyio.NpzFile object at 0x29222f1d0>, 9), (<numpy.lib.npyio.NpzFile object at 0x29222f590>, 9), (<numpy.lib.npyio.NpzFile object at 0x29222f950>, 9), (<numpy.lib.npyio.NpzFile object at 0x29222fd10>, 9), (<numpy.lib.npyio.NpzFile object at 0x292240110>, 9), (<numpy.lib.npyio.NpzFile object at 0x2922404d0>, 9), (<numpy.lib.npyio.NpzFile object at 0x292240890>, 9), (<numpy.lib.npyio.NpzFile object at 0x292240c50>, 9), (<numpy.lib.npyio.NpzFile object at 0x292241010>, 9), (<numpy.lib.npyio.NpzFile object at 0x2922413d0>, 9), (<numpy.lib.npyio.NpzFile object at 0x292241790>, 9), (<numpy.lib.npyio.NpzFile object at 0x292241b50>, 9), (<numpy.lib.npyio.NpzFile object at 0x292241f10>, 9), (<numpy.lib.npyio.NpzFile object at 0x2922422d0>, 9), (<numpy.lib.npyio.NpzFile object at 0x292242690>, 9), (<numpy.lib.npyio.NpzFile object at 0x292242a50>, 9), (<numpy.lib.npyio.NpzFile object at 0x292242e10>, 9), (<numpy.lib.npyio.NpzFile object at 0x2922431d0>, 9), (<numpy.lib.npyio.NpzFile object at 0x292243590>, 9), (<numpy.lib.npyio.NpzFile object at 0x292243950>, 9), (<numpy.lib.npyio.NpzFile object at 0x292243d10>, 9), (<numpy.lib.npyio.NpzFile object at 0x292248110>, 9), (<numpy.lib.npyio.NpzFile object at 0x2922484d0>, 9), (<numpy.lib.npyio.NpzFile object at 0x292248890>, 9), (<numpy.lib.npyio.NpzFile object at 0x292248c50>, 9), (<numpy.lib.npyio.NpzFile object at 0x292249010>, 9), (<numpy.lib.npyio.NpzFile object at 0x2922493d0>, 9), (<numpy.lib.npyio.NpzFile object at 0x292249790>, 9), (<numpy.lib.npyio.NpzFile object at 0x292249b50>, 9), (<numpy.lib.npyio.NpzFile object at 0x292249f10>, 9), (<numpy.lib.npyio.NpzFile object at 0x29224a2d0>, 9), (<numpy.lib.npyio.NpzFile object at 0x29224a690>, 9), (<numpy.lib.npyio.NpzFile object at 0x29224aa50>, 9), (<numpy.lib.npyio.NpzFile object at 0x29224ae10>, 9), (<numpy.lib.npyio.NpzFile object at 0x29224b1d0>, 9), (<numpy.lib.npyio.NpzFile object at 0x29224b590>, 9), (<numpy.lib.npyio.NpzFile object at 0x29224b950>, 9), (<numpy.lib.npyio.NpzFile object at 0x29224bd10>, 9), (<numpy.lib.npyio.NpzFile object at 0x292260110>, 9), (<numpy.lib.npyio.NpzFile object at 0x2922604d0>, 9), (<numpy.lib.npyio.NpzFile object at 0x292260890>, 9), (<numpy.lib.npyio.NpzFile object at 0x292260c50>, 9), (<numpy.lib.npyio.NpzFile object at 0x292261010>, 9), (<numpy.lib.npyio.NpzFile object at 0x2922613d0>, 9), (<numpy.lib.npyio.NpzFile object at 0x292261790>, 9), (<numpy.lib.npyio.NpzFile object at 0x292261b50>, 9), (<numpy.lib.npyio.NpzFile object at 0x292261f10>, 9), (<numpy.lib.npyio.NpzFile object at 0x2922622d0>, 9), (<numpy.lib.npyio.NpzFile object at 0x292262690>, 9), (<numpy.lib.npyio.NpzFile object at 0x292262a50>, 9), (<numpy.lib.npyio.NpzFile object at 0x292262e10>, 9), (<numpy.lib.npyio.NpzFile object at 0x2922631d0>, 9), (<numpy.lib.npyio.NpzFile object at 0x292263590>, 9), (<numpy.lib.npyio.NpzFile object at 0x292263950>, 9), (<numpy.lib.npyio.NpzFile object at 0x292263d10>, 9), (<numpy.lib.npyio.NpzFile object at 0x29226c110>, 9), (<numpy.lib.npyio.NpzFile object at 0x29226c4d0>, 9), (<numpy.lib.npyio.NpzFile object at 0x29226c890>, 9), (<numpy.lib.npyio.NpzFile object at 0x29226cc50>, 9), (<numpy.lib.npyio.NpzFile object at 0x29226d010>, 9), (<numpy.lib.npyio.NpzFile object at 0x29226d3d0>, 9), (<numpy.lib.npyio.NpzFile object at 0x29226d790>, 9), (<numpy.lib.npyio.NpzFile object at 0x29226db50>, 9), (<numpy.lib.npyio.NpzFile object at 0x29226df10>, 9), (<numpy.lib.npyio.NpzFile object at 0x29226e2d0>, 9), (<numpy.lib.npyio.NpzFile object at 0x29226e690>, 9), (<numpy.lib.npyio.NpzFile object at 0x29226ea50>, 9), (<numpy.lib.npyio.NpzFile object at 0x29226ee10>, 9), (<numpy.lib.npyio.NpzFile object at 0x29226f1d0>, 9), (<numpy.lib.npyio.NpzFile object at 0x29226f590>, 9), (<numpy.lib.npyio.NpzFile object at 0x29226f950>, 9), (<numpy.lib.npyio.NpzFile object at 0x29226fd10>, 9), (<numpy.lib.npyio.NpzFile object at 0x292284110>, 9), (<numpy.lib.npyio.NpzFile object at 0x2922844d0>, 9), (<numpy.lib.npyio.NpzFile object at 0x292284890>, 9), (<numpy.lib.npyio.NpzFile object at 0x292284c50>, 9), (<numpy.lib.npyio.NpzFile object at 0x292285010>, 9), (<numpy.lib.npyio.NpzFile object at 0x2922853d0>, 9), (<numpy.lib.npyio.NpzFile object at 0x292285790>, 9), (<numpy.lib.npyio.NpzFile object at 0x292285b50>, 9), (<numpy.lib.npyio.NpzFile object at 0x292285f10>, 9), (<numpy.lib.npyio.NpzFile object at 0x2922862d0>, 9), (<numpy.lib.npyio.NpzFile object at 0x292286690>, 9), (<numpy.lib.npyio.NpzFile object at 0x292286a50>, 9), (<numpy.lib.npyio.NpzFile object at 0x292286e10>, 9), (<numpy.lib.npyio.NpzFile object at 0x2922871d0>, 10), (<numpy.lib.npyio.NpzFile object at 0x292287590>, 10), (<numpy.lib.npyio.NpzFile object at 0x292287950>, 10), (<numpy.lib.npyio.NpzFile object at 0x292287d10>, 10), (<numpy.lib.npyio.NpzFile object at 0x292290110>, 10), (<numpy.lib.npyio.NpzFile object at 0x2922904d0>, 10), (<numpy.lib.npyio.NpzFile object at 0x292290890>, 10), (<numpy.lib.npyio.NpzFile object at 0x292290c50>, 10), (<numpy.lib.npyio.NpzFile object at 0x292291010>, 10), (<numpy.lib.npyio.NpzFile object at 0x2922913d0>, 10), (<numpy.lib.npyio.NpzFile object at 0x292291790>, 10), (<numpy.lib.npyio.NpzFile object at 0x292291b50>, 10), (<numpy.lib.npyio.NpzFile object at 0x292291f10>, 10), (<numpy.lib.npyio.NpzFile object at 0x2922922d0>, 10), (<numpy.lib.npyio.NpzFile object at 0x292292690>, 10), (<numpy.lib.npyio.NpzFile object at 0x292292a50>, 10), (<numpy.lib.npyio.NpzFile object at 0x292292e10>, 10), (<numpy.lib.npyio.NpzFile object at 0x2922931d0>, 10), (<numpy.lib.npyio.NpzFile object at 0x292293590>, 10), (<numpy.lib.npyio.NpzFile object at 0x292293950>, 10), (<numpy.lib.npyio.NpzFile object at 0x292293d10>, 10), (<numpy.lib.npyio.NpzFile object at 0x2922a0110>, 10), (<numpy.lib.npyio.NpzFile object at 0x2922a04d0>, 10), (<numpy.lib.npyio.NpzFile object at 0x2922a0890>, 10), (<numpy.lib.npyio.NpzFile object at 0x2922a0c50>, 10), (<numpy.lib.npyio.NpzFile object at 0x2922a1010>, 10), (<numpy.lib.npyio.NpzFile object at 0x2922a13d0>, 10), (<numpy.lib.npyio.NpzFile object at 0x2922a1790>, 10), (<numpy.lib.npyio.NpzFile object at 0x2922a1b50>, 10), (<numpy.lib.npyio.NpzFile object at 0x2922a1f10>, 10), (<numpy.lib.npyio.NpzFile object at 0x2922a22d0>, 10), (<numpy.lib.npyio.NpzFile object at 0x2922a2690>, 10), (<numpy.lib.npyio.NpzFile object at 0x2922a2a50>, 10), (<numpy.lib.npyio.NpzFile object at 0x2922a2e10>, 10), (<numpy.lib.npyio.NpzFile object at 0x2922a31d0>, 10), (<numpy.lib.npyio.NpzFile object at 0x2922a3590>, 10), (<numpy.lib.npyio.NpzFile object at 0x2922a3950>, 10), (<numpy.lib.npyio.NpzFile object at 0x2922a3d10>, 10), (<numpy.lib.npyio.NpzFile object at 0x2922b4110>, 10), (<numpy.lib.npyio.NpzFile object at 0x2922b44d0>, 10), (<numpy.lib.npyio.NpzFile object at 0x2922b4890>, 10), (<numpy.lib.npyio.NpzFile object at 0x2922b4c50>, 10), (<numpy.lib.npyio.NpzFile object at 0x2922b5010>, 10), (<numpy.lib.npyio.NpzFile object at 0x2922b53d0>, 10), (<numpy.lib.npyio.NpzFile object at 0x2922b5790>, 10), (<numpy.lib.npyio.NpzFile object at 0x2922b5b50>, 10), (<numpy.lib.npyio.NpzFile object at 0x2922b5f10>, 10), (<numpy.lib.npyio.NpzFile object at 0x2922b62d0>, 10), (<numpy.lib.npyio.NpzFile object at 0x2922b6690>, 10), (<numpy.lib.npyio.NpzFile object at 0x2922b6a50>, 10), (<numpy.lib.npyio.NpzFile object at 0x2922b6e10>, 10), (<numpy.lib.npyio.NpzFile object at 0x2922b71d0>, 10), (<numpy.lib.npyio.NpzFile object at 0x2922b7590>, 10), (<numpy.lib.npyio.NpzFile object at 0x2922b7950>, 10), (<numpy.lib.npyio.NpzFile object at 0x2922b7d10>, 10), (<numpy.lib.npyio.NpzFile object at 0x2922c4110>, 10), (<numpy.lib.npyio.NpzFile object at 0x2922c44d0>, 10), (<numpy.lib.npyio.NpzFile object at 0x2922c4890>, 10), (<numpy.lib.npyio.NpzFile object at 0x2922c4c50>, 10), (<numpy.lib.npyio.NpzFile object at 0x2922c5010>, 10), (<numpy.lib.npyio.NpzFile object at 0x2922c53d0>, 10), (<numpy.lib.npyio.NpzFile object at 0x2922c5790>, 10), (<numpy.lib.npyio.NpzFile object at 0x2922c5b50>, 10), (<numpy.lib.npyio.NpzFile object at 0x2922c5f10>, 10), (<numpy.lib.npyio.NpzFile object at 0x2922c62d0>, 10), (<numpy.lib.npyio.NpzFile object at 0x2922c6690>, 10), (<numpy.lib.npyio.NpzFile object at 0x2922c6a50>, 10), (<numpy.lib.npyio.NpzFile object at 0x2922c6e10>, 10), (<numpy.lib.npyio.NpzFile object at 0x2922c71d0>, 10), (<numpy.lib.npyio.NpzFile object at 0x2922c7590>, 10), (<numpy.lib.npyio.NpzFile object at 0x2922c7950>, 10), (<numpy.lib.npyio.NpzFile object at 0x2922c7d10>, 10), (<numpy.lib.npyio.NpzFile object at 0x2922d8110>, 10), (<numpy.lib.npyio.NpzFile object at 0x2922d84d0>, 10), (<numpy.lib.npyio.NpzFile object at 0x2922d8890>, 10), (<numpy.lib.npyio.NpzFile object at 0x2922d8c50>, 10), (<numpy.lib.npyio.NpzFile object at 0x2922d9010>, 10), (<numpy.lib.npyio.NpzFile object at 0x2922d93d0>, 10), (<numpy.lib.npyio.NpzFile object at 0x2922d9790>, 10), (<numpy.lib.npyio.NpzFile object at 0x2922d9b50>, 10), (<numpy.lib.npyio.NpzFile object at 0x2922d9f10>, 10), (<numpy.lib.npyio.NpzFile object at 0x2922da2d0>, 10), (<numpy.lib.npyio.NpzFile object at 0x2922da690>, 10), (<numpy.lib.npyio.NpzFile object at 0x2922daa50>, 10), (<numpy.lib.npyio.NpzFile object at 0x2922dae10>, 10), (<numpy.lib.npyio.NpzFile object at 0x2922db1d0>, 10), (<numpy.lib.npyio.NpzFile object at 0x2922db590>, 10), (<numpy.lib.npyio.NpzFile object at 0x2922db950>, 10), (<numpy.lib.npyio.NpzFile object at 0x2922dbd10>, 10), (<numpy.lib.npyio.NpzFile object at 0x2922ec110>, 10), (<numpy.lib.npyio.NpzFile object at 0x2922ec4d0>, 10), (<numpy.lib.npyio.NpzFile object at 0x2922ec890>, 10), (<numpy.lib.npyio.NpzFile object at 0x2922ecc50>, 10), (<numpy.lib.npyio.NpzFile object at 0x2922ed010>, 10), (<numpy.lib.npyio.NpzFile object at 0x2922ed3d0>, 10), (<numpy.lib.npyio.NpzFile object at 0x2922ed790>, 10), (<numpy.lib.npyio.NpzFile object at 0x2922edb50>, 10), (<numpy.lib.npyio.NpzFile object at 0x2922edf10>, 10)]\n"
     ]
    }
   ],
   "source": [
    "import os \n",
    "import numpy as np\n",
    "root = '/Users/marcosesquivelgonzalez/Desktop/MasterCDatos/TFM/data/DVS_Gesture_dataset/events_np/train'\n",
    "events_list = []\n",
    "labels = sorted(it.name for it in os.scandir(root) if it.is_dir())\n",
    "print(labels)\n",
    "for i,label in enumerate(labels):\n",
    "    label_subfolder = os.path.join(root,label)\n",
    "    for file in os.listdir(label_subfolder):\n",
    "        if file.endswith('.npz'):\n",
    "            root_file = os.path.join(label_subfolder,file)\n",
    "            events_list.append((np.load(root_file),i))\n",
    "print(events_list)"
   ]
  },
  {
   "cell_type": "code",
   "execution_count": null,
   "metadata": {},
   "outputs": [
    {
     "data": {
      "text/plain": [
       "array([46731035, 46731061, 46731069, ..., 50827498, 50827509, 50827533])"
      ]
     },
     "execution_count": 98,
     "metadata": {},
     "output_type": "execute_result"
    }
   ],
   "source": [
    "events_list[0][0]['t']"
   ]
  },
  {
   "cell_type": "code",
   "execution_count": null,
   "metadata": {},
   "outputs": [
    {
     "data": {
      "text/plain": [
       "['__abstractmethods__',\n",
       " '__class__',\n",
       " '__class_getitem__',\n",
       " '__contains__',\n",
       " '__del__',\n",
       " '__delattr__',\n",
       " '__dict__',\n",
       " '__dir__',\n",
       " '__doc__',\n",
       " '__enter__',\n",
       " '__eq__',\n",
       " '__exit__',\n",
       " '__format__',\n",
       " '__ge__',\n",
       " '__getattribute__',\n",
       " '__getitem__',\n",
       " '__getstate__',\n",
       " '__gt__',\n",
       " '__hash__',\n",
       " '__init__',\n",
       " '__init_subclass__',\n",
       " '__iter__',\n",
       " '__le__',\n",
       " '__len__',\n",
       " '__lt__',\n",
       " '__module__',\n",
       " '__ne__',\n",
       " '__new__',\n",
       " '__reduce__',\n",
       " '__reduce_ex__',\n",
       " '__repr__',\n",
       " '__reversed__',\n",
       " '__setattr__',\n",
       " '__sizeof__',\n",
       " '__slots__',\n",
       " '__str__',\n",
       " '__subclasshook__',\n",
       " '__weakref__',\n",
       " '_abc_impl',\n",
       " '_files',\n",
       " 'allow_pickle',\n",
       " 'close',\n",
       " 'f',\n",
       " 'fid',\n",
       " 'files',\n",
       " 'get',\n",
       " 'items',\n",
       " 'keys',\n",
       " 'max_header_size',\n",
       " 'pickle_kwargs',\n",
       " 'values',\n",
       " 'zip']"
      ]
     },
     "execution_count": 79,
     "metadata": {},
     "output_type": "execute_result"
    }
   ],
   "source": [
    "dir(events_list[0][0])"
   ]
  },
  {
   "attachments": {},
   "cell_type": "markdown",
   "metadata": {},
   "source": [
    "# Experimento 1\n",
    "Usando la red de spiking_jelly, es decir, DVSGesture_net probar su rendimiento en distintos datasets.\n"
   ]
  },
  {
   "cell_type": "code",
   "execution_count": null,
   "metadata": {},
   "outputs": [
    {
     "name": "stdout",
     "output_type": "stream",
     "text": [
      "True\n"
     ]
    }
   ],
   "source": [
    "import torch\n",
    "cuda_available = torch.cuda.is_available()\n",
    "print(cuda_available)"
   ]
  },
  {
   "cell_type": "code",
   "execution_count": null,
   "metadata": {},
   "outputs": [],
   "source": [
    "import wandb\n",
    "\n",
    "api = wandb.Api()\n",
    "\n",
    "\"\"\"\n",
    "username = wandb.run.entity\n",
    "project = wandb.run.project\n",
    "run_id = wandb.run.id\n",
    "\"\"\"\n",
    "run = api.run(f'tfm_datcom/Experimento1/ujyp55ue')\n",
    "run.summary['max_test_acc'] = 0.5382 \n",
    "run.update()"
   ]
  },
  {
   "cell_type": "code",
   "execution_count": null,
   "metadata": {},
   "outputs": [
    {
     "name": "stdout",
     "output_type": "stream",
     "text": [
      "Changes done\n"
     ]
    }
   ],
   "source": [
    "if run.config['architecture']=='DVS_SNN':\n",
    "    run.config['architecture'] = 'DVSG_net'\n",
    "    print('Changes done')\n",
    "    run.update()\n"
   ]
  },
  {
   "cell_type": "code",
   "execution_count": null,
   "metadata": {},
   "outputs": [
    {
     "name": "stdout",
     "output_type": "stream",
     "text": [
      "47 12\n"
     ]
    }
   ],
   "source": [
    "import os\n",
    "from sklearn.model_selection import train_test_split\n",
    "end_files = '.aedat'\n",
    "aedat_dir = '/Users/marcosesquivelgonzalez/Desktop/MasterCDatos/TFM/data/DVS_Animals_Dataset/extract/Animals/'\n",
    "aedats_list = [file for file in os.listdir(aedat_dir) if file.endswith(end_files)]\n",
    "sublabels_list = [file.split('_')[1] for file in aedats_list] \n",
    "train, test = train_test_split(aedats_list,stratify=sublabels_list,test_size=0.2)\n",
    "print(len(train),len(test))"
   ]
  },
  {
   "cell_type": "code",
   "execution_count": null,
   "metadata": {},
   "outputs": [
    {
     "data": {
      "text/plain": [
       "['cat',\n",
       " 'dog',\n",
       " 'camel',\n",
       " 'cow',\n",
       " 'sheep',\n",
       " 'goat',\n",
       " 'wolf',\n",
       " 'squirrel',\n",
       " 'mouse',\n",
       " 'dolphin',\n",
       " 'shark',\n",
       " 'lion',\n",
       " 'monkey',\n",
       " 'snake',\n",
       " 'spider',\n",
       " 'butterfly',\n",
       " 'bird',\n",
       " 'duck',\n",
       " 'zebra']"
      ]
     },
     "execution_count": 40,
     "metadata": {},
     "output_type": "execute_result"
    }
   ],
   "source": [
    "import numpy as np\n",
    "root = '/Users/marcosesquivelgonzalez/Desktop/MasterCDatos/TFM/data/DVS_Animals_Dataset'\n",
    "labeldef_root = os.path.join(root,'extract','SL-Animals-DVS_gestures_definitions.csv')\n",
    "labels_load = np.loadtxt(labeldef_root,dtype=str,delimiter=',',skiprows=1)\n",
    "labels_defs = dict()\n",
    "for label in labels_load:\n",
    "    labels_defs[label[1]] = int(label[0]) - 1\n",
    "list(labels_defs.keys())"
   ]
  },
  {
   "cell_type": "code",
   "execution_count": null,
   "metadata": {},
   "outputs": [
    {
     "name": "stderr",
     "output_type": "stream",
     "text": [
      "/Users/marcosesquivelgonzalez/pyenviroments/tfm/lib/python3.11/site-packages/tqdm/auto.py:21: TqdmWarning: IProgress not found. Please update jupyter and ipywidgets. See https://ipywidgets.readthedocs.io/en/stable/user_install.html\n",
      "  from .autonotebook import tqdm as notebook_tqdm\n"
     ]
    },
    {
     "name": "stdout",
     "output_type": "stream",
     "text": [
      "The directory [/Users/marcosesquivelgonzalez/Desktop/MasterCDatos/TFM/data/DVS_DailyAction_dataset/frames_number_16_split_by_number] already exists.\n",
      "The directory [/Users/marcosesquivelgonzalez/Desktop/MasterCDatos/TFM/data/DVS_DailyAction_dataset/frames_number_16_split_by_number] already exists.\n"
     ]
    }
   ],
   "source": [
    "from Laboratory import loading_data\n",
    "root_animals = '/Users/marcosesquivelgonzalez/Desktop/MasterCDatos/TFM/data/DVS_Animals_Dataset'\n",
    "root_dailyactions = '/Users/marcosesquivelgonzalez/Desktop/MasterCDatos/TFM/data/DVS_DailyAction_dataset'\n",
    "\n",
    "data,_,_ = loading_data(root_dailyactions,tr_tst_split=False)"
   ]
  },
  {
   "cell_type": "code",
   "execution_count": null,
   "metadata": {},
   "outputs": [],
   "source": [
    "import numpy as np\n",
    "k = np.load('/Users/marcosesquivelgonzalez/Desktop/MasterCDatos/TFM/data/DVS_Animals_Dataset/events_np/train/butterfly/user01_indoor_0.npz')"
   ]
  },
  {
   "cell_type": "code",
   "execution_count": null,
   "metadata": {},
   "outputs": [
    {
     "data": {
      "text/plain": [
       "array([[ 0,  0,  1],\n",
       "       [ 0,  1,  2],\n",
       "       [ 1,  1,  2],\n",
       "       [ 1,  3,  4],\n",
       "       [ 1,  8, 23],\n",
       "       [ 1,  9,  2]])"
      ]
     },
     "execution_count": 111,
     "metadata": {},
     "output_type": "execute_result"
    }
   ],
   "source": [
    "np.array(pyx)[posic]"
   ]
  },
  {
   "cell_type": "code",
   "execution_count": null,
   "metadata": {},
   "outputs": [
    {
     "name": "stdout",
     "output_type": "stream",
     "text": [
      "0 0 1 1\n",
      "0 1 2 0\n",
      "1 1 2 3\n",
      "1 3 4 4\n",
      "1 8 23 7\n",
      "1 9 2 8\n"
     ]
    }
   ],
   "source": []
  },
  {
   "cell_type": "code",
   "execution_count": null,
   "metadata": {},
   "outputs": [
    {
     "name": "stdout",
     "output_type": "stream",
     "text": [
      "0 0 1\n",
      "0 1 2\n",
      "1 1 2\n",
      "1 3 4\n",
      "1 8 23\n",
      "1 9 2\n"
     ]
    }
   ],
   "source": [
    "for p,y,x in uniq_values:\n",
    "    print(p,y,x)"
   ]
  },
  {
   "cell_type": "code",
   "execution_count": null,
   "metadata": {},
   "outputs": [
    {
     "name": "stdout",
     "output_type": "stream",
     "text": [
      "Tamaño:  9\n",
      "Unique values:  [[ 1  0  0]\n",
      " [ 2  1  0]\n",
      " [ 2  1  1]\n",
      " [ 2  9  1]\n",
      " [ 4  3  1]\n",
      " [12  8  1]]\n",
      "index_of values:  [1 0 3 8 4 7]\n",
      "X from unique values: [0 0 1 1 1 1]\n",
      "(6, 3)\n"
     ]
    }
   ],
   "source": [
    "import numpy as np\n",
    "x = np.array([2,1,4,2,4,12,2,12,2])\n",
    "y = np.array([1,0,3,1,3,8,9,8,9])\n",
    "p = np.array([0,0,1,1,1,1,1,1,1])\n",
    "print('Tamaño: ',len(x))\n",
    "t = np.array([1,3,8,12,24,36,40,45,50])\n",
    "#pyx = [(p_,y_,x_) for x_,y_,p_ in zip(x,y,p)]\n",
    "#print('Array de valores xy: ',xy)\n",
    "#print(np.unique(xy,axis=0))\n",
    "#uniq_values, posic_inverted = np.unique(pyx[::-1],axis=0,return_index=True)\n",
    "uniq_values, posic_inverted = np.unique(list(zip(x,y,p))[::-1],axis=0,return_index=True)\n",
    "posic = len(x) - posic_inverted - 1\n",
    "print('Unique values: ',uniq_values)\n",
    "print('index_of values: ', posic)\n",
    "print('X from unique values:',x_uniq)\n",
    "print(uniq_values.shape)"
   ]
  },
  {
   "cell_type": "code",
   "execution_count": null,
   "metadata": {},
   "outputs": [
    {
     "name": "stdout",
     "output_type": "stream",
     "text": [
      "50\n"
     ]
    }
   ],
   "source": [
    "x_uniq,y_uniq,z_uniq = uniq_values[:,0],uniq_values[:,1],uniq_values[:,2]\n",
    "matriz = np.zeros((14,14,14),dtype=np.int64)\n",
    "matriz[x_uniq,y_uniq,z_uniq] = t[posic]\n",
    "print(matriz[2,9,1])"
   ]
  },
  {
   "cell_type": "code",
   "execution_count": null,
   "metadata": {},
   "outputs": [
    {
     "name": "stdout",
     "output_type": "stream",
     "text": [
      "[0.13533528 0.12600565 0.15611805 0.13533528 0.16767725 0.60653066]\n",
      "[0.13533528 0.12600565 0.15611805 0.13533528 0.16767725 0.60653066]\n"
     ]
    }
   ],
   "source": [
    "l = np.array([2,1,4,2,5,23])\n",
    "l_0 = 30\n",
    "tau = 14\n",
    "print(np.exp((l-l_0)/tau))\n",
    "outputs = []\n",
    "for l_i in l:\n",
    "    outputs.append( np.e**((l_i-l_0)/tau) )\n",
    "print(np.array(outputs))\n"
   ]
  },
  {
   "cell_type": "code",
   "execution_count": null,
   "metadata": {},
   "outputs": [
    {
     "data": {
      "text/plain": [
       "4.421317999999999"
      ]
     },
     "execution_count": 12,
     "metadata": {},
     "output_type": "execute_result"
    }
   ],
   "source": [
    "(k['t'][-1] - k['t'][0])*1e-6"
   ]
  },
  {
   "cell_type": "code",
   "execution_count": null,
   "metadata": {},
   "outputs": [
    {
     "name": "stdout",
     "output_type": "stream",
     "text": [
      "The directory [/Users/marcosesquivelgonzalez/Desktop/MasterCDatos/TFM/data/DVS_DailyAction_dataset/frames_number_16_split_by_number] already exists.\n"
     ]
    }
   ],
   "source": [
    "train_set = DVSDailyActions(root = root_dailyactions,train = True, data_type = 'frame', frames_number = 16, split_by = 'number') "
   ]
  },
  {
   "attachments": {},
   "cell_type": "markdown",
   "metadata": {},
   "source": [
    "# Data Augmentation"
   ]
  },
  {
   "cell_type": "code",
   "execution_count": null,
   "metadata": {},
   "outputs": [
    {
     "name": "stderr",
     "output_type": "stream",
     "text": [
      "/Users/marcosesquivelgonzalez/pyenviroments/tfm/lib/python3.11/site-packages/tqdm/auto.py:21: TqdmWarning: IProgress not found. Please update jupyter and ipywidgets. See https://ipywidgets.readthedocs.io/en/stable/user_install.html\n",
      "  from .autonotebook import tqdm as notebook_tqdm\n"
     ]
    },
    {
     "name": "stdout",
     "output_type": "stream",
     "text": [
      "The directory [/Users/marcosesquivelgonzalez/Desktop/MasterCDatos/TFM/data/DVS_DailyAction_dataset/frames_num16_splitby_exp_decay_tau0_8_scale50] already exists.\n",
      "New version2\n",
      "0.5 3 1\n"
     ]
    }
   ],
   "source": [
    "from Datasets import DVSDailyActions\n",
    "import numpy as np\n",
    "import torch\n",
    "from data_augmentation import rand_bbox,GMM_mask, EventMix, mySaltAndPepperNoise\n",
    "root_dailyactions = '/Users/marcosesquivelgonzalez/Desktop/MasterCDatos/TFM/data/DVS_DailyAction_dataset'\n",
    "data = DVSDailyActions(root = root_dailyactions,train = True, data_type = 'frame', frames_number = 16,split_by='exp_decay',factor_tau = 0.8,scale_factor=50)\n",
    "data_augmented = EventMix(dataset=data,num_class = len(data.classes),num_mix = 1,\n",
    "                             beta = 1, prob = 0.5, noise = 0, gaussian_n = 3) "
   ]
  },
  {
   "cell_type": "code",
   "execution_count": null,
   "metadata": {},
   "outputs": [
    {
     "name": "stdout",
     "output_type": "stream",
     "text": [
      "tensor([0.1181, 0.0000, 0.8819, 0.0000, 0.0000, 0.0000, 0.0000, 0.0000, 0.0000,\n",
      "        0.0000, 0.0000, 0.0000])     tensor([1., 0., 0., 0., 0., 0., 0., 0., 0., 0., 0., 0.])\n"
     ]
    },
    {
     "data": {
      "text/plain": [
       "False"
      ]
     },
     "execution_count": 61,
     "metadata": {},
     "output_type": "execute_result"
    }
   ],
   "source": [
    "l = data_augmented[4]\n",
    "m = data_augmented[4]\n",
    "print(l[1],'   ',m[1])\n",
    "np.all(l[0] == m[0])"
   ]
  },
  {
   "cell_type": "code",
   "execution_count": null,
   "metadata": {},
   "outputs": [
    {
     "ename": "RuntimeError",
     "evalue": "Boolean value of Tensor with more than one value is ambiguous",
     "output_type": "error",
     "traceback": [
      "\u001b[0;31m---------------------------------------------------------------------------\u001b[0m",
      "\u001b[0;31mRuntimeError\u001b[0m                              Traceback (most recent call last)",
      "Cell \u001b[0;32mIn[2], line 24\u001b[0m\n\u001b[1;32m     22\u001b[0m         \u001b[39melse\u001b[39;00m:\n\u001b[1;32m     23\u001b[0m             \u001b[39mbreak\u001b[39;00m\n\u001b[0;32m---> 24\u001b[0m \u001b[39mif\u001b[39;00m frame_0[\u001b[39m0\u001b[39m] \u001b[39m==\u001b[39m frame_0[\u001b[39m1\u001b[39m]:\n\u001b[1;32m     25\u001b[0m     \u001b[39mprint\u001b[39m(\u001b[39m'\u001b[39m\u001b[39mCoinciden\u001b[39m\u001b[39m'\u001b[39m)\n",
      "\u001b[0;31mRuntimeError\u001b[0m: Boolean value of Tensor with more than one value is ambiguous"
     ]
    }
   ],
   "source": [
    "import random\n",
    "seed = 310\n",
    "random.seed(seed)\n",
    "np.random.seed(seed)\n",
    "torch.manual_seed(seed)\n",
    "torch.backends.mps.deterministic = True\n",
    "torch.backends.cuda.deterministic = True\n",
    "\n",
    "data_aug_loader = torch.utils.data.DataLoader(\n",
    "            dataset = data_augmented,\n",
    "            batch_size = 8,\n",
    "            shuffle = True,\n",
    "            drop_last = True,\n",
    "            num_workers = 4,\n",
    "            pin_memory = True\n",
    "        )\n",
    "frame_0 = list()\n",
    "for epoch in range(2):\n",
    "    for i,(frame,label) in enumerate(data_aug_loader):\n",
    "        if i==0:\n",
    "            frame_0.append(frame)\n",
    "        else:\n",
    "            break"
   ]
  },
  {
   "cell_type": "code",
   "execution_count": null,
   "metadata": {},
   "outputs": [
    {
     "data": {
      "text/plain": [
       "torch.Size([8, 16, 2, 128, 128])"
      ]
     },
     "execution_count": 15,
     "metadata": {},
     "output_type": "execute_result"
    }
   ],
   "source": [
    "frame_0[0].shape"
   ]
  },
  {
   "cell_type": "code",
   "execution_count": null,
   "metadata": {},
   "outputs": [
    {
     "data": {
      "text/plain": [
       "torch.Size([8, 12])"
      ]
     },
     "execution_count": 23,
     "metadata": {},
     "output_type": "execute_result"
    }
   ],
   "source": [
    "label_onehot.shape"
   ]
  },
  {
   "cell_type": "code",
   "execution_count": null,
   "metadata": {},
   "outputs": [
    {
     "name": "stdout",
     "output_type": "stream",
     "text": [
      "tensor([[0., 0., 0., 1., 0., 0., 0., 0., 0., 0., 0., 0.],\n",
      "        [0., 0., 0., 1., 0., 0., 0., 0., 0., 0., 0., 0.],\n",
      "        [0., 0., 0., 0., 0., 0., 0., 0., 0., 0., 1., 0.],\n",
      "        [0., 0., 0., 0., 0., 0., 0., 0., 0., 1., 0., 0.],\n",
      "        [0., 0., 1., 0., 0., 0., 0., 0., 0., 0., 0., 0.],\n",
      "        [0., 0., 0., 0., 0., 0., 0., 0., 1., 0., 0., 0.],\n",
      "        [1., 0., 0., 0., 0., 0., 0., 0., 0., 0., 0., 0.],\n",
      "        [0., 0., 0., 0., 0., 0., 0., 0., 0., 1., 0., 0.]])\n"
     ]
    }
   ],
   "source": [
    "import torch\n",
    "import torch.nn.functional as F\n",
    "label = torch.tensor([ 3,  3, 10,  9,  2,  8,  0,  9])\n",
    "label_onehot = F.one_hot(label,len(data.classes)).float()\n",
    "print(label_onehot)\n",
    "\n",
    "train_data_loader = torch.utils.data.DataLoader(\n",
    "            dataset=data_augmented,\n",
    "            batch_size=8,\n",
    "            shuffle=True,\n",
    "            drop_last=True,\n",
    "            num_workers=4,\n",
    "            pin_memory=True\n",
    "        )"
   ]
  },
  {
   "cell_type": "code",
   "execution_count": null,
   "metadata": {},
   "outputs": [
    {
     "data": {
      "text/plain": [
       "array([[[[ 0.,  0.,  0., ...,  0.,  0.,  0.],\n",
       "         [ 0.,  0.,  0., ...,  0.,  0.,  0.],\n",
       "         [ 0.,  0.,  0., ...,  0.,  0.,  0.],\n",
       "         ...,\n",
       "         [ 0.,  0.,  0., ...,  0.,  0.,  0.],\n",
       "         [ 0.,  0.,  0., ...,  0.,  0.,  0.],\n",
       "         [ 0.,  0.,  0., ...,  0.,  0.,  0.]],\n",
       "\n",
       "        [[ 0.,  0.,  0., ...,  0.,  0.,  0.],\n",
       "         [ 0.,  0.,  0., ...,  0.,  0.,  0.],\n",
       "         [ 0.,  0.,  0., ...,  0.,  0.,  0.],\n",
       "         ...,\n",
       "         [ 0.,  0.,  0., ...,  0.,  0.,  0.],\n",
       "         [ 0.,  0.,  0., ...,  0.,  0.,  0.],\n",
       "         [ 0.,  0.,  0., ...,  0.,  0.,  0.]]],\n",
       "\n",
       "\n",
       "       [[[ 0.,  0.,  0., ...,  0.,  0.,  0.],\n",
       "         [ 0.,  0.,  0., ...,  0.,  0.,  0.],\n",
       "         [ 0.,  0.,  0., ...,  0.,  0.,  0.],\n",
       "         ...,\n",
       "         [ 0.,  0.,  0., ...,  0.,  0.,  0.],\n",
       "         [ 0.,  0.,  0., ...,  0.,  0.,  0.],\n",
       "         [ 0.,  0.,  0., ...,  0.,  0.,  0.]],\n",
       "\n",
       "        [[ 0.,  0.,  0., ...,  0.,  0.,  0.],\n",
       "         [ 0.,  0.,  0., ...,  0.,  0.,  0.],\n",
       "         [ 0.,  0.,  0., ...,  0.,  0.,  0.],\n",
       "         ...,\n",
       "         [ 0.,  0.,  0., ...,  0.,  0.,  0.],\n",
       "         [ 0.,  0.,  0., ...,  0.,  0.,  0.],\n",
       "         [ 0.,  0.,  0., ...,  0.,  0.,  0.]]],\n",
       "\n",
       "\n",
       "       [[[ 0.,  0.,  0., ...,  0.,  0.,  0.],\n",
       "         [ 0.,  0.,  0., ...,  0.,  0.,  0.],\n",
       "         [ 0.,  0.,  0., ...,  0.,  0.,  0.],\n",
       "         ...,\n",
       "         [ 0.,  0.,  0., ...,  0.,  0.,  0.],\n",
       "         [ 0.,  0.,  0., ...,  0.,  0.,  0.],\n",
       "         [ 0.,  0.,  0., ...,  0.,  0.,  0.]],\n",
       "\n",
       "        [[ 0.,  0.,  0., ...,  0.,  0.,  0.],\n",
       "         [ 0.,  0.,  0., ...,  0.,  0.,  0.],\n",
       "         [ 0.,  0.,  0., ...,  0.,  0.,  0.],\n",
       "         ...,\n",
       "         [ 0.,  0.,  0., ...,  0.,  0.,  0.],\n",
       "         [ 0.,  0.,  0., ...,  0.,  0.,  0.],\n",
       "         [ 0.,  0.,  0., ...,  0.,  0.,  0.]]],\n",
       "\n",
       "\n",
       "       ...,\n",
       "\n",
       "\n",
       "       [[[ 0.,  1.,  0., ...,  0.,  0.,  0.],\n",
       "         [ 6.,  0.,  0., ...,  0.,  0.,  0.],\n",
       "         [ 0.,  0., 40., ...,  0.,  0.,  0.],\n",
       "         ...,\n",
       "         [ 0.,  0.,  0., ...,  0.,  0.,  0.],\n",
       "         [ 0.,  0.,  0., ...,  4.,  0.,  0.],\n",
       "         [ 0.,  0.,  0., ...,  0.,  0.,  0.]],\n",
       "\n",
       "        [[ 0.,  0.,  0., ...,  0.,  0.,  0.],\n",
       "         [ 6.,  0.,  0., ...,  0.,  0.,  0.],\n",
       "         [ 0.,  0.,  0., ...,  0.,  0.,  0.],\n",
       "         ...,\n",
       "         [ 0.,  0.,  0., ...,  0.,  0.,  0.],\n",
       "         [ 0.,  0.,  0., ...,  0.,  0.,  0.],\n",
       "         [ 0.,  0.,  0., ...,  0.,  0.,  0.]]],\n",
       "\n",
       "\n",
       "       [[[ 0.,  0.,  0., ...,  0.,  0.,  0.],\n",
       "         [ 1.,  0.,  0., ...,  0.,  0.,  0.],\n",
       "         [ 0.,  0., 11., ...,  0.,  0.,  0.],\n",
       "         ...,\n",
       "         [ 0.,  0.,  0., ...,  0.,  0.,  0.],\n",
       "         [ 0.,  0.,  0., ...,  1.,  0.,  0.],\n",
       "         [ 0.,  0.,  0., ...,  0.,  0.,  0.]],\n",
       "\n",
       "        [[ 0.,  0.,  0., ...,  0.,  0.,  0.],\n",
       "         [ 1.,  0.,  0., ...,  0.,  0.,  0.],\n",
       "         [ 0.,  0.,  0., ...,  0.,  0.,  0.],\n",
       "         ...,\n",
       "         [ 0.,  0.,  0., ...,  0.,  0.,  0.],\n",
       "         [ 0.,  0.,  0., ...,  0.,  0.,  0.],\n",
       "         [ 0.,  0.,  0., ...,  0.,  0.,  0.]]],\n",
       "\n",
       "\n",
       "       [[[ 0.,  0.,  0., ...,  0.,  0.,  0.],\n",
       "         [ 0.,  0.,  0., ...,  0.,  0.,  0.],\n",
       "         [ 0.,  0.,  3., ...,  0.,  0.,  0.],\n",
       "         ...,\n",
       "         [ 0.,  0.,  0., ...,  0.,  0.,  0.],\n",
       "         [ 0.,  0.,  0., ...,  0.,  0.,  0.],\n",
       "         [ 0.,  0.,  0., ...,  0.,  0.,  0.]],\n",
       "\n",
       "        [[ 0.,  0.,  0., ...,  0.,  0.,  0.],\n",
       "         [ 0.,  0.,  0., ...,  0.,  0.,  0.],\n",
       "         [ 0.,  0.,  0., ...,  0.,  0.,  0.],\n",
       "         ...,\n",
       "         [ 0.,  0.,  0., ...,  0.,  0.,  0.],\n",
       "         [ 0.,  0.,  0., ...,  0.,  0.,  0.],\n",
       "         [ 0.,  0.,  0., ...,  0.,  0.,  0.]]]], dtype=float32)"
      ]
     },
     "execution_count": 102,
     "metadata": {},
     "output_type": "execute_result"
    }
   ],
   "source": [
    "data[0][0]"
   ]
  },
  {
   "cell_type": "code",
   "execution_count": null,
   "metadata": {},
   "outputs": [
    {
     "name": "stdout",
     "output_type": "stream",
     "text": [
      "tensor([[0.0000, 0.0000, 0.0000, 0.0000, 1.0000, 0.0000, 0.0000, 0.0000, 0.0000,\n",
      "         0.0000, 0.0000, 0.0000],\n",
      "        [0.0000, 0.0000, 0.0000, 0.0000, 0.0000, 1.0000, 0.0000, 0.0000, 0.0000,\n",
      "         0.0000, 0.0000, 0.0000],\n",
      "        [0.0000, 0.0000, 0.0000, 0.0000, 1.0000, 0.0000, 0.0000, 0.0000, 0.0000,\n",
      "         0.0000, 0.0000, 0.0000],\n",
      "        [0.0000, 0.0000, 0.0000, 0.0000, 0.0000, 0.0000, 0.0000, 0.0000, 1.0000,\n",
      "         0.0000, 0.0000, 0.0000],\n",
      "        [0.0000, 0.0000, 1.0000, 0.0000, 0.0000, 0.0000, 0.0000, 0.0000, 0.0000,\n",
      "         0.0000, 0.0000, 0.0000],\n",
      "        [0.0000, 0.0000, 0.0000, 0.0000, 0.5243, 0.0000, 0.0000, 0.0000, 0.0000,\n",
      "         0.0000, 0.4757, 0.0000],\n",
      "        [0.0000, 0.0000, 0.0000, 0.9764, 0.0000, 0.0000, 0.0000, 0.0000, 0.0000,\n",
      "         0.0000, 0.0236, 0.0000],\n",
      "        [0.0000, 0.0000, 0.0000, 0.0000, 0.0000, 0.0000, 0.0000, 1.0000, 0.0000,\n",
      "         0.0000, 0.0000, 0.0000]])\n",
      "tensor([[0.0000, 0.3116, 0.0000, 0.0000, 0.0000, 0.0000, 0.0000, 0.0000, 0.0000,\n",
      "         0.6884, 0.0000, 0.0000],\n",
      "        [1.0000, 0.0000, 0.0000, 0.0000, 0.0000, 0.0000, 0.0000, 0.0000, 0.0000,\n",
      "         0.0000, 0.0000, 0.0000],\n",
      "        [0.0000, 0.0000, 0.0000, 0.0000, 0.0000, 0.8594, 0.0000, 0.0000, 0.0000,\n",
      "         0.1406, 0.0000, 0.0000],\n",
      "        [0.9666, 0.0000, 0.0000, 0.0000, 0.0000, 0.0000, 0.0000, 0.0334, 0.0000,\n",
      "         0.0000, 0.0000, 0.0000],\n",
      "        [0.0000, 0.0000, 1.0000, 0.0000, 0.0000, 0.0000, 0.0000, 0.0000, 0.0000,\n",
      "         0.0000, 0.0000, 0.0000],\n",
      "        [1.0000, 0.0000, 0.0000, 0.0000, 0.0000, 0.0000, 0.0000, 0.0000, 0.0000,\n",
      "         0.0000, 0.0000, 0.0000],\n",
      "        [0.0000, 0.0000, 0.0000, 0.0000, 0.0000, 0.0000, 0.0000, 1.0000, 0.0000,\n",
      "         0.0000, 0.0000, 0.0000],\n",
      "        [0.0000, 0.0000, 0.0000, 0.0000, 0.0000, 0.0000, 0.0000, 0.0000, 0.0000,\n",
      "         1.0000, 0.0000, 0.0000]])\n",
      "tensor([[0.0000, 0.0000, 0.0000, 0.0000, 0.0000, 0.0000, 0.0000, 0.0000, 1.0000,\n",
      "         0.0000, 0.0000, 0.0000],\n",
      "        [0.0000, 0.0000, 0.0000, 0.0000, 0.0000, 0.0000, 0.0000, 0.0000, 1.0000,\n",
      "         0.0000, 0.0000, 0.0000],\n",
      "        [0.0000, 0.0000, 0.9016, 0.0000, 0.0000, 0.0000, 0.0000, 0.0000, 0.0984,\n",
      "         0.0000, 0.0000, 0.0000],\n",
      "        [0.0000, 0.0000, 1.0000, 0.0000, 0.0000, 0.0000, 0.0000, 0.0000, 0.0000,\n",
      "         0.0000, 0.0000, 0.0000],\n",
      "        [0.0000, 0.0000, 0.5225, 0.0000, 0.0000, 0.0000, 0.0000, 0.0000, 0.0000,\n",
      "         0.0000, 0.0000, 0.4775],\n",
      "        [0.0000, 1.0000, 0.0000, 0.0000, 0.0000, 0.0000, 0.0000, 0.0000, 0.0000,\n",
      "         0.0000, 0.0000, 0.0000],\n",
      "        [0.0000, 0.0000, 0.0000, 0.0000, 0.0000, 0.0000, 0.0000, 1.0000, 0.0000,\n",
      "         0.0000, 0.0000, 0.0000],\n",
      "        [0.0000, 0.0000, 0.0000, 0.0000, 0.0000, 0.0000, 0.0000, 0.0000, 0.0000,\n",
      "         0.0000, 0.3954, 0.6046]])\n",
      "tensor([[1.0000, 0.0000, 0.0000, 0.0000, 0.0000, 0.0000, 0.0000, 0.0000, 0.0000,\n",
      "         0.0000, 0.0000, 0.0000],\n",
      "        [0.0000, 0.0000, 0.0000, 0.0000, 0.0000, 0.5832, 0.4168, 0.0000, 0.0000,\n",
      "         0.0000, 0.0000, 0.0000],\n",
      "        [0.0000, 1.0000, 0.0000, 0.0000, 0.0000, 0.0000, 0.0000, 0.0000, 0.0000,\n",
      "         0.0000, 0.0000, 0.0000],\n",
      "        [0.5059, 0.0000, 0.0000, 0.4941, 0.0000, 0.0000, 0.0000, 0.0000, 0.0000,\n",
      "         0.0000, 0.0000, 0.0000],\n",
      "        [0.3437, 0.0000, 0.0000, 0.0000, 0.0000, 0.6563, 0.0000, 0.0000, 0.0000,\n",
      "         0.0000, 0.0000, 0.0000],\n",
      "        [0.0000, 0.0000, 0.2014, 0.0000, 0.0000, 0.0000, 0.0000, 0.0000, 0.7986,\n",
      "         0.0000, 0.0000, 0.0000],\n",
      "        [0.0000, 0.0000, 0.0000, 0.0000, 0.0000, 0.0000, 0.0000, 0.0647, 0.0000,\n",
      "         0.0000, 0.0000, 0.9353],\n",
      "        [0.0000, 0.0000, 0.0000, 1.0000, 0.0000, 0.0000, 0.0000, 0.0000, 0.0000,\n",
      "         0.0000, 0.0000, 0.0000]])\n",
      "tensor([[0.0000, 0.0000, 0.0000, 0.0000, 0.0000, 0.0000, 0.0000, 0.0000, 1.0000,\n",
      "         0.0000, 0.0000, 0.0000],\n",
      "        [0.0000, 0.0000, 0.0000, 0.0000, 0.0000, 0.0000, 0.0000, 0.0000, 0.0000,\n",
      "         0.0000, 1.0000, 0.0000],\n",
      "        [0.0000, 0.0000, 0.0000, 0.0000, 0.0000, 0.0000, 0.0000, 1.0000, 0.0000,\n",
      "         0.0000, 0.0000, 0.0000],\n",
      "        [0.0000, 0.0000, 0.0000, 0.0000, 0.0000, 0.0000, 0.0000, 0.0000, 0.0000,\n",
      "         0.0000, 1.0000, 0.0000],\n",
      "        [0.0000, 1.0000, 0.0000, 0.0000, 0.0000, 0.0000, 0.0000, 0.0000, 0.0000,\n",
      "         0.0000, 0.0000, 0.0000],\n",
      "        [0.0032, 0.0000, 0.0000, 0.9968, 0.0000, 0.0000, 0.0000, 0.0000, 0.0000,\n",
      "         0.0000, 0.0000, 0.0000],\n",
      "        [0.0000, 0.0000, 1.0000, 0.0000, 0.0000, 0.0000, 0.0000, 0.0000, 0.0000,\n",
      "         0.0000, 0.0000, 0.0000],\n",
      "        [0.0000, 0.0000, 0.0000, 0.9599, 0.0000, 0.0000, 0.0000, 0.0401, 0.0000,\n",
      "         0.0000, 0.0000, 0.0000]])\n"
     ]
    }
   ],
   "source": [
    "for i,(frame,label) in enumerate(train_data_loader):\n",
    "    if i<5:\n",
    "        print(label)\n",
    "    else:\n",
    "        break"
   ]
  },
  {
   "cell_type": "code",
   "execution_count": null,
   "metadata": {},
   "outputs": [
    {
     "data": {
      "text/plain": [
       "[668, 421, 730, 22]"
      ]
     },
     "execution_count": 10,
     "metadata": {},
     "output_type": "execute_result"
    }
   ],
   "source": [
    "import random\n",
    "idx_data = list(range(len(data)))\n",
    "random.sample(idx_data,4)"
   ]
  },
  {
   "cell_type": "code",
   "execution_count": null,
   "metadata": {},
   "outputs": [],
   "source": [
    "k = [data[n] for n in range(4)]"
   ]
  },
  {
   "cell_type": "code",
   "execution_count": null,
   "metadata": {},
   "outputs": [],
   "source": [
    "from torch.utils.data import ConcatDataset\n",
    "\n",
    "data_new = ConcatDataset([data_augmented,k])"
   ]
  },
  {
   "cell_type": "code",
   "execution_count": null,
   "metadata": {},
   "outputs": [
    {
     "name": "stdout",
     "output_type": "stream",
     "text": [
      "[39751 39717 40037 40040 40213 40224 39949 40114 39958 39997]\n"
     ]
    },
    {
     "data": {
      "text/plain": [
       "(array([39751., 39717., 40037., 40040., 40213., 40224., 39949., 40114.,\n",
       "        39958., 39997.]),\n",
       " array([1.88279972e-06, 1.00001588e-01, 2.00001294e-01, 3.00000999e-01,\n",
       "        4.00000705e-01, 5.00000410e-01, 6.00000115e-01, 6.99999821e-01,\n",
       "        7.99999526e-01, 8.99999232e-01, 9.99998937e-01]),\n",
       " <BarContainer object of 10 artists>)"
      ]
     },
     "execution_count": 84,
     "metadata": {},
     "output_type": "execute_result"
    },
    {
     "data": {
      "image/png": "[encoded data removed]",
      "text/plain": [
       "<Figure size 640x480 with 1 Axes>"
      ]
     },
     "metadata": {},
     "output_type": "display_data"
    }
   ],
   "source": [
    "import numpy as np\n",
    "import matplotlib.pyplot as plt\n",
    "samples = np.random.rand(400000)\n",
    "hist, bins = np.histogram(samples)\n",
    "print(hist)\n",
    "plt.hist(samples,bins = bins)"
   ]
  },
  {
   "cell_type": "code",
   "execution_count": null,
   "metadata": {},
   "outputs": [],
   "source": [
    "data_augmented = 3!=2"
   ]
  },
  {
   "cell_type": "code",
   "execution_count": null,
   "metadata": {},
   "outputs": [
    {
     "name": "stdout",
     "output_type": "stream",
     "text": [
      "hola\n"
     ]
    }
   ],
   "source": [
    "if torch.all(label[2,3:5] == label[2,3:5]):\n",
    "    print('hola')"
   ]
  },
  {
   "cell_type": "code",
   "execution_count": null,
   "metadata": {},
   "outputs": [
    {
     "name": "stdout",
     "output_type": "stream",
     "text": [
      "tensor(1.)\n",
      "tensor(1.)\n",
      "tensor(1.)\n",
      "tensor(0.5454)\n",
      "tensor(0.7658)\n",
      "tensor(0.7840)\n",
      "tensor(0.9977)\n",
      "tensor(1.)\n"
     ]
    }
   ],
   "source": [
    "for n in label:\n",
    "    print(n.max())\n"
   ]
  },
  {
   "cell_type": "code",
   "execution_count": null,
   "metadata": {},
   "outputs": [
    {
     "data": {
      "text/plain": [
       "tensor([[True, True],\n",
       "        [True, True],\n",
       "        [True, True],\n",
       "        [True, True],\n",
       "        [True, True],\n",
       "        [True, True],\n",
       "        [True, True],\n",
       "        [True, True]])"
      ]
     },
     "execution_count": 73,
     "metadata": {},
     "output_type": "execute_result"
    }
   ],
   "source": [
    "_, pred_indices= label.topk(k=2,dim=1)\n",
    "_, indices = label.topk(k=2,dim=1)\n",
    "correct = ((pred_indices[:] == indices[:]))\n",
    "correct"
   ]
  },
  {
   "cell_type": "code",
   "execution_count": null,
   "metadata": {},
   "outputs": [
    {
     "data": {
      "text/plain": [
       "torch.return_types.topk(\n",
       "values=tensor([[1.0000, 0.0000],\n",
       "        [1.0000, 0.0000],\n",
       "        [1.0000, 0.0000],\n",
       "        [0.5454, 0.4546],\n",
       "        [0.7658, 0.2342],\n",
       "        [0.7840, 0.2160],\n",
       "        [0.9977, 0.0023],\n",
       "        [1.0000, 0.0000]]),\n",
       "indices=tensor([[ 1,  0],\n",
       "        [ 4,  1],\n",
       "        [ 2,  1],\n",
       "        [ 2, 11],\n",
       "        [ 0,  3],\n",
       "        [ 5,  0],\n",
       "        [11,  9],\n",
       "        [ 2,  1]]))"
      ]
     },
     "execution_count": 78,
     "metadata": {},
     "output_type": "execute_result"
    }
   ],
   "source": [
    "label.topk(k=2,dim=1)\n"
   ]
  },
  {
   "cell_type": "code",
   "execution_count": null,
   "metadata": {},
   "outputs": [
    {
     "name": "stdout",
     "output_type": "stream",
     "text": [
      "Número de elementos: 8\n",
      "Tiempo usando numel(): 3.981590270996094e-05\n",
      "Longitud: 8\n",
      "Tiempo usando len(): 3.695487976074219e-05\n"
     ]
    }
   ],
   "source": [
    "import torch\n",
    "import time\n",
    "\n",
    "\n",
    "# Usando numel()\n",
    "start_time = time.time()\n",
    "num_elements = label.shape[0]\n",
    "elapsed_time_numel = time.time() - start_time\n",
    "\n",
    "# Usando len()\n",
    "start_time = time.time()\n",
    "length = len(label)\n",
    "elapsed_time_len = time.time() - start_time\n",
    "\n",
    "print(\"Número de elementos:\", num_elements)\n",
    "print(\"Tiempo usando numel():\", elapsed_time_numel)\n",
    "print(\"Longitud:\", length)\n",
    "print(\"Tiempo usando len():\", elapsed_time_len)"
   ]
  },
  {
   "cell_type": "code",
   "execution_count": null,
   "metadata": {},
   "outputs": [
    {
     "data": {
      "text/plain": [
       "1157"
      ]
     },
     "execution_count": 28,
     "metadata": {},
     "output_type": "execute_result"
    }
   ],
   "source": [
    "len(data_new)"
   ]
  },
  {
   "cell_type": "code",
   "execution_count": null,
   "metadata": {},
   "outputs": [
    {
     "data": {
      "text/plain": [
       "torch.Size([16, 2, 128, 128])"
      ]
     },
     "execution_count": 80,
     "metadata": {},
     "output_type": "execute_result"
    }
   ],
   "source": [
    "import torch\n",
    "size = data[0][0].shape\n",
    "GMM_mask(size,rat=0.3).shape"
   ]
  },
  {
   "cell_type": "code",
   "execution_count": null,
   "metadata": {},
   "outputs": [],
   "source": [
    "l = data_augmented[0]"
   ]
  },
  {
   "cell_type": "code",
   "execution_count": null,
   "metadata": {},
   "outputs": [
    {
     "data": {
      "text/plain": [
       "array([ 0.,  1.,  2.,  3.,  4.,  5.,  6.,  7.,  8.,  9., 10., 11., 12.],\n",
       "      dtype=float32)"
      ]
     },
     "execution_count": 16,
     "metadata": {},
     "output_type": "execute_result"
    }
   ],
   "source": [
    "np.unique(data[0][0])"
   ]
  },
  {
   "cell_type": "code",
   "execution_count": null,
   "metadata": {},
   "outputs": [
    {
     "name": "stdout",
     "output_type": "stream",
     "text": [
      "50.0\n"
     ]
    }
   ],
   "source": [
    "print(l[0].max())"
   ]
  },
  {
   "cell_type": "code",
   "execution_count": null,
   "metadata": {},
   "outputs": [
    {
     "data": {
      "text/plain": [
       "(16, 2, 128, 128)"
      ]
     },
     "execution_count": 29,
     "metadata": {},
     "output_type": "execute_result"
    }
   ],
   "source": [
    "data[0][0].shape"
   ]
  },
  {
   "cell_type": "code",
   "execution_count": null,
   "metadata": {},
   "outputs": [
    {
     "name": "stdout",
     "output_type": "stream",
     "text": [
      "True\n"
     ]
    }
   ],
   "source": [
    "split_by = 'exp_decay'\n",
    "print(split_by in ('exp_decay','number','time'))"
   ]
  },
  {
   "cell_type": "code",
   "execution_count": null,
   "metadata": {},
   "outputs": [
    {
     "name": "stdout",
     "output_type": "stream",
     "text": [
      "Save frames to [/Users/marcosesquivelgonzalez/Desktop/MasterCDatos/TFM/src/gifs_DailyActions_label0_timedecay_tau0_4/data_0.gif].\n",
      "Save frames to [/Users/marcosesquivelgonzalez/Desktop/MasterCDatos/TFM/src/gifs_DailyActions_label0_timedecay_tau0_4/data_1.gif].\n",
      "Save frames to [/Users/marcosesquivelgonzalez/Desktop/MasterCDatos/TFM/src/gifs_DailyActions_label0_timedecay_tau0_4/data_2.gif].\n",
      "Save frames to [/Users/marcosesquivelgonzalez/Desktop/MasterCDatos/TFM/src/gifs_DailyActions_label0_timedecay_tau0_4/data_3.gif].\n",
      "Save frames to [/Users/marcosesquivelgonzalez/Desktop/MasterCDatos/TFM/src/gifs_DailyActions_label0_timedecay_tau0_4/data_4.gif].\n",
      "Save frames to [/Users/marcosesquivelgonzalez/Desktop/MasterCDatos/TFM/src/gifs_DailyActions_label0_timedecay_tau0_4/data_5.gif].\n",
      "Save frames to [/Users/marcosesquivelgonzalez/Desktop/MasterCDatos/TFM/src/gifs_DailyActions_label0_timedecay_tau0_4/data_6.gif].\n",
      "Save frames to [/Users/marcosesquivelgonzalez/Desktop/MasterCDatos/TFM/src/gifs_DailyActions_label0_timedecay_tau0_4/data_7.gif].\n",
      "Save frames to [/Users/marcosesquivelgonzalez/Desktop/MasterCDatos/TFM/src/gifs_DailyActions_label0_timedecay_tau0_4/data_8.gif].\n",
      "Save frames to [/Users/marcosesquivelgonzalez/Desktop/MasterCDatos/TFM/src/gifs_DailyActions_label0_timedecay_tau0_4/data_9.gif].\n",
      "Save frames to [/Users/marcosesquivelgonzalez/Desktop/MasterCDatos/TFM/src/gifs_DailyActions_label0_timedecay_tau0_4/data_10.gif].\n",
      "Save frames to [/Users/marcosesquivelgonzalez/Desktop/MasterCDatos/TFM/src/gifs_DailyActions_label0_timedecay_tau0_4/data_11.gif].\n",
      "Save frames to [/Users/marcosesquivelgonzalez/Desktop/MasterCDatos/TFM/src/gifs_DailyActions_label0_timedecay_tau0_4/data_12.gif].\n",
      "Save frames to [/Users/marcosesquivelgonzalez/Desktop/MasterCDatos/TFM/src/gifs_DailyActions_label0_timedecay_tau0_4/data_13.gif].\n",
      "Save frames to [/Users/marcosesquivelgonzalez/Desktop/MasterCDatos/TFM/src/gifs_DailyActions_label0_timedecay_tau0_4/data_14.gif].\n",
      "Save frames to [/Users/marcosesquivelgonzalez/Desktop/MasterCDatos/TFM/src/gifs_DailyActions_label0_timedecay_tau0_4/data_15.gif].\n",
      "Save frames to [/Users/marcosesquivelgonzalez/Desktop/MasterCDatos/TFM/src/gifs_DailyActions_label0_timedecay_tau0_4/data_16.gif].\n",
      "Save frames to [/Users/marcosesquivelgonzalez/Desktop/MasterCDatos/TFM/src/gifs_DailyActions_label0_timedecay_tau0_4/data_17.gif].\n",
      "Save frames to [/Users/marcosesquivelgonzalez/Desktop/MasterCDatos/TFM/src/gifs_DailyActions_label0_timedecay_tau0_4/data_18.gif].\n",
      "Save frames to [/Users/marcosesquivelgonzalez/Desktop/MasterCDatos/TFM/src/gifs_DailyActions_label0_timedecay_tau0_4/data_19.gif].\n",
      "Save frames to [/Users/marcosesquivelgonzalez/Desktop/MasterCDatos/TFM/src/gifs_DailyActions_label0_timedecay_tau0_4/data_20.gif].\n",
      "Save frames to [/Users/marcosesquivelgonzalez/Desktop/MasterCDatos/TFM/src/gifs_DailyActions_label0_timedecay_tau0_4/data_21.gif].\n",
      "Save frames to [/Users/marcosesquivelgonzalez/Desktop/MasterCDatos/TFM/src/gifs_DailyActions_label0_timedecay_tau0_4/data_22.gif].\n",
      "Save frames to [/Users/marcosesquivelgonzalez/Desktop/MasterCDatos/TFM/src/gifs_DailyActions_label0_timedecay_tau0_4/data_23.gif].\n",
      "Save frames to [/Users/marcosesquivelgonzalez/Desktop/MasterCDatos/TFM/src/gifs_DailyActions_label0_timedecay_tau0_4/data_24.gif].\n",
      "Save frames to [/Users/marcosesquivelgonzalez/Desktop/MasterCDatos/TFM/src/gifs_DailyActions_label0_timedecay_tau0_4/data_25.gif].\n",
      "Save frames to [/Users/marcosesquivelgonzalez/Desktop/MasterCDatos/TFM/src/gifs_DailyActions_label0_timedecay_tau0_4/data_26.gif].\n",
      "Save frames to [/Users/marcosesquivelgonzalez/Desktop/MasterCDatos/TFM/src/gifs_DailyActions_label0_timedecay_tau0_4/data_27.gif].\n",
      "Save frames to [/Users/marcosesquivelgonzalez/Desktop/MasterCDatos/TFM/src/gifs_DailyActions_label0_timedecay_tau0_4/data_28.gif].\n"
     ]
    }
   ],
   "source": [
    "from spikingjelly.datasets import play_frame\n",
    "import os\n",
    "root_gifs = os.path.join(os.getcwd(),'gifs_DailyActions_label0_timedecay_tau0_4')\n",
    "os.mkdir(root_gifs)\n",
    "\n",
    "k = 0\n",
    "for file in data:\n",
    "    if file[1] == 0:\n",
    "        play_frame(file[0],save_gif_to=os.path.join(root_gifs,f'data_{k}.gif'))\n",
    "        k += 1\n",
    "    if k==29:\n",
    "        break"
   ]
  },
  {
   "attachments": {},
   "cell_type": "markdown",
   "metadata": {},
   "source": [
    "## DVSAnimals dataset"
   ]
  },
  {
   "cell_type": "code",
   "execution_count": null,
   "metadata": {},
   "outputs": [
    {
     "name": "stderr",
     "output_type": "stream",
     "text": [
      "ERROR:wandb.jupyter:Failed to detect the name of this notebook, you can set it manually with the WANDB_NOTEBOOK_NAME environment variable to enable code saving.\n"
     ]
    },
    {
     "name": "stdout",
     "output_type": "stream",
     "text": [
      "The directory [/Users/marcosesquivelgonzalez/Desktop/MasterCDatos/TFM/Datasets/DVS_Gesture_dataset/frames_number_16_split_by_number] already exists.\n",
      "The directory [/Users/marcosesquivelgonzalez/Desktop/MasterCDatos/TFM/Datasets/DVS_Gesture_dataset/frames_number_16_split_by_number] already exists.\n"
     ]
    },
    {
     "name": "stderr",
     "output_type": "stream",
     "text": [
      "\u001b[34m\u001b[1mwandb\u001b[0m: Currently logged in as: \u001b[33mmarcosesgonz\u001b[0m (\u001b[33mtfm_datcom\u001b[0m). Use \u001b[1m`wandb login --relogin`\u001b[0m to force relogin\n"
     ]
    },
    {
     "name": "stdout",
     "output_type": "stream",
     "text": [
      "Abortar escribiendo exit\n"
     ]
    },
    {
     "data": {
      "text/html": [
       "Tracking run with wandb version 0.15.4"
      ],
      "text/plain": [
       "<IPython.core.display.HTML object>"
      ]
     },
     "metadata": {},
     "output_type": "display_data"
    },
    {
     "data": {
      "text/html": [
       "Run data is saved locally in <code>/Users/marcosesquivelgonzalez/Desktop/MasterCDatos/TFM/Projects/wandb/run-20230630_204922-e9183bc6</code>"
      ],
      "text/plain": [
       "<IPython.core.display.HTML object>"
      ]
     },
     "metadata": {},
     "output_type": "display_data"
    },
    {
     "data": {
      "text/html": [
       "Syncing run <strong><a href='https://wandb.ai/tfm_datcom/Experimento1/runs/e9183bc6' target=\"_blank\">Comprobación</a></strong> to <a href='https://wandb.ai/tfm_datcom/Experimento1' target=\"_blank\">Weights & Biases</a> (<a href='https://wandb.me/run' target=\"_blank\">docs</a>)<br/>"
      ],
      "text/plain": [
       "<IPython.core.display.HTML object>"
      ]
     },
     "metadata": {},
     "output_type": "display_data"
    },
    {
     "data": {
      "text/html": [
       " View project at <a href='https://wandb.ai/tfm_datcom/Experimento1' target=\"_blank\">https://wandb.ai/tfm_datcom/Experimento1</a>"
      ],
      "text/plain": [
       "<IPython.core.display.HTML object>"
      ]
     },
     "metadata": {},
     "output_type": "display_data"
    },
    {
     "data": {
      "text/html": [
       " View run at <a href='https://wandb.ai/tfm_datcom/Experimento1/runs/e9183bc6' target=\"_blank\">https://wandb.ai/tfm_datcom/Experimento1/runs/e9183bc6</a>"
      ],
      "text/plain": [
       "<IPython.core.display.HTML object>"
      ]
     },
     "metadata": {},
     "output_type": "display_data"
    },
    {
     "name": "stdout",
     "output_type": "stream",
     "text": [
      "Instancias de train:  1176\n",
      "Instancias de test:  288\n",
      "Mkdir /Users/marcosesquivelgonzalez/Desktop/MasterCDatos/TFM/Projects/result_logs/DVS_Gesture_dataset/T16_b8_lr0.1.\n",
      "/Users/marcosesquivelgonzalez/Desktop/MasterCDatos/TFM/Projects/result_logs/DVS_Gesture_dataset/T16_b8_lr0.1\n",
      "epoch = 0, train_loss = 0.0909, train_acc = 0.0825, test_loss = 0.0909, test_acc = 0.0833, max_test_acc = 0.0833\n",
      "train speed = 3.8811 images/s, test speed = 7.8287 images/s\n",
      "escape time = 2023-06-30 23:45:02\n",
      "\n"
     ]
    }
   ],
   "source": [
    "data_dvsgesture = '/Users/marcosesquivelgonzalez/Desktop/MasterCDatos/TFM/data/DVS_Gesture_dataset'\n",
    "Laboratory.execute_experiment(inp_data=data_dvsgesture)"
   ]
  },
  {
   "cell_type": "code",
   "execution_count": null,
   "metadata": {},
   "outputs": [
    {
     "name": "stdout",
     "output_type": "stream",
     "text": [
      "Starting new version\n",
      "The directory [/Users/marcosesquivelgonzalez/Desktop/MasterCDatos/TFM/Datasets/SLAnimals_Dataset/frames_number_16_split_by_number] already exists.\n",
      "Posible labels: [ 0  1  2  3  4  5  6  7  8  9 10 11 12 13 14 15 16 17 18]\n"
     ]
    },
    {
     "name": "stderr",
     "output_type": "stream",
     "text": [
      "ERROR:wandb.jupyter:Failed to detect the name of this notebook, you can set it manually with the WANDB_NOTEBOOK_NAME environment variable to enable code saving.\n",
      "\u001b[34m\u001b[1mwandb\u001b[0m: Currently logged in as: \u001b[33mmarcosesgonz\u001b[0m (\u001b[33mtfm_datcom\u001b[0m). Use \u001b[1m`wandb login --relogin`\u001b[0m to force relogin\n"
     ]
    },
    {
     "name": "stdout",
     "output_type": "stream",
     "text": [
      "Abortar escribiendo exit\n"
     ]
    },
    {
     "data": {
      "text/html": [
       "Tracking run with wandb version 0.15.4"
      ],
      "text/plain": [
       "<IPython.core.display.HTML object>"
      ]
     },
     "metadata": {},
     "output_type": "display_data"
    },
    {
     "data": {
      "text/html": [
       "Run data is saved locally in <code>/Users/marcosesquivelgonzalez/Desktop/MasterCDatos/TFM/Projects/wandb/run-20230630_202216-rnhy50ke</code>"
      ],
      "text/plain": [
       "<IPython.core.display.HTML object>"
      ]
     },
     "metadata": {},
     "output_type": "display_data"
    },
    {
     "data": {
      "text/html": [
       "Syncing run <strong><a href='https://wandb.ai/tfm_datcom/Experimento1/runs/rnhy50ke' target=\"_blank\">DVSAnimals_dataset</a></strong> to <a href='https://wandb.ai/tfm_datcom/Experimento1' target=\"_blank\">Weights & Biases</a> (<a href='https://wandb.me/run' target=\"_blank\">docs</a>)<br/>"
      ],
      "text/plain": [
       "<IPython.core.display.HTML object>"
      ]
     },
     "metadata": {},
     "output_type": "display_data"
    },
    {
     "data": {
      "text/html": [
       " View project at <a href='https://wandb.ai/tfm_datcom/Experimento1' target=\"_blank\">https://wandb.ai/tfm_datcom/Experimento1</a>"
      ],
      "text/plain": [
       "<IPython.core.display.HTML object>"
      ]
     },
     "metadata": {},
     "output_type": "display_data"
    },
    {
     "data": {
      "text/html": [
       " View run at <a href='https://wandb.ai/tfm_datcom/Experimento1/runs/rnhy50ke' target=\"_blank\">https://wandb.ai/tfm_datcom/Experimento1/runs/rnhy50ke</a>"
      ],
      "text/plain": [
       "<IPython.core.display.HTML object>"
      ]
     },
     "metadata": {},
     "output_type": "display_data"
    },
    {
     "name": "stdout",
     "output_type": "stream",
     "text": [
      "Instancias de train:  896\n",
      "Instancias de test:  225\n",
      "/Users/marcosesquivelgonzalez/Desktop/MasterCDatos/TFM/Projects/result_logs/SLAnimals_Dataset/T16_b8_lr0.1\n",
      "epoch = 0, train_loss = 0.0526, train_acc = 0.0525, test_loss = 0.0526, test_acc = 0.0533, max_test_acc = 0.0533\n",
      "train speed = 3.4798 images/s, test speed = 5.8741 images/s\n",
      "escape time = 2023-06-30 22:55:10\n",
      "\n",
      "/Users/marcosesquivelgonzalez/Desktop/MasterCDatos/TFM/Projects/result_logs/SLAnimals_Dataset/T16_b8_lr0.1\n",
      "epoch = 1, train_loss = 0.0526, train_acc = 0.0525, test_loss = 0.0526, test_acc = 0.0533, max_test_acc = 0.0533\n",
      "train speed = 3.5608 images/s, test speed = 6.0359 images/s\n",
      "escape time = 2023-06-30 22:51:44\n",
      "\n",
      "/Users/marcosesquivelgonzalez/Desktop/MasterCDatos/TFM/Projects/result_logs/SLAnimals_Dataset/T16_b8_lr0.1\n",
      "epoch = 2, train_loss = 0.0526, train_acc = 0.0525, test_loss = 0.0526, test_acc = 0.0533, max_test_acc = 0.0533\n",
      "train speed = 3.5916 images/s, test speed = 6.0760 images/s\n",
      "escape time = 2023-06-30 22:50:33\n",
      "\n",
      "/Users/marcosesquivelgonzalez/Desktop/MasterCDatos/TFM/Projects/result_logs/SLAnimals_Dataset/T16_b8_lr0.1\n",
      "epoch = 3, train_loss = 0.0526, train_acc = 0.0525, test_loss = 0.0526, test_acc = 0.0533, max_test_acc = 0.0533\n",
      "train speed = 3.7602 images/s, test speed = 6.1305 images/s\n",
      "escape time = 2023-06-30 22:45:10\n",
      "\n",
      "/Users/marcosesquivelgonzalez/Desktop/MasterCDatos/TFM/Projects/result_logs/SLAnimals_Dataset/T16_b8_lr0.1\n",
      "epoch = 4, train_loss = 0.0526, train_acc = 0.0525, test_loss = 0.0526, test_acc = 0.0533, max_test_acc = 0.0533\n",
      "train speed = 3.8056 images/s, test speed = 6.0419 images/s\n",
      "escape time = 2023-06-30 22:44:08\n",
      "\n"
     ]
    },
    {
     "data": {
      "text/html": [
       "Waiting for W&B process to finish... <strong style=\"color:red\">(failed 1).</strong> Press Control-C to abort syncing."
      ],
      "text/plain": [
       "<IPython.core.display.HTML object>"
      ]
     },
     "metadata": {},
     "output_type": "display_data"
    },
    {
     "data": {
      "text/html": [
       "<style>\n",
       "    table.wandb td:nth-child(1) { padding: 0 10px; text-align: left ; width: auto;} td:nth-child(2) {text-align: left ; width: 100%}\n",
       "    .wandb-row { display: flex; flex-direction: row; flex-wrap: wrap; justify-content: flex-start; width: 100% }\n",
       "    .wandb-col { display: flex; flex-direction: column; flex-basis: 100%; flex: 1; padding: 10px; }\n",
       "    </style>\n",
       "<div class=\"wandb-row\"><div class=\"wandb-col\"><h3>Run history:</h3><br/><table class=\"wandb\"><tr><td>test_acc</td><td>▁▁▁▁▁</td></tr><tr><td>test_loss</td><td>▁▁▁▁▁</td></tr><tr><td>train_acc</td><td>▁▁▁▁▁</td></tr><tr><td>train_loss</td><td>▁▁▁▁▁</td></tr></table><br/></div><div class=\"wandb-col\"><h3>Run summary:</h3><br/><table class=\"wandb\"><tr><td>test_acc</td><td>0.05333</td></tr><tr><td>test_loss</td><td>0.05263</td></tr><tr><td>train_acc</td><td>0.05246</td></tr><tr><td>train_loss</td><td>0.05263</td></tr></table><br/></div></div>"
      ],
      "text/plain": [
       "<IPython.core.display.HTML object>"
      ]
     },
     "metadata": {},
     "output_type": "display_data"
    },
    {
     "data": {
      "text/html": [
       " View run <strong style=\"color:#cdcd00\">DVSAnimals_dataset</strong> at: <a href='https://wandb.ai/tfm_datcom/Experimento1/runs/rnhy50ke' target=\"_blank\">https://wandb.ai/tfm_datcom/Experimento1/runs/rnhy50ke</a><br/>Synced 5 W&B file(s), 0 media file(s), 0 artifact file(s) and 0 other file(s)"
      ],
      "text/plain": [
       "<IPython.core.display.HTML object>"
      ]
     },
     "metadata": {},
     "output_type": "display_data"
    },
    {
     "data": {
      "text/html": [
       "Find logs at: <code>./wandb/run-20230630_202216-rnhy50ke/logs</code>"
      ],
      "text/plain": [
       "<IPython.core.display.HTML object>"
      ]
     },
     "metadata": {},
     "output_type": "display_data"
    },
    {
     "ename": "KeyboardInterrupt",
     "evalue": "",
     "output_type": "error",
     "traceback": [
      "\u001b[0;31m---------------------------------------------------------------------------\u001b[0m",
      "\u001b[0;31mKeyboardInterrupt\u001b[0m                         Traceback (most recent call last)",
      "Cell \u001b[0;32mIn[2], line 2\u001b[0m\n\u001b[1;32m      1\u001b[0m data_animals \u001b[39m=\u001b[39m \u001b[39m'\u001b[39m\u001b[39m/Users/marcosesquivelgonzalez/Desktop/MasterCDatos/TFM/Datasets/SLAnimals_Dataset\u001b[39m\u001b[39m'\u001b[39m\n\u001b[0;32m----> 2\u001b[0m Experiments_DVSNet\u001b[39m.\u001b[39;49mexecute_experiment(inp_data\u001b[39m=\u001b[39;49mdata_animals)\n",
      "File \u001b[0;32m~/Desktop/MasterCDatos/TFM/Projects/Experiments_DVSNet.py:163\u001b[0m, in \u001b[0;36mexecute_experiment\u001b[0;34m(T, splitby, batch_size, epochs, device, lr, inp_data, net_name)\u001b[0m\n\u001b[1;32m    161\u001b[0m train_acc \u001b[39m=\u001b[39m \u001b[39m0\u001b[39m\n\u001b[1;32m    162\u001b[0m train_samples \u001b[39m=\u001b[39m \u001b[39m0\u001b[39m\n\u001b[0;32m--> 163\u001b[0m \u001b[39mfor\u001b[39;00m frame, label \u001b[39min\u001b[39;00m train_data_loader: \u001b[39m#DUDA ¿Todas las instancias que hay en el batch corresponden a la misma etiqueta?\u001b[39;00m\n\u001b[1;32m    164\u001b[0m     optimizer\u001b[39m.\u001b[39mzero_grad()\n\u001b[1;32m    165\u001b[0m     frame \u001b[39m=\u001b[39m frame\u001b[39m.\u001b[39mto(device)\n",
      "File \u001b[0;32m~/pyenviroments/tfm/lib/python3.11/site-packages/torch/utils/data/dataloader.py:441\u001b[0m, in \u001b[0;36mDataLoader.__iter__\u001b[0;34m(self)\u001b[0m\n\u001b[1;32m    439\u001b[0m     \u001b[39mreturn\u001b[39;00m \u001b[39mself\u001b[39m\u001b[39m.\u001b[39m_iterator\n\u001b[1;32m    440\u001b[0m \u001b[39melse\u001b[39;00m:\n\u001b[0;32m--> 441\u001b[0m     \u001b[39mreturn\u001b[39;00m \u001b[39mself\u001b[39;49m\u001b[39m.\u001b[39;49m_get_iterator()\n",
      "File \u001b[0;32m~/pyenviroments/tfm/lib/python3.11/site-packages/torch/utils/data/dataloader.py:388\u001b[0m, in \u001b[0;36mDataLoader._get_iterator\u001b[0;34m(self)\u001b[0m\n\u001b[1;32m    386\u001b[0m \u001b[39melse\u001b[39;00m:\n\u001b[1;32m    387\u001b[0m     \u001b[39mself\u001b[39m\u001b[39m.\u001b[39mcheck_worker_number_rationality()\n\u001b[0;32m--> 388\u001b[0m     \u001b[39mreturn\u001b[39;00m _MultiProcessingDataLoaderIter(\u001b[39mself\u001b[39;49m)\n",
      "File \u001b[0;32m~/pyenviroments/tfm/lib/python3.11/site-packages/torch/utils/data/dataloader.py:1042\u001b[0m, in \u001b[0;36m_MultiProcessingDataLoaderIter.__init__\u001b[0;34m(self, loader)\u001b[0m\n\u001b[1;32m   1035\u001b[0m w\u001b[39m.\u001b[39mdaemon \u001b[39m=\u001b[39m \u001b[39mTrue\u001b[39;00m\n\u001b[1;32m   1036\u001b[0m \u001b[39m# NB: Process.start() actually take some time as it needs to\u001b[39;00m\n\u001b[1;32m   1037\u001b[0m \u001b[39m#     start a process and pass the arguments over via a pipe.\u001b[39;00m\n\u001b[1;32m   1038\u001b[0m \u001b[39m#     Therefore, we only add a worker to self._workers list after\u001b[39;00m\n\u001b[1;32m   1039\u001b[0m \u001b[39m#     it started, so that we do not call .join() if program dies\u001b[39;00m\n\u001b[1;32m   1040\u001b[0m \u001b[39m#     before it starts, and __del__ tries to join but will get:\u001b[39;00m\n\u001b[1;32m   1041\u001b[0m \u001b[39m#     AssertionError: can only join a started process.\u001b[39;00m\n\u001b[0;32m-> 1042\u001b[0m w\u001b[39m.\u001b[39;49mstart()\n\u001b[1;32m   1043\u001b[0m \u001b[39mself\u001b[39m\u001b[39m.\u001b[39m_index_queues\u001b[39m.\u001b[39mappend(index_queue)\n\u001b[1;32m   1044\u001b[0m \u001b[39mself\u001b[39m\u001b[39m.\u001b[39m_workers\u001b[39m.\u001b[39mappend(w)\n",
      "File \u001b[0;32m/opt/homebrew/Cellar/python@3.11/3.11.2_1/Frameworks/Python.framework/Versions/3.11/lib/python3.11/multiprocessing/process.py:121\u001b[0m, in \u001b[0;36mBaseProcess.start\u001b[0;34m(self)\u001b[0m\n\u001b[1;32m    118\u001b[0m \u001b[39massert\u001b[39;00m \u001b[39mnot\u001b[39;00m _current_process\u001b[39m.\u001b[39m_config\u001b[39m.\u001b[39mget(\u001b[39m'\u001b[39m\u001b[39mdaemon\u001b[39m\u001b[39m'\u001b[39m), \\\n\u001b[1;32m    119\u001b[0m        \u001b[39m'\u001b[39m\u001b[39mdaemonic processes are not allowed to have children\u001b[39m\u001b[39m'\u001b[39m\n\u001b[1;32m    120\u001b[0m _cleanup()\n\u001b[0;32m--> 121\u001b[0m \u001b[39mself\u001b[39m\u001b[39m.\u001b[39m_popen \u001b[39m=\u001b[39m \u001b[39mself\u001b[39;49m\u001b[39m.\u001b[39;49m_Popen(\u001b[39mself\u001b[39;49m)\n\u001b[1;32m    122\u001b[0m \u001b[39mself\u001b[39m\u001b[39m.\u001b[39m_sentinel \u001b[39m=\u001b[39m \u001b[39mself\u001b[39m\u001b[39m.\u001b[39m_popen\u001b[39m.\u001b[39msentinel\n\u001b[1;32m    123\u001b[0m \u001b[39m# Avoid a refcycle if the target function holds an indirect\u001b[39;00m\n\u001b[1;32m    124\u001b[0m \u001b[39m# reference to the process object (see bpo-30775)\u001b[39;00m\n",
      "File \u001b[0;32m/opt/homebrew/Cellar/python@3.11/3.11.2_1/Frameworks/Python.framework/Versions/3.11/lib/python3.11/multiprocessing/context.py:224\u001b[0m, in \u001b[0;36mProcess._Popen\u001b[0;34m(process_obj)\u001b[0m\n\u001b[1;32m    222\u001b[0m \u001b[39m@staticmethod\u001b[39m\n\u001b[1;32m    223\u001b[0m \u001b[39mdef\u001b[39;00m \u001b[39m_Popen\u001b[39m(process_obj):\n\u001b[0;32m--> 224\u001b[0m     \u001b[39mreturn\u001b[39;00m _default_context\u001b[39m.\u001b[39;49mget_context()\u001b[39m.\u001b[39;49mProcess\u001b[39m.\u001b[39;49m_Popen(process_obj)\n",
      "File \u001b[0;32m/opt/homebrew/Cellar/python@3.11/3.11.2_1/Frameworks/Python.framework/Versions/3.11/lib/python3.11/multiprocessing/context.py:288\u001b[0m, in \u001b[0;36mSpawnProcess._Popen\u001b[0;34m(process_obj)\u001b[0m\n\u001b[1;32m    285\u001b[0m \u001b[39m@staticmethod\u001b[39m\n\u001b[1;32m    286\u001b[0m \u001b[39mdef\u001b[39;00m \u001b[39m_Popen\u001b[39m(process_obj):\n\u001b[1;32m    287\u001b[0m     \u001b[39mfrom\u001b[39;00m \u001b[39m.\u001b[39;00m\u001b[39mpopen_spawn_posix\u001b[39;00m \u001b[39mimport\u001b[39;00m Popen\n\u001b[0;32m--> 288\u001b[0m     \u001b[39mreturn\u001b[39;00m Popen(process_obj)\n",
      "File \u001b[0;32m/opt/homebrew/Cellar/python@3.11/3.11.2_1/Frameworks/Python.framework/Versions/3.11/lib/python3.11/multiprocessing/popen_spawn_posix.py:32\u001b[0m, in \u001b[0;36mPopen.__init__\u001b[0;34m(self, process_obj)\u001b[0m\n\u001b[1;32m     30\u001b[0m \u001b[39mdef\u001b[39;00m \u001b[39m__init__\u001b[39m(\u001b[39mself\u001b[39m, process_obj):\n\u001b[1;32m     31\u001b[0m     \u001b[39mself\u001b[39m\u001b[39m.\u001b[39m_fds \u001b[39m=\u001b[39m []\n\u001b[0;32m---> 32\u001b[0m     \u001b[39msuper\u001b[39;49m()\u001b[39m.\u001b[39;49m\u001b[39m__init__\u001b[39;49m(process_obj)\n",
      "File \u001b[0;32m/opt/homebrew/Cellar/python@3.11/3.11.2_1/Frameworks/Python.framework/Versions/3.11/lib/python3.11/multiprocessing/popen_fork.py:19\u001b[0m, in \u001b[0;36mPopen.__init__\u001b[0;34m(self, process_obj)\u001b[0m\n\u001b[1;32m     17\u001b[0m \u001b[39mself\u001b[39m\u001b[39m.\u001b[39mreturncode \u001b[39m=\u001b[39m \u001b[39mNone\u001b[39;00m\n\u001b[1;32m     18\u001b[0m \u001b[39mself\u001b[39m\u001b[39m.\u001b[39mfinalizer \u001b[39m=\u001b[39m \u001b[39mNone\u001b[39;00m\n\u001b[0;32m---> 19\u001b[0m \u001b[39mself\u001b[39;49m\u001b[39m.\u001b[39;49m_launch(process_obj)\n",
      "File \u001b[0;32m/opt/homebrew/Cellar/python@3.11/3.11.2_1/Frameworks/Python.framework/Versions/3.11/lib/python3.11/multiprocessing/popen_spawn_posix.py:62\u001b[0m, in \u001b[0;36mPopen._launch\u001b[0;34m(self, process_obj)\u001b[0m\n\u001b[1;32m     60\u001b[0m     \u001b[39mself\u001b[39m\u001b[39m.\u001b[39msentinel \u001b[39m=\u001b[39m parent_r\n\u001b[1;32m     61\u001b[0m     \u001b[39mwith\u001b[39;00m \u001b[39mopen\u001b[39m(parent_w, \u001b[39m'\u001b[39m\u001b[39mwb\u001b[39m\u001b[39m'\u001b[39m, closefd\u001b[39m=\u001b[39m\u001b[39mFalse\u001b[39;00m) \u001b[39mas\u001b[39;00m f:\n\u001b[0;32m---> 62\u001b[0m         f\u001b[39m.\u001b[39mwrite(fp\u001b[39m.\u001b[39mgetbuffer())\n\u001b[1;32m     63\u001b[0m \u001b[39mfinally\u001b[39;00m:\n\u001b[1;32m     64\u001b[0m     fds_to_close \u001b[39m=\u001b[39m []\n",
      "\u001b[0;31mKeyboardInterrupt\u001b[0m: "
     ]
    }
   ],
   "source": [
    "data_animals = '/Users/marcosesquivelgonzalez/Desktop/MasterCDatos/TFM/data/SLAnimals_Dataset'\n",
    "Laboratory.execute_experiment(inp_data=data_animals)"
   ]
  },
  {
   "cell_type": "code",
   "execution_count": null,
   "metadata": {},
   "outputs": [
    {
     "name": "stdout",
     "output_type": "stream",
     "text": [
      "torch.Size([10, 8, 22])\n"
     ]
    }
   ],
   "source": [
    "from spikingjelly.activation_based.model import parametric_lif_net\n",
    "from spikingjelly.activation_based import functional, surrogate, neuron\n",
    "import torch\n",
    "\n",
    "DVS_net = parametric_lif_net.DVSGestureNet(channels=128, spiking_neuron=neuron.LIFNode, surrogate_function=surrogate.ATan(), detach_reset=True)\n",
    "functional.set_step_mode(DVS_net, 'm')\n",
    "\n",
    "x = torch.rand(size=[10, 8, 2, 128, 128])\n",
    "print(DVS_net(x).shape)"
   ]
  },
  {
   "attachments": {},
   "cell_type": "markdown",
   "metadata": {},
   "source": [
    "## Cargando pesos de red entrenada y abortada en la época 40:"
   ]
  },
  {
   "cell_type": "code",
   "execution_count": null,
   "metadata": {},
   "outputs": [
    {
     "data": {
      "text/plain": [
       "dict_keys(['net', 'optimizer', 'lr_scheduler', 'epoch', 'max_test_acc'])"
      ]
     },
     "metadata": {},
     "output_type": "display_data"
    }
   ],
   "source": [
    "import torch\n",
    "w_root = '/Users/marcosesquivelgonzalez/Desktop/MasterCDatos/TFM/src/result_logs/DVS_ActionRecog_dataset/T16_b1_lr0.1/checkpoint_latest.pth'\n",
    "run_wandb_path = 'tfm_datcom/Experimento1/v8ng5wwx'\n",
    "k = torch.load(w_root)\n",
    "k.keys()"
   ]
  },
  {
   "cell_type": "code",
   "execution_count": null,
   "metadata": {},
   "outputs": [
    {
     "data": {
      "text/plain": [
       "{'T_max': 50,\n",
       " 'eta_min': 0,\n",
       " 'base_lrs': [0.1],\n",
       " 'last_epoch': 46,\n",
       " 'verbose': False,\n",
       " '_step_count': 47,\n",
       " '_get_lr_called_within_step': False,\n",
       " '_last_lr': [0.0015708419435684518]}"
      ]
     },
     "metadata": {},
     "output_type": "display_data"
    }
   ],
   "source": [
    "k['lr_scheduler']"
   ]
  }
 ],
 "metadata": {
  "kernelspec": {
   "display_name": "tfm",
   "language": "python",
   "name": "python3"
  },
  "language_info": {
   "codemirror_mode": {
    "name": "ipython",
    "version": 3
   },
   "file_extension": ".py",
   "mimetype": "text/x-python",
   "name": "python",
   "nbconvert_exporter": "python",
   "pygments_lexer": "ipython3",
   "version": "3.11.2"
  },
  "orig_nbformat": 4
 },
 "nbformat": 4,
 "nbformat_minor": 2
}
